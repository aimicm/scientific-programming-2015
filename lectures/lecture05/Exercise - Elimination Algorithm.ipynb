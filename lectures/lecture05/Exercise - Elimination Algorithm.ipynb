{
 "cells": [
  {
   "cell_type": "markdown",
   "metadata": {},
   "source": [
    "# The elimination algorithm\n",
    "\n",
    "<img src=\"x-factor-elimination-beatrice.jpg\">"
   ]
  },
  {
   "cell_type": "markdown",
   "metadata": {},
   "source": [
    "### Implement two versions of the algorithm\n",
    "\n",
    "One with sets and one with pandas dataframes"
   ]
  },
  {
   "cell_type": "markdown",
   "metadata": {},
   "source": [
    "In the class we have seen that classification is a way to find a function that maps any input feature vector to an output label. Naturally, what we put in our feature vector is important for the quality of the output. If we encode whether we saw the example on a Thursday or not, for example, we should not expect to get a lot of information.\n",
    "\n",
    "The Elimination Algorithm is a simple classification algorithm that assumes that the labels will share important features, and that each label class can be expressed as a conjuntion of those features. \n",
    "\n",
    "In this exercise, you are supposed to implement the Elimination algorithm in two different ways. \n",
    "\n",
    "You are provided with a file `animals.csv` that contains a list of different types of animals, along with set of traits that characterize these animals, as well as a label. Each line in the file represents an animal. E.g. the first line, \n",
    "\n",
    "````\n",
    "aardvark,backbone,breathes,catsize,hair,legs4,milk,predator,toothed,mammal\n",
    "````\n",
    "\n",
    "is the aardvark, which is characterized by having a backbone, breathing, being about the same size as a cat, having a hairy body and four legs, producing milk for its offspring, hunting other animals for food, having teeth. The final value on the line informs us that the aarvard is a mammal, which is the label of the example. \n",
    "\n",
    "Your task is to read in the file, and then run the algorithm for each label class. "
   ]
  },
  {
   "cell_type": "markdown",
   "metadata": {},
   "source": [
    "### Algorithm variant 1: set-based\n",
    "\n",
    "The goal of the Elimination Algorithm is to find the set of traits that are common to all of the animals in a given class. I.e. it computes the intersection of all the traits of the animals in the class:\n",
    "\n",
    "$$H_{\\text{mammal}} = A_{\\text{aardvark}} \\cap A_{\\text{antelope}} \\cap \\ldots \\cap A_{\\text{wolf}}$$\n",
    "\n",
    "It's called the elimination algorithm because this procedure can be performed step-wise (online), examining one animal at a time. You start out with an initial hypothesis $H_{\\text{mammal}}^{(0)}$, which we here define as the set of all possible traits:\n",
    "\n",
    "$$H_{\\text{mammal}}^{(0)} = A_{\\text{aardvark}} \\cup A_{\\text{antelope}} \\cup \\ldots \\cup A_{\\text{wolf}}$$\n",
    "\n",
    "The hypothesis is then continously updated, e.g.\n",
    "\n",
    "$$H_{\\text{mammal}}^{(1)} = H_{\\text{mammal}}^{(0)} \\cap A_{\\text{aardvark}}$$\n",
    "\n",
    "and\n",
    "\n",
    "$$H_{\\text{mammal}}^{(2)} = H_{\\text{mammal}}^{(1)} \\cap A_{\\text{antelope}}$$\n",
    "\n",
    "First, you need to read in the file. Unlike the CSV files you have been exposed to so far, the `animals.csv` file cannot be read into a DataFrame by the `read_csv` function in the Pandas library. Instead, you'll need to process the file line by line. Why do you think this is?\n",
    "\n",
    "Compute the hypothesis for each of the animal classes in the data file.\n"
   ]
  },
  {
   "cell_type": "code",
   "execution_count": 3,
   "metadata": {
    "collapsed": false
   },
   "outputs": [],
   "source": [
    "animal_file = open(\"animals.csv\")\n",
    "# Maybe some of your code here as well?\n",
    "for line in animal_file:\n",
    "    # Your code here: Process the data\n",
    "    pass\n"
   ]
  },
  {
   "cell_type": "markdown",
   "metadata": {
    "collapsed": false
   },
   "source": [
    "### Algorithm variant 2: `DataFrame`-based\n",
    "\n",
    "In this variation of the algorithm, you'll be working with a different representation of the data. Instead of associating each animal with a set of traits, we'll represent the animal by a feature vector. When there is $k$ possible animal traits, this will be a $k$-dimensional binary feature vector. In `DataFrame` terms, this type of representation could be initialized with the following code, given that `animal_names` is a list of the animal names, and `traits` is a list of possible traits.\n",
    "\n",
    "```python\n",
    "M = pd.DataFrame(False, index=animal_names, columns=traits)\n",
    "```\n",
    "\n",
    "Note that `M` does not contain any data yet. An alternative way of creating the `DataFrame` and filling it with values at the same time is to build a list of dictionaries `animal_dicts`, each structured as below:\n",
    "\n",
    "````python\n",
    "{'aardvark': True , 'backbone': True, 'breathes': True, 'catsize': True,\n",
    " 'hair': True, 'legs4': True, 'milk': True, 'predator': True 'toothed': True, 'mammal': True}\n",
    "\n",
    "````\n",
    "\n",
    "Given such a list, the `DataFrame` can be created in the following manner:\n",
    "\n",
    "```python\n",
    "M = pd.DataFrame(animal_dicts, index=animal_names)\n",
    "```\n",
    "\n",
    "Create and fill the `DataFrame` in the way you prefer."
   ]
  },
  {
   "cell_type": "code",
   "execution_count": null,
   "metadata": {
    "collapsed": true
   },
   "outputs": [],
   "source": [
    "# Your code here"
   ]
  },
  {
   "cell_type": "markdown",
   "metadata": {},
   "source": [
    "With the matrix-based data structure in hand, we make the following observation. If you sum over all of the traits in a particular animal class, the aggreated vector counts how many time each of the trait occur. Consequently, if a trait has an aggregated count less than $n$ in a class with $n$ instances, it cannot be a part of the definition of the animal class, since it doesn't occur everywhere. \n",
    "\n",
    "Compute the aggregated sums for each animal class, printing out the traits with a value of $n$."
   ]
  },
  {
   "cell_type": "code",
   "execution_count": 4,
   "metadata": {
    "collapsed": true
   },
   "outputs": [],
   "source": [
    "# Your code here"
   ]
  }
 ],
 "metadata": {
  "kernelspec": {
   "display_name": "Python 3",
   "language": "python",
   "name": "python3"
  },
  "language_info": {
   "codemirror_mode": {
    "name": "ipython",
    "version": 3
   },
   "file_extension": ".py",
   "mimetype": "text/x-python",
   "name": "python",
   "nbconvert_exporter": "python",
   "pygments_lexer": "ipython3",
   "version": "3.4.3"
  }
 },
 "nbformat": 4,
 "nbformat_minor": 0
}
