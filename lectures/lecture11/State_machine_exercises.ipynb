{
 "cells": [
  {
   "cell_type": "code",
   "execution_count": 34,
   "metadata": {
    "collapsed": false
   },
   "outputs": [],
   "source": [
    "%matplotlib inline\n",
    "import networkx as nx\n",
    "from collections import defaultdict"
   ]
  },
  {
   "cell_type": "markdown",
   "metadata": {},
   "source": [
    "## Acceptor\n",
    "\n"
   ]
  },
  {
   "cell_type": "code",
   "execution_count": 17,
   "metadata": {
    "collapsed": true
   },
   "outputs": [],
   "source": [
    "START = '$'\n",
    "\n",
    "def find_next_state(G, current_state, symbol):\n",
    "    for _, node, edge_attr in G.out_edges(current_state, data=True):\n",
    "        if edge_attr.get('read') == symbol:\n",
    "            return node\n",
    "\n",
    "def accepts(G, input_seq):\n",
    "    state = START\n",
    "    for next_symbol in input_seq:\n",
    "        state = find_next_state(G, state, next_symbol)\n",
    "        if not state:\n",
    "            return False\n",
    "\n",
    "    # Input is exhausted. Check that we're in a final state\n",
    "    return G.node[state].get('final')"
   ]
  },
  {
   "cell_type": "markdown",
   "metadata": {},
   "source": [
    "## Transducer"
   ]
  },
  {
   "cell_type": "code",
   "execution_count": 23,
   "metadata": {
    "collapsed": true
   },
   "outputs": [],
   "source": [
    "def transduce(G, input_str):\n",
    "    state = START\n",
    "    output = []\n",
    "    for next_char in input_str:\n",
    "        next_state = find_next_state(G, state, next_char)\n",
    "        if next_state:\n",
    "            output.append(G[state][next_state].get('write'))\n",
    "            state = next_state\n",
    "        else:\n",
    "            return []\n",
    "\n",
    "    # Input is exhausted. Check that we're in an accepting state\n",
    "    if G.node[state].get('final'):\n",
    "        return output\n",
    "    \n",
    "    return []\n"
   ]
  },
  {
   "cell_type": "markdown",
   "metadata": {},
   "source": [
    "## Operations on FS[TA]s"
   ]
  },
  {
   "cell_type": "markdown",
   "metadata": {},
   "source": [
    "### Concatenation\n",
    "\n",
    "The concatenation of two FSAs $A$ and $B$ accepts any string in the language of $A$ followed by any string in the language of $B$."
   ]
  },
  {
   "cell_type": "code",
   "execution_count": 16,
   "metadata": {
    "collapsed": true
   },
   "outputs": [],
   "source": [
    "def concat_fs(G1, G2):\n",
    "    # Rename nodes to avoid name conflicts\n",
    "    G1_new = nx.relabel_nodes(G1, {n: \"G1\" + n for n in G1.nodes()})\n",
    "    G2_new = nx.relabel_nodes(G2, {n: \"G2\" + n for n in G2.nodes()})\n",
    "\n",
    "    final_states_g1 = [n for n in G1_new.nodes() if G1_new.node[n].get('final')]\n",
    "\n",
    "    G_concat = nx.union(G1_new, G2_new)\n",
    "\n",
    "    # Connect final states of G1 to the successors of the G2 start state\n",
    "    for final_state_g1 in final_states_g1:\n",
    "        for _, v, edge_attr in G_concat.out_edges('G2' + START, data=True):\n",
    "            G_concat.add_edge(final_state_g1, v, **edge_attr)\n",
    "\n",
    "        # In the concatenated FS, no G1 states are final\n",
    "        del G_concat.node[final_state_g1]['final']\n",
    "\n",
    "    # G1 start state becomes global start state\n",
    "    nx.relabel_nodes(G_concat, {'G1' + START: START}, copy=False)\n",
    "\n",
    "    # G2 start node disappears\n",
    "    G_concat.remove_node('G2' + START)\n",
    "\n",
    "    return G_concat"
   ]
  },
  {
   "cell_type": "markdown",
   "metadata": {},
   "source": [
    "### Union\n",
    "\n",
    "The union of two FSAs $A$ and $B$ accepts both the strings in the language of $A$ and the strings in the language of $B$."
   ]
  },
  {
   "cell_type": "code",
   "execution_count": 13,
   "metadata": {
    "collapsed": true
   },
   "outputs": [],
   "source": [
    "def union_fs(G1, G2):\n",
    "    # Rename nodes to avoid name conflicts\n",
    "    G1_new = nx.relabel_nodes(G1, {n: \"G1\" + n for n in G1.nodes()})\n",
    "    G2_new = nx.relabel_nodes(G2, {n: \"G2\" + n for n in G2.nodes()})\n",
    "\n",
    "    G_union = nx.union(G1_new, G2_new)\n",
    "    old_start_nodes = [\"G1\" + START, \"G2\" + START]\n",
    "\n",
    "    # Connect start state directly \n",
    "    for old_start_node, first_node, edge_attr in G_union.out_edges(old_start_nodes, data=True):\n",
    "        G_union.add_edge(START, first_node, **edge_attr)\n",
    "\n",
    "    G_union.remove_nodes_from(old_start_nodes)\n",
    "\n",
    "    return G_union"
   ]
  },
  {
   "cell_type": "markdown",
   "metadata": {},
   "source": [
    "### Determinization\n",
    "\n",
    "The operations above may return an non-deterministic automaton (NFA) even when given deterministic automata (DFA) as input. Determinization is the process of converting an NFA to a DFA, which is always possible. It may, however, result in an explosion in the number of states."
   ]
  },
  {
   "cell_type": "code",
   "execution_count": 15,
   "metadata": {
    "collapsed": true
   },
   "outputs": [],
   "source": [
    "def nfa_to_dfa(G_orig):\n",
    "    G = G_orig.copy()\n",
    "    to_visit = G.nodes()\n",
    "\n",
    "    while len(to_visit):\n",
    "        visit_n = to_visit.pop()\n",
    "\n",
    "        states_by_next_char = defaultdict(list)\n",
    "        for _, v, edge_attr in G.out_edges(visit_n, data=True):\n",
    "            states_by_next_char[edge_attr.get('read')].append(v)\n",
    "\n",
    "        for next_char, next_states in states_by_next_char.items():\n",
    "            if len(next_states) > 1:\n",
    "                # Add a compound state\n",
    "                compound_state = \"C({})\".format(\"+\".join(next_states))\n",
    "\n",
    "                G.add_edge(visit_n, compound_state, read=next_char)\n",
    "\n",
    "                for next_state in next_states:\n",
    "                    if G.node[next_state].get('final'):\n",
    "                        G.node[compound_state]['final'] = True\n",
    "\n",
    "                to_visit.append(compound_state)\n",
    "\n",
    "                # Copy all outgoing edges from next_states\n",
    "                for next_state, next_next_state, edge_attr in G.out_edges(next_states, data=True):\n",
    "                    # Self-loops\n",
    "                    if next_state == next_next_state:\n",
    "                        next_next_state = compound_state\n",
    "\n",
    "                    G.add_edge(compound_state, next_next_state, **edge_attr)\n",
    "\n",
    "                # Delete non-deterministic edges\n",
    "                G.remove_edges_from([(visit_n, next_state) for next_state in next_states])\n",
    "                \n",
    "    # Remove nodes no longer reachable from the START\n",
    "    return G.subgraph(nx.dfs_preorder_nodes(G, START))"
   ]
  },
  {
   "cell_type": "markdown",
   "metadata": {},
   "source": [
    "## Example acceptor and transducer\n",
    "\n",
    "The `abc` transducer accepts an unbounded number of *a*s, followed by an unbounded number of *b*s, followed by exactly one *c*. "
   ]
  },
  {
   "cell_type": "code",
   "execution_count": 18,
   "metadata": {
    "collapsed": true
   },
   "outputs": [],
   "source": [
    "abc = nx.DiGraph()\n",
    "abc.add_edge(START, 'a', read='a', write='A')\n",
    "abc.add_edge('a', 'a', read='a', write='')\n",
    "abc.add_edge('a', 'b', read='b', write='b')\n",
    "abc.add_edge('b', 'b', read='b', write='')\n",
    "abc.add_edge('b', 'c', read='c', write='c')\n",
    "abc.node['c']['final'] = True\n"
   ]
  },
  {
   "cell_type": "code",
   "execution_count": 25,
   "metadata": {
    "collapsed": false
   },
   "outputs": [
    {
     "name": "stdout",
     "output_type": "stream",
     "text": [
      "Input:      aaaaabbbbbc\n",
      "Accepts:    True\n",
      "Transduces: Abc\n",
      "\n",
      "Input:      abcc\n",
      "Accepts:    False\n",
      "Transduces: \n",
      "\n",
      "Input:      abbbbbc\n",
      "Accepts:    True\n",
      "Transduces: Abc\n",
      "\n"
     ]
    }
   ],
   "source": [
    "test_strings = ['aaaaabbbbbc', 'abcc', 'abbbbbc']\n",
    "for test_string in test_strings:\n",
    "    print(\"Input:     \", test_string)\n",
    "    print(\"Accepts:   \", accepts(abc, test_string))\n",
    "    print(\"Transduces:\", \"\".join(transduce(abc, test_string)))\n",
    "    print()\n",
    "    \n",
    "    "
   ]
  },
  {
   "cell_type": "markdown",
   "metadata": {},
   "source": [
    "Inspect the state machine, which is just a `networkx` directed graph."
   ]
  },
  {
   "cell_type": "code",
   "execution_count": 33,
   "metadata": {
    "collapsed": false
   },
   "outputs": [
    {
     "data": {
      "text/plain": [
       "[('$', 'a', {'read': 'a', 'write': 'A'}),\n",
       " ('a', 'a', {'read': 'a', 'write': ''}),\n",
       " ('a', 'b', {'read': 'b', 'write': 'b'}),\n",
       " ('b', 'b', {'read': 'b', 'write': ''}),\n",
       " ('b', 'c', {'read': 'c', 'write': 'c'})]"
      ]
     },
     "execution_count": 33,
     "metadata": {},
     "output_type": "execute_result"
    }
   ],
   "source": [
    "sorted(abc.edges(data=True))"
   ]
  },
  {
   "cell_type": "code",
   "execution_count": 32,
   "metadata": {
    "collapsed": false
   },
   "outputs": [
    {
     "data": {
      "text/plain": [
       "['a', '$', 'c', 'b']"
      ]
     },
     "execution_count": 32,
     "metadata": {},
     "output_type": "execute_result"
    }
   ],
   "source": [
    "abc.nodes()"
   ]
  },
  {
   "cell_type": "code",
   "execution_count": 29,
   "metadata": {
    "collapsed": false
   },
   "outputs": [
    {
     "name": "stderr",
     "output_type": "stream",
     "text": [
      "/Users/anders/anaconda/lib/python3.4/site-packages/matplotlib/collections.py:590: FutureWarning: elementwise comparison failed; returning scalar instead, but in the future will perform elementwise comparison\n",
      "  if self._edgecolors == str('face'):\n"
     ]
    },
    {
     "data": {
      "image/png": "[encoded data removed]",
      "text/plain": [
       "<matplotlib.figure.Figure at 0x109263588>"
      ]
     },
     "metadata": {},
     "output_type": "display_data"
    }
   ],
   "source": [
    "nx.draw_networkx(abc);"
   ]
  },
  {
   "cell_type": "markdown",
   "metadata": {},
   "source": [
    "## Exercises"
   ]
  },
  {
   "cell_type": "markdown",
   "metadata": {},
   "source": [
    "### Ex 0: Sample from an FSA\n",
    "\n",
    "Write a function `sample` that takes an FSA as input and returns a string in the language of that FSA."
   ]
  },
  {
   "cell_type": "code",
   "execution_count": null,
   "metadata": {
    "collapsed": true
   },
   "outputs": [],
   "source": []
  },
  {
   "cell_type": "markdown",
   "metadata": {},
   "source": [
    "### Ex 1: Recognize any number\n",
    "\n",
    "Write an FSA to recognize any number (unbounded number of digits)\n"
   ]
  },
  {
   "cell_type": "code",
   "execution_count": null,
   "metadata": {
    "collapsed": true
   },
   "outputs": [],
   "source": []
  },
  {
   "cell_type": "markdown",
   "metadata": {},
   "source": [
    "### Ex 2: Any number between 1 and 31 (both inclusive)\n",
    "\n",
    "Write an FSA to recognize all the numbers between 1 and 31.\n"
   ]
  },
  {
   "cell_type": "code",
   "execution_count": null,
   "metadata": {
    "collapsed": true
   },
   "outputs": [],
   "source": []
  },
  {
   "cell_type": "markdown",
   "metadata": {},
   "source": [
    "### Ex 3: Uppercase the beginning of all words\n",
    "\n",
    "Rewrite input strings of your choosing using the `transduce` function such that each word in the output string starts  with a capital letter. "
   ]
  },
  {
   "cell_type": "code",
   "execution_count": null,
   "metadata": {
    "collapsed": true
   },
   "outputs": [],
   "source": []
  },
  {
   "cell_type": "markdown",
   "metadata": {},
   "source": [
    "### Ex 4: (Ponder) Move letters to the end of the word\n",
    "\n",
    "If a word starts with an *a* or a *b*, move it to the end of the word."
   ]
  },
  {
   "cell_type": "code",
   "execution_count": null,
   "metadata": {
    "collapsed": true
   },
   "outputs": [],
   "source": []
  }
 ],
 "metadata": {
  "kernelspec": {
   "display_name": "Python 3",
   "language": "python",
   "name": "python3"
  },
  "language_info": {
   "codemirror_mode": {
    "name": "ipython",
    "version": 3
   },
   "file_extension": ".py",
   "mimetype": "text/x-python",
   "name": "python",
   "nbconvert_exporter": "python",
   "pygments_lexer": "ipython3",
   "version": "3.4.3"
  }
 },
 "nbformat": 4,
 "nbformat_minor": 0
}
