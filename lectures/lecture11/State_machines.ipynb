{
 "cells": [
  {
   "cell_type": "markdown",
   "metadata": {
    "slideshow": {
     "slide_type": "slide"
    }
   },
   "source": [
    "# State machines"
   ]
  },
  {
   "cell_type": "markdown",
   "metadata": {
    "slideshow": {
     "slide_type": "subslide"
    }
   },
   "source": [
    "<img src=\"https://cdn.tutsplus.com/net/uploads/legacy/404_regularExpressions/images/username.jpg\">"
   ]
  },
  {
   "cell_type": "markdown",
   "metadata": {
    "slideshow": {
     "slide_type": "fragment"
    }
   },
   "source": [
    "#### Description:\n",
    "\n",
    "We begin by telling the parser to find the beginning of the string (^), followed by any lowercase letter (a-z), number (0-9), an underscore, or a hyphen. Next, {3,16} makes sure that are at least 3 of those characters, but no more than 16. Finally, we want the end of the string ($).\n",
    "\n",
    "#### String that matches:\n",
    "\n",
    "my-us3r_n4m3\n",
    "\n",
    "#### String that doesn't match:\n",
    "\n",
    "th1s1s-wayt00_l0ngt0beausername (too long)"
   ]
  },
  {
   "cell_type": "markdown",
   "metadata": {
    "slideshow": {
     "slide_type": "subslide"
    }
   },
   "source": [
    "<img src=\"https://cdn.tutsplus.com/net/uploads/legacy/404_regularExpressions/images/url.jpg\">"
   ]
  },
  {
   "cell_type": "markdown",
   "metadata": {
    "slideshow": {
     "slide_type": "fragment"
    }
   },
   "source": [
    "#### Description:\n",
    "\n",
    "This regex is almost like taking the ending part of the above regex, slapping it between \"http://\" and some file structure at the end. It sounds a lot simpler than it really is. To start off, we search for the beginning of the line with the caret.\n",
    "\n",
    "The first capturing group is all option. It allows the URL to begin with \"http://\", \"https://\", or neither of them. I have a question mark after the s to allow URL's that have http or https. In order to make this entire group optional, I just added a question mark to the end of it.\n",
    "\n",
    "Next is the domain name: one or more numbers, letters, dots, or hypens followed by another dot then two to six letters or dots. The following section is the optional files and directories. Inside the group, we want to match any number of forward slashes, letters, numbers, underscores, spaces, dots, or hyphens. Then we say that this group can be matched as many times as we want. Pretty much this allows multiple directories to be matched along with a file at the end. I have used the star instead of the question mark because the star says zero or more, not zero or one. If a question mark was to be used there, only one file/directory would be able to be matched.\n",
    "\n",
    "Then a trailing slash is matched, but it can be optional. Finally we end with the end of the line.\n",
    "\n",
    "#### String that matches:\n",
    "\n",
    "http://net.tutsplus.com/about\n",
    "\n",
    "#### String that doesn't match:\n",
    "\n",
    "http://google.com/some/file!.html (contains an exclamation point)"
   ]
  },
  {
   "cell_type": "markdown",
   "metadata": {
    "collapsed": true,
    "slideshow": {
     "slide_type": "subslide"
    }
   },
   "source": [
    "Regular expressions are very powerful and compact. How do they work?"
   ]
  },
  {
   "cell_type": "markdown",
   "metadata": {
    "slideshow": {
     "slide_type": "subslide"
    }
   },
   "source": [
    "# State machines (to the rescue)"
   ]
  },
  {
   "cell_type": "markdown",
   "metadata": {
    "slideshow": {
     "slide_type": "fragment"
    }
   },
   "source": [
    "<img src=\"http://learnyousomeerlang.com/static/img/fsm_dog.png\">"
   ]
  },
  {
   "cell_type": "markdown",
   "metadata": {
    "slideshow": {
     "slide_type": "subslide"
    }
   },
   "source": [
    "## Definition\n",
    "\n",
    "A deterministic finite-state machine (FSM) is a quintuple $M = \\big(\\Sigma, S, s_0, \\delta, F\\big)$.\n"
   ]
  },
  {
   "cell_type": "markdown",
   "metadata": {
    "slideshow": {
     "slide_type": "fragment"
    }
   },
   "source": [
    "$\\Sigma$ = input alphabet, $S$ = all states, $s_0$ = start state, $\\delta$ = transition function, $F$ = final states\n",
    "\n",
    "All items are just lists, except for $\\delta$, the transition function $\\delta : \\Sigma \\times S \\to S$."
   ]
  },
  {
   "cell_type": "markdown",
   "metadata": {
    "slideshow": {
     "slide_type": "fragment"
    }
   },
   "source": [
    "The transition function determines the behavior of the FSM $M$:\n",
    "\n",
    "In a given state $p \\in S$, upon consuming the input $a \\in \\Sigma$, is there a transition to a new state $q \\in S$?\n",
    "\n",
    "The function $\\delta$ can be viewed simply as a lookup table: current state + input = next state."
   ]
  },
  {
   "cell_type": "markdown",
   "metadata": {
    "slideshow": {
     "slide_type": "subslide"
    }
   },
   "source": [
    "## State machines are graphs!\n",
    "\n",
    "states = vertices (nodes)\n",
    "\n",
    "transitions = edges"
   ]
  },
  {
   "cell_type": "markdown",
   "metadata": {
    "slideshow": {
     "slide_type": "subslide"
    }
   },
   "source": [
    "## State machines are Markov chains?\n",
    "\n",
    "$$\n",
    "P(X_{t+1} \\vert X_{t}) = P(X_{2} \\vert X_{1}) \\\\\n",
    "P(X_t \\vert X_1, ..., X_{t-1}) = P(X_t \\vert X_{t-1})\n",
    "$$\n",
    "\n",
    "These are the so-called Markov properties: time-invariance, and (first-order) memory limit."
   ]
  },
  {
   "cell_type": "markdown",
   "metadata": {
    "slideshow": {
     "slide_type": "fragment"
    }
   },
   "source": [
    "FSMs are deterministic Markov chains, or, (first-order) Markov chains are probabilistic FSMs."
   ]
  },
  {
   "cell_type": "markdown",
   "metadata": {
    "collapsed": true,
    "slideshow": {
     "slide_type": "subslide"
    }
   },
   "source": [
    "## Acceptors\n",
    "\n",
    "FSM $M$ is provided with an input sequence $x \\in \\Sigma^*$. The input sequence consists of symbols from $\\Sigma$.\n",
    "\n",
    "$M$ **accepts** $x$ if it reaches a final state $f \\in F$ upon consuming all symbols $a \\in x$. If a final state is not reached, $M$ **rejects** $x$."
   ]
  },
  {
   "cell_type": "markdown",
   "metadata": {
    "slideshow": {
     "slide_type": "subslide"
    }
   },
   "source": [
    "## Exercise\n",
    "\n",
    "Write down the transition table for this automaton. What are the strings it accepts?\n",
    "\n",
    "<img src=\"https://upload.wikimedia.org/wikipedia/commons/thumb/9/9d/DFAexample.svg/500px-DFAexample.svg.png\">"
   ]
  },
  {
   "cell_type": "markdown",
   "metadata": {
    "slideshow": {
     "slide_type": "subslide"
    }
   },
   "source": [
    "## Outputs\n",
    "\n",
    "We can make an FSM output symbols when it changes states.\n",
    "\n",
    "$$\n",
    "T = \\big(\\Sigma, S, s_0, \\delta, F, I\\big) \\\\\n",
    "$$\n"
   ]
  },
  {
   "cell_type": "markdown",
   "metadata": {
    "slideshow": {
     "slide_type": "fragment"
    }
   },
   "source": [
    "$I$ = output alphabet\n",
    "\n",
    "$\\delta : \\Sigma \\times S \\to I \\times S$\n",
    "\n",
    "The transition function now changes the state and outputs a symbol. We call such automata **transducers**, as they convert one sequence to another."
   ]
  },
  {
   "cell_type": "markdown",
   "metadata": {
    "slideshow": {
     "slide_type": "fragment"
    }
   },
   "source": [
    "<img src=\"https://upload.wikimedia.org/wikipedia/commons/b/b4/Mealy.png\">"
   ]
  },
  {
   "cell_type": "markdown",
   "metadata": {
    "slideshow": {
     "slide_type": "subslide"
    }
   },
   "source": [
    "## Non-determinism\n",
    "\n",
    "What happens if $\\vert\\delta(a, q)\\vert > 1$?"
   ]
  },
  {
   "cell_type": "markdown",
   "metadata": {
    "slideshow": {
     "slide_type": "fragment"
    }
   },
   "source": [
    "<img src=\"https://upload.wikimedia.org/wikipedia/commons/thumb/f/f9/NFASimpleExample.svg/423px-NFASimpleExample.svg.png\">"
   ]
  },
  {
   "cell_type": "markdown",
   "metadata": {
    "slideshow": {
     "slide_type": "fragment"
    }
   },
   "source": [
    "There are various operations one can do with FSMs: union, intersection, concatenation, ..., **determinization**, and minimization."
   ]
  }
 ],
 "metadata": {
  "celltoolbar": "Slideshow",
  "kernelspec": {
   "display_name": "Python 3",
   "language": "python",
   "name": "python3"
  },
  "language_info": {
   "codemirror_mode": {
    "name": "ipython",
    "version": 3
   },
   "file_extension": ".py",
   "mimetype": "text/x-python",
   "name": "python",
   "nbconvert_exporter": "python",
   "pygments_lexer": "ipython3",
   "version": "3.4.3"
  }
 },
 "nbformat": 4,
 "nbformat_minor": 0
}
