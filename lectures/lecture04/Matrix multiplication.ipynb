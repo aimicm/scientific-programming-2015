{
 "cells": [
  {
   "cell_type": "code",
   "execution_count": 1,
   "metadata": {
    "collapsed": true
   },
   "outputs": [],
   "source": [
    "import numpy as np"
   ]
  },
  {
   "cell_type": "markdown",
   "metadata": {},
   "source": [
    "# Matrix multiplication exercise"
   ]
  },
  {
   "cell_type": "markdown",
   "metadata": {},
   "source": [
    "We ask you to implement a matrix multiplication function `matrix_multiply(m1, m2)` that takes two `numpy` matrices as arguments and returns the matrix product of these in a new matrix. The function should work element by element without calling any vectorized methods. Although `numpy` library already implements matrix multiplication, your implementation cannot use any part of the numpy library, with the exceptions noted below: \n",
    "\n",
    "- `.shape` to get the size of a matrix;\n",
    "- `np.zeros((n, m))` to create a new $n$ by $m$ matrix; and\n",
    "- the `[i, j]` indexing syntax to retrieve or set the value of cell $(i, j)$.\n",
    "\n",
    "Below are defined matrices $M_1, \\ldots M_4$. \n",
    "\n",
    "**Question**\n",
    "\n",
    "Implement the function `matrix_multiply(m1, m2)` and test it by computing the products $M_1M_2$ and $M_3M_4$."
   ]
  },
  {
   "cell_type": "code",
   "execution_count": 2,
   "metadata": {
    "collapsed": false
   },
   "outputs": [],
   "source": [
    "np.random.seed(42)\n",
    "M1 = np.random.randint(10, size=(5, 9))\n",
    "M2 = np.random.randint(10, size=(9, 3))\n",
    "M3 = np.random.randint(10, size=(4, 4))\n",
    "M4 = np.random.randint(10, size=(4, 1))"
   ]
  },
  {
   "cell_type": "code",
   "execution_count": 15,
   "metadata": {
    "collapsed": true
   },
   "outputs": [],
   "source": [
    "def matrix_multiply(m1, m2):\n",
    "    # Inner dimensions need to match. \n",
    "    # Otherwise, matrix multiplication is not defined\n",
    "    assert m1.shape[1] == m2.shape[0]\n",
    "    \n",
    "    # Create output matrix\n",
    "    out = np.zeros((m1.shape[0], m2.shape[1]), dtype=m1.dtype)\n",
    "    \n",
    "    # Each cell is the dot product between an `m1` row vector and a `m2` column vector, \n",
    "    # which have the same size\n",
    "    component_vector_size = m1.shape[1]\n",
    "    \n",
    "    # Fill it, cell by cell\n",
    "    for i in range(out.shape[0]):\n",
    "        for j in range(out.shape[1]):\n",
    "            for k in range(component_vector_size):\n",
    "                out[i, j] += m1[i, k] * m2[k, j]\n",
    "                \n",
    "    return out\n"
   ]
  },
  {
   "cell_type": "code",
   "execution_count": 16,
   "metadata": {
    "collapsed": false
   },
   "outputs": [
    {
     "data": {
      "text/plain": [
       "array([[219, 228, 180],\n",
       "       [203, 162, 125],\n",
       "       [230, 165, 215],\n",
       "       [190, 179, 121],\n",
       "       [309, 235, 278]])"
      ]
     },
     "execution_count": 16,
     "metadata": {},
     "output_type": "execute_result"
    }
   ],
   "source": [
    "M1.dot(M2)"
   ]
  },
  {
   "cell_type": "code",
   "execution_count": 17,
   "metadata": {
    "collapsed": false
   },
   "outputs": [
    {
     "data": {
      "text/plain": [
       "array([[219, 228, 180],\n",
       "       [203, 162, 125],\n",
       "       [230, 165, 215],\n",
       "       [190, 179, 121],\n",
       "       [309, 235, 278]])"
      ]
     },
     "execution_count": 17,
     "metadata": {},
     "output_type": "execute_result"
    }
   ],
   "source": [
    "matrix_multiply(M1, M2)"
   ]
  },
  {
   "cell_type": "code",
   "execution_count": null,
   "metadata": {
    "collapsed": true
   },
   "outputs": [],
   "source": []
  }
 ],
 "metadata": {
  "kernelspec": {
   "display_name": "Python 3",
   "language": "python",
   "name": "python3"
  },
  "language_info": {
   "codemirror_mode": {
    "name": "ipython",
    "version": 3
   },
   "file_extension": ".py",
   "mimetype": "text/x-python",
   "name": "python",
   "nbconvert_exporter": "python",
   "pygments_lexer": "ipython3",
   "version": "3.4.3"
  }
 },
 "nbformat": 4,
 "nbformat_minor": 0
}
