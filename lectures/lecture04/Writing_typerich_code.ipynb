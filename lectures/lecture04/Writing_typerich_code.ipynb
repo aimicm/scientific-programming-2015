{
 "cells": [
  {
   "cell_type": "markdown",
   "metadata": {
    "slideshow": {
     "slide_type": "slide"
    }
   },
   "source": [
    "## Writing type-rich code"
   ]
  },
  {
   "cell_type": "markdown",
   "metadata": {
    "slideshow": {
     "slide_type": "subslide"
    }
   },
   "source": [
    "Python comes with a wealth of built-in types ranging from essential primitives like *numbers* and *strings* to collections such as *dictionaries*, *tuples*, and *lists*. By combining the types that come with the language you can write just about anything, and indeed that's the way many scripts are written. \n",
    "\n",
    "However, a general purpose programming language like Python can only go so far in providing structures that make it easy and convenient to work with your specific problem. "
   ]
  },
  {
   "cell_type": "markdown",
   "metadata": {
    "slideshow": {
     "slide_type": "subslide"
    }
   },
   "source": [
    "If you are interested in dependency parsing, you often need to store and manipulate the dependencies between the tokens of a sentence, as well as properties of these tokens. \n",
    "\n",
    "<img src=\"depgraph0.png\" width=\"450px\">"
   ]
  },
  {
   "cell_type": "markdown",
   "metadata": {},
   "source": [
    "You can do this with a set of parallel arrays:"
   ]
  },
  {
   "cell_type": "markdown",
   "metadata": {
    "slideshow": {
     "slide_type": "-"
    }
   },
   "source": [
    "#### Parallel array representation\n",
    "\n",
    "```\n",
    "id = \"s01\"\n",
    "forms = [\"John\", \"loves\", ...]\n",
    "heads = [1, 0, ...]\n",
    "tags = [\"NOUN\", \"VERB\", ...]\n",
    "```"
   ]
  },
  {
   "cell_type": "markdown",
   "metadata": {
    "slideshow": {
     "slide_type": "subslide"
    }
   },
   "source": [
    "But if you have more than one sentence, this quickly becomes somewhat unweildy:"
   ]
  },
  {
   "cell_type": "markdown",
   "metadata": {},
   "source": [
    "#### Instances as variables\n",
    "\n",
    "```\n",
    "id_s01 = \"s01\"\n",
    "forms_s01 = [\"John\", \"loves\", ...]\n",
    "heads_s01 = [1, 0, ...]\n",
    "tags_s01 = [\"NOUN\", \"VERB\", ...]\n",
    "\n",
    "id_s02 = \"s02\"\n",
    "forms_s02 = [\"Jesus\", \"wept\"]\n",
    "heads_s02 = [1, 0]\n",
    "tags_s02 = [\"NOUN\", \"VERB\"]\n",
    "```\n"
   ]
  },
  {
   "cell_type": "markdown",
   "metadata": {
    "slideshow": {
     "slide_type": "subslide"
    }
   },
   "source": [
    "To keep things managable we could represent each sentence as a *dictionary* and put all of them in a *list*:\n",
    "\n"
   ]
  },
  {
   "cell_type": "markdown",
   "metadata": {},
   "source": [
    "#### Instances as elements of a list\n",
    "\n",
    "```\n",
    "[{'id': \"s01\",\n",
    "  'forms': [\"John\", \"loves\", ...],\n",
    "  'heads': [1, 0, ...],\n",
    "  'tags': [\"NOUN\", \"VERB\", ...]\n",
    "  },\n",
    "  {'id': \"s02\",\n",
    "  'forms': [\"Jesus\", \"wept\"],\n",
    "  'heads': [1, 0],\n",
    "  'tags': [\"NOUN\", \"VERB\"\n",
    "  }]\n",
    "```\n"
   ]
  },
  {
   "cell_type": "markdown",
   "metadata": {
    "slideshow": {
     "slide_type": "subslide"
    }
   },
   "source": [
    "Note that we no longer need the `_s01` and `_s02` prefixes and can access attributes of different sentences by the same name (e.g. `forms` or `heads`). Because each sentence has its own dictionary, the names do not collide. Another way to say this is that the sentences have private *namespaces*. \n"
   ]
  },
  {
   "cell_type": "markdown",
   "metadata": {
    "slideshow": {
     "slide_type": "subslide"
    }
   },
   "source": [
    "The idea of a namespace is pervasive in type-rich programming. In fact it is common to have user-defined types that do nothing but contain data. Here is a simple example"
   ]
  },
  {
   "cell_type": "code",
   "execution_count": 2,
   "metadata": {
    "collapsed": false
   },
   "outputs": [],
   "source": [
    "class Sentence():\n",
    "\n",
    "    def __init__(self, sid, forms, heads, tags): \n",
    "        self.sid = sid\n",
    "        self.forms = forms\n",
    "        self.heads = heads\n",
    "        self.tags = tags"
   ]
  },
  {
   "cell_type": "markdown",
   "metadata": {},
   "source": [
    "We make one *instance* of the class in the cell below. This calls the special function `__init__`, which are passed the parameters and performs any necessary initialization. \n",
    "\n"
   ]
  },
  {
   "cell_type": "markdown",
   "metadata": {
    "slideshow": {
     "slide_type": "subslide"
    }
   },
   "source": [
    "#### Terminology \n",
    "\n",
    "- Instances of classes are called *objects* or *instances*.\n",
    "- Functions defined in the context of a class are called *methods*. \n",
    "- Variables within classes are sometimes referred to as *member variables*.\n",
    "- The funny looking `__init__` method is called a *constructor*"
   ]
  },
  {
   "cell_type": "code",
   "execution_count": 3,
   "metadata": {
    "collapsed": false,
    "slideshow": {
     "slide_type": "subslide"
    }
   },
   "outputs": [
    {
     "data": {
      "text/plain": [
       "<__main__.Sentence at 0x106ca37b8>"
      ]
     },
     "execution_count": 3,
     "metadata": {},
     "output_type": "execute_result"
    }
   ],
   "source": [
    "short = Sentence(sid=\"s02\", forms=[\"Jesus\", \"wept\"], heads=[1, 0], tags=[\"NOUN\", \"VERB\"])\n",
    "short"
   ]
  },
  {
   "cell_type": "markdown",
   "metadata": {
    "slideshow": {
     "slide_type": "subslide"
    }
   },
   "source": [
    "The member variables, which on the *inside* (within the class definition) are referenced using `self` (e.g. `self.forms`), can be accessed on the *outside* using the name of the instance. "
   ]
  },
  {
   "cell_type": "code",
   "execution_count": 4,
   "metadata": {
    "collapsed": false
   },
   "outputs": [
    {
     "name": "stdout",
     "output_type": "stream",
     "text": [
      "['Jesus', 'wept']\n",
      "[1, 0]\n"
     ]
    }
   ],
   "source": [
    "print(short.forms)\n",
    "print(short.heads)"
   ]
  },
  {
   "cell_type": "markdown",
   "metadata": {
    "slideshow": {
     "slide_type": "subslide"
    }
   },
   "source": [
    "### Encapsulation and data consistency\n",
    "\n",
    "So far custom types at least one advantage over dictionaries: Python checks your code for (some types of) spelling mistakes. In languages like C and Java custom types are also much faster than dictionaries. For instance, Python will throw an error if you mispell `forms` as `forns` when you access a member variable. A custom type limits your freedom the data by *encapsulating*  it. This is a good thing, because it prevents many errors. "
   ]
  },
  {
   "cell_type": "markdown",
   "metadata": {
    "slideshow": {
     "slide_type": "skip"
    }
   },
   "source": [
    "Encapsulating enables you to go further in ensuring that your data is consistent. One useful pattern is to check for consistency in the initializer and fail to construct the object if the data is invalid. This obsession with errors may seem strange, since we want our programs to run without errors. But errors will always find a way to surface, and it is much preferable to catch an error as early and as close to the point where it is introduced as possible, since that makes the cost of finding it far smaller.\n",
    "\n",
    "Furthermore, if you only manipulate the data through methods provided provided by the class, you can even maintain the consistency throughout the lifetime of an object through a *class invariant*. "
   ]
  },
  {
   "cell_type": "code",
   "execution_count": 5,
   "metadata": {
    "collapsed": false,
    "slideshow": {
     "slide_type": "subslide"
    }
   },
   "outputs": [],
   "source": [
    "class ConsistentSentence(object): \n",
    "\n",
    "    def __init__(self, sid, forms, heads, tags): \n",
    "        assert len(forms) == len(heads), \"Forms and heads should be same length\"\n",
    "        assert len(heads) == len(tags), \"Heads and tags should be same length\"\n",
    "        \n",
    "        self.sid = sid\n",
    "        self.forms = forms\n",
    "        self.heads = heads\n",
    "        self.tags = tags\n"
   ]
  },
  {
   "cell_type": "code",
   "execution_count": 6,
   "metadata": {
    "collapsed": false,
    "slideshow": {
     "slide_type": "subslide"
    }
   },
   "outputs": [
    {
     "ename": "AssertionError",
     "evalue": "Forms and heads should be same length",
     "output_type": "error",
     "traceback": [
      "\u001b[0;31m---------------------------------------------------------------------------\u001b[0m",
      "\u001b[0;31mAssertionError\u001b[0m                            Traceback (most recent call last)",
      "\u001b[0;32m<ipython-input-6-101357f6f555>\u001b[0m in \u001b[0;36m<module>\u001b[0;34m()\u001b[0m\n\u001b[0;32m----> 1\u001b[0;31m \u001b[0mshort\u001b[0m \u001b[0;34m=\u001b[0m \u001b[0mConsistentSentence\u001b[0m\u001b[0;34m(\u001b[0m\u001b[0msid\u001b[0m\u001b[0;34m=\u001b[0m\u001b[0;34m\"s02\"\u001b[0m\u001b[0;34m,\u001b[0m \u001b[0mforms\u001b[0m\u001b[0;34m=\u001b[0m\u001b[0;34m[\u001b[0m\u001b[0;34m\"Jesus\"\u001b[0m\u001b[0;34m,\u001b[0m \u001b[0;34m\"wept\"\u001b[0m\u001b[0;34m]\u001b[0m\u001b[0;34m,\u001b[0m \u001b[0mheads\u001b[0m\u001b[0;34m=\u001b[0m\u001b[0;34m[\u001b[0m\u001b[0;36m1\u001b[0m\u001b[0;34m,\u001b[0m \u001b[0;36m0\u001b[0m\u001b[0;34m,\u001b[0m \u001b[0;36m0\u001b[0m\u001b[0;34m]\u001b[0m\u001b[0;34m,\u001b[0m \u001b[0mtags\u001b[0m\u001b[0;34m=\u001b[0m\u001b[0;34m[\u001b[0m\u001b[0;34m\"NOUN\"\u001b[0m\u001b[0;34m,\u001b[0m \u001b[0;34m\"VERB\"\u001b[0m\u001b[0;34m]\u001b[0m\u001b[0;34m)\u001b[0m\u001b[0;34m\u001b[0m\u001b[0m\n\u001b[0m\u001b[1;32m      2\u001b[0m \u001b[0mshort\u001b[0m\u001b[0;34m\u001b[0m\u001b[0m\n",
      "\u001b[0;32m<ipython-input-5-f97f1f6331a3>\u001b[0m in \u001b[0;36m__init__\u001b[0;34m(self, sid, forms, heads, tags)\u001b[0m\n\u001b[1;32m      2\u001b[0m \u001b[0;34m\u001b[0m\u001b[0m\n\u001b[1;32m      3\u001b[0m     \u001b[0;32mdef\u001b[0m \u001b[0m__init__\u001b[0m\u001b[0;34m(\u001b[0m\u001b[0mself\u001b[0m\u001b[0;34m,\u001b[0m \u001b[0msid\u001b[0m\u001b[0;34m,\u001b[0m \u001b[0mforms\u001b[0m\u001b[0;34m,\u001b[0m \u001b[0mheads\u001b[0m\u001b[0;34m,\u001b[0m \u001b[0mtags\u001b[0m\u001b[0;34m)\u001b[0m\u001b[0;34m:\u001b[0m\u001b[0;34m\u001b[0m\u001b[0m\n\u001b[0;32m----> 4\u001b[0;31m         \u001b[0;32massert\u001b[0m \u001b[0mlen\u001b[0m\u001b[0;34m(\u001b[0m\u001b[0mforms\u001b[0m\u001b[0;34m)\u001b[0m \u001b[0;34m==\u001b[0m \u001b[0mlen\u001b[0m\u001b[0;34m(\u001b[0m\u001b[0mheads\u001b[0m\u001b[0;34m)\u001b[0m\u001b[0;34m,\u001b[0m \u001b[0;34m\"Forms and heads should be same length\"\u001b[0m\u001b[0;34m\u001b[0m\u001b[0m\n\u001b[0m\u001b[1;32m      5\u001b[0m         \u001b[0;32massert\u001b[0m \u001b[0mlen\u001b[0m\u001b[0;34m(\u001b[0m\u001b[0mheads\u001b[0m\u001b[0;34m)\u001b[0m \u001b[0;34m==\u001b[0m \u001b[0mlen\u001b[0m\u001b[0;34m(\u001b[0m\u001b[0mtags\u001b[0m\u001b[0;34m)\u001b[0m\u001b[0;34m,\u001b[0m \u001b[0;34m\"Heads and tags should be same length\"\u001b[0m\u001b[0;34m\u001b[0m\u001b[0m\n\u001b[1;32m      6\u001b[0m \u001b[0;34m\u001b[0m\u001b[0m\n",
      "\u001b[0;31mAssertionError\u001b[0m: Forms and heads should be same length"
     ]
    }
   ],
   "source": [
    "short = ConsistentSentence(sid=\"s02\", forms=[\"Jesus\", \"wept\"], heads=[1, 0, 0], tags=[\"NOUN\", \"VERB\"])\n",
    "short"
   ]
  },
  {
   "cell_type": "markdown",
   "metadata": {
    "slideshow": {
     "slide_type": "slide"
    }
   },
   "source": [
    "### Methods "
   ]
  },
  {
   "cell_type": "code",
   "execution_count": 7,
   "metadata": {
    "collapsed": false
   },
   "outputs": [],
   "source": [
    "class SentenceWithMethods(object): \n",
    "\n",
    "    def __init__(self, sid, forms, heads, tags): \n",
    "        self.sid = sid\n",
    "        self.forms = forms\n",
    "        self.heads = heads\n",
    "        self.tags = tags\n",
    "        \n",
    "    def number_of_chars(self):\n",
    "        n_chars = sum(len(form) for form in self.forms) + len(self.forms) - 1\n",
    "        return max(n_chars, 0)\n",
    "    \n",
    "    def return_myself(self):\n",
    "        return self"
   ]
  },
  {
   "cell_type": "code",
   "execution_count": 8,
   "metadata": {
    "collapsed": false,
    "slideshow": {
     "slide_type": "subslide"
    }
   },
   "outputs": [
    {
     "name": "stdout",
     "output_type": "stream",
     "text": [
      "<__main__.SentenceWithMethods object at 0x10734c7b8>\n",
      "<__main__.SentenceWithMethods object at 0x10734c7b8>\n"
     ]
    }
   ],
   "source": [
    "short = SentenceWithMethods(sid=\"s02\", forms=[\"Jesus\", \"wept\"], heads=[1, 0], tags=[\"NOUN\", \"VERB\"])\n",
    "short.number_of_chars()\n",
    "print(short.return_myself())\n",
    "print(short)"
   ]
  },
  {
   "cell_type": "markdown",
   "metadata": {
    "slideshow": {
     "slide_type": "skip"
    }
   },
   "source": [
    "## Modeling choices\n",
    "\n",
    "When do you need to define custom types and what should they be?\n",
    "\n",
    "- In machine learning you have *classifiers*, *preprocessing steps*, and *datasets*\n",
    "\n",
    "- Information retrieval deals *documents* and have different *ranking strategies*.\n",
    "\n",
    "- Physics simulations model *particles*. \n",
    "\n",
    "- A chess game has a *board* and a *game strategy*. "
   ]
  },
  {
   "cell_type": "markdown",
   "metadata": {
    "slideshow": {
     "slide_type": "slide"
    }
   },
   "source": [
    "## Duck-typing\n",
    "\n",
    "![]()\n",
    "\n"
   ]
  },
  {
   "cell_type": "markdown",
   "metadata": {},
   "source": [
    "The type system in Python is very lax in the sense that it rarely if ever insists on a specific type. What matters is that the type can do what is is asked to do. E.g. implements a function with a particular name.\n",
    "\n",
    "In other words, **if it walks like a duck and quacks like a duck, it is a duck.**\n",
    "\n",
    "\n",
    "<img src=\"duck_and_owl.jpg\" width=\"300px\"/>\n",
    "<img src=\"lokkeand.jpg\" width=\"300px\"/>\n",
    "\n",
    "For Python it doesn't matter whether the type is called `NaiveStrategy` or `MeanStrategy` as long it implements, say, the `.get_next_move()` function."
   ]
  },
  {
   "cell_type": "markdown",
   "metadata": {
    "slideshow": {
     "slide_type": "subslide"
    }
   },
   "source": [
    "Python uses this a lot. For instance, the `len` function can return the length of objects of many different types, including types that you define. "
   ]
  },
  {
   "cell_type": "code",
   "execution_count": 26,
   "metadata": {
    "collapsed": false
   },
   "outputs": [],
   "source": [
    "import numpy as np\n",
    "x = [1, 2, 3, 4]\n",
    "y = {4, 5, 6}\n",
    "z = np.array(x)"
   ]
  },
  {
   "cell_type": "code",
   "execution_count": 27,
   "metadata": {
    "collapsed": false
   },
   "outputs": [
    {
     "data": {
      "text/plain": [
       "[4, 3, 4]"
      ]
     },
     "execution_count": 27,
     "metadata": {},
     "output_type": "execute_result"
    }
   ],
   "source": [
    "[len(x), len(y), len(z)]"
   ]
  }
 ],
 "metadata": {
  "celltoolbar": "Slideshow",
  "kernelspec": {
   "display_name": "Python 3",
   "language": "python",
   "name": "python3"
  },
  "language_info": {
   "codemirror_mode": {
    "name": "ipython",
    "version": 3
   },
   "file_extension": ".py",
   "mimetype": "text/x-python",
   "name": "python",
   "nbconvert_exporter": "python",
   "pygments_lexer": "ipython3",
   "version": "3.4.3"
  }
 },
 "nbformat": 4,
 "nbformat_minor": 0
}
