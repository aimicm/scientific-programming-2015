{
 "cells": [
  {
   "cell_type": "code",
   "execution_count": 19,
   "metadata": {
    "collapsed": true
   },
   "outputs": [],
   "source": [
    "%matplotlib inline\n",
    "import pandas as pd\n",
    "from scipy.stats import norm, pareto\n",
    "import numpy as np"
   ]
  },
  {
   "cell_type": "markdown",
   "metadata": {},
   "source": [
    "# The weighting of the villagers\n",
    "\n",
    "<img src=\"majestic-castle.jpg\">\n",
    "\n",
    "Our master from the castle rounded up all of us villagers on the square, one hundred in total. We were there to be weighted. "
   ]
  },
  {
   "cell_type": "code",
   "execution_count": 27,
   "metadata": {
    "collapsed": true
   },
   "outputs": [],
   "source": [
    "weights = [66, 42, 71, 69, 64, 78, 48, 59, 56, 55, 72, 82, 54, 66, 64, 58, 78, \n",
    "           45, 60, 62, 63, 59, 85, 59, 92, 76, 62, 75, 67, 58, 69, 51, 46, 79, \n",
    "           67, 60, 85, 84, 66, 72, 55, 55, 60, 55, 54, 60, 58, 73, 53, 77, 55,\n",
    "           72, 60, 61, 57, 63, 59, 75, 62, 42, 67, 56, 54, 60, 68, 69, 37, 64, \n",
    "           54, 68, 65, 62, 59, 63, 64, 65, 58, 64, 47, 62, 74, 72, 68, 66, 50, \n",
    "           54, 72, 66, 63, 54, 73, 70, 64, 79, 64, 61, 49, 80, 68, 61, 250]"
   ]
  },
  {
   "cell_type": "markdown",
   "metadata": {},
   "source": [
    "The treasurer wanted to know our incomes as well."
   ]
  },
  {
   "cell_type": "code",
   "execution_count": 28,
   "metadata": {
    "collapsed": false
   },
   "outputs": [],
   "source": [
    "incomes = [  14789,  59225,  24451,  17716,  11793,  18284,  11167,  11669, \n",
    "            139681,  10923,  19352,  14248,  12902,  20542,  10260, 284863, \n",
    "             10262,  43509,  12394,  13494,  16284,  32536,  37396,  11269,\n",
    "            183367,  11179,  11422,  89352,  17917,  20274,  11208,  17867,\n",
    "             44714,  11806,  15939,  46093,  10800, 222054,  13117,  13880,\n",
    "             10712,  15257,  10873,  16082,  14237,  18402,  11886,  13260,\n",
    "             20065,  22852,  10521,  22497,  15530,  15182,  33292,  20769,\n",
    "            102208,  20200,  33198,  14384,  25463,  24153, 116063,  15189,\n",
    "             10351,  16998,  67121,  12475,  10502,  28904,  17459,  10173,\n",
    "             32449,  12593,  19499,  12785,  14526,  37959,  10692,  16774,\n",
    "             13082,  11096,  10789,  11645,  22729,  15693,  71298,  25055,\n",
    "            118899,  27420,  23630,  31624,  12534,  12190,  34334,  20292,\n",
    "            231831,  19874,  45524,  11344]"
   ]
  },
  {
   "cell_type": "markdown",
   "metadata": {},
   "source": [
    "## Exercise (aggregates)\n",
    "\n",
    "- Write a function to find the *mean*, *maximum* and *min* of the weights and incomes (do not use the built-ins). \n",
    "- Calculate the 25th, 50th, and 75th percentiles."
   ]
  },
  {
   "cell_type": "code",
   "execution_count": 29,
   "metadata": {
    "collapsed": false
   },
   "outputs": [
    {
     "data": {
      "text/plain": [
       "65.287128712871294"
      ]
     },
     "execution_count": 29,
     "metadata": {},
     "output_type": "execute_result"
    }
   ],
   "source": [
    "# Your code here (make more cells as needed)\n",
    "np.array(weights).mean()"
   ]
  },
  {
   "cell_type": "markdown",
   "metadata": {},
   "source": [
    "## The one percent\n",
    "\n",
    "At the end of the weighing the brutal and incredibly fat son of the ruler showed up, demanding to have his weight added to the tally. \n",
    "\n",
    "Append his weight to the `weights` list and recalculate the numbers. What happended?"
   ]
  },
  {
   "cell_type": "code",
   "execution_count": 7,
   "metadata": {
    "collapsed": true
   },
   "outputs": [],
   "source": [
    "# Your code here\n",
    "# weights.append()"
   ]
  },
  {
   "cell_type": "markdown",
   "metadata": {},
   "source": [
    "The master of the castle was a thoughtful man, and after spending the day alone in his castle looking out on the square, also quite drunk. Therefore, he decided to take pity on the villagers and have his name added on the list of tax-payers. He happended to be the richest man in the world. \n",
    "\n",
    "Append the master's income to the list and recalculate. Reflect."
   ]
  },
  {
   "cell_type": "code",
   "execution_count": null,
   "metadata": {
    "collapsed": true
   },
   "outputs": [],
   "source": [
    "# Your code here\n",
    "# incomes.append()"
   ]
  }
 ],
 "metadata": {
  "kernelspec": {
   "display_name": "Python 3",
   "language": "python",
   "name": "python3"
  },
  "language_info": {
   "codemirror_mode": {
    "name": "ipython",
    "version": 3
   },
   "file_extension": ".py",
   "mimetype": "text/x-python",
   "name": "python",
   "nbconvert_exporter": "python",
   "pygments_lexer": "ipython3",
   "version": "3.4.3"
  }
 },
 "nbformat": 4,
 "nbformat_minor": 0
}
