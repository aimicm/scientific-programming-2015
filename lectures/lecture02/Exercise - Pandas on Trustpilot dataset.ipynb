{
 "cells": [
  {
   "cell_type": "markdown",
   "metadata": {},
   "source": [
    "## Practical session with Trustpilot review data"
   ]
  },
  {
   "cell_type": "code",
   "execution_count": 1,
   "metadata": {
    "collapsed": false
   },
   "outputs": [],
   "source": [
    "%matplotlib inline\n",
    "import pandas as pd"
   ]
  },
  {
   "cell_type": "markdown",
   "metadata": {},
   "source": [
    "### Looking at the data"
   ]
  },
  {
   "cell_type": "code",
   "execution_count": 2,
   "metadata": {
    "collapsed": false
   },
   "outputs": [
    {
     "name": "stdout",
     "output_type": "stream",
     "text": [
      "user_id\tname\tbirth_year\tgender\tcompany\trating\treview_len\r\n",
      "2008915\tAnders Harvest\t1955\tM\twww.autoeurope.dk\t4\t15\r\n",
      "707613\tGordon Steffensen\t1955\tM\twww.laptops.dk\t5\t77\r\n",
      "707613\tGordon Steffensen\t1955\tM\twww.cpt.dk\t5\t1292\r\n",
      "707613\tGordon Steffensen\t1955\tM\twww.philipsonwine.com\t5\t95\r\n",
      "899885\ttue\t1979\tM\tsmykkemester.dk\t5\t332\r\n",
      "899885\ttue\t1979\tM\twww.rbsalg.dk\t5\t273\r\n",
      "899885\ttue\t1979\tM\twww.dvcenter.dk\t5\t506\r\n",
      "899885\ttue\t1979\tM\twww.3.dk\t5\t600\r\n",
      "899885\ttue\t1979\tM\tcarhartt-wip.dk\t5\t396\r\n"
     ]
    }
   ],
   "source": [
    "!head trustpilot_reviews_dk.tsv"
   ]
  },
  {
   "cell_type": "code",
   "execution_count": 3,
   "metadata": {
    "collapsed": false
   },
   "outputs": [],
   "source": [
    "reviews = pd.read_csv(\"trustpilot_reviews_dk.tsv\", sep=\"\\t\")"
   ]
  },
  {
   "cell_type": "code",
   "execution_count": 4,
   "metadata": {
    "collapsed": false
   },
   "outputs": [
    {
     "data": {
      "text/html": [
       "<div>\n",
       "<table border=\"1\" class=\"dataframe\">\n",
       "  <thead>\n",
       "    <tr style=\"text-align: right;\">\n",
       "      <th></th>\n",
       "      <th>user_id</th>\n",
       "      <th>name</th>\n",
       "      <th>birth_year</th>\n",
       "      <th>gender</th>\n",
       "      <th>company</th>\n",
       "      <th>rating</th>\n",
       "      <th>review_len</th>\n",
       "    </tr>\n",
       "  </thead>\n",
       "  <tbody>\n",
       "    <tr>\n",
       "      <th>0</th>\n",
       "      <td>2008915</td>\n",
       "      <td>Anders Harvest</td>\n",
       "      <td>1955</td>\n",
       "      <td>M</td>\n",
       "      <td>www.autoeurope.dk</td>\n",
       "      <td>4</td>\n",
       "      <td>15</td>\n",
       "    </tr>\n",
       "    <tr>\n",
       "      <th>1</th>\n",
       "      <td>707613</td>\n",
       "      <td>Gordon Steffensen</td>\n",
       "      <td>1955</td>\n",
       "      <td>M</td>\n",
       "      <td>www.laptops.dk</td>\n",
       "      <td>5</td>\n",
       "      <td>77</td>\n",
       "    </tr>\n",
       "    <tr>\n",
       "      <th>2</th>\n",
       "      <td>707613</td>\n",
       "      <td>Gordon Steffensen</td>\n",
       "      <td>1955</td>\n",
       "      <td>M</td>\n",
       "      <td>www.cpt.dk</td>\n",
       "      <td>5</td>\n",
       "      <td>1292</td>\n",
       "    </tr>\n",
       "    <tr>\n",
       "      <th>3</th>\n",
       "      <td>707613</td>\n",
       "      <td>Gordon Steffensen</td>\n",
       "      <td>1955</td>\n",
       "      <td>M</td>\n",
       "      <td>www.philipsonwine.com</td>\n",
       "      <td>5</td>\n",
       "      <td>95</td>\n",
       "    </tr>\n",
       "    <tr>\n",
       "      <th>4</th>\n",
       "      <td>899885</td>\n",
       "      <td>tue</td>\n",
       "      <td>1979</td>\n",
       "      <td>M</td>\n",
       "      <td>smykkemester.dk</td>\n",
       "      <td>5</td>\n",
       "      <td>332</td>\n",
       "    </tr>\n",
       "  </tbody>\n",
       "</table>\n",
       "</div>"
      ],
      "text/plain": [
       "   user_id               name  birth_year gender                company  \\\n",
       "0  2008915     Anders Harvest        1955      M      www.autoeurope.dk   \n",
       "1   707613  Gordon Steffensen        1955      M         www.laptops.dk   \n",
       "2   707613  Gordon Steffensen        1955      M             www.cpt.dk   \n",
       "3   707613  Gordon Steffensen        1955      M  www.philipsonwine.com   \n",
       "4   899885                tue        1979      M        smykkemester.dk   \n",
       "\n",
       "   rating  review_len  \n",
       "0       4          15  \n",
       "1       5          77  \n",
       "2       5        1292  \n",
       "3       5          95  \n",
       "4       5         332  "
      ]
     },
     "execution_count": 4,
     "metadata": {},
     "output_type": "execute_result"
    }
   ],
   "source": [
    "reviews.head()"
   ]
  },
  {
   "cell_type": "code",
   "execution_count": 5,
   "metadata": {
    "collapsed": false
   },
   "outputs": [
    {
     "data": {
      "text/html": [
       "<div>\n",
       "<table border=\"1\" class=\"dataframe\">\n",
       "  <thead>\n",
       "    <tr style=\"text-align: right;\">\n",
       "      <th></th>\n",
       "      <th>user_id</th>\n",
       "      <th>name</th>\n",
       "      <th>birth_year</th>\n",
       "      <th>gender</th>\n",
       "      <th>company</th>\n",
       "      <th>rating</th>\n",
       "      <th>review_len</th>\n",
       "    </tr>\n",
       "  </thead>\n",
       "  <tbody>\n",
       "    <tr>\n",
       "      <th>501537</th>\n",
       "      <td>690344</td>\n",
       "      <td>Michael Wennergren Kruse</td>\n",
       "      <td>1985</td>\n",
       "      <td>M</td>\n",
       "      <td>fnebs.com</td>\n",
       "      <td>5</td>\n",
       "      <td>303</td>\n",
       "    </tr>\n",
       "    <tr>\n",
       "      <th>501538</th>\n",
       "      <td>690344</td>\n",
       "      <td>Michael Wennergren Kruse</td>\n",
       "      <td>1985</td>\n",
       "      <td>M</td>\n",
       "      <td>www.dustinhome.dk</td>\n",
       "      <td>5</td>\n",
       "      <td>57</td>\n",
       "    </tr>\n",
       "    <tr>\n",
       "      <th>501539</th>\n",
       "      <td>690344</td>\n",
       "      <td>Michael Wennergren Kruse</td>\n",
       "      <td>1985</td>\n",
       "      <td>M</td>\n",
       "      <td>qiphe.com</td>\n",
       "      <td>5</td>\n",
       "      <td>362</td>\n",
       "    </tr>\n",
       "  </tbody>\n",
       "</table>\n",
       "</div>"
      ],
      "text/plain": [
       "        user_id                      name  birth_year gender  \\\n",
       "501537   690344  Michael Wennergren Kruse        1985      M   \n",
       "501538   690344  Michael Wennergren Kruse        1985      M   \n",
       "501539   690344  Michael Wennergren Kruse        1985      M   \n",
       "\n",
       "                  company  rating  review_len  \n",
       "501537          fnebs.com       5         303  \n",
       "501538  www.dustinhome.dk       5          57  \n",
       "501539          qiphe.com       5         362  "
      ]
     },
     "execution_count": 5,
     "metadata": {},
     "output_type": "execute_result"
    }
   ],
   "source": [
    "reviews.tail(3)"
   ]
  },
  {
   "cell_type": "markdown",
   "metadata": {},
   "source": [
    "### Making a new column `age` based on existing column `birth_year`"
   ]
  },
  {
   "cell_type": "code",
   "execution_count": 6,
   "metadata": {
    "collapsed": false
   },
   "outputs": [],
   "source": [
    "reviews['age'] = 2014 - reviews.birth_year"
   ]
  },
  {
   "cell_type": "markdown",
   "metadata": {},
   "source": [
    "### Plotting age distribution"
   ]
  },
  {
   "cell_type": "code",
   "execution_count": 7,
   "metadata": {
    "collapsed": false
   },
   "outputs": [
    {
     "data": {
      "text/plain": [
       "<matplotlib.axes._subplots.AxesSubplot at 0x10e662128>"
      ]
     },
     "execution_count": 7,
     "metadata": {},
     "output_type": "execute_result"
    },
    {
     "data": {
      "image/png": "[encoded data removed]",
      "text/plain": [
       "<matplotlib.figure.Figure at 0x10e25e978>"
      ]
     },
     "metadata": {},
     "output_type": "display_data"
    }
   ],
   "source": [
    "reviews.age.hist(bins=range(0,120))"
   ]
  },
  {
   "cell_type": "code",
   "execution_count": 8,
   "metadata": {
    "collapsed": false
   },
   "outputs": [
    {
     "data": {
      "image/png": "[encoded data removed]",
      "text/plain": [
       "<matplotlib.figure.Figure at 0x10a3c5f60>"
      ]
     },
     "metadata": {},
     "output_type": "display_data"
    }
   ],
   "source": [
    "reviews.age.hist(by=reviews.gender, bins=range(0,120));"
   ]
  },
  {
   "cell_type": "markdown",
   "metadata": {},
   "source": [
    "### Getting rid of outliers"
   ]
  },
  {
   "cell_type": "code",
   "execution_count": 9,
   "metadata": {
    "collapsed": false
   },
   "outputs": [
    {
     "data": {
      "text/plain": [
       "0         True\n",
       "1         True\n",
       "2         True\n",
       "3         True\n",
       "4         True\n",
       "5         True\n",
       "6         True\n",
       "7         True\n",
       "8         True\n",
       "9         True\n",
       "10        True\n",
       "11        True\n",
       "12        True\n",
       "13        True\n",
       "14        True\n",
       "15        True\n",
       "16        True\n",
       "17        True\n",
       "18        True\n",
       "19        True\n",
       "20        True\n",
       "21        True\n",
       "22        True\n",
       "23        True\n",
       "24        True\n",
       "25        True\n",
       "26        True\n",
       "27        True\n",
       "28        True\n",
       "29        True\n",
       "          ... \n",
       "501510    True\n",
       "501511    True\n",
       "501512    True\n",
       "501513    True\n",
       "501514    True\n",
       "501515    True\n",
       "501516    True\n",
       "501517    True\n",
       "501518    True\n",
       "501519    True\n",
       "501520    True\n",
       "501521    True\n",
       "501522    True\n",
       "501523    True\n",
       "501524    True\n",
       "501525    True\n",
       "501526    True\n",
       "501527    True\n",
       "501528    True\n",
       "501529    True\n",
       "501530    True\n",
       "501531    True\n",
       "501532    True\n",
       "501533    True\n",
       "501534    True\n",
       "501535    True\n",
       "501536    True\n",
       "501537    True\n",
       "501538    True\n",
       "501539    True\n",
       "Name: age, dtype: bool"
      ]
     },
     "execution_count": 9,
     "metadata": {},
     "output_type": "execute_result"
    }
   ],
   "source": [
    "within_valid_age_range = (reviews.age > 16) & (reviews.age < 80)\n",
    "within_valid_age_range"
   ]
  },
  {
   "cell_type": "code",
   "execution_count": 10,
   "metadata": {
    "collapsed": false
   },
   "outputs": [
    {
     "data": {
      "text/plain": [
       "0.99024604219005463"
      ]
     },
     "execution_count": 10,
     "metadata": {},
     "output_type": "execute_result"
    }
   ],
   "source": [
    "within_valid_age_range.sum() / float(len(within_valid_age_range))"
   ]
  },
  {
   "cell_type": "code",
   "execution_count": 11,
   "metadata": {
    "collapsed": false
   },
   "outputs": [
    {
     "data": {
      "image/png": "[encoded data removed]",
      "text/plain": [
       "<matplotlib.figure.Figure at 0x10c079160>"
      ]
     },
     "metadata": {},
     "output_type": "display_data"
    }
   ],
   "source": [
    "reviews = reviews[within_valid_age_range]\n",
    "reviews.age.hist(bins=range(0,120));"
   ]
  },
  {
   "cell_type": "markdown",
   "metadata": {},
   "source": [
    "### Correlations"
   ]
  },
  {
   "cell_type": "code",
   "execution_count": 12,
   "metadata": {
    "collapsed": false
   },
   "outputs": [
    {
     "data": {
      "text/html": [
       "<div>\n",
       "<table border=\"1\" class=\"dataframe\">\n",
       "  <thead>\n",
       "    <tr style=\"text-align: right;\">\n",
       "      <th></th>\n",
       "      <th>rating</th>\n",
       "      <th>review_len</th>\n",
       "    </tr>\n",
       "  </thead>\n",
       "  <tbody>\n",
       "    <tr>\n",
       "      <th>rating</th>\n",
       "      <td>1.000000</td>\n",
       "      <td>-0.465672</td>\n",
       "    </tr>\n",
       "    <tr>\n",
       "      <th>review_len</th>\n",
       "      <td>-0.465672</td>\n",
       "      <td>1.000000</td>\n",
       "    </tr>\n",
       "  </tbody>\n",
       "</table>\n",
       "</div>"
      ],
      "text/plain": [
       "              rating  review_len\n",
       "rating      1.000000   -0.465672\n",
       "review_len -0.465672    1.000000"
      ]
     },
     "execution_count": 12,
     "metadata": {},
     "output_type": "execute_result"
    }
   ],
   "source": [
    "reviews[['rating', 'review_len']].corr()"
   ]
  },
  {
   "cell_type": "markdown",
   "metadata": {},
   "source": [
    "### Group behavior"
   ]
  },
  {
   "cell_type": "code",
   "execution_count": 13,
   "metadata": {
    "collapsed": false
   },
   "outputs": [
    {
     "data": {
      "text/html": [
       "<div>\n",
       "<table border=\"1\" class=\"dataframe\">\n",
       "  <thead>\n",
       "    <tr style=\"text-align: right;\">\n",
       "      <th>gender</th>\n",
       "      <th>F</th>\n",
       "      <th>M</th>\n",
       "    </tr>\n",
       "    <tr>\n",
       "      <th>rating</th>\n",
       "      <th></th>\n",
       "      <th></th>\n",
       "    </tr>\n",
       "  </thead>\n",
       "  <tbody>\n",
       "    <tr>\n",
       "      <th>1</th>\n",
       "      <td>13933</td>\n",
       "      <td>33094</td>\n",
       "    </tr>\n",
       "    <tr>\n",
       "      <th>2</th>\n",
       "      <td>5536</td>\n",
       "      <td>12680</td>\n",
       "    </tr>\n",
       "    <tr>\n",
       "      <th>3</th>\n",
       "      <td>7403</td>\n",
       "      <td>13106</td>\n",
       "    </tr>\n",
       "    <tr>\n",
       "      <th>4</th>\n",
       "      <td>25291</td>\n",
       "      <td>41665</td>\n",
       "    </tr>\n",
       "    <tr>\n",
       "      <th>5</th>\n",
       "      <td>135246</td>\n",
       "      <td>199801</td>\n",
       "    </tr>\n",
       "  </tbody>\n",
       "</table>\n",
       "</div>"
      ],
      "text/plain": [
       "gender       F       M\n",
       "rating                \n",
       "1        13933   33094\n",
       "2         5536   12680\n",
       "3         7403   13106\n",
       "4        25291   41665\n",
       "5       135246  199801"
      ]
     },
     "execution_count": 13,
     "metadata": {},
     "output_type": "execute_result"
    }
   ],
   "source": [
    "counts = reviews.groupby(['gender', 'rating']).age.count()\n",
    "by_gender_and_rating = counts.unstack('gender')\n",
    "by_gender_and_rating"
   ]
  },
  {
   "cell_type": "code",
   "execution_count": 14,
   "metadata": {
    "collapsed": false
   },
   "outputs": [
    {
     "data": {
      "text/html": [
       "<div>\n",
       "<table border=\"1\" class=\"dataframe\">\n",
       "  <thead>\n",
       "    <tr style=\"text-align: right;\">\n",
       "      <th>gender</th>\n",
       "      <th>F</th>\n",
       "      <th>M</th>\n",
       "    </tr>\n",
       "    <tr>\n",
       "      <th>rating</th>\n",
       "      <th></th>\n",
       "      <th></th>\n",
       "    </tr>\n",
       "  </thead>\n",
       "  <tbody>\n",
       "    <tr>\n",
       "      <th>1</th>\n",
       "      <td>0.074345</td>\n",
       "      <td>0.110186</td>\n",
       "    </tr>\n",
       "    <tr>\n",
       "      <th>2</th>\n",
       "      <td>0.029540</td>\n",
       "      <td>0.042218</td>\n",
       "    </tr>\n",
       "    <tr>\n",
       "      <th>3</th>\n",
       "      <td>0.039502</td>\n",
       "      <td>0.043636</td>\n",
       "    </tr>\n",
       "    <tr>\n",
       "      <th>4</th>\n",
       "      <td>0.134951</td>\n",
       "      <td>0.138723</td>\n",
       "    </tr>\n",
       "    <tr>\n",
       "      <th>5</th>\n",
       "      <td>0.721662</td>\n",
       "      <td>0.665236</td>\n",
       "    </tr>\n",
       "  </tbody>\n",
       "</table>\n",
       "</div>"
      ],
      "text/plain": [
       "gender         F         M\n",
       "rating                    \n",
       "1       0.074345  0.110186\n",
       "2       0.029540  0.042218\n",
       "3       0.039502  0.043636\n",
       "4       0.134951  0.138723\n",
       "5       0.721662  0.665236"
      ]
     },
     "execution_count": 14,
     "metadata": {},
     "output_type": "execute_result"
    }
   ],
   "source": [
    "norm_by_gender_and_rating = (by_gender_and_rating / by_gender_and_rating.sum()) # Broadcast\n",
    "norm_by_gender_and_rating"
   ]
  },
  {
   "cell_type": "code",
   "execution_count": 15,
   "metadata": {
    "collapsed": false
   },
   "outputs": [
    {
     "data": {
      "image/png": "[encoded data removed]",
      "text/plain": [
       "<matplotlib.figure.Figure at 0x10d50dd30>"
      ]
     },
     "metadata": {},
     "output_type": "display_data"
    }
   ],
   "source": [
    "norm_by_gender_and_rating.plot(kind='bar');"
   ]
  },
  {
   "cell_type": "markdown",
   "metadata": {},
   "source": [
    "### Filtering"
   ]
  },
  {
   "cell_type": "markdown",
   "metadata": {},
   "source": [
    "Only keep companies with at least 50 reviews"
   ]
  },
  {
   "cell_type": "code",
   "execution_count": 16,
   "metadata": {
    "collapsed": false
   },
   "outputs": [],
   "source": [
    "medium_companies = reviews.groupby('company').filter(lambda g: len(g) >= 50)"
   ]
  },
  {
   "cell_type": "markdown",
   "metadata": {},
   "source": [
    "### Aggregation"
   ]
  },
  {
   "cell_type": "markdown",
   "metadata": {},
   "source": [
    "Compute a single value for each group. Here it is the percentage of male reviewers"
   ]
  },
  {
   "cell_type": "code",
   "execution_count": 17,
   "metadata": {
    "collapsed": false
   },
   "outputs": [],
   "source": [
    "def male_pct(series):\n",
    "    counts  = series.value_counts()\n",
    "    if 'M' in counts:\n",
    "        return counts.ix['M'] / float(counts.sum())\n",
    "    else:\n",
    "        return 0\n",
    "\n",
    "pct_males = medium_companies.groupby('company').gender.aggregate(male_pct)"
   ]
  },
  {
   "cell_type": "code",
   "execution_count": 18,
   "metadata": {
    "collapsed": false
   },
   "outputs": [
    {
     "data": {
      "text/plain": [
       "company\n",
       "www.carmakoma.com          0.000000\n",
       "kageoplevelser.dk          0.000000\n",
       "www.ginatricot.dk          0.014706\n",
       "nailmania.dk               0.014778\n",
       "www.kids-world.dk          0.019868\n",
       "www.nail4you.dk            0.020000\n",
       "www.tp-kjoler.dk           0.020833\n",
       "www.tikarideudstyr.dk      0.022222\n",
       "www.b4beauty.dk            0.023148\n",
       "www.hugin-mugin.com        0.023529\n",
       "www.solo.dk                0.023973\n",
       "www.smaahjerter.dk         0.024719\n",
       "www.trendpal.dk            0.026667\n",
       "www.larvefoedder.dk        0.029851\n",
       "ba10.dk                    0.031250\n",
       "www.fashionforme.dk        0.032362\n",
       "www.billige-teste.dk       0.036082\n",
       "www.chopin.dk              0.037383\n",
       "www.baby.dk                0.040000\n",
       "www.bocajeans.com          0.040816\n",
       "www.farsibella.dk          0.043165\n",
       "www.denckerdeluxe.dk       0.044444\n",
       "teenstyle.dk               0.045455\n",
       "www.mamaslife.dk           0.048387\n",
       "www.bykier.dk              0.050473\n",
       "www.filiokus.dk            0.052288\n",
       "www.tinyzone.dk            0.053498\n",
       "www.janeiredale.dk         0.054545\n",
       "www.pompdelux.dk           0.054545\n",
       "dreamsforkids.dk           0.054945\n",
       "                             ...   \n",
       "www.thomann.de             0.948276\n",
       "www.bulkpowders.co.uk      0.948980\n",
       "www.astina.dk              0.949045\n",
       "www.rccentret.dk           0.949153\n",
       "www.hovwdiaudi.dk          0.949275\n",
       "www.trendlovers.dk         0.949367\n",
       "www.randyrun.dk            0.949580\n",
       "playgames.dk               0.949833\n",
       "www.weboil.dk              0.950000\n",
       "www.ugx.dk                 0.950617\n",
       "www.kgi.dk                 0.951613\n",
       "www.bj-trading.dk          0.953728\n",
       "www.speedline.dk           0.954373\n",
       "www.el-supply.dk           0.958140\n",
       "www.shg.dk                 0.959239\n",
       "myprotein.com              0.961538\n",
       "www.topdata.dk             0.961832\n",
       "www.poiseofdenmark.com     0.962025\n",
       "www.msp-tuning.dk          0.962963\n",
       "www.steampowered.com       0.965517\n",
       "www.hifi-freaks.dk         0.966102\n",
       "ipcam-shop.dk              0.966102\n",
       "www.gamekeysnow.com        0.968750\n",
       "www.coolerkit.dk           0.969925\n",
       "www.gamers-shop.dk         0.970954\n",
       "www.vefafoto.dk            0.972603\n",
       "www.oliebiksen.dk          0.978836\n",
       "www.cjs-cdkeys.com         0.980198\n",
       "tapeconnection.dk          0.981481\n",
       "www.holte-modelhobby.dk    0.983051\n",
       "Name: gender, dtype: float64"
      ]
     },
     "execution_count": 18,
     "metadata": {},
     "output_type": "execute_result"
    }
   ],
   "source": [
    "pct_males.order(ascending=True)"
   ]
  },
  {
   "cell_type": "markdown",
   "metadata": {},
   "source": [
    "What is the most balanced company?"
   ]
  },
  {
   "cell_type": "code",
   "execution_count": 19,
   "metadata": {
    "collapsed": false
   },
   "outputs": [
    {
     "data": {
      "text/plain": [
       "company\n",
       "www.boligbasen.dk           0.000000\n",
       "www.boligportal.dk          0.000000\n",
       "www.jysk-diner.dk           0.000000\n",
       "www.coffeebeansonline.eu    0.000000\n",
       "sovn-comfort.dk             0.000000\n",
       "www.familieadvokaten.dk     0.000000\n",
       "www.netdate.dk              0.000000\n",
       "www.klodskassen.dk          0.001002\n",
       "www.dvdoo.dk                0.002170\n",
       "www.veracura.dk             0.002857\n",
       "www.sport24.dk              0.002976\n",
       "lenson.dk                   0.003597\n",
       "www.kitchenone.dk           0.003726\n",
       "www.gucca.dk                0.003798\n",
       "www.synoptik.dk             0.005376\n",
       "shopsport.dk                0.005747\n",
       "www.stepnote.dk             0.005882\n",
       "www.ebay.dk                 0.006173\n",
       "mempolering.dk              0.006173\n",
       "dagensbedste.dk             0.006757\n",
       "www.gavekortet.dk           0.006849\n",
       "www.irma.dk                 0.007042\n",
       "www.sport24outlet.dk        0.007463\n",
       "www.filmudsalg.dk           0.007669\n",
       "www.sneakershop.dk          0.007692\n",
       "repfone.dk                  0.007937\n",
       "www.g.dk                    0.008065\n",
       "lampeguru.dk                0.008306\n",
       "unikmobil.dk                0.008333\n",
       "www.klodsland.dk            0.008475\n",
       "www.stadium.dk              0.009363\n",
       "mobilreparationer.dk        0.009615\n",
       "www.western-shop.dk         0.009804\n",
       "viagogo.dk                  0.010204\n",
       "www.stereostudio.dk         0.010490\n",
       "www.grydeguru.dk            0.010638\n",
       "www.alun.dk                 0.010848\n",
       "www.vipocean.dk             0.010870\n",
       "www.ure.dk                  0.010870\n",
       "www.lightinthebox.com       0.010917\n",
       "www.sejsdyner.dk            0.011111\n",
       "crazysport.dk               0.011364\n",
       "www.moviezoo.dk             0.012488\n",
       "www.happydays.nu            0.012500\n",
       "www.romantiske-gaver.dk     0.012821\n",
       "www.zopping.dk              0.013228\n",
       "pointdeal.dk                0.013699\n",
       "sweetdeal.dk                0.014286\n",
       "www.raadhuskiosken.dk       0.015625\n",
       "www.billetlugen.dk          0.016484\n",
       "Name: gender, dtype: float64"
      ]
     },
     "execution_count": 19,
     "metadata": {},
     "output_type": "execute_result"
    }
   ],
   "source": [
    "(pct_males - 0.5).abs().order().head(50)"
   ]
  }
 ],
 "metadata": {
  "kernelspec": {
   "display_name": "Python 3",
   "language": "python",
   "name": "python3"
  },
  "language_info": {
   "codemirror_mode": {
    "name": "ipython",
    "version": 3
   },
   "file_extension": ".py",
   "mimetype": "text/x-python",
   "name": "python",
   "nbconvert_exporter": "python",
   "pygments_lexer": "ipython3",
   "version": "3.4.3"
  }
 },
 "nbformat": 4,
 "nbformat_minor": 0
}
