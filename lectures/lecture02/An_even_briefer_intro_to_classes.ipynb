{
 "cells": [
  {
   "cell_type": "markdown",
   "metadata": {
    "slideshow": {
     "slide_type": "slide"
    }
   },
   "source": [
    "# Classes in Python\n",
    "## An extremely brief overview"
   ]
  },
  {
   "cell_type": "markdown",
   "metadata": {
    "slideshow": {
     "slide_type": "slide"
    }
   },
   "source": [
    "### A problem\n",
    "\n",
    "People tend to have names, surnames, ages, heights, and weights.\n",
    "\n",
    "Let's capture and store this information."
   ]
  },
  {
   "cell_type": "code",
   "execution_count": 1,
   "metadata": {
    "collapsed": true,
    "slideshow": {
     "slide_type": "slide"
    }
   },
   "outputs": [],
   "source": [
    "# one person, very easy(-going)\n",
    "\n",
    "person_name = \"Jeffrey\"\n",
    "person_surname = \"Lebowski\"\n",
    "person_age = 47\n",
    "person_height = 185\n",
    "person_weight = 90"
   ]
  },
  {
   "cell_type": "code",
   "execution_count": null,
   "metadata": {
    "collapsed": true,
    "slideshow": {
     "slide_type": "slide"
    }
   },
   "outputs": [],
   "source": [
    "# multiple persons\n",
    "\n",
    "person_001_name = \"Jeffrey\"\n",
    "person_001_surname = \"Lebowski\"\n",
    "person_001_age = 47\n",
    "person_001_height = 185\n",
    "person_001_weight = 90\n",
    "\n",
    "person_001_name = \"Maude\"\n",
    "person_001_surname = \"Lebowski\"\n",
    "person_001_age = 38\n",
    "person_001_height = 170\n",
    "person_001_weight = 60\n",
    "\n",
    "# (...)\n",
    "\n",
    "person_999_name = \"Uli\"\n",
    "person_999_surname = \"Kunkel\"\n",
    "person_999_age = 45\n",
    "person_999_height = 176\n",
    "person_999_weight = 72\n",
    "\n",
    "# good look adding person_1000... :-)"
   ]
  },
  {
   "cell_type": "markdown",
   "metadata": {
    "slideshow": {
     "slide_type": "slide"
    }
   },
   "source": [
    "### Workarounds?"
   ]
  },
  {
   "cell_type": "code",
   "execution_count": 2,
   "metadata": {
    "collapsed": false,
    "slideshow": {
     "slide_type": "slide"
    }
   },
   "outputs": [
    {
     "name": "stdout",
     "output_type": "stream",
     "text": [
      "Maude\n"
     ]
    }
   ],
   "source": [
    "# list of dictionaries\n",
    "\n",
    "people = [{\"name\": \"Jeffrey\", \"surname\": \"Lebowski\", \"age\": 47, \"height\": 185, \"weight\": 90}, \n",
    "          {\"name\": \"Maude\", \"surname\": \"Lebowski\", \"age\": 38, \"height\": 170, \"weight\": 60}, \n",
    "         # (...)\n",
    "         {\"name\": \"Uli\", \"surname\": \"Kunkel\", \"age\": 45, \"height\": 176, \"weight\": 72}]\n",
    "\n",
    "print(people[1][\"name\"])"
   ]
  },
  {
   "cell_type": "markdown",
   "metadata": {
    "slideshow": {
     "slide_type": "slide"
    }
   },
   "source": [
    "### The object-oriented approach\n",
    "\n",
    "Create a custom type to suit your needs!"
   ]
  },
  {
   "cell_type": "code",
   "execution_count": 6,
   "metadata": {
    "collapsed": false,
    "slideshow": {
     "slide_type": "slide"
    }
   },
   "outputs": [
    {
     "name": "stdout",
     "output_type": "stream",
     "text": [
      "<__main__.Person object at 0x1048b2c50>\n"
     ]
    }
   ],
   "source": [
    "# Let there be Person!\n",
    "class Person:\n",
    "    \n",
    "    # What's in a person?\n",
    "    def __init__(self, name, surname, age, height, weight):\n",
    "        self.name = name\n",
    "        self.surname = surname\n",
    "        self.age = age\n",
    "        self.height = height\n",
    "        self.weight = weight\n",
    "\n",
    "        \n",
    "# let's create an actual person\n",
    "the_dude = Person(\"Jeffrey\", \"Lebowski\", 47, 185, 90)\n",
    "\n",
    "# and print him\n",
    "print(the_dude)"
   ]
  },
  {
   "cell_type": "markdown",
   "metadata": {
    "slideshow": {
     "slide_type": "slide"
    }
   },
   "source": [
    "### Your type, your rules!\n",
    "\n",
    "Python does not know how your `Person` should behave.\n",
    "\n",
    "There are many ways for teaching it."
   ]
  },
  {
   "cell_type": "code",
   "execution_count": 8,
   "metadata": {
    "collapsed": false,
    "slideshow": {
     "slide_type": "slide"
    }
   },
   "outputs": [
    {
     "name": "stdout",
     "output_type": "stream",
     "text": [
      "Jeffrey Lebowski (47/185/90)\n"
     ]
    }
   ],
   "source": [
    "# Let there be Person!\n",
    "class Person:\n",
    "    \n",
    "    # What's in a person?\n",
    "    def __init__(self, name, surname, age, height, weight):\n",
    "        self.name = name\n",
    "        self.surname = surname\n",
    "        self.age = age\n",
    "        self.height = height\n",
    "        self.weight = weight\n",
    "    \n",
    "    # How to print a person?\n",
    "    def __str__(self):\n",
    "        return \"%s %s (%d/%d/%d)\" % (self.name, self.surname, self.age, self.height, self.weight)\n",
    "\n",
    "    \n",
    "# let's create an actual person\n",
    "the_dude = Person(\"Jeffrey\", \"Lebowski\", 47, 185, 90)\n",
    "\n",
    "# and print him\n",
    "print(the_dude)"
   ]
  },
  {
   "cell_type": "code",
   "execution_count": 11,
   "metadata": {
    "collapsed": false,
    "slideshow": {
     "slide_type": "slide"
    }
   },
   "outputs": [
    {
     "name": "stdout",
     "output_type": "stream",
     "text": [
      "1968\n"
     ]
    }
   ],
   "source": [
    "from datetime import date\n",
    "\n",
    "# Let there be Person!\n",
    "class Person:\n",
    "    \n",
    "    # What's in a person?\n",
    "    def __init__(self, name, surname, age, height, weight):\n",
    "        self.name = name\n",
    "        self.surname = surname\n",
    "        self.age = age\n",
    "        self.height = height\n",
    "        self.weight = weight\n",
    "    \n",
    "    # How to print a person?\n",
    "    def __str__(self):\n",
    "        return \"%s %s (%d/%d/%d)\" % (self.name, self.surname, self.age, self.height, self.weight)\n",
    "    \n",
    "    # What's their birth year?\n",
    "    def calculate_birthyear(self):\n",
    "        return date.today().year - self.age\n",
    "\n",
    "\n",
    "# let's create an actual person\n",
    "the_dude = Person(\"Jeffrey\", \"Lebowski\", 47, 185, 90)\n",
    "\n",
    "# and print his birthyear\n",
    "print(the_dude.calculate_birthyear())"
   ]
  },
  {
   "cell_type": "markdown",
   "metadata": {
    "slideshow": {
     "slide_type": "slide"
    }
   },
   "source": [
    "### It gets even cooler\n",
    "\n",
    "Your custom types can form relations and hierarchies."
   ]
  },
  {
   "cell_type": "code",
   "execution_count": 23,
   "metadata": {
    "collapsed": false,
    "slideshow": {
     "slide_type": "slide"
    }
   },
   "outputs": [
    {
     "name": "stdout",
     "output_type": "stream",
     "text": [
      "Bunny Lebowski (21/167/55), semester: 1\n"
     ]
    }
   ],
   "source": [
    "# Let there be Person!\n",
    "class Person:\n",
    "    \n",
    "    # What's in a person?\n",
    "    def __init__(self, name, surname, age, height, weight):\n",
    "        self.name = name\n",
    "        self.surname = surname\n",
    "        self.age = age\n",
    "        self.height = height\n",
    "        self.weight = weight\n",
    "    \n",
    "    # How to print a person?\n",
    "    def __str__(self):\n",
    "        return \"%s %s (%d/%d/%d)\" % (self.name, self.surname, self.age, self.height, self.weight)\n",
    "\n",
    "# Student is (a special) Person.\n",
    "class Student(Person):\n",
    "\n",
    "    # Invoke a higher power!\n",
    "    def __init__(self, name, surname, age, height, weight, semester):\n",
    "        super(Student, self).__init__(name, surname, age, height, weight)\n",
    "        self.semester = semester\n",
    "    \n",
    "    # Specialize.\n",
    "    def __str__(self):\n",
    "        return \"%s, semester: %d\" % (super(Student, self).__str__(), self.semester)\n",
    "\n",
    "\n",
    "bunny = Student(\"Bunny\", \"Lebowski\", 21, 167, 55, 1)\n",
    "print(bunny)"
   ]
  },
  {
   "cell_type": "code",
   "execution_count": 26,
   "metadata": {
    "collapsed": false,
    "slideshow": {
     "slide_type": "slide"
    }
   },
   "outputs": [
    {
     "name": "stdout",
     "output_type": "stream",
     "text": [
      "Bunny Lebowski (21/167/55), semester: 1\n",
      "Walter Sobchak (50/187/110), semester: 9\n"
     ]
    }
   ],
   "source": [
    "# Course has Students!\n",
    "class Course:\n",
    "\n",
    "    def __init__(self, name):\n",
    "        self.name = name\n",
    "        self.students = []  # container for students\n",
    "    \n",
    "    def add_student(self, student):\n",
    "        self.students.append(student)\n",
    "    \n",
    "    def print_students(self):\n",
    "        for student in self.students:\n",
    "            print(student)\n",
    "\n",
    "\n",
    "scipro = Course(\"Scientific Programming\")\n",
    "scipro.add_student(Student(\"Bunny\", \"Lebowski\", 21, 167, 55, 1))\n",
    "scipro.add_student(Student(\"Walter\", \"Sobchak\", 50, 187, 110, 9))\n",
    "scipro.print_students()"
   ]
  },
  {
   "cell_type": "markdown",
   "metadata": {
    "slideshow": {
     "slide_type": "slide"
    }
   },
   "source": [
    "### Have fun with object-oriented programming!\n",
    "\n",
    "<img src=\"oop.jpg\">"
   ]
  }
 ],
 "metadata": {
  "celltoolbar": "Slideshow",
  "kernelspec": {
   "display_name": "Python 3",
   "language": "python",
   "name": "python3"
  },
  "language_info": {
   "codemirror_mode": {
    "name": "ipython",
    "version": 3
   },
   "file_extension": ".py",
   "mimetype": "text/x-python",
   "name": "python",
   "nbconvert_exporter": "python",
   "pygments_lexer": "ipython3",
   "version": "3.4.3"
  }
 },
 "nbformat": 4,
 "nbformat_minor": 0
}
