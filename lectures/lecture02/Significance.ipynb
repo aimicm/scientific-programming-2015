{
 "cells": [
  {
   "cell_type": "code",
   "execution_count": 257,
   "metadata": {
    "collapsed": true,
    "slideshow": {
     "slide_type": "skip"
    }
   },
   "outputs": [],
   "source": [
    "%matplotlib inline\n",
    "import pandas as pd\n",
    "import numpy as np\n",
    "from scipy.stats import norm, binom, bernoulli\n",
    "from matplotlib import pyplot as plt"
   ]
  },
  {
   "cell_type": "markdown",
   "metadata": {
    "slideshow": {
     "slide_type": "slide"
    }
   },
   "source": [
    "# Making comparisons\n",
    "\n",
    "Experimental science is about measuring differences. So scientists are obsessed with making comparisons. They are for instance interested in:\n",
    "\n",
    "- which of two competing drugs work better\n",
    "- whether a drug is more effective than placebo\n",
    "- if a new teaching aid improve grades\n",
    "- if their newly developed algorithm is actually better than a baseline"
   ]
  },
  {
   "cell_type": "markdown",
   "metadata": {
    "slideshow": {
     "slide_type": "subslide"
    }
   },
   "source": [
    "## Curing colds\n",
    "\n",
    "<img src=\"cure_at_cold.jpg\" width=\"450\"/>\n",
    "\n",
    "*Friendly Pharmaceuticals* has developed a drug that supposedly cures the common cold faster. They set up a randomized controlled experiment, enrolling 40 participants, which are randomly assigned to either treatment or a placebo. \n",
    "\n",
    "You already know `pandas`. Can you just use `groupby()` to calculate the means and be done with it?\n",
    "\n",
    "Say you observe a positive result. The people in the treatment group recover, on average, one day faster compared to the control group. What might cause that result to be a statistical fluke in the example above?"
   ]
  },
  {
   "cell_type": "markdown",
   "metadata": {
    "slideshow": {
     "slide_type": "subslide"
    }
   },
   "source": [
    "## What is a $p$-value?\n",
    "\n",
    "Assume that your result is a fluke (there is actually no effect of the drug). \n",
    "\n",
    "> Given this assumption, what is the probability of seeing a result *at least as extreme* as the one you observed?\n",
    "\n",
    "The $p$-value provides the answer to this question."
   ]
  },
  {
   "cell_type": "markdown",
   "metadata": {
    "slideshow": {
     "slide_type": "fragment"
    }
   },
   "source": [
    "The p-value is a measure of surprisal. "
   ]
  },
  {
   "cell_type": "markdown",
   "metadata": {
    "slideshow": {
     "slide_type": "fragment"
    }
   },
   "source": [
    "A low $p$-value indicates that is the result you're getting is weird if nothing is going on."
   ]
  },
  {
   "cell_type": "markdown",
   "metadata": {
    "slideshow": {
     "slide_type": "subslide"
    }
   },
   "source": [
    "## What a $p$-value is not\n",
    "\n",
    "### A confirmation\n",
    "\n",
    "A low $p$-value doesn't mean that you're right.\n",
    "\n",
    "### An assessment\n",
    "\n",
    "A low $p$-value doesn't entail that your result is important."
   ]
  },
  {
   "cell_type": "markdown",
   "metadata": {
    "slideshow": {
     "slide_type": "subslide"
    }
   },
   "source": [
    "## How $p$-values are used\n",
    "\n",
    "### Your question\n",
    "\n",
    "Is there *really* a difference between the drugs? \n",
    "\n",
    "### Traditional answer\n"
   ]
  },
  {
   "cell_type": "markdown",
   "metadata": {
    "slideshow": {
     "slide_type": "fragment"
    }
   },
   "source": [
    "Yes, if $p < 0.05$"
   ]
  },
  {
   "cell_type": "markdown",
   "metadata": {
    "slideshow": {
     "slide_type": "fragment"
    }
   },
   "source": [
    "### Interpretation\n",
    "\n",
    "The observed data is **not** consistent with the drug **not** working."
   ]
  },
  {
   "cell_type": "markdown",
   "metadata": {
    "slideshow": {
     "slide_type": "subslide"
    }
   },
   "source": [
    "## Two roads to significance\n",
    "\n",
    "### Large effects in small data\n",
    "\n",
    "You can measure a huge effect, even in a small sample. \n",
    "\n",
    "### Small effects in large data\n",
    "\n",
    "In a huge sample, you can measure a very small effect to a very high precision."
   ]
  },
  {
   "cell_type": "markdown",
   "metadata": {
    "slideshow": {
     "slide_type": "fragment"
    }
   },
   "source": [
    "I.e. with enough data you can always get significant results."
   ]
  },
  {
   "cell_type": "markdown",
   "metadata": {
    "slideshow": {
     "slide_type": "subslide"
    }
   },
   "source": [
    "## Insignificance\n",
    "\n",
    "<img src=\"tiny_animal.jpg\"/>\n",
    "\n",
    "What does it mean if your result is not significant?"
   ]
  },
  {
   "cell_type": "markdown",
   "metadata": {
    "slideshow": {
     "slide_type": "fragment"
    }
   },
   "source": [
    "Possibly not a thing."
   ]
  },
  {
   "cell_type": "markdown",
   "metadata": {
    "slideshow": {
     "slide_type": "subslide"
    }
   },
   "source": [
    "## Two schools of significance testing\n",
    "\n",
    "### Ronald A. Fisher\n",
    "\n",
    "<img src=\"ronald_fisher.gif\"/>\n",
    "\n",
    "- Rule-of-thumb to check the validity of a result\n",
    "- To be weighted against a researcher's knowledge of the field\n",
    "- Informal procedure"
   ]
  },
  {
   "cell_type": "markdown",
   "metadata": {
    "slideshow": {
     "slide_type": "subslide"
    }
   },
   "source": [
    "## Jerzy Neyman and Egon Pearson\n",
    "\n",
    "<img src=\"egon_pearson_jerzy_neyman.jpg\"/>\n",
    "\n",
    "- Developed formal procedure for hypothesis testing\n",
    "- Should be followed by everyone"
   ]
  },
  {
   "cell_type": "markdown",
   "metadata": {
    "slideshow": {
     "slide_type": "subslide"
    }
   },
   "source": [
    "## Two kinds of errors\n",
    "\n",
    "Things can go wrong in two ways:\n",
    "\n",
    "- **False positive**: Saying a result is a real when it's not.\n",
    "- **False negative**: Rejecting a result as fluke when it's actually real."
   ]
  },
  {
   "cell_type": "markdown",
   "metadata": {
    "slideshow": {
     "slide_type": "fragment"
    }
   },
   "source": [
    "Discuss: Which of these two is the most important, if any?"
   ]
  },
  {
   "cell_type": "markdown",
   "metadata": {
    "slideshow": {
     "slide_type": "fragment"
    }
   },
   "source": [
    "Neyman and Pearson's decision-making procedure is designed to limit the false positives. \n",
    "\n",
    "### Hey scientists\n",
    "\n",
    "How many false positive results can you live with? In other words, what *false positive rate* are you willing to put up with?\n",
    "\n",
    "Call this $\\alpha$. Conventionally, \n",
    "\n",
    "$$\\alpha = 0.05$$"
   ]
  },
  {
   "cell_type": "markdown",
   "metadata": {
    "slideshow": {
     "slide_type": "subslide"
    }
   },
   "source": [
    "## Neyman-Pearson decision procedure\n",
    "\n",
    "### Two types of hypothesis\n",
    "\n",
    "- **null hypothesis**, which assumes the result is a fluke.\n",
    "- **alternative hypothesis**, which assumes the result is real.\n",
    "\n",
    "### Decision\n",
    "\n",
    "Reject null hypothesis whenever $p > \\alpha$.\n",
    "\n"
   ]
  },
  {
   "cell_type": "markdown",
   "metadata": {
    "slideshow": {
     "slide_type": "fragment"
    }
   },
   "source": [
    "Note, the procedure only makes sense on aggregate. "
   ]
  },
  {
   "cell_type": "markdown",
   "metadata": {
    "slideshow": {
     "slide_type": "slide"
    }
   },
   "source": [
    "## A simulated nutritional experiment\n",
    "\n",
    "We use the [BRFSS](http://www.cdc.gov/brfss/annual_data/annual_2013.html) American health survey, conducted by telephone and reaching more than 400,000 americans. Among other things, people were asked about their weight and height. "
   ]
  },
  {
   "cell_type": "markdown",
   "metadata": {
    "slideshow": {
     "slide_type": "-"
    }
   },
   "source": [
    "Read the data"
   ]
  },
  {
   "cell_type": "code",
   "execution_count": 67,
   "metadata": {
    "collapsed": true
   },
   "outputs": [],
   "source": [
    "llcp = pd.read_csv(\"llcp2013.tsv\", sep=\"\\t\", low_memory=False)"
   ]
  },
  {
   "cell_type": "markdown",
   "metadata": {
    "slideshow": {
     "slide_type": "fragment"
    }
   },
   "source": [
    "Convert the weights in kilo (WTKG3) and body mass index (\\_BMI5) variables from a fixed precision integer representantion (e.g. 65.40 kg is written as 6540) to floating point numbers."
   ]
  },
  {
   "cell_type": "code",
   "execution_count": 68,
   "metadata": {
    "collapsed": true
   },
   "outputs": [],
   "source": [
    "llcp['WTKG3'] /= 100\n",
    "llcp['_BMI5'] /= 100\n",
    "llcp = llcp.dropna(subset=['WTKG3', '_BMI5'])"
   ]
  },
  {
   "cell_type": "markdown",
   "metadata": {
    "slideshow": {
     "slide_type": "subslide"
    }
   },
   "source": [
    "Filter based on BMI"
   ]
  },
  {
   "cell_type": "code",
   "execution_count": 91,
   "metadata": {
    "collapsed": false
   },
   "outputs": [],
   "source": [
    "obsese_weights = llcp.query('25 <= _BMI5 <= 35')['WTKG3']"
   ]
  },
  {
   "cell_type": "markdown",
   "metadata": {
    "slideshow": {
     "slide_type": "subslide"
    }
   },
   "source": [
    "Assign people to treatment randomly"
   ]
  },
  {
   "cell_type": "code",
   "execution_count": 95,
   "metadata": {
    "collapsed": false
   },
   "outputs": [],
   "source": [
    "trial = pd.DataFrame({'weight': obsese_weights,\n",
    "                      'treatment': bernoulli(.5).rvs(len(obsese_weights)).astype(bool),\n",
    "                     })"
   ]
  },
  {
   "cell_type": "markdown",
   "metadata": {
    "slideshow": {
     "slide_type": "subslide"
    }
   },
   "source": [
    "Run a simulated trial on a subsample of people. The trial always succeeds with an effect specified by the parameter `effect_size`."
   ]
  },
  {
   "cell_type": "code",
   "execution_count": 192,
   "metadata": {
    "collapsed": false
   },
   "outputs": [],
   "source": [
    "def run_weight_loss_trial(n, effect_size, gaussian=False):\n",
    "    sample = trial.sample(n).copy()\n",
    "    if gaussian:\n",
    "        treatment_effect = norm(effect_size, 3).rvs(sample.treatment.sum())\n",
    "        sample.ix[sample.treatment, 'weight'] -= treatment_effect\n",
    "        \n",
    "        random_effect = norm(0, 3).rvs((~sample.treatment).sum())\n",
    "        sample.ix[~sample.treatment, 'weight'] -= random_effect\n",
    "    else:\n",
    "        sample.ix[sample.treatment, 'weight'] -= effect_size\n",
    "    return sample"
   ]
  },
  {
   "cell_type": "markdown",
   "metadata": {
    "slideshow": {
     "slide_type": "subslide"
    }
   },
   "source": [
    "One run"
   ]
  },
  {
   "cell_type": "code",
   "execution_count": 224,
   "metadata": {
    "collapsed": false
   },
   "outputs": [
    {
     "data": {
      "text/html": [
       "<div style=\"max-height:1000px;max-width:1500px;overflow:auto;\">\n",
       "<table border=\"1\" class=\"dataframe\">\n",
       "  <thead>\n",
       "    <tr style=\"text-align: right;\">\n",
       "      <th></th>\n",
       "      <th>treatment</th>\n",
       "      <th>weight</th>\n",
       "    </tr>\n",
       "  </thead>\n",
       "  <tbody>\n",
       "    <tr>\n",
       "      <th>88345</th>\n",
       "      <td>False</td>\n",
       "      <td>92.99</td>\n",
       "    </tr>\n",
       "    <tr>\n",
       "      <th>89385</th>\n",
       "      <td>True</td>\n",
       "      <td>91.44</td>\n",
       "    </tr>\n",
       "    <tr>\n",
       "      <th>126378</th>\n",
       "      <td>True</td>\n",
       "      <td>88.72</td>\n",
       "    </tr>\n",
       "    <tr>\n",
       "      <th>4520</th>\n",
       "      <td>True</td>\n",
       "      <td>70.57</td>\n",
       "    </tr>\n",
       "    <tr>\n",
       "      <th>93985</th>\n",
       "      <td>False</td>\n",
       "      <td>77.11</td>\n",
       "    </tr>\n",
       "  </tbody>\n",
       "</table>\n",
       "</div>"
      ],
      "text/plain": [
       "       treatment  weight\n",
       "88345      False   92.99\n",
       "89385       True   91.44\n",
       "126378      True   88.72\n",
       "4520        True   70.57\n",
       "93985      False   77.11"
      ]
     },
     "execution_count": 224,
     "metadata": {},
     "output_type": "execute_result"
    }
   ],
   "source": [
    "one_xp = run_weight_loss_trial(40, 2, gaussian=False).head()\n",
    "one_xp"
   ]
  },
  {
   "cell_type": "code",
   "execution_count": 225,
   "metadata": {
    "collapsed": false,
    "slideshow": {
     "slide_type": "subslide"
    }
   },
   "outputs": [
    {
     "data": {
      "text/html": [
       "<div style=\"max-height:1000px;max-width:1500px;overflow:auto;\">\n",
       "<table border=\"1\" class=\"dataframe\">\n",
       "  <thead>\n",
       "    <tr style=\"text-align: right;\">\n",
       "      <th></th>\n",
       "      <th>weight</th>\n",
       "    </tr>\n",
       "    <tr>\n",
       "      <th>treatment</th>\n",
       "      <th></th>\n",
       "    </tr>\n",
       "  </thead>\n",
       "  <tbody>\n",
       "    <tr>\n",
       "      <th>False</th>\n",
       "      <td>85.050000</td>\n",
       "    </tr>\n",
       "    <tr>\n",
       "      <th>True</th>\n",
       "      <td>83.576667</td>\n",
       "    </tr>\n",
       "  </tbody>\n",
       "</table>\n",
       "</div>"
      ],
      "text/plain": [
       "              weight\n",
       "treatment           \n",
       "False      85.050000\n",
       "True       83.576667"
      ]
     },
     "execution_count": 225,
     "metadata": {},
     "output_type": "execute_result"
    }
   ],
   "source": [
    "one_xp.groupby('treatment').mean()"
   ]
  },
  {
   "cell_type": "markdown",
   "metadata": {
    "slideshow": {
     "slide_type": "subslide"
    }
   },
   "source": [
    "### Variability in differences (with real effect)"
   ]
  },
  {
   "cell_type": "markdown",
   "metadata": {},
   "source": [
    "Run a large number of trials, each time extracting new subsamples of people"
   ]
  },
  {
   "cell_type": "code",
   "execution_count": 226,
   "metadata": {
    "collapsed": false
   },
   "outputs": [
    {
     "data": {
      "text/plain": [
       "1.975734336857863"
      ]
     },
     "execution_count": 226,
     "metadata": {},
     "output_type": "execute_result"
    }
   ],
   "source": [
    "differences = []\n",
    "for i in range(500):\n",
    "    means = run_weight_loss_trial(40, 2, gaussian=False).groupby('treatment').mean()\n",
    "    lost = means.ix[False] - means.ix[True]\n",
    "    differences.append(float(lost))\n",
    "\n",
    "differences = pd.Series(differences)\n",
    "differences.mean()"
   ]
  },
  {
   "cell_type": "markdown",
   "metadata": {
    "slideshow": {
     "slide_type": "subslide"
    }
   },
   "source": [
    "What is the chance of seeing a difference of at least 2 kg?"
   ]
  },
  {
   "cell_type": "code",
   "execution_count": 233,
   "metadata": {
    "collapsed": false
   },
   "outputs": [
    {
     "data": {
      "text/plain": [
       "0.50800000000000001"
      ]
     },
     "execution_count": 233,
     "metadata": {},
     "output_type": "execute_result"
    }
   ],
   "source": [
    "(differences >= 2).sum() / len(differences)"
   ]
  },
  {
   "cell_type": "code",
   "execution_count": 202,
   "metadata": {
    "collapsed": false,
    "slideshow": {
     "slide_type": "subslide"
    }
   },
   "outputs": [
    {
     "data": {
      "text/plain": [
       "<matplotlib.axes._subplots.AxesSubplot at 0x10dab7710>"
      ]
     },
     "execution_count": 202,
     "metadata": {},
     "output_type": "execute_result"
    },
    {
     "data": {
      "image/png": "[encoded data removed]",
      "text/plain": [
       "<matplotlib.figure.Figure at 0x10dac4e80>"
      ]
     },
     "metadata": {},
     "output_type": "display_data"
    }
   ],
   "source": [
    "differences.quantile([i / 100 for i in range(1, 101)]).plot()"
   ]
  },
  {
   "cell_type": "markdown",
   "metadata": {
    "slideshow": {
     "slide_type": "subslide"
    }
   },
   "source": [
    "### Variability (with no effect)"
   ]
  },
  {
   "cell_type": "code",
   "execution_count": 244,
   "metadata": {
    "collapsed": false
   },
   "outputs": [
    {
     "data": {
      "text/plain": [
       "3.3690160428768134"
      ]
     },
     "execution_count": 244,
     "metadata": {},
     "output_type": "execute_result"
    }
   ],
   "source": [
    "differences_null = []\n",
    "for i in range(500):\n",
    "    means = run_weight_loss_trial(40, 0, gaussian=False).groupby('treatment').mean()\n",
    "    lost = means.ix[False] - means.ix[True]\n",
    "    differences_null.append(float(lost))\n",
    "\n",
    "differences_null = pd.Series(differences_null)\n",
    "differences_null.abs().mean()"
   ]
  },
  {
   "cell_type": "code",
   "execution_count": 243,
   "metadata": {
    "collapsed": false,
    "slideshow": {
     "slide_type": "subslide"
    }
   },
   "outputs": [
    {
     "data": {
      "text/plain": [
       "<matplotlib.collections.LineCollection at 0x10ee15080>"
      ]
     },
     "execution_count": 243,
     "metadata": {},
     "output_type": "execute_result"
    },
    {
     "data": {
      "image/png": "[encoded data removed]",
      "text/plain": [
       "<matplotlib.figure.Figure at 0x10ee15860>"
      ]
     },
     "metadata": {},
     "output_type": "display_data"
    }
   ],
   "source": [
    "fig, ax = plt.subplots()\n",
    "differences_null.quantile([i / 100 for i in range(1, 101)]).plot(ax=ax)\n",
    "ax.hlines([2], xmin=0, xmax=1, linestyles='dashed')"
   ]
  },
  {
   "cell_type": "code",
   "execution_count": 208,
   "metadata": {
    "collapsed": false,
    "slideshow": {
     "slide_type": "subslide"
    }
   },
   "outputs": [
    {
     "data": {
      "text/plain": [
       "6.2805461843499035"
      ]
     },
     "execution_count": 208,
     "metadata": {},
     "output_type": "execute_result"
    }
   ],
   "source": [
    "differences_null.quantile(.95)"
   ]
  },
  {
   "cell_type": "markdown",
   "metadata": {
    "slideshow": {
     "slide_type": "subslide"
    }
   },
   "source": [
    "## Sample size and significance\n",
    "\n",
    "How does the sample size affect the size of the effect that we need to see in order to obtain a significant result?"
   ]
  },
  {
   "cell_type": "code",
   "execution_count": 259,
   "metadata": {
    "collapsed": false,
    "slideshow": {
     "slide_type": "-"
    }
   },
   "outputs": [
    {
     "data": {
      "text/html": [
       "<div style=\"max-height:1000px;max-width:1500px;overflow:auto;\">\n",
       "<table border=\"1\" class=\"dataframe\">\n",
       "  <thead>\n",
       "    <tr style=\"text-align: right;\">\n",
       "      <th></th>\n",
       "      <th>mean_diff</th>\n",
       "      <th>sample_size</th>\n",
       "    </tr>\n",
       "  </thead>\n",
       "  <tbody>\n",
       "    <tr>\n",
       "      <th>0</th>\n",
       "      <td>-6.425127</td>\n",
       "      <td>10</td>\n",
       "    </tr>\n",
       "    <tr>\n",
       "      <th>1</th>\n",
       "      <td>7.652169</td>\n",
       "      <td>10</td>\n",
       "    </tr>\n",
       "    <tr>\n",
       "      <th>2</th>\n",
       "      <td>5.027618</td>\n",
       "      <td>10</td>\n",
       "    </tr>\n",
       "    <tr>\n",
       "      <th>3</th>\n",
       "      <td>-3.998249</td>\n",
       "      <td>10</td>\n",
       "    </tr>\n",
       "    <tr>\n",
       "      <th>4</th>\n",
       "      <td>-1.366542</td>\n",
       "      <td>10</td>\n",
       "    </tr>\n",
       "  </tbody>\n",
       "</table>\n",
       "</div>"
      ],
      "text/plain": [
       "   mean_diff  sample_size\n",
       "0  -6.425127           10\n",
       "1   7.652169           10\n",
       "2   5.027618           10\n",
       "3  -3.998249           10\n",
       "4  -1.366542           10"
      ]
     },
     "execution_count": 259,
     "metadata": {},
     "output_type": "execute_result"
    }
   ],
   "source": [
    "obsese_weights_after_treat = obsese_weights.copy()\n",
    "obsese_weights_after_treat -= norm(0, 3).rvs(len(obsese_weights_after_treat))\n",
    "\n",
    "\n",
    "rows = []\n",
    "for sample_size in (10, 20, 40, 60, 80, 100, 150, 200, 300, 400, 500, 750, 1000, 2000, 5000, 10000, 20000):\n",
    "    differences = []\n",
    "    for i in range(500):\n",
    "        sample1_mean = obsese_weights_after_treat.sample(sample_size // 2).mean()\n",
    "        sample2_mean = obsese_weights_after_treat.sample(sample_size // 2).mean()\n",
    "        rows.append({'sample_size': sample_size, \n",
    "                     'mean_diff': sample1_mean - sample2_mean})\n",
    "        \n",
    "differences_df = pd.DataFrame(rows)\n",
    "differences_df.head()"
   ]
  },
  {
   "cell_type": "code",
   "execution_count": 260,
   "metadata": {
    "collapsed": false,
    "slideshow": {
     "slide_type": "subslide"
    }
   },
   "outputs": [
    {
     "data": {
      "text/html": [
       "<div style=\"max-height:1000px;max-width:1500px;overflow:auto;\">\n",
       "<table border=\"1\" class=\"dataframe\">\n",
       "  <thead>\n",
       "    <tr style=\"text-align: right;\">\n",
       "      <th></th>\n",
       "      <th>mean_diff</th>\n",
       "    </tr>\n",
       "    <tr>\n",
       "      <th>sample_size</th>\n",
       "      <th></th>\n",
       "    </tr>\n",
       "  </thead>\n",
       "  <tbody>\n",
       "    <tr>\n",
       "      <th>10</th>\n",
       "      <td>14.459973</td>\n",
       "    </tr>\n",
       "    <tr>\n",
       "      <th>20</th>\n",
       "      <td>9.753043</td>\n",
       "    </tr>\n",
       "    <tr>\n",
       "      <th>40</th>\n",
       "      <td>6.568048</td>\n",
       "    </tr>\n",
       "    <tr>\n",
       "      <th>60</th>\n",
       "      <td>5.807816</td>\n",
       "    </tr>\n",
       "    <tr>\n",
       "      <th>80</th>\n",
       "      <td>4.622486</td>\n",
       "    </tr>\n",
       "    <tr>\n",
       "      <th>100</th>\n",
       "      <td>4.420284</td>\n",
       "    </tr>\n",
       "    <tr>\n",
       "      <th>150</th>\n",
       "      <td>3.479545</td>\n",
       "    </tr>\n",
       "    <tr>\n",
       "      <th>200</th>\n",
       "      <td>2.841687</td>\n",
       "    </tr>\n",
       "    <tr>\n",
       "      <th>300</th>\n",
       "      <td>2.291620</td>\n",
       "    </tr>\n",
       "    <tr>\n",
       "      <th>400</th>\n",
       "      <td>2.105325</td>\n",
       "    </tr>\n",
       "    <tr>\n",
       "      <th>500</th>\n",
       "      <td>2.030048</td>\n",
       "    </tr>\n",
       "    <tr>\n",
       "      <th>750</th>\n",
       "      <td>1.671999</td>\n",
       "    </tr>\n",
       "    <tr>\n",
       "      <th>1000</th>\n",
       "      <td>1.349927</td>\n",
       "    </tr>\n",
       "    <tr>\n",
       "      <th>2000</th>\n",
       "      <td>1.027659</td>\n",
       "    </tr>\n",
       "    <tr>\n",
       "      <th>5000</th>\n",
       "      <td>0.629993</td>\n",
       "    </tr>\n",
       "    <tr>\n",
       "      <th>10000</th>\n",
       "      <td>0.374771</td>\n",
       "    </tr>\n",
       "    <tr>\n",
       "      <th>20000</th>\n",
       "      <td>0.281882</td>\n",
       "    </tr>\n",
       "  </tbody>\n",
       "</table>\n",
       "</div>"
      ],
      "text/plain": [
       "             mean_diff\n",
       "sample_size           \n",
       "10           14.459973\n",
       "20            9.753043\n",
       "40            6.568048\n",
       "60            5.807816\n",
       "80            4.622486\n",
       "100           4.420284\n",
       "150           3.479545\n",
       "200           2.841687\n",
       "300           2.291620\n",
       "400           2.105325\n",
       "500           2.030048\n",
       "750           1.671999\n",
       "1000          1.349927\n",
       "2000          1.027659\n",
       "5000          0.629993\n",
       "10000         0.374771\n",
       "20000         0.281882"
      ]
     },
     "execution_count": 260,
     "metadata": {},
     "output_type": "execute_result"
    }
   ],
   "source": [
    "differences_df.groupby('sample_size').quantile(.95)"
   ]
  },
  {
   "cell_type": "code",
   "execution_count": 261,
   "metadata": {
    "collapsed": false,
    "slideshow": {
     "slide_type": "subslide"
    }
   },
   "outputs": [
    {
     "data": {
      "text/plain": [
       "sample_size\n",
       "10       6.412319\n",
       "20       4.774896\n",
       "40       3.196073\n",
       "60       2.721311\n",
       "80       2.438814\n",
       "100      2.033562\n",
       "150      1.727511\n",
       "200      1.396598\n",
       "300      1.150707\n",
       "400      1.040933\n",
       "500      0.989221\n",
       "750      0.767908\n",
       "1000     0.671955\n",
       "2000     0.486326\n",
       "5000     0.288440\n",
       "10000    0.206071\n",
       "20000    0.136674\n",
       "Name: mean_diff, dtype: float64"
      ]
     },
     "execution_count": 261,
     "metadata": {},
     "output_type": "execute_result"
    }
   ],
   "source": [
    "mean_diff_abs = differences_df['mean_diff'].abs()\n",
    "mean_diff_abs.groupby(differences_df.sample_size).mean()"
   ]
  },
  {
   "cell_type": "code",
   "execution_count": 262,
   "metadata": {
    "collapsed": false,
    "slideshow": {
     "slide_type": "subslide"
    }
   },
   "outputs": [
    {
     "data": {
      "text/plain": [
       "<matplotlib.axes._subplots.AxesSubplot at 0x10dfd6fd0>"
      ]
     },
     "execution_count": 262,
     "metadata": {},
     "output_type": "execute_result"
    },
    {
     "data": {
      "image/png": "[encoded data removed]",
      "text/plain": [
       "<matplotlib.figure.Figure at 0x10dfce7b8>"
      ]
     },
     "metadata": {},
     "output_type": "display_data"
    }
   ],
   "source": [
    "differences_df.groupby('sample_size').quantile(.95).plot(logx=True)"
   ]
  },
  {
   "cell_type": "code",
   "execution_count": null,
   "metadata": {
    "collapsed": true
   },
   "outputs": [],
   "source": []
  }
 ],
 "metadata": {
  "celltoolbar": "Slideshow",
  "kernelspec": {
   "display_name": "Python 3",
   "language": "python",
   "name": "python3"
  },
  "language_info": {
   "codemirror_mode": {
    "name": "ipython",
    "version": 3
   },
   "file_extension": ".py",
   "mimetype": "text/x-python",
   "name": "python",
   "nbconvert_exporter": "python",
   "pygments_lexer": "ipython3",
   "version": "3.4.3"
  }
 },
 "nbformat": 4,
 "nbformat_minor": 0
}
