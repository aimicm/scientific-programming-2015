{
 "cells": [
  {
   "cell_type": "markdown",
   "metadata": {
    "slideshow": {
     "slide_type": "slide"
    }
   },
   "source": [
    "## Linear and affine transformations of images"
   ]
  },
  {
   "cell_type": "code",
   "execution_count": 7,
   "metadata": {
    "collapsed": false,
    "slideshow": {
     "slide_type": "skip"
    }
   },
   "outputs": [],
   "source": [
    "%matplotlib inline\n",
    "# import seaborn as sbs\n",
    "from skimage import data, io, draw\n",
    "import skimage.filters\n",
    "from skimage.io import imshow\n",
    "import numpy as np\n",
    "import pandas as pd\n",
    "import matplotlib.pyplot as plt"
   ]
  },
  {
   "cell_type": "markdown",
   "metadata": {
    "slideshow": {
     "slide_type": "subslide"
    }
   },
   "source": [
    "In this notebook you will learn about a class of image transformations that can be modelled as matrix-to-vector multiplication. The matrix represents the transformation (and, accordingly, is called a transformation matrix) while the vector is a coordinate: a point in space. You will use ordinary 2-dimensional coordinates and a particular type of 3-dimensional coordinates known as *homogenous coordinates*."
   ]
  },
  {
   "cell_type": "markdown",
   "metadata": {
    "slideshow": {
     "slide_type": "subslide"
    }
   },
   "source": [
    "Although homogenous coordinates are fascinating from a mathematical point of view, we approach them in a practical manner and show that they are first and foremost a convenient way of allowing matrix-to-vector operations to express an extended set of transformations known as *affine transformations*."
   ]
  },
  {
   "cell_type": "markdown",
   "metadata": {
    "slideshow": {
     "slide_type": "subslide"
    }
   },
   "source": [
    "Because pixels are discrete and live at integer coordinates (what color is the pixel at $(1.5, \\pi)$?), the idea of transformations will be introduced in the context of continous coordinates (ordinary plotting). Transforming pixels is then the topic of the last section of this exercise. "
   ]
  },
  {
   "cell_type": "markdown",
   "metadata": {
    "slideshow": {
     "slide_type": "slide"
    }
   },
   "source": [
    "### Transformations with continuous coordinates"
   ]
  },
  {
   "cell_type": "markdown",
   "metadata": {
    "slideshow": {
     "slide_type": "subslide"
    }
   },
   "source": [
    "Let's forget about jagged, dirty pixels for a moment and think about nice and pure and clean *shapes*. We will start with something as unearthly as *the unit square*, a box of even sides with the bottom left corner touching the origin, aligned along the $x$-axis and $y$-axis. \n",
    "\n",
    "Do you see it? Otherwise execute the cell below."
   ]
  },
  {
   "cell_type": "code",
   "execution_count": 8,
   "metadata": {
    "collapsed": false,
    "slideshow": {
     "slide_type": "subslide"
    }
   },
   "outputs": [],
   "source": [
    "def draw_rectangle(list_of_corners, x_max=3, y_max=3, ax=None):\n",
    "    \"\"\"Draw a rectangle defined by four corners a, b, c, and d\n",
    "    \n",
    "     a --------- b\n",
    "     |           |\n",
    "     |           |\n",
    "     |           |\n",
    "     d --------- c\n",
    "    \"\"\"\n",
    "    a, b, c, d = list_of_corners\n",
    "    \n",
    "    if not ax:\n",
    "        fig, ax = plt.subplots()\n",
    "        fig.set_size_inches(5, 5)\n",
    "\n",
    "    # Connect corners by straight, blue lines\n",
    "    lines = [(a, b), (b, c), (c, d), (d, a)]\n",
    "    for p1, p2 in lines:\n",
    "        ax.plot([p1[0], p2[0]], [p1[1], p2[1]], c='b')\n",
    "        \n",
    "    # Plot the last point as a green point and the rest as red\n",
    "    ax.scatter(*list_of_corners[-1:].T, color='g', s=50)\n",
    "    ax.scatter(*list_of_corners[:-1].T, color='r', s=50)\n",
    "\n",
    "    ax.axis('equal')\n",
    "    ax.set_xlim(-x_max, x_max)\n",
    "    ax.set_ylim(-y_max, y_max)"
   ]
  },
  {
   "cell_type": "code",
   "execution_count": 9,
   "metadata": {
    "collapsed": false,
    "slideshow": {
     "slide_type": "subslide"
    }
   },
   "outputs": [
    {
     "data": {
      "image/png": "[encoded data removed]",
      "text/plain": [
       "<matplotlib.figure.Figure at 0x10aa272b0>"
      ]
     },
     "metadata": {},
     "output_type": "display_data"
    }
   ],
   "source": [
    "square_at_origin = np.array([(0, 1), (1, 1), (1, 0), (0, 0)])\n",
    "square_at_1_1 = np.array([(1, 2), (2, 2), (2, 1), (1, 1)])\n",
    "draw_rectangle(square_at_origin)"
   ]
  },
  {
   "cell_type": "markdown",
   "metadata": {
    "slideshow": {
     "slide_type": "subslide"
    }
   },
   "source": [
    "The square is defined by the coordinates of its corners, and we can move it around or turn it into other shapes by transforming these coordinates.\n",
    "\n",
    "Some tranformations are as simple as multiplying or adding scalars (single numbers) to the coordinates. (Recall that when you add a scalar to a `numpy` array, it is added to each element of the array. The same goes for scalar-to-array multiplication: each element in the array is multiplied by the scalar)."
   ]
  },
  {
   "cell_type": "code",
   "execution_count": 10,
   "metadata": {
    "collapsed": false,
    "slideshow": {
     "slide_type": "subslide"
    }
   },
   "outputs": [
    {
     "data": {
      "image/png": "[encoded data removed]",
      "text/plain": [
       "<matplotlib.figure.Figure at 0x10a9326d8>"
      ]
     },
     "metadata": {},
     "output_type": "display_data"
    }
   ],
   "source": [
    "fig, axes = plt.subplots(ncols=4)\n",
    "fig.set_size_inches(12, 3)\n",
    "\n",
    "axes[0].set_title(\"Original\")\n",
    "draw_rectangle(square_at_origin, ax=axes[0])\n",
    "\n",
    "axes[1].set_title(\"Scale (larger)\")\n",
    "draw_rectangle(square_at_origin * 2, ax=axes[1])\n",
    "\n",
    "axes[2].set_title(\"Scale (smaller)\")\n",
    "draw_rectangle(square_at_origin * 0.7, ax=axes[2])\n",
    "\n",
    "axes[3].set_title(\"Move\")\n",
    "draw_rectangle(square_at_origin + 1, ax=axes[3])"
   ]
  },
  {
   "cell_type": "markdown",
   "metadata": {
    "slideshow": {
     "slide_type": "subslide"
    }
   },
   "source": [
    "However, the operations above are only a small subset of the operations that you can perform with a $2 \\times 2$ transformation matrix. As shown in the equation below, the matrix \"acts on\" a set of input coordinates to produce output coordinates. This procedure is also known as a *linear map* or *linear transformation*.\n",
    "\n",
    "$$\\begin{bmatrix}\n",
    "x'\\\\\n",
    "y' \n",
    "\\end{bmatrix} = \n",
    "\\begin{bmatrix} \n",
    "a & b \\\\\n",
    "c & d \n",
    "\\end{bmatrix}\n",
    "\\begin{bmatrix} \n",
    "x\\\\\n",
    "y\n",
    "\\end{bmatrix}$$\n",
    "\n",
    "To see what happens we make the matrix multiplication explicit:\n",
    "\n",
    "$$\\begin{bmatrix}\n",
    "ax + by \\\\\n",
    "cx + dy \n",
    "\\end{bmatrix} = \n",
    "\\begin{bmatrix} \n",
    "a & b \\\\\n",
    "c & d \n",
    "\\end{bmatrix}\n",
    "\\begin{bmatrix} \n",
    "x\\\\\n",
    "y\n",
    "\\end{bmatrix}$$\n",
    "\n",
    "Note $x' = ax + by$ and $y' = cx + dy$ are both linear combination of $x$ and $y$."
   ]
  },
  {
   "cell_type": "markdown",
   "metadata": {
    "slideshow": {
     "slide_type": "subslide"
    }
   },
   "source": [
    "#### General notation\n",
    "\n",
    "The equations above may be written more compactly as matrix-to-vector operations. \n",
    "\n",
    "First let us define the transformation matrix\n",
    "$$\n",
    "\\mathbf{A} = \\begin{bmatrix} \n",
    "a & b\\\\\n",
    "c & d\n",
    "\\end{bmatrix}\n",
    "$$\n",
    ",\n",
    "input vector $\\mathbf{x} = \\begin{bmatrix} x\\\\y\\end{bmatrix}$, and output vector $\\mathbf{y} = \\begin{bmatrix} x'\\\\y'\\end{bmatrix}$. \n",
    "\n",
    "Then the transformation becomes\n",
    "\n",
    "$$\\mathbf{y} = \\mathbf{Ax}$$"
   ]
  },
  {
   "cell_type": "markdown",
   "metadata": {
    "slideshow": {
     "slide_type": "subslide"
    }
   },
   "source": [
    "#### Transformations in `numpy`\n",
    "\n",
    "The simplest, and possibly least exciting, transformation you can make is the identify transformation, which takes a point to itself. In the cell below we define the identity matrix `A_ident` and perform a linear map of a single coordinate. \n",
    "\n",
    "Please take note of the fact that  matrix multiplication is `.dot` in `numpy`."
   ]
  },
  {
   "cell_type": "code",
   "execution_count": 11,
   "metadata": {
    "collapsed": false,
    "slideshow": {
     "slide_type": "subslide"
    }
   },
   "outputs": [
    {
     "name": "stdout",
     "output_type": "stream",
     "text": [
      "Before transformation [0 1]\n",
      "After tranformation   [0 1]\n"
     ]
    }
   ],
   "source": [
    "A_ident = np.array([[1, 0], [0, 1]])\n",
    "print(\"Before transformation\", square_at_origin[0])\n",
    "print(\"After tranformation  \", A_ident.dot(square_at_origin[0]))"
   ]
  },
  {
   "cell_type": "markdown",
   "metadata": {
    "slideshow": {
     "slide_type": "subslide"
    }
   },
   "source": [
    "Now it is your task to come up with transformation matrices to express the operations below. After you specify the matrix, you should plot the tranformed shape using `draw_rectangle`."
   ]
  },
  {
   "cell_type": "markdown",
   "metadata": {
    "slideshow": {
     "slide_type": "subslide"
    }
   },
   "source": [
    "**Exercise** Double the width of the square but keep the height constant. "
   ]
  },
  {
   "cell_type": "code",
   "execution_count": 12,
   "metadata": {
    "collapsed": false,
    "slideshow": {
     "slide_type": "skip"
    }
   },
   "outputs": [],
   "source": [
    "# Your code here"
   ]
  },
  {
   "cell_type": "markdown",
   "metadata": {
    "slideshow": {
     "slide_type": "fragment"
    }
   },
   "source": [
    "**Exercise** Reflect the square around the $x$-axis."
   ]
  },
  {
   "cell_type": "code",
   "execution_count": 13,
   "metadata": {
    "collapsed": false,
    "slideshow": {
     "slide_type": "skip"
    }
   },
   "outputs": [],
   "source": [
    "# Your code here"
   ]
  },
  {
   "cell_type": "markdown",
   "metadata": {
    "slideshow": {
     "slide_type": "fragment"
    }
   },
   "source": [
    "**Exercise** Scale the upper and lower *x* coordinates *unevenly*. This results in a characteristic trapezoid shape and is called shearing."
   ]
  },
  {
   "cell_type": "code",
   "execution_count": 14,
   "metadata": {
    "collapsed": false,
    "slideshow": {
     "slide_type": "skip"
    }
   },
   "outputs": [],
   "source": [
    "# Your code here"
   ]
  },
  {
   "cell_type": "markdown",
   "metadata": {
    "slideshow": {
     "slide_type": "subslide"
    }
   },
   "source": [
    "#### Rotation"
   ]
  },
  {
   "cell_type": "markdown",
   "metadata": {
    "slideshow": {
     "slide_type": "-"
    }
   },
   "source": [
    "The Wikipedia page on [linear mappings](http://en.wikipedia.org/wiki/Linear_map) lists many interesting and useful transformation matrices. For instance, you can find this matrix for rotation around the origin by the angle $\\theta$:\n",
    "\n",
    "$$\\mathbf{A}=\\begin{bmatrix}\\cos\\theta & -\\sin\\theta \\\\ \\sin\\theta & \\cos\\theta \\end{bmatrix}$$\n",
    "\n",
    "**Exercise** Write down the rotation matrix for a 45-degree rotation and test it on the square. See if you can explain what is going on.\n",
    "\n",
    "Note: The rotation $\\theta$ should be specified in radians. When you perform the conversion between degrees and radians the constant `np.pi` might come in handy. There are decidated sin and cos functions in the `numpy` module."
   ]
  },
  {
   "cell_type": "code",
   "execution_count": 15,
   "metadata": {
    "collapsed": false,
    "slideshow": {
     "slide_type": "skip"
    }
   },
   "outputs": [],
   "source": [
    "# Your code here"
   ]
  },
  {
   "cell_type": "markdown",
   "metadata": {
    "slideshow": {
     "slide_type": "slide"
    }
   },
   "source": [
    "## Affine transformations\n",
    "\n",
    "So far we have only considered transformation matrices of the form\n",
    "\n",
    "$$\n",
    "\\mathbf{A} = \\begin{bmatrix} \n",
    "a & b \\\\\n",
    "c & d \n",
    "\\end{bmatrix},\n",
    "$$\n",
    "\n",
    "We may use these $2 \\times 2$ matrices to scale, reflect, rotate, and shear. Yet the operations are limited in the sense that they happen with respect to the origin . For instance, you can rotate a figure around the origin, but you cannot rotate it around any given point. In general, $2 \\times 2$ transformation matrices cannot move (translate) figures to arbitrary points. "
   ]
  },
  {
   "cell_type": "markdown",
   "metadata": {
    "slideshow": {
     "slide_type": "subslide"
    }
   },
   "source": [
    "The class of *affine* transformations allow us to do just that. An affine transformation may be expressed as\n",
    "\n",
    "$$\\mathbf{y} = \\mathbf{Ax} + \\mathbf{b},$$\n",
    "\n",
    "where $\\mathbf{b} = \\begin{bmatrix} t_x \\\\t_y \\end{bmatrix}$ is a vector that moves the result of the linear transformation $\\mathbf{Ax}$ by $t_x$ in direction of the $x$-axis and $t_y$ on the $y$-axis. Writing it out, \n",
    "\n",
    "$$\\begin{bmatrix}\n",
    "ax + by + t_x\\\\\n",
    "cx + dy + t_y\n",
    "\\end{bmatrix} = \n",
    "\\begin{bmatrix} \n",
    "a & b \\\\\n",
    "c & d \n",
    "\\end{bmatrix}\n",
    "\\begin{bmatrix} x\\\\y \\end{bmatrix}\n",
    "+\n",
    "\\begin{bmatrix} t_x\\\\t_y \\end{bmatrix}\n",
    "$$"
   ]
  },
  {
   "cell_type": "markdown",
   "metadata": {
    "slideshow": {
     "slide_type": "subslide"
    }
   },
   "source": [
    "### Homogeneous coordinates  \n",
    "\n",
    "Affine transformations are often expressed in a form that does not explicitly use a translation vector $\\mathbf{b}$. This is also the case in scikit-images, which is good reason for you to know about it, even if it requires that you look at a few more equations. \n",
    "\n",
    "To do away with the translation vector, we need a larger $3 \\times 3$ translation matrix as well as a 3-dimensional representation of our 2-dimensional point. \n",
    "\n",
    "$$\\mathbf{x} = \\begin{bmatrix} x\\\\y\\\\1 \\end{bmatrix}$$"
   ]
  },
  {
   "cell_type": "markdown",
   "metadata": {
    "slideshow": {
     "slide_type": "subslide"
    }
   },
   "source": [
    "The 3-dimensional representation is called *homogeneous coordinates*. In the context of affine transformations the last dimension will always have a fixed value of 1. The $3 \\times 3$ translation matrices are of the form below. The last row of the matrix is also fixed.\n",
    "\n",
    "$$\\mathbf{A} = \\begin{bmatrix} \n",
    "a & b & t_x\\\\\n",
    "c & d & t_y\\\\\n",
    "0 & 0 & 1\\\\\n",
    "\\end{bmatrix}$$"
   ]
  },
  {
   "cell_type": "markdown",
   "metadata": {
    "slideshow": {
     "slide_type": "subslide"
    }
   },
   "source": [
    "Putting these two things together:\n",
    "\n",
    "$$\\begin{bmatrix}\n",
    "ax + by + t_x\\\\\n",
    "cx + dy + t_y\\\\\n",
    "1\n",
    "\\end{bmatrix} = \n",
    "\\begin{bmatrix} \n",
    "a & b & t_x\\\\\n",
    "c & d & t_y\\\\\n",
    "0 & 0 & 1\\\\\n",
    "\\end{bmatrix}\n",
    "\\begin{bmatrix} x\\\\y\\\\1 \\end{bmatrix}\n",
    "$$\n",
    "\n",
    "Observe that the $3 \\times 3$ affine transformation matrix gives exactly the same result (in the first two dimensions) as the $2 \\times 2$ linear transformation matrix followed by translation. "
   ]
  },
  {
   "cell_type": "markdown",
   "metadata": {
    "slideshow": {
     "slide_type": "subslide"
    }
   },
   "source": [
    "#### Affine exercise\n",
    "\n",
    "**Exercise** With a single transformation matrix, double the width of the unit square and move it two units to the left. "
   ]
  },
  {
   "cell_type": "code",
   "execution_count": 16,
   "metadata": {
    "collapsed": false,
    "slideshow": {
     "slide_type": "skip"
    }
   },
   "outputs": [],
   "source": [
    "# Your code here"
   ]
  },
  {
   "cell_type": "markdown",
   "metadata": {
    "slideshow": {
     "slide_type": "slide"
    }
   },
   "source": [
    "### Transformations in images"
   ]
  },
  {
   "cell_type": "markdown",
   "metadata": {
    "slideshow": {
     "slide_type": "subslide"
    }
   },
   "source": [
    "Above you learned how to apply transformation matrices to coordinates and used that to manipulate a unit square. Most of the operations you explored are commonly used with images. For instance, enlarging or shrinking an image by scaling, and rotating an image to arrange it on a page."
   ]
  },
  {
   "cell_type": "markdown",
   "metadata": {
    "slideshow": {
     "slide_type": "subslide"
    }
   },
   "source": [
    "However, things become more complicated when we move from world of continous coordinates to the discrete units of pixels. As a motivating example, consider the following translation matrix, which scales by a factor of 1.5:\n",
    "\n",
    "$$\n",
    "\\mathbf{A} = \\begin{bmatrix} \n",
    "1.5 & 0 \\\\\n",
    "0 & 1.5 \n",
    "\\end{bmatrix}\n",
    "$$\n",
    "\n",
    "We now want to apply this transformation to a pixel image defined by a `numpy` array. \n",
    "\n",
    "However, the tranformation $\\mathbf{A}\\begin{bmatrix} 1\\\\ 1 \\end{bmatrix}$ results in coordinates $\\begin{bmatrix} 1.5\\\\ 1.5 \\end{bmatrix}$, which \"falls between\" pixels. Thus it is not apparent where in a destination image to transfer the contents of pixel $(1, 1)$ in the source image"
   ]
  },
  {
   "cell_type": "markdown",
   "metadata": {
    "slideshow": {
     "slide_type": "subslide"
    }
   },
   "source": [
    "#### Looking at the transformation from the other side\n",
    "\n",
    "In practice it may be more convenient to look at process from the perspective of the destination image $d$ rather than the source image $s$. So instead of asking \"where should the contents of pixel $(s_i, s_j)$ go\", we ask \"I'm filling pixel $(d_i, d_j)$. From which pixel $(s_i, s_j)$ in the source image should I retrieve it?\".\n",
    "\n",
    "We begin by defining a source image `src_image`."
   ]
  },
  {
   "cell_type": "code",
   "execution_count": 17,
   "metadata": {
    "collapsed": false,
    "slideshow": {
     "slide_type": "subslide"
    }
   },
   "outputs": [
    {
     "data": {
      "text/plain": [
       "<matplotlib.image.AxesImage at 0x10aa11160>"
      ]
     },
     "execution_count": 17,
     "metadata": {},
     "output_type": "execute_result"
    },
    {
     "data": {
      "image/png": "[encoded data removed]",
      "text/plain": [
       "<matplotlib.figure.Figure at 0x10aa61e80>"
      ]
     },
     "metadata": {},
     "output_type": "display_data"
    }
   ],
   "source": [
    "src_image = np.zeros((25, 25))\n",
    "\n",
    "for i in range(4, 12):\n",
    "    for j in range(4, 12):\n",
    "        src_image[i, j] = 1\n",
    "\n",
    "imshow(src_image)"
   ]
  },
  {
   "cell_type": "markdown",
   "metadata": {
    "slideshow": {
     "slide_type": "subslide"
    }
   },
   "source": [
    "We are performing a 45 degree rotation as specified by the `A_rot_45` matrix. Look at the code in the following cell, then come back and answer these questions.\n",
    "\n",
    "**Exercise** The destination image has the same shape as the source image. Is this necessarily so? Why/why not\n",
    "\n",
    "Type your answer here.\n",
    "\n",
    "**Exercise** Check the documentation for `np.linalg.inv` and try to think of an example where it might fail.\n",
    "\n",
    "Type your answer here."
   ]
  },
  {
   "cell_type": "code",
   "execution_count": 18,
   "metadata": {
    "collapsed": false,
    "slideshow": {
     "slide_type": "subslide"
    }
   },
   "outputs": [
    {
     "data": {
      "text/plain": [
       "<matplotlib.image.AxesImage at 0x10a6a9518>"
      ]
     },
     "execution_count": 18,
     "metadata": {},
     "output_type": "execute_result"
    },
    {
     "data": {
      "image/png": "[encoded data removed]",
      "text/plain": [
       "<matplotlib.figure.Figure at 0x10aa46390>"
      ]
     },
     "metadata": {},
     "output_type": "display_data"
    }
   ],
   "source": [
    "A_rot_45 = np.array([[np.cos(45), -np.sin(45), 10], \n",
    "                     [np.sin(45), np.cos(45), 2],\n",
    "                     [0, 0, 1]]\n",
    "                    )\n",
    "\n",
    "A_inv_rot_45 = np.linalg.inv(A_rot_45) # Explained below\n",
    "dst_image = np.zeros((25, 25))\n",
    "\n",
    "for i in range(dst_image.shape[0]):\n",
    "    for j in range(dst_image.shape[1]):\n",
    "        src_pixel = A_inv_rot_45.dot([i, j, 1])\n",
    "\n",
    "        # Round to nearest pixel\n",
    "        src_pixel = np.round(src_pixel)\n",
    "        src_i, src_j, _ = src_pixel\n",
    "        \n",
    "        if src_i < 0 or src_i >= src_image.shape[0]:\n",
    "            continue\n",
    "        if src_j < 0 or src_j >= src_image.shape[1]:\n",
    "            continue\n",
    "        \n",
    "        dst_image[i, j] = src_image[src_i, src_j]\n",
    "        \n",
    "\n",
    "imshow(dst_image)"
   ]
  },
  {
   "cell_type": "markdown",
   "metadata": {
    "slideshow": {
     "slide_type": "subslide"
    }
   },
   "source": [
    "#### Inverse transformations"
   ]
  },
  {
   "cell_type": "markdown",
   "metadata": {},
   "source": [
    "One nice property of transformation matrices, which we have already used above, is that they in many cases can be inverted. Inverting a transformation matrix means to come up with another matrix that \"undoes\" the operation of the original matrix.\n",
    "\n",
    "Doing:\n",
    "\n",
    "$$\\mathbf{y} = \\mathbf{Ax}$$\n",
    "\n",
    "Undoing:\n",
    "\n",
    "$$\\mathbf{x} = \\mathbf{A}^{-1}\\mathbf{y}$$"
   ]
  },
  {
   "cell_type": "markdown",
   "metadata": {
    "slideshow": {
     "slide_type": "slide"
    }
   },
   "source": [
    "### An easier way using scikit-image"
   ]
  },
  {
   "cell_type": "markdown",
   "metadata": {
    "slideshow": {
     "slide_type": "skip"
    }
   },
   "source": [
    "Scikit-image have a higher-level interface to the image transformations. Transformations are encapsulated in objects, of which `AffineTransform` is only one example, and then feed to the generic `warp` function that actually moves the pixels. "
   ]
  },
  {
   "cell_type": "code",
   "execution_count": 19,
   "metadata": {
    "collapsed": false,
    "slideshow": {
     "slide_type": "skip"
    }
   },
   "outputs": [
    {
     "data": {
      "text/plain": [
       "<matplotlib.image.AxesImage at 0x10a931ba8>"
      ]
     },
     "execution_count": 19,
     "metadata": {},
     "output_type": "execute_result"
    },
    {
     "data": {
      "image/png": "[encoded data removed]",
      "text/plain": [
       "<matplotlib.figure.Figure at 0x10a61ada0>"
      ]
     },
     "metadata": {},
     "output_type": "display_data"
    }
   ],
   "source": [
    "from skimage import transform\n",
    "\n",
    "trans_rot_45 = transform.AffineTransform(rotation=0.25*np.pi, translation=(10, 2))\n",
    "rot_image = transform.warp(src_image, trans_rot_45.inverse)\n",
    "imshow(rot_image)"
   ]
  },
  {
   "cell_type": "markdown",
   "metadata": {
    "slideshow": {
     "slide_type": "skip"
    }
   },
   "source": [
    "`AffineTransform` also accepts $3 \\times 3$ transformation matrices, which allows us to sanity check our own version of `warp`. "
   ]
  },
  {
   "cell_type": "code",
   "execution_count": 20,
   "metadata": {
    "collapsed": false,
    "slideshow": {
     "slide_type": "skip"
    }
   },
   "outputs": [
    {
     "data": {
      "text/plain": [
       "<matplotlib.image.AxesImage at 0x10a7bcbe0>"
      ]
     },
     "execution_count": 20,
     "metadata": {},
     "output_type": "execute_result"
    },
    {
     "data": {
      "image/png": "[encoded data removed]",
      "text/plain": [
       "<matplotlib.figure.Figure at 0x10a61ab38>"
      ]
     },
     "metadata": {},
     "output_type": "display_data"
    }
   ],
   "source": [
    "trans_rot_45 = transform.AffineTransform(matrix=A_rot_45)\n",
    "rot_image = transform.warp(src_image, trans_rot_45.inverse)\n",
    "imshow(rot_image)"
   ]
  },
  {
   "cell_type": "markdown",
   "metadata": {
    "slideshow": {
     "slide_type": "skip"
    }
   },
   "source": [
    "**Exercise** Instantiate an  `AffineTransform` that scales uniformly by a factor of 1.5 and figure out a way to use it for scaling these three coordinate pairs: \n",
    "\n",
    "$$(1, 1), (2, 2), (10, 10)$$"
   ]
  },
  {
   "cell_type": "code",
   "execution_count": 21,
   "metadata": {
    "collapsed": false,
    "slideshow": {
     "slide_type": "skip"
    }
   },
   "outputs": [],
   "source": [
    "# Your code here"
   ]
  },
  {
   "cell_type": "markdown",
   "metadata": {
    "slideshow": {
     "slide_type": "skip"
    }
   },
   "source": [
    "**Exercise (optional)** Did you notice the difference between the image of the rotated square as outputted by `warp` and the image created by our pixel mover? Our version produces a purely black-and-white image, whereas the `warp` image has shaded pixels and a less rough apparence of the lines at the edge of the figure. Since there are no gray pixels in the source image, they must come from somewhere else. \n",
    "\n",
    "It turns out that you get a smoother image if instead of simply grabbing the nearest pixel (in some sense of nearest), you take a weighted average of the four nearest pixels. The weight for a given source pixel should be a function of the distance between that pixel and the fractional source coordinate. A shorter distance should result in a higher weight.\n",
    "\n",
    "Below we provide the skeleton of an implementation. Your task is to fill in the holes."
   ]
  },
  {
   "cell_type": "code",
   "execution_count": 22,
   "metadata": {
    "collapsed": false,
    "slideshow": {
     "slide_type": "skip"
    }
   },
   "outputs": [
    {
     "data": {
      "text/plain": [
       "<matplotlib.image.AxesImage at 0x10a762c18>"
      ]
     },
     "execution_count": 22,
     "metadata": {},
     "output_type": "execute_result"
    },
    {
     "data": {
      "image/png": "[encoded data removed]",
      "text/plain": [
       "<matplotlib.figure.Figure at 0x10ab1f940>"
      ]
     },
     "metadata": {},
     "output_type": "display_data"
    }
   ],
   "source": [
    "from math import floor, ceil\n",
    "\n",
    "A_inv_rot_45 = np.linalg.inv(A_rot_45)\n",
    "\n",
    "dst_image = np.zeros((25, 25))\n",
    "\n",
    "for i in range(dst_image.shape[0]):\n",
    "    for j in range(dst_image.shape[1]):\n",
    "        src_pixel = A_inv_rot_45.dot([i, j, 1])\n",
    "\n",
    "        src_x, src_y, _ = src_pixel\n",
    "        \n",
    "        # Contribution from four different points\n",
    "        p0 = (floor(src_x), floor(src_y))\n",
    "        p1 = (floor(src_x), ceil(src_y))\n",
    "        p2 = (ceil(src_x), floor(src_y))\n",
    "        p3 = (ceil(src_x), ceil(src_y))\n",
    "        \n",
    "        # Your code here\n",
    "        # Complete the implementation \n",
    "        # The `pixel_value` should be a weighted sum of the \n",
    "        # values at each of the four points listed above.\n",
    "        #\n",
    "        # Weights should be assigned according to the distance between\n",
    "        # (src_x, src_y) and the points, with short distances resulting \n",
    "        # in higher weights.\n",
    "        \n",
    "        pixel_value = 0.0\n",
    "        dst_image[i, j] = pixel_value\n",
    "\n",
    "\n",
    "imshow(dst_image)\n",
    "#dst_image\n",
    "#    "
   ]
  },
  {
   "cell_type": "markdown",
   "metadata": {
    "slideshow": {
     "slide_type": "subslide"
    }
   },
   "source": [
    "### Chart of transformations\n",
    "\n",
    "For reference we include a chart of affine transformations. But do try to come up with your own solutions before you consult the chart.\n",
    "\n",
    "<img src=\"http://upload.wikimedia.org/wikipedia/commons/2/2c/2D_affine_transformation_matrix.svg\" width=\"500px\">"
   ]
  },
  {
   "cell_type": "code",
   "execution_count": null,
   "metadata": {
    "collapsed": false
   },
   "outputs": [],
   "source": []
  }
 ],
 "metadata": {
  "celltoolbar": "Slideshow",
  "kernelspec": {
   "display_name": "Python 3",
   "language": "python",
   "name": "python3"
  },
  "language_info": {
   "codemirror_mode": {
    "name": "ipython",
    "version": 3
   },
   "file_extension": ".py",
   "mimetype": "text/x-python",
   "name": "python",
   "nbconvert_exporter": "python",
   "pygments_lexer": "ipython3",
   "version": "3.4.3"
  }
 },
 "nbformat": 4,
 "nbformat_minor": 0
}
