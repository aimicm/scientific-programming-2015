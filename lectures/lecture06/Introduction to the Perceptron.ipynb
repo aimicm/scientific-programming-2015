{
 "cells": [
  {
   "cell_type": "markdown",
   "metadata": {
    "slideshow": {
     "slide_type": "slide"
    }
   },
   "source": [
    "# A Simple Perceptron\n",
    "\n",
    "We'll implement a simple but limited Perceptron using `for` loops. We will then show how to replace some operations with `numpy` commands, speeding up the calculations and making the code fully general."
   ]
  },
  {
   "cell_type": "code",
   "execution_count": 194,
   "metadata": {
    "collapsed": true,
    "slideshow": {
     "slide_type": "skip"
    }
   },
   "outputs": [],
   "source": [
    "%matplotlib inline\n",
    "# from IPython.external import mathjax; mathjax.install_mathjax()\n",
    "import numpy as np\n",
    "import random\n",
    "import pandas as pd\n",
    "import matplotlib.pylab as plt"
   ]
  },
  {
   "cell_type": "markdown",
   "metadata": {
    "slideshow": {
     "slide_type": "subslide"
    }
   },
   "source": [
    "## Dataset generation\n",
    "\n",
    "We consider two types of dataset: those that are *separable* by a line in feature space, and those that aren't."
   ]
  },
  {
   "cell_type": "markdown",
   "metadata": {
    "slideshow": {
     "slide_type": "fragment"
    }
   },
   "source": [
    "### Linearly separable"
   ]
  },
  {
   "cell_type": "code",
   "execution_count": 195,
   "metadata": {
    "collapsed": true
   },
   "outputs": [],
   "source": [
    "def linearly_seperable_data(num_instances, epsilon=0.1):\n",
    "    '''\n",
    "    generates a linearly separable data set\n",
    "    '''\n",
    "    # fill the first column (the labels) randomly with -1s and 1s\n",
    "    labels = 2 * np.random.randint(0, 2, num_instances) - 1\n",
    "    # pick x1 at random\n",
    "    x1 = np.random.random(num_instances)\n",
    "    # base x2 off of x1, add random noise and epsilon, and move up or down\n",
    "    x2 = x1 + ((epsilon + np.random.random(num_instances)) * labels)\n",
    "    return pd.DataFrame({'x1': x1, 'x2': x2, 'label': labels})"
   ]
  },
  {
   "cell_type": "code",
   "execution_count": 196,
   "metadata": {
    "collapsed": false,
    "slideshow": {
     "slide_type": "subslide"
    }
   },
   "outputs": [
    {
     "data": {
      "image/png": "[encoded data removed]",
      "text/plain": [
       "<matplotlib.figure.Figure at 0x10c1b2710>"
      ]
     },
     "metadata": {},
     "output_type": "display_data"
    }
   ],
   "source": [
    "D_lin_sep  = linearly_seperable_data(100)\n",
    "fig, ax = plt.subplots()\n",
    "D_lin_sep.query('label == 1').plot(kind='scatter', x='x1', y='x2', ax=ax, color='b')\n",
    "D_lin_sep.query('label == -1').plot(kind='scatter', x='x1', y='x2', ax=ax, color='r');"
   ]
  },
  {
   "cell_type": "markdown",
   "metadata": {
    "slideshow": {
     "slide_type": "subslide"
    }
   },
   "source": [
    "### Two Gaussians"
   ]
  },
  {
   "cell_type": "code",
   "execution_count": 197,
   "metadata": {
    "collapsed": true
   },
   "outputs": [],
   "source": [
    "def gaussian_data(num, epsilon=0.5):\n",
    "    '''\n",
    "    generates a data set from two overlapping Gaussian point clouds\n",
    "    '''\n",
    "    x1_p1 = np.random.normal(1.0 + epsilon, size=num/2)\n",
    "    x2_p1 = np.random.normal(1.0, size=num/2)\n",
    "\n",
    "    x1_p2 = np.random.normal(-(1.0 + epsilon), size=num/2)\n",
    "    x2_p2 = np.random.normal(-(1.0 + epsilon), size=num/2)\n",
    "\n",
    "    x1 = np.concatenate([x1_p1, x1_p2])\n",
    "    x2 = np.concatenate([x2_p1, x2_p2])\n",
    "\n",
    "    labels = np.ones(num)\n",
    "    labels[:num/2] = -1\n",
    "    \n",
    "    return pd.DataFrame({'x1': x1, 'x2': x2, 'label': labels})"
   ]
  },
  {
   "cell_type": "code",
   "execution_count": 198,
   "metadata": {
    "collapsed": false,
    "slideshow": {
     "slide_type": "subslide"
    }
   },
   "outputs": [
    {
     "data": {
      "image/png": "[encoded data removed]",
      "text/plain": [
       "<matplotlib.figure.Figure at 0x10c1b2908>"
      ]
     },
     "metadata": {},
     "output_type": "display_data"
    }
   ],
   "source": [
    "D_gaussian  = gaussian_data(100, epsilon=0.2)\n",
    "fig, ax = plt.subplots()\n",
    "D_gaussian.query('label == 1').plot(kind='scatter', x='x1', y='x2', ax=ax, color='b')\n",
    "D_gaussian.query('label == -1').plot(kind='scatter', x='x1', y='x2', ax=ax, color='r');"
   ]
  },
  {
   "cell_type": "markdown",
   "metadata": {
    "slideshow": {
     "slide_type": "subslide"
    }
   },
   "source": [
    "Learning a perceptron\n",
    "----\n",
    "\n",
    "Now we can specify our perceptron. Again, we provide separate functions for training (fitting the model to the data set) and testing (making a prediction). The training function, `fit()` also has a parameter that controls the number of epochs."
   ]
  },
  {
   "cell_type": "code",
   "execution_count": 199,
   "metadata": {
    "collapsed": false,
    "slideshow": {
     "slide_type": "subslide"
    }
   },
   "outputs": [],
   "source": [
    "def fit(train_data, num_epochs=20):\n",
    "    models = []\n",
    "    w1 = 0; w2 = 0; bias = 0\n",
    "\n",
    "    for epoch in range(num_epochs):\n",
    "        for idx, instance in train_data.iterrows():\n",
    "            activation = instance['x1'] * w1 + instance['x2'] * w2 + bias\n",
    "            pred_label = np.sign(activation)\n",
    "    \n",
    "            if pred_label != instance['label']:\n",
    "                w1 += instance['label'] * instance['x1']\n",
    "                w2 += instance['label'] * instance['x2']\n",
    "                bias += instance['label']\n",
    "        \n",
    "        models.append((w1, w2, bias))\n",
    "                \n",
    "    return models"
   ]
  },
  {
   "cell_type": "code",
   "execution_count": 200,
   "metadata": {
    "collapsed": false,
    "slideshow": {
     "slide_type": "fragment"
    }
   },
   "outputs": [
    {
     "data": {
      "text/plain": [
       "(-2.6760543559049532, 3.1588629237922712, 0.0)"
      ]
     },
     "execution_count": 200,
     "metadata": {},
     "output_type": "execute_result"
    }
   ],
   "source": [
    "models = fit(D_lin_sep)\n",
    "models[-1]"
   ]
  },
  {
   "cell_type": "markdown",
   "metadata": {
    "slideshow": {
     "slide_type": "subslide"
    }
   },
   "source": [
    "### Prediction on new data"
   ]
  },
  {
   "cell_type": "code",
   "execution_count": 201,
   "metadata": {
    "collapsed": true
   },
   "outputs": [],
   "source": [
    "def predict(test_data, model):\n",
    "    w1, w2, bias = model\n",
    "    predictions = []\n",
    "    for idx, instance in test_data.iterrows():\n",
    "        activation = instance['x1'] * w1 + instance['x2'] * w2 + bias\n",
    "        predictions.append(np.sign(activation))\n",
    "\n",
    "    return predictions"
   ]
  },
  {
   "cell_type": "markdown",
   "metadata": {
    "slideshow": {
     "slide_type": "subslide"
    }
   },
   "source": [
    "### Running the model"
   ]
  },
  {
   "cell_type": "markdown",
   "metadata": {
    "slideshow": {
     "slide_type": "skip"
    }
   },
   "source": [
    "Finally, we can execute our code.\n",
    "\n",
    "First, we need some data to train on. Rather than use an existing data set, we will use a synthetic one that we generate ourselves. We use a function `get_data` that guarantees that our data is indeed linearly separable. The parameter `epsilon` ($\\epsilon$) controls how large the separation gap is.\n",
    "\n",
    "To convince ourselves that it is separable, we can plot the data. You can set different values for $\\epsilon$ to see how it affects the data spread."
   ]
  },
  {
   "cell_type": "code",
   "execution_count": 202,
   "metadata": {
    "collapsed": false,
    "slideshow": {
     "slide_type": "subslide"
    }
   },
   "outputs": [
    {
     "data": {
      "text/plain": [
       "[(-1.427000818314514, 2.8142826246175847, 0.0),\n",
       " (-2.6760543559049532, 3.1588629237922712, 0.0),\n",
       " (-2.6760543559049532, 3.1588629237922712, 0.0),\n",
       " (-2.6760543559049532, 3.1588629237922712, 0.0),\n",
       " (-2.6760543559049532, 3.1588629237922712, 0.0),\n",
       " (-2.6760543559049532, 3.1588629237922712, 0.0),\n",
       " (-2.6760543559049532, 3.1588629237922712, 0.0),\n",
       " (-2.6760543559049532, 3.1588629237922712, 0.0),\n",
       " (-2.6760543559049532, 3.1588629237922712, 0.0),\n",
       " (-2.6760543559049532, 3.1588629237922712, 0.0)]"
      ]
     },
     "execution_count": 202,
     "metadata": {},
     "output_type": "execute_result"
    }
   ],
   "source": [
    "models = fit(D_lin_sep, 10)\n",
    "models"
   ]
  },
  {
   "cell_type": "markdown",
   "metadata": {
    "slideshow": {
     "slide_type": "subslide"
    }
   },
   "source": [
    "### Training data accuracy"
   ]
  },
  {
   "cell_type": "code",
   "execution_count": 203,
   "metadata": {
    "collapsed": false
   },
   "outputs": [
    {
     "data": {
      "text/plain": [
       "1.0"
      ]
     },
     "execution_count": 203,
     "metadata": {},
     "output_type": "execute_result"
    }
   ],
   "source": [
    "y_pred = predict(D_lin_sep, models[-1])\n",
    "accuracy = (D_lin_sep.label == y_pred).sum() / len(y_pred)\n",
    "accuracy"
   ]
  },
  {
   "cell_type": "code",
   "execution_count": 204,
   "metadata": {
    "collapsed": true,
    "slideshow": {
     "slide_type": "skip"
    }
   },
   "outputs": [],
   "source": [
    "def get_y(x, w1, w2, bias):\n",
    "    '''\n",
    "    compute y value for specific x, given the weights and bias\n",
    "    (helper function for decision boundary)\n",
    "    '''\n",
    "    return (((-1 * x * w1) - bias) / w2)\n",
    "\n",
    "\n",
    "def plot_decision_boundary(model, ax, alpha=0.1, color='black', thickness=1):\n",
    "    '''\n",
    "    plot the decision boundary\n",
    "    '''\n",
    "    w1, w2, bias = model\n",
    "    x_min = -100\n",
    "    x_max = 100\n",
    "    ax.plot([x_min, x_max], \n",
    "            [get_y(x_min, w1, w2, bias), get_y(x_max, w1, w2, bias)], \n",
    "            'k-', alpha=alpha, c=color, lw=thickness)\n"
   ]
  },
  {
   "cell_type": "code",
   "execution_count": 205,
   "metadata": {
    "collapsed": false,
    "slideshow": {
     "slide_type": "subslide"
    }
   },
   "outputs": [
    {
     "data": {
      "image/png": "[encoded data removed]",
      "text/plain": [
       "<matplotlib.figure.Figure at 0x10c001278>"
      ]
     },
     "metadata": {},
     "output_type": "display_data"
    }
   ],
   "source": [
    "fig, ax = plt.subplots()\n",
    "for model in models[:-1]:\n",
    "    plot_decision_boundary(model, alpha=0.1, color='gray', thickness=1, ax=ax)\n",
    "\n",
    "plot_decision_boundary(models[-1], alpha=1.0, color='green', thickness=2, ax=ax)\n",
    "\n",
    "D_lin_sep.query('label == 1').plot(kind='scatter', x='x1', y='x2', ax=ax, color='b')\n",
    "D_lin_sep.query('label == -1').plot(kind='scatter', x='x1', y='x2', ax=ax, color='r');\n",
    "\n",
    "\n",
    "ax.set_xlim(D_lin_sep.x1.min() - 1, D_lin_sep.x1.max() + 1)\n",
    "ax.set_ylim(D_lin_sep.x2.min() - 1, D_lin_sep.x2.max() + 1);"
   ]
  },
  {
   "cell_type": "markdown",
   "metadata": {
    "slideshow": {
     "slide_type": "subslide"
    }
   },
   "source": [
    "### All models for the Gaussian case"
   ]
  },
  {
   "cell_type": "code",
   "execution_count": 206,
   "metadata": {
    "collapsed": true
   },
   "outputs": [],
   "source": [
    "models = fit(D_gaussian, 100)\n",
    "train_accuracies = []\n",
    "for model in models:\n",
    "    y_pred = predict(D_gaussian, model)\n",
    "    accuracy = (D_gaussian.label == y_pred).sum() / len(y_pred)\n",
    "    train_accuracies.append(accuracy)"
   ]
  },
  {
   "cell_type": "code",
   "execution_count": 207,
   "metadata": {
    "collapsed": false
   },
   "outputs": [
    {
     "data": {
      "text/plain": [
       "<matplotlib.axes._subplots.AxesSubplot at 0x10c307860>"
      ]
     },
     "execution_count": 207,
     "metadata": {},
     "output_type": "execute_result"
    },
    {
     "data": {
      "image/png": "[encoded data removed]",
      "text/plain": [
       "<matplotlib.figure.Figure at 0x10bb60198>"
      ]
     },
     "metadata": {},
     "output_type": "display_data"
    }
   ],
   "source": [
    "pd.Series(train_accuracies).plot()"
   ]
  },
  {
   "cell_type": "markdown",
   "metadata": {
    "slideshow": {
     "slide_type": "skip"
    }
   },
   "source": [
    "Once training has finished, we can compute predictions with the final weights. This is the same calculation as we have used to compute the activations in each iteration (we could have thus written a function to do it, so we don't repeat code. We'll do it here for clarity). However, we are not interested in the performance on the training data, but on the performance on a new, held-out, previously unseen data set. We call it the **test set**.\n",
    "\n",
    "You can again play around with $\\epsilon$ in the test set: what happens to accuracy if you make $\\epsilon$ smaller in the test than in the training data; what if you make it bigger. Can you think of why?"
   ]
  },
  {
   "cell_type": "code",
   "execution_count": 208,
   "metadata": {
    "collapsed": false
   },
   "outputs": [],
   "source": [
    "def plot_data_set(data, ax, alpha=1.0, misclassified=None):\n",
    "    '''\n",
    "    output data set as scatter plot\n",
    "    '''\n",
    "    positives = data.query('label == 1')\n",
    "    negatives = data.query('label == -1')\n",
    "    \n",
    "    ax.scatter(positives['x1'], positives['x2'], color='blue', alpha=alpha)\n",
    "    ax.scatter(negatives['x1'], negatives['x2'], color='red', alpha=alpha)\n",
    "\n",
    "    if misclassified is not None:\n",
    "        for label, x, y in zip(misclassified, data['x1'], data['x2']):\n",
    "            if label == True:\n",
    "                ax.annotate(\n",
    "                    \"missclassified\", \n",
    "                    xy = (x, y), xytext = (-20, 20),\n",
    "                    textcoords = 'offset points', ha = 'right', va = 'bottom',\n",
    "                    arrowprops = dict(arrowstyle = '->', connectionstyle = 'arc3,rad=0'))"
   ]
  },
  {
   "cell_type": "code",
   "execution_count": 209,
   "metadata": {
    "collapsed": false,
    "slideshow": {
     "slide_type": "subslide"
    }
   },
   "outputs": [
    {
     "data": {
      "text/plain": [
       "(-5.161963548707611, 3.8634045263917445)"
      ]
     },
     "execution_count": 209,
     "metadata": {},
     "output_type": "execute_result"
    },
    {
     "data": {
      "image/png": "[encoded data removed]",
      "text/plain": [
       "<matplotlib.figure.Figure at 0x10c4ebf60>"
      ]
     },
     "metadata": {},
     "output_type": "display_data"
    }
   ],
   "source": [
    "# get test data and labels\n",
    "# test_data, test_labels = get_gaussian_data(100)\n",
    "fig, ax = plt.subplots()\n",
    "\n",
    "test_data = gaussian_data(100, epsilon=1)\n",
    "test_predictions = predict(test_data, models[-1])\n",
    "\n",
    "plot_data_set(test_data, alpha=0.5, misclassified=(list(test_predictions != test_data['label'])), ax=ax)\n",
    "\n",
    "plot_decision_boundary(model, alpha=1.0, color='green', thickness=1, ax=ax)\n",
    "plt.xlim(test_data.x1.min() - 1, test_data.x1.max() + 1)\n",
    "plt.ylim(test_data.x2.min() - 1, test_data.x2.max() + 1)\n",
    "\n",
    "#print(\"accuracy on test:\", test_accuracy)"
   ]
  },
  {
   "cell_type": "markdown",
   "metadata": {
    "slideshow": {
     "slide_type": "skip"
    }
   },
   "source": [
    "What happens if you set the epsilon in `get_data` to a negative value? Try for both train and test set."
   ]
  },
  {
   "cell_type": "markdown",
   "metadata": {
    "slideshow": {
     "slide_type": "subslide"
    }
   },
   "source": [
    "3. NumPy\n",
    "======\n",
    "\n",
    "The `numpy` (for numerical Python) library includes fast implementations of several mathematic operations, especially linear algebra. While it originally did not come included in Python, it has become the de factor standard for most scientific work (there is another library, `scipy`, which builds on `numpy` and has additional functionality).\n",
    "\n",
    "In this lecture, we will use `numpy` to implement a perceptron from scratch with only a few lines of code. The code is largely based on the examples in Stephen Marsland's book \"Machine Learning. An Algorithmic Perspective\".\n",
    "\n",
    "While the simple perceptron is not the most powerful or exciting machine learning algorithms, it is one of the first, and it forms the basis for the multi-layer perceptron, which in turn is the basis for deep neural networks.\n",
    "\n",
    "In the following, we will use `np` for `numpy`.\n"
   ]
  },
  {
   "cell_type": "markdown",
   "metadata": {
    "slideshow": {
     "slide_type": "subslide"
    }
   },
   "source": [
    "## List of  `numpy` functions used in in this lecture\n",
    "\n",
    "**`np.array(`*list or shape tuple*`)`:** If you give it a list (of lists), say `[[1,2], [3,4]]` it will use them to build a matrix. Here it's one with two rows (each list is one row), with two columns each (each )). If you only specify a tuple, say `(2,2)`, it will generate an empty matrix."
   ]
  },
  {
   "cell_type": "code",
   "execution_count": 210,
   "metadata": {
    "collapsed": false
   },
   "outputs": [
    {
     "data": {
      "text/plain": [
       "array([[1, 2],\n",
       "       [3, 4]])"
      ]
     },
     "execution_count": 210,
     "metadata": {},
     "output_type": "execute_result"
    }
   ],
   "source": [
    "a = np.array([[1,2], [3,4]])\n",
    "a"
   ]
  },
  {
   "cell_type": "markdown",
   "metadata": {
    "slideshow": {
     "slide_type": "subslide"
    }
   },
   "source": [
    "**`np.array.shape`:** This returns a tuple with the number of columns and rows."
   ]
  },
  {
   "cell_type": "code",
   "execution_count": 211,
   "metadata": {
    "collapsed": false
   },
   "outputs": [
    {
     "data": {
      "text/plain": [
       "(2, 2)"
      ]
     },
     "execution_count": 211,
     "metadata": {},
     "output_type": "execute_result"
    }
   ],
   "source": [
    "a.shape"
   ]
  },
  {
   "cell_type": "markdown",
   "metadata": {
    "slideshow": {
     "slide_type": "subslide"
    }
   },
   "source": [
    "**`np.random.rand(`*shape*`)`:** this generates an array of the defined shape and populates it with values between $0.0$ and $1.0$."
   ]
  },
  {
   "cell_type": "code",
   "execution_count": 212,
   "metadata": {
    "collapsed": false
   },
   "outputs": [
    {
     "name": "stdout",
     "output_type": "stream",
     "text": [
      "[ 0.23067921  0.2693511 ]\n",
      "[[ 0.38338136  0.93160719  0.62226358]\n",
      " [ 0.4225663   0.41937121  0.74610631]]\n"
     ]
    }
   ],
   "source": [
    "a = np.random.rand(2)\n",
    "b = np.random.rand(2,3)\n",
    "print(a)\n",
    "print(b)"
   ]
  },
  {
   "cell_type": "markdown",
   "metadata": {
    "slideshow": {
     "slide_type": "subslide"
    }
   },
   "source": [
    "**`np.dot(`*array1, array2*`)`:** returns the dot product of two vectors. Remember that the inner dimensions (columns of array1 and rows of array2) need to be the same. The result has the number of rows of array1 and the number of columns of array2. This is why you get a scalar if you take the dot product of vectors, but an array when one of the arrays is multidimensional."
   ]
  },
  {
   "cell_type": "code",
   "execution_count": 213,
   "metadata": {
    "collapsed": false
   },
   "outputs": [
    {
     "name": "stdout",
     "output_type": "stream",
     "text": [
      "0.125762917844\n",
      "[ 0.20225681  0.32786052  0.34450783]\n"
     ]
    }
   ],
   "source": [
    "print(np.dot(a,a))\n",
    "print(np.dot(a,b))"
   ]
  },
  {
   "cell_type": "markdown",
   "metadata": {
    "slideshow": {
     "slide_type": "subslide"
    }
   },
   "source": [
    "**`np.concatenate(`*list of arrays*`)`:** this is the same as `extend()` for lists, but the arrays you give it have to have the same shape."
   ]
  },
  {
   "cell_type": "code",
   "execution_count": 214,
   "metadata": {
    "collapsed": false
   },
   "outputs": [
    {
     "name": "stdout",
     "output_type": "stream",
     "text": [
      "[ 0.23067921  0.2693511   0.23067921  0.2693511 ]\n",
      "[[ 0.38338136  0.93160719  0.62226358]\n",
      " [ 0.4225663   0.41937121  0.74610631]\n",
      " [ 0.38338136  0.93160719  0.62226358]\n",
      " [ 0.4225663   0.41937121  0.74610631]]\n"
     ]
    }
   ],
   "source": [
    "print(np.concatenate([a,a]))\n",
    "print(np.concatenate([b,b]))"
   ]
  },
  {
   "cell_type": "markdown",
   "metadata": {
    "slideshow": {
     "slide_type": "subslide"
    }
   },
   "source": [
    "**`np.sign(`*value*`)`:** returns $1$ if the value is positive, $-1$ if it is negative."
   ]
  },
  {
   "cell_type": "code",
   "execution_count": 215,
   "metadata": {
    "collapsed": false
   },
   "outputs": [
    {
     "data": {
      "text/plain": [
       "1"
      ]
     },
     "execution_count": 215,
     "metadata": {},
     "output_type": "execute_result"
    }
   ],
   "source": [
    "np.sign(232)"
   ]
  },
  {
   "cell_type": "markdown",
   "metadata": {
    "slideshow": {
     "slide_type": "subslide"
    }
   },
   "source": [
    "## The Perceptron in `NumPy`\n",
    "\n"
   ]
  },
  {
   "cell_type": "markdown",
   "metadata": {
    "slideshow": {
     "slide_type": "skip"
    }
   },
   "source": [
    "Now, we have all the ingredients to modify our perceptron. It will make the code a little bit easier, but it will also make it faster when you have a lot of instances and epochs: matrix operations are usually much faster than `for`-loops.\n",
    "\n",
    "We again set the weights to a bunch of small random numbers, but we use an array of length 3. For this, we can use `np.random.rand()`. We multiply the resulting vector with $0.01$ (to get smaller numbers) and subtract $0.05$ (to generate some negative weights as well).\n",
    "\n",
    "At each iteration, we can now simply compute the dot product between the instance and the weights, and we naturally use `np.dot()` for it. To check whether the activation is positive or negative, we use `np.sign()` on the resulting scalar.\n",
    "\n",
    "Note that we now need to add a **bias term** to the the inputs. We do this by specifying another column in the DataFrame.\n",
    "\n",
    "We do the same in the `predict()` function, but here we simply call `np.dot()` on the entire test data and the weight vector. The result is another vector, with an activation value for each instance."
   ]
  },
  {
   "cell_type": "code",
   "execution_count": 216,
   "metadata": {
    "collapsed": false,
    "slideshow": {
     "slide_type": "subslide"
    }
   },
   "outputs": [],
   "source": [
    "def fit_np(X, labels, num_epochs=20):\n",
    "    weights = np.zeros(3)\n",
    "\n",
    "    for epoch in range(num_epochs):\n",
    "        for i in range(X.shape[0]):\n",
    "            activation = np.dot(X[i], weights)\n",
    "    \n",
    "            if np.sign(activation) != labels[i]:\n",
    "                weights += X[i] * labels[i]\n",
    "                \n",
    "    return weights\n",
    "\n",
    "def predict_np(X, weights):\n",
    "    predictions = np.sign(np.dot(np.array(test_data), weights))\n",
    "    return predictions"
   ]
  },
  {
   "cell_type": "markdown",
   "metadata": {
    "slideshow": {
     "slide_type": "fragment"
    }
   },
   "source": [
    "Training is called just as before, but the return value is no longer a tuple (`w1, w2, bias`), but a vector called `weights`."
   ]
  },
  {
   "cell_type": "code",
   "execution_count": 217,
   "metadata": {
    "collapsed": false,
    "slideshow": {
     "slide_type": "subslide"
    }
   },
   "outputs": [
    {
     "data": {
      "text/plain": [
       "(-2.6572858592914832, -2.2920892335540506, 0.0)"
      ]
     },
     "execution_count": 217,
     "metadata": {},
     "output_type": "execute_result"
    }
   ],
   "source": [
    "# Train on Gaussian data\n",
    "train_data = gaussian_data(100)\n",
    "train_data['bias'] = 1\n",
    "\n",
    "X = train_data[[col for col in train_data.columns if col != 'label']].values\n",
    "labels = train_data.label.values\n",
    "weights = fit_np(X, labels) \n",
    "model = (weights[0], weights[1], weights[2])\n",
    "model"
   ]
  },
  {
   "cell_type": "code",
   "execution_count": 218,
   "metadata": {
    "collapsed": false
   },
   "outputs": [
    {
     "data": {
      "image/png": "[encoded data removed]",
      "text/plain": [
       "<matplotlib.figure.Figure at 0x10cbc34e0>"
      ]
     },
     "metadata": {},
     "output_type": "display_data"
    }
   ],
   "source": [
    "# Plot the decision boundary\n",
    "fig, ax = plt.subplots()\n",
    "plot_decision_boundary(model, color='green', alpha=1, thickness=2, ax=ax)\n",
    "\n",
    "train_data.query('label == 1').plot(kind='scatter', x='x1', y='x2', ax=ax, color='b')\n",
    "train_data.query('label == -1').plot(kind='scatter', x='x1', y='x2', ax=ax, color='r');\n",
    "\n",
    "ax.set_xlim(train_data.x1.min() - 1, train_data.x1.max() + 1)\n",
    "ax.set_ylim(train_data.x2.min() - 1, train_data.x2.max() + 1);"
   ]
  },
  {
   "cell_type": "code",
   "execution_count": null,
   "metadata": {
    "collapsed": false
   },
   "outputs": [],
   "source": []
  }
 ],
 "metadata": {
  "celltoolbar": "Slideshow",
  "kernelspec": {
   "display_name": "Python 3",
   "language": "python",
   "name": "python3"
  },
  "language_info": {
   "codemirror_mode": {
    "name": "ipython",
    "version": 3
   },
   "file_extension": ".py",
   "mimetype": "text/x-python",
   "name": "python",
   "nbconvert_exporter": "python",
   "pygments_lexer": "ipython3",
   "version": "3.4.3"
  }
 },
 "nbformat": 4,
 "nbformat_minor": 0
}
