{
 "cells": [
  {
   "cell_type": "markdown",
   "metadata": {},
   "source": [
    "Exercise 2\n",
    "====\n",
    "\n",
    "Part 1\n",
    "----\n",
    "\n",
    "We have seen that the performance on training and test is not necessarily the same. In this exercise, you should first plot the performance on train and test when you vary the number of epochs. You can use any of the previous implementations. If you use, the two-dimensional data, use the Gaussian data.\n"
   ]
  },
  {
   "cell_type": "code",
   "execution_count": null,
   "metadata": {
    "collapsed": false
   },
   "outputs": [],
   "source": [
    "# your code here"
   ]
  },
  {
   "cell_type": "markdown",
   "metadata": {},
   "source": [
    "Part 2\n",
    "----\n",
    "\n",
    "Rather than running for a predefined number of epochs, as in the last part, we can stop training once the perceptron reaches a certain performance. For this, we use a development set. Use your code from any of the previous exercises (for two or multiple dimensions), and implement an early-stopping mechanism. You will have to generate a development set and modify the `fit()` function."
   ]
  },
  {
   "cell_type": "code",
   "execution_count": null,
   "metadata": {
    "collapsed": false
   },
   "outputs": [],
   "source": [
    "# your code here"
   ]
  }
 ],
 "metadata": {
  "kernelspec": {
   "display_name": "Python 3",
   "language": "python",
   "name": "python3"
  },
  "language_info": {
   "codemirror_mode": {
    "name": "ipython",
    "version": 3
   },
   "file_extension": ".py",
   "mimetype": "text/x-python",
   "name": "python",
   "nbconvert_exporter": "python",
   "pygments_lexer": "ipython3",
   "version": "3.4.3"
  }
 },
 "nbformat": 4,
 "nbformat_minor": 0
}
