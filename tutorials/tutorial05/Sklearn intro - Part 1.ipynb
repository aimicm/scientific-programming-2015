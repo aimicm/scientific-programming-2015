{
 "cells": [
  {
   "cell_type": "markdown",
   "metadata": {},
   "source": [
    "# Introduction to sklearn: `fit`, `predict`, and `score`"
   ]
  },
  {
   "cell_type": "markdown",
   "metadata": {},
   "source": [
    "*Scikit.learn* (also called `sklearn`) is a Python library for machine learning. The library implements a wealth of tested and highly tuned learning algorithms with a common API. \n",
    "\n",
    "Every algorithm thus implements a `fit` function to train the model; a `predict` function that applies the trained model on new data; and `score` to measure how well your model is doing on data for which you have gold labels."
   ]
  },
  {
   "cell_type": "code",
   "execution_count": null,
   "metadata": {
    "collapsed": false
   },
   "outputs": [],
   "source": [
    "%matplotlib inline\n",
    "import sklearn\n",
    "import pandas as pd\n",
    "import numpy as np\n",
    "from matplotlib import pyplot as plt\n",
    "import codecs\n",
    "import json"
   ]
  },
  {
   "cell_type": "markdown",
   "metadata": {},
   "source": [
    "### Task: Professional athelete classification"
   ]
  },
  {
   "cell_type": "markdown",
   "metadata": {},
   "source": [
    "To introduce the `sklearn` API, we consider a simple two-way (or binary) classification problem, the classic sumo wrestler vs baseball player:\n",
    "\n",
    "![Sumo vs. Major League Baseball](sumo-vs-mlb.jpg)\n",
    "\n",
    "In other words, from a pool of professional athletes, can we predict who is a sumo wrestler and who is a Major League Baseball player? The features that we'll use to make this decision are the *height* and the *weight* of the athlete.\n",
    "\n",
    "### Data sources\n",
    "\n",
    "The data for the task comes from two separate data sets, which we ask you to to harmonize and combine. \n",
    "\n",
    "#### Sumos\n",
    "\n",
    "Data on sumo wrestlers was obtained by issuing this [query](http://tinyurl.com/m5k2ej8) on FreeBase and saved to the file `sumos.json`. It's in JSON format, an often used interchange data format that looks similar to Python syntax. \n",
    "\n"
   ]
  },
  {
   "cell_type": "code",
   "execution_count": null,
   "metadata": {
    "collapsed": false
   },
   "outputs": [],
   "source": [
    "sumo_json = json.load(open(\"sumos.json\"))\n",
    "sumo_json"
   ]
  },
  {
   "cell_type": "markdown",
   "metadata": {},
   "source": [
    "Below we create a pandas `DataFrame` with the sumo wrestler's dataset."
   ]
  },
  {
   "cell_type": "code",
   "execution_count": null,
   "metadata": {
    "collapsed": false
   },
   "outputs": [],
   "source": [
    "sumo = pd.DataFrame(sumo_json['result'])\n",
    "sumo.tail()"
   ]
  },
  {
   "cell_type": "markdown",
   "metadata": {},
   "source": [
    "#### Baseball players\n",
    "\n",
    "The dataset with height and weight for players in Major League Baseball (MLB) was downloaded from this [HTML page](http://wiki.stat.ucla.edu/socr/index.php/SOCR_Data_MLB_HeightsWeights#SOCR_Data_-_1035_Records_of_Heights_.28in.29_and_Weights_.28lbs.29_of_Major_League_Baseball_Players), copied into a spreadsheet and exported as a csv-file."
   ]
  },
  {
   "cell_type": "code",
   "execution_count": null,
   "metadata": {
    "collapsed": false
   },
   "outputs": [],
   "source": [
    "mlb = pd.read_csv(\"mlb_heights.csv\", encoding='utf-8')\n",
    "mlb.tail()"
   ]
  },
  {
   "cell_type": "markdown",
   "metadata": {},
   "source": [
    "### Exercise: harmonize weight and height\n",
    "\n",
    "The MLB and sumos datasets use different units for the weights and heights of the athletes. For the baseball player we have the height in inches and weights in pounds, whereas the registered heights are in meters and the weights in kilos.\n",
    "\n",
    "Create (up to ) two new columns in each dataset that are consistent in both datasets:\n",
    "\n",
    "- **weight_kg** weight in kilos\n",
    "- **height_cm** height in centimeters\n"
   ]
  },
  {
   "cell_type": "code",
   "execution_count": null,
   "metadata": {
    "collapsed": false
   },
   "outputs": [],
   "source": [
    "# Your code here"
   ]
  },
  {
   "cell_type": "markdown",
   "metadata": {},
   "source": [
    "#### Combining MLB players and sumo wrestlers\n",
    "\n",
    "Below we combine the the two datasets in a common `DataFrame`. \n",
    "\n",
    "Note that not every data point of the MLB dataset is used. Can you think of a reason for doing this?\n"
   ]
  },
  {
   "cell_type": "code",
   "execution_count": null,
   "metadata": {
    "collapsed": false
   },
   "outputs": [],
   "source": [
    "sumo_vs_mlb = pd.concat([sumo[['height_cm', 'weight_kg']], \n",
    "                         mlb.ix[100:200, ['height_cm', 'weight_kg']]])\n",
    "sumo_vs_mlb.tail()"
   ]
  },
  {
   "cell_type": "markdown",
   "metadata": {},
   "source": [
    "Create a `numpy` array `is_sumo` of labels with the same length as the `sumo_vs_mlb` dataset. A value of one in this array should indicate that the corresponding row in the `sumo_vs_mlb` is a sumo wrester. In the same manner, zero means that the corresponding row is not a sumo (i.e. is an MLB player). "
   ]
  },
  {
   "cell_type": "code",
   "execution_count": null,
   "metadata": {
    "collapsed": false
   },
   "outputs": [],
   "source": [
    "is_sumo = np.ones(len(sumo_vs_mlb), dtype=bool)\n",
    "# Your code here"
   ]
  },
  {
   "cell_type": "markdown",
   "metadata": {},
   "source": [
    "We can now visualize the distribution of the weights and heights of our dataset in 2D space"
   ]
  },
  {
   "cell_type": "code",
   "execution_count": null,
   "metadata": {
    "collapsed": false
   },
   "outputs": [],
   "source": [
    "fig, ax = plt.subplots()\n",
    "sumo_vs_mlb.ix[is_sumo].plot(kind='scatter', x='weight_kg', y='height_cm', \n",
    "                             color='blue', label='Sumo', ax=ax)\n",
    "sumo_vs_mlb.ix[~is_sumo].plot(kind='scatter', x='weight_kg', y='height_cm', \n",
    "                             color='red', label='Baseball', ax=ax);"
   ]
  },
  {
   "cell_type": "markdown",
   "metadata": {},
   "source": [
    "Do you think it's possible to learn classifier that can perfectly separate the sumo and the baseball class?"
   ]
  },
  {
   "cell_type": "markdown",
   "metadata": {},
   "source": [
    "### Learning a model\n",
    "\n",
    "Step through the code below, reading the code and executing each cell. Make sure that you inspect any variable that you are curious about by **writing it in a new cell and executing that cell**. Also check the documentation on the sklearn website."
   ]
  },
  {
   "cell_type": "markdown",
   "metadata": {},
   "source": [
    "#### Converting dataset from `pandas` to `numpy`"
   ]
  },
  {
   "cell_type": "code",
   "execution_count": null,
   "metadata": {
    "collapsed": true
   },
   "outputs": [],
   "source": [
    "X = sumo_vs_mlb[['weight_kg', 'height_cm']].values"
   ]
  },
  {
   "cell_type": "markdown",
   "metadata": {},
   "source": [
    "#### Creating a fixed train and test set\n",
    "\n",
    "We divide the dataset into two parts. One part will be used for training, while the other part is set aside with the purpose of estimating how our model generalizes. The parts are refered to as the training and the test set. It's important not to mix these two up, e.g. using your test data to train your model. "
   ]
  },
  {
   "cell_type": "code",
   "execution_count": null,
   "metadata": {
    "collapsed": false
   },
   "outputs": [],
   "source": [
    "from sklearn.cross_validation import train_test_split\n",
    "X_train, X_test, y_train, y_test = train_test_split(X, is_sumo, random_state=100)\n",
    "print(\"Train shape\", X_train.shape, \"Test shape\", X_test.shape)"
   ]
  },
  {
   "cell_type": "markdown",
   "metadata": {},
   "source": [
    "### Fitting the classifier\n",
    "\n"
   ]
  },
  {
   "cell_type": "code",
   "execution_count": null,
   "metadata": {
    "collapsed": false
   },
   "outputs": [],
   "source": [
    "from sklearn.linear_model import Perceptron\n",
    "perceptron = Perceptron()\n",
    "perceptron"
   ]
  },
  {
   "cell_type": "code",
   "execution_count": null,
   "metadata": {
    "collapsed": false
   },
   "outputs": [],
   "source": [
    "perceptron.fit(X_train, y_train);"
   ]
  },
  {
   "cell_type": "code",
   "execution_count": null,
   "metadata": {
    "collapsed": false
   },
   "outputs": [],
   "source": [
    "perceptron.predict(X_test)"
   ]
  },
  {
   "cell_type": "markdown",
   "metadata": {},
   "source": [
    "### Evaluation"
   ]
  },
  {
   "cell_type": "code",
   "execution_count": null,
   "metadata": {
    "collapsed": false
   },
   "outputs": [],
   "source": [
    "y_pred = perceptron.predict(X_test)\n",
    "y_pred"
   ]
  },
  {
   "cell_type": "code",
   "execution_count": null,
   "metadata": {
    "collapsed": false
   },
   "outputs": [],
   "source": [
    "n_correct = (y_pred == y_test).sum()\n",
    "print(\"Accuracy\", n_correct / float(y_test.shape[0]))"
   ]
  },
  {
   "cell_type": "code",
   "execution_count": null,
   "metadata": {
    "collapsed": false
   },
   "outputs": [],
   "source": [
    "perceptron.score(X_test, y_test)"
   ]
  },
  {
   "cell_type": "code",
   "execution_count": null,
   "metadata": {
    "collapsed": false
   },
   "outputs": [],
   "source": [
    "from sklearn.metrics import precision_score, recall_score, f1_score, classification_report\n",
    "\n",
    "print(\"Precision\", precision_score(y_test, y_pred))\n",
    "print(\"Recall\", recall_score(y_test, y_pred))\n",
    "print(\"F1 (balanced)\", f1_score(y_test, y_pred))"
   ]
  },
  {
   "cell_type": "code",
   "execution_count": null,
   "metadata": {
    "collapsed": false
   },
   "outputs": [],
   "source": [
    "print(classification_report(y_test, y_pred))"
   ]
  },
  {
   "cell_type": "markdown",
   "metadata": {},
   "source": [
    "### Estimated parameters of the model\n",
    "\n",
    "Here we peek into the parameters of the model. This is an advanced section, so you shouldn't worry if you don't understand everything. We'll get back to this in Lecture 6. \n",
    "\n",
    "Do make sure that you see the decision boundary plot in the last cell."
   ]
  },
  {
   "cell_type": "code",
   "execution_count": null,
   "metadata": {
    "collapsed": false
   },
   "outputs": [],
   "source": [
    "print(\"shape\", perceptron.coef_.shape)\n",
    "perceptron.coef_"
   ]
  },
  {
   "cell_type": "code",
   "execution_count": null,
   "metadata": {
    "collapsed": false
   },
   "outputs": [],
   "source": [
    "print(\"shape\", perceptron.intercept_.shape)\n",
    "perceptron.intercept_"
   ]
  },
  {
   "cell_type": "markdown",
   "metadata": {},
   "source": [
    "#### Plotting the decision boundary"
   ]
  },
  {
   "cell_type": "code",
   "execution_count": null,
   "metadata": {
    "collapsed": false
   },
   "outputs": [],
   "source": [
    "def decision_boundary(w, bias, dist=0, x_start=0, x_end=300):\n",
    "    y_start = -(x_start * w[0] + bias - dist) / w[1]\n",
    "    y_end = -(x_end * w[0] + bias - dist) / w[1]\n",
    "    return [x_start, x_end], [y_start, y_end]"
   ]
  },
  {
   "cell_type": "code",
   "execution_count": null,
   "metadata": {
    "collapsed": false
   },
   "outputs": [],
   "source": [
    "xx, yy = decision_boundary(perceptron.coef_[0], perceptron.intercept_[0])\n",
    "fig, ax = plt.subplots()\n",
    "\n",
    "sumo_vs_mlb[is_sumo].plot(kind='scatter', x='weight_kg', y='height_cm',\n",
    "                         color='blue', label='Sumo', ax=ax)\n",
    "sumo_vs_mlb[~is_sumo].plot(kind='scatter', x='weight_kg', y='height_cm',\n",
    "                         color='red', label='MLB', ax=ax)\n",
    "ax.set_xlim(60, 300)\n",
    "ax.set_ylim(160, 210)\n",
    "ax.plot(xx, yy);"
   ]
  },
  {
   "cell_type": "markdown",
   "metadata": {},
   "source": [
    "### Optional exercise: Fit the data using a different classifier\n",
    "\n",
    "Import the `LogisticRegression` classifier, using it to fit a new model. Get performance measures and plot the new decision boundary."
   ]
  },
  {
   "cell_type": "code",
   "execution_count": null,
   "metadata": {
    "collapsed": true
   },
   "outputs": [],
   "source": []
  }
 ],
 "metadata": {
  "kernelspec": {
   "display_name": "Python 3",
   "language": "python",
   "name": "python3"
  },
  "language_info": {
   "codemirror_mode": {
    "name": "ipython",
    "version": 3
   },
   "file_extension": ".py",
   "mimetype": "text/x-python",
   "name": "python",
   "nbconvert_exporter": "python",
   "pygments_lexer": "ipython3",
   "version": "3.4.3"
  }
 },
 "nbformat": 4,
 "nbformat_minor": 0
}
