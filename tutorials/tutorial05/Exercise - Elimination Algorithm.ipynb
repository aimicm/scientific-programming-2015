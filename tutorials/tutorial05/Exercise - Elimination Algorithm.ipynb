{
 "cells": [
  {
   "cell_type": "markdown",
   "metadata": {},
   "source": [
    "In the class we have seen that classification is a way to find a function that maps any input feature vector to an output label. Naturally, what we put in our feature vector is important for the quality of the output. If we encode whether we saw the example on a Thursday or not, for example, we should not expect to get a lot of information.\n",
    "\n",
    "The Elimination Algorithm is a very simple classification algorithm that assumes that the labels will share important features, and that each label class can be expressed as a conjuntion of those features. Conversely, it can also help us to find good features.\n",
    "\n",
    "In this exercise, you are supposed to implement the Elimination algorithm and run it on a data set.\n",
    "You are provided two CSV (comma-separated value) files:\n",
    "\n",
    "- animals.data, which contains the features\n",
    "\n",
    "- animals.labels, which contains the labels\n",
    "\n",
    "Your task is to read in both files, and then run the algorithm for each label class.\n",
    "\n",
    "The algorithm is simple:\n",
    "for each animal in the class, find the conjunction of the features with the previous animal. At the end, return the set of common features."
   ]
  },
  {
   "cell_type": "code",
   "execution_count": null,
   "metadata": {
    "collapsed": false
   },
   "outputs": [],
   "source": [
    "# TODO: your code to read in the files here\n",
    "\n",
    "def find_common_traits(label):\n",
    "    common = None\n",
    "    # TODO: your implementation of the algorithm here\n",
    "    return common\n",
    "\n",
    "# TODO: print the common features of each class here\n"
   ]
  },
  {
   "cell_type": "markdown",
   "metadata": {},
   "source": [
    "Hints:\n",
    "    \n",
    "There are quick and easy possibilities to read in the files. Make sure you know how the data looks like, once it's read in, though.\n",
    "\n",
    "You will need sets for the algorithm!\n"
   ]
  },
  {
   "cell_type": "code",
   "execution_count": null,
   "metadata": {
    "collapsed": false
   },
   "outputs": [],
   "source": []
  }
 ],
 "metadata": {
  "kernelspec": {
   "display_name": "Python 3",
   "language": "python",
   "name": "python3"
  },
  "language_info": {
   "codemirror_mode": {
    "name": "ipython",
    "version": 3
   },
   "file_extension": ".py",
   "mimetype": "text/x-python",
   "name": "python",
   "nbconvert_exporter": "python",
   "pygments_lexer": "ipython3",
   "version": "3.4.3"
  }
 },
 "nbformat": 4,
 "nbformat_minor": 0
}
