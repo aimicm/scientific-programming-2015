{
 "cells": [
  {
   "cell_type": "code",
   "execution_count": 1,
   "metadata": {
    "collapsed": true
   },
   "outputs": [],
   "source": [
    "%matplotlib inline"
   ]
  },
  {
   "cell_type": "markdown",
   "metadata": {},
   "source": [
    "Graphs\n",
    "====\n",
    "\n",
    "Graphs are an incredibly versatile and powerful structure that is used today for a wide variety of problems, from transport engineering, social media (think Google, and of course Facebook), natural language processing, to social sciences (think Facebook again).\n",
    "\n",
    "Despite its success, graphs are a very simple object. They consist of two sets of objects, namely the ***nodes*** (also called *vertices*) and the ***edges*** (also called *lines* or *arcs*). Nodes are typically called $u$ and $v$, and edges are a pair of nodes, e.g., $(u, v)$.\n",
    "\n",
    "The simplest (and admittedly somewhat boring) graph has only one node, and thus typically no edges (nodes *can* have edges to themselves, though).\n",
    "\n",
    "As soon as we add a second node, we can have an edge (we don't have to, though: nodes in a graph can be isolated). Edges come in two main variants: ***directed*** and ***undirected*** edges. A convenient way to represent the edges in a graph is via a matrix. The number of rows and columns is given by the number of nodes, and each cell of the matrix indicates whether there is an edge between the nodes. Typically, the rows represent the starting and the columns the end nodes. This matrix is called the ***adjacency matrix***.\n",
    "\n",
    "If we have an *undirected* edge $(u, v)$, we can go back and forth between the two nodes, $u$ and $v$, i.e., information can be transmitted in both directions. The adjacency matrix is symmetric across the diagonal.\n",
    "\n",
    "<img src=undirected.png width=450px>\n",
    "\n",
    "In *directed* edges, information can only go from the starting to the finishing node. So if we want to be able to go back and forth betwen $u$ and $v$, we'd have to add two edges, one in each direction.\n",
    "\n",
    "<img src=directed.png width=450px>\n",
    "\n",
    "Edges can not only have a direction, but also a weight. This indicates the strength of the connection between two nodes. In an unweighted graph, all edges typically just have a weight of 1. Otherwise, we can give the edges whatever value we like to represent probabilities, costs, distances, etc. If the graph is weighted and undirected, the edge has the same weight in both directions. Weighted directed graphs are sometimes called networks.\n",
    "\n",
    "<img src=weighted.png width=450px>\n",
    "\n",
    "The reason why graphs are so powerful is because nodes and edges can represent so many things, and often without oversimplifying things. They can naturally be people and their relations to each other, web sites and their links, cities and their travel distances, states in a game and the actions to get there, or words and their relations to one another."
   ]
  },
  {
   "cell_type": "markdown",
   "metadata": {},
   "source": [
    "### Exercises\n",
    "\n",
    "Graphs can be a good way to visuzalize what's going on, but also to discover relations.\n",
    "\n",
    "Here is a list of all the main characters in book 1 of The Lord of The Rings, by chapter.\n"
   ]
  },
  {
   "cell_type": "code",
   "execution_count": 2,
   "metadata": {
    "collapsed": true
   },
   "outputs": [],
   "source": [
    "lotr1 = {\n",
    " '5: A Conspiracy Unmasked': ['Frodo Baggins', 'Samwise Gamgee', 'Pippin', 'Merry'], \n",
    " '2: The Shadow of the Past': ['Frodo Baggins', 'Gandalf'], \n",
    " '11: A Knife in the Dark': ['Frodo Baggins', 'Samwise Gamgee', 'Pippin', 'Merry', 'Strider', 'Bill Ferny', 'Ringwraiths'], \n",
    " '14: The Council of Elrond': ['Elrond', 'Frodo Baggins'], \n",
    " '4: A Short Cut to Mushrooms': ['Frodo Baggins', 'Samwise Gamgee', 'Pippin', 'Merry', 'Farmer Maggot'], \n",
    " '8: Fog on the Barrow-downs': ['Frodo Baggins', 'Samwise Gamgee', 'Pippin', 'Merry', 'Tom Bombadil'], \n",
    " '1: A Long-expected Party': ['Bilbo Baggins', 'Frodo Baggins', 'Gandalf'], \n",
    " '7: In the House of Tom Bombadil': ['Frodo Baggins', 'Samwise Gamgee', 'Pippin', 'Merry', 'Tom Bombadil'], \n",
    " '10: Strider': ['Frodo Baggins', 'Samwise Gamgee', 'Pippin', 'Merry', 'Strider', 'Barliman Butterbur'], \n",
    " '6: The Old Forest': ['Frodo Baggins', 'Samwise Gamgee', 'Pippin', 'Merry'], \n",
    " '12: Flight to the Ford': ['Frodo Baggins', 'Samwise Gamgee', 'Pippin', 'Merry', 'Glorfindel', 'Ringwraiths'], \n",
    " '13: Many Meetings': ['Frodo Baggins', 'Samwise Gamgee', 'Pippin', 'Merry', 'Strider', 'Bilbo Baggins', 'Glorfindel', 'Gloin', 'Elrond'], \n",
    " '3: Three is Company': ['Frodo Baggins', 'Gandalf'], \n",
    " '9: At the Sign of the Prancing Pony': ['Frodo Baggins', 'Samwise Gamgee', 'Pippin', 'Merry', 'Barliman Butterbur']\n",
    "}"
   ]
  },
  {
   "cell_type": "markdown",
   "metadata": {},
   "source": [
    "- build the adjacency matrix of a weighted, undirected graph: if two characters occur in the same chapter, the connectivity between them increases.\n",
    "- visualize the connections in `networkX`\n",
    "- find out which character is the most central. Which measure did you use?"
   ]
  },
  {
   "cell_type": "code",
   "execution_count": 31,
   "metadata": {
    "collapsed": false
   },
   "outputs": [],
   "source": [
    "# Your code here"
   ]
  },
  {
   "cell_type": "markdown",
   "metadata": {},
   "source": [
    "Trees\n",
    "----\n",
    "\n",
    "In many branches of artificial intelligence, a special form of graphs is used, that is called trees. Trees are directed graphs, and have a special node, called the ***root***. This means that all nodes except the root have a parent. Trees are also not allowed to have cycles, i.e., none of the children or grand-children or further-down successors of a node $u$ can be the parent of $u$. Trees are often used for objects with a hierarchical structure, for example XML documents, and have been successfully applied to parsing natural language (ignoring that language sometimes does have cycles). Everything that works on graphs (search, etc.) thus also works for trees, but not necessarily vice versa.\n",
    "\n",
    "<img src=tree.png width=450px>\n"
   ]
  },
  {
   "cell_type": "markdown",
   "metadata": {},
   "source": [
    "### Exercises \n",
    "\n",
    "One example of trees are family trees. And even though the characters on Game of Thrones are not particularly famous for their traditional family values (no they ain't), try to construct an adjacency matrix of the diagram shown below. Decide on whether you want to count Jon Snow (who knows? He certainly doesn't). You do not have to include the wolves...\n",
    "\n",
    "<img src=\"starks.png\" title=\"http://gamesofthrones.com/wp-content/uploads/2011/05/Game-of-Thrones-Infographic-Houses-Only.png\" width=450px>\n"
   ]
  },
  {
   "cell_type": "code",
   "execution_count": 32,
   "metadata": {
    "collapsed": false
   },
   "outputs": [],
   "source": [
    "# Your code here"
   ]
  },
  {
   "cell_type": "markdown",
   "metadata": {},
   "source": [
    "Does the adjacency matrix represent a real (graph-theoretic) tree? use `networkx.is_tree` to check. If it is not a tree: what can you do to make it one (there are several options)?"
   ]
  },
  {
   "cell_type": "code",
   "execution_count": null,
   "metadata": {
    "collapsed": true
   },
   "outputs": [],
   "source": [
    "# Your code here"
   ]
  },
  {
   "cell_type": "markdown",
   "metadata": {},
   "source": [
    "Reading\n",
    "====\n",
    "\n",
    "* Stewart Russel and Peter Norvig: Artificial Intelligence. A Modern Approach. Chapters 3 and 5.\n",
    "* J. R. R. Tolkien: The Lord of the Rings. Book 1: The Fellowship of the Ring.\n",
    "* George R.R. Martin: A Song of Ice and Fire. Books 1 through 5."
   ]
  },
  {
   "cell_type": "code",
   "execution_count": null,
   "metadata": {
    "collapsed": false
   },
   "outputs": [],
   "source": []
  }
 ],
 "metadata": {
  "kernelspec": {
   "display_name": "Python 3",
   "language": "python",
   "name": "python3"
  },
  "language_info": {
   "codemirror_mode": {
    "name": "ipython",
    "version": 3
   },
   "file_extension": ".py",
   "mimetype": "text/x-python",
   "name": "python",
   "nbconvert_exporter": "python",
   "pygments_lexer": "ipython3",
   "version": "3.4.3"
  }
 },
 "nbformat": 4,
 "nbformat_minor": 0
}
