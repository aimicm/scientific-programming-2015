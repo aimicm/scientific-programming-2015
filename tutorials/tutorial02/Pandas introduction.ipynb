{
 "metadata": {
  "name": "",
  "signature": "sha256:4fa0f4d16df582141633a35f3f2366504981373710ced71b0cd61e7dcfaeb944"
 },
 "nbformat": 3,
 "nbformat_minor": 0,
 "worksheets": [
  {
   "cells": [
    {
     "cell_type": "heading",
     "level": 3,
     "metadata": {},
     "source": [
      "Setting up"
     ]
    },
    {
     "cell_type": "code",
     "collapsed": false,
     "input": [
      "%matplotlib inline\n",
      "import pandas as pd"
     ],
     "language": "python",
     "metadata": {},
     "outputs": [],
     "prompt_number": 5
    },
    {
     "cell_type": "heading",
     "level": 3,
     "metadata": {},
     "source": [
      "Introducing the `DataFrame`"
     ]
    },
    {
     "cell_type": "code",
     "collapsed": false,
     "input": [
      "pd.DataFrame([7, 9, 13])"
     ],
     "language": "python",
     "metadata": {},
     "outputs": [
      {
       "html": [
        "<div style=\"max-height:1000px;max-width:1500px;overflow:auto;\">\n",
        "<table border=\"1\" class=\"dataframe\">\n",
        "  <thead>\n",
        "    <tr style=\"text-align: right;\">\n",
        "      <th></th>\n",
        "      <th>0</th>\n",
        "    </tr>\n",
        "  </thead>\n",
        "  <tbody>\n",
        "    <tr>\n",
        "      <th>0</th>\n",
        "      <td>  7</td>\n",
        "    </tr>\n",
        "    <tr>\n",
        "      <th>1</th>\n",
        "      <td>  9</td>\n",
        "    </tr>\n",
        "    <tr>\n",
        "      <th>2</th>\n",
        "      <td> 13</td>\n",
        "    </tr>\n",
        "  </tbody>\n",
        "</table>\n",
        "</div>"
       ],
       "metadata": {},
       "output_type": "pyout",
       "prompt_number": 6,
       "text": [
        "    0\n",
        "0   7\n",
        "1   9\n",
        "2  13"
       ]
      }
     ],
     "prompt_number": 6
    },
    {
     "cell_type": "code",
     "collapsed": false,
     "input": [
      "pd.DataFrame(0, index=list('ROWS'), columns=list('COLUMNS'))"
     ],
     "language": "python",
     "metadata": {},
     "outputs": [
      {
       "html": [
        "<div style=\"max-height:1000px;max-width:1500px;overflow:auto;\">\n",
        "<table border=\"1\" class=\"dataframe\">\n",
        "  <thead>\n",
        "    <tr style=\"text-align: right;\">\n",
        "      <th></th>\n",
        "      <th>C</th>\n",
        "      <th>O</th>\n",
        "      <th>L</th>\n",
        "      <th>U</th>\n",
        "      <th>M</th>\n",
        "      <th>N</th>\n",
        "      <th>S</th>\n",
        "    </tr>\n",
        "  </thead>\n",
        "  <tbody>\n",
        "    <tr>\n",
        "      <th>R</th>\n",
        "      <td> 0</td>\n",
        "      <td> 0</td>\n",
        "      <td> 0</td>\n",
        "      <td> 0</td>\n",
        "      <td> 0</td>\n",
        "      <td> 0</td>\n",
        "      <td> 0</td>\n",
        "    </tr>\n",
        "    <tr>\n",
        "      <th>O</th>\n",
        "      <td> 0</td>\n",
        "      <td> 0</td>\n",
        "      <td> 0</td>\n",
        "      <td> 0</td>\n",
        "      <td> 0</td>\n",
        "      <td> 0</td>\n",
        "      <td> 0</td>\n",
        "    </tr>\n",
        "    <tr>\n",
        "      <th>W</th>\n",
        "      <td> 0</td>\n",
        "      <td> 0</td>\n",
        "      <td> 0</td>\n",
        "      <td> 0</td>\n",
        "      <td> 0</td>\n",
        "      <td> 0</td>\n",
        "      <td> 0</td>\n",
        "    </tr>\n",
        "    <tr>\n",
        "      <th>S</th>\n",
        "      <td> 0</td>\n",
        "      <td> 0</td>\n",
        "      <td> 0</td>\n",
        "      <td> 0</td>\n",
        "      <td> 0</td>\n",
        "      <td> 0</td>\n",
        "      <td> 0</td>\n",
        "    </tr>\n",
        "  </tbody>\n",
        "</table>\n",
        "</div>"
       ],
       "metadata": {},
       "output_type": "pyout",
       "prompt_number": 7,
       "text": [
        "   C  O  L  U  M  N  S\n",
        "R  0  0  0  0  0  0  0\n",
        "O  0  0  0  0  0  0  0\n",
        "W  0  0  0  0  0  0  0\n",
        "S  0  0  0  0  0  0  0"
       ]
      }
     ],
     "prompt_number": 7
    },
    {
     "cell_type": "code",
     "collapsed": false,
     "input": [
      "observations = [[3, 2, 2], [2, 5, 10], [2, 7, 3]]\n",
      "pd.DataFrame(observations)"
     ],
     "language": "python",
     "metadata": {},
     "outputs": [
      {
       "html": [
        "<div style=\"max-height:1000px;max-width:1500px;overflow:auto;\">\n",
        "<table border=\"1\" class=\"dataframe\">\n",
        "  <thead>\n",
        "    <tr style=\"text-align: right;\">\n",
        "      <th></th>\n",
        "      <th>0</th>\n",
        "      <th>1</th>\n",
        "      <th>2</th>\n",
        "    </tr>\n",
        "  </thead>\n",
        "  <tbody>\n",
        "    <tr>\n",
        "      <th>0</th>\n",
        "      <td> 3</td>\n",
        "      <td> 2</td>\n",
        "      <td>  2</td>\n",
        "    </tr>\n",
        "    <tr>\n",
        "      <th>1</th>\n",
        "      <td> 2</td>\n",
        "      <td> 5</td>\n",
        "      <td> 10</td>\n",
        "    </tr>\n",
        "    <tr>\n",
        "      <th>2</th>\n",
        "      <td> 2</td>\n",
        "      <td> 7</td>\n",
        "      <td>  3</td>\n",
        "    </tr>\n",
        "  </tbody>\n",
        "</table>\n",
        "</div>"
       ],
       "metadata": {},
       "output_type": "pyout",
       "prompt_number": 8,
       "text": [
        "   0  1   2\n",
        "0  3  2   2\n",
        "1  2  5  10\n",
        "2  2  7   3"
       ]
      }
     ],
     "prompt_number": 8
    },
    {
     "cell_type": "heading",
     "level": 4,
     "metadata": {},
     "source": [
      "Labeling columns and indices"
     ]
    },
    {
     "cell_type": "code",
     "collapsed": false,
     "input": [
      "pd.DataFrame(observations, columns=['crane', 'deer', 'golfer'])"
     ],
     "language": "python",
     "metadata": {},
     "outputs": [
      {
       "html": [
        "<div style=\"max-height:1000px;max-width:1500px;overflow:auto;\">\n",
        "<table border=\"1\" class=\"dataframe\">\n",
        "  <thead>\n",
        "    <tr style=\"text-align: right;\">\n",
        "      <th></th>\n",
        "      <th>crane</th>\n",
        "      <th>deer</th>\n",
        "      <th>golfer</th>\n",
        "    </tr>\n",
        "  </thead>\n",
        "  <tbody>\n",
        "    <tr>\n",
        "      <th>0</th>\n",
        "      <td> 3</td>\n",
        "      <td> 2</td>\n",
        "      <td>  2</td>\n",
        "    </tr>\n",
        "    <tr>\n",
        "      <th>1</th>\n",
        "      <td> 2</td>\n",
        "      <td> 5</td>\n",
        "      <td> 10</td>\n",
        "    </tr>\n",
        "    <tr>\n",
        "      <th>2</th>\n",
        "      <td> 2</td>\n",
        "      <td> 7</td>\n",
        "      <td>  3</td>\n",
        "    </tr>\n",
        "  </tbody>\n",
        "</table>\n",
        "</div>"
       ],
       "metadata": {},
       "output_type": "pyout",
       "prompt_number": 9,
       "text": [
        "   crane  deer  golfer\n",
        "0      3     2       2\n",
        "1      2     5      10\n",
        "2      2     7       3"
       ]
      }
     ],
     "prompt_number": 9
    },
    {
     "cell_type": "code",
     "collapsed": false,
     "input": [
      "daily_walks = pd.DataFrame(observations, columns=['crane', 'deer', 'golfer'],\n",
      "             index=['monday', 'tuesday', 'wednesday'])\n",
      "daily_walks"
     ],
     "language": "python",
     "metadata": {},
     "outputs": [
      {
       "html": [
        "<div style=\"max-height:1000px;max-width:1500px;overflow:auto;\">\n",
        "<table border=\"1\" class=\"dataframe\">\n",
        "  <thead>\n",
        "    <tr style=\"text-align: right;\">\n",
        "      <th></th>\n",
        "      <th>crane</th>\n",
        "      <th>deer</th>\n",
        "      <th>golfer</th>\n",
        "    </tr>\n",
        "  </thead>\n",
        "  <tbody>\n",
        "    <tr>\n",
        "      <th>monday</th>\n",
        "      <td> 3</td>\n",
        "      <td> 2</td>\n",
        "      <td>  2</td>\n",
        "    </tr>\n",
        "    <tr>\n",
        "      <th>tuesday</th>\n",
        "      <td> 2</td>\n",
        "      <td> 5</td>\n",
        "      <td> 10</td>\n",
        "    </tr>\n",
        "    <tr>\n",
        "      <th>wednesday</th>\n",
        "      <td> 2</td>\n",
        "      <td> 7</td>\n",
        "      <td>  3</td>\n",
        "    </tr>\n",
        "  </tbody>\n",
        "</table>\n",
        "</div>"
       ],
       "metadata": {},
       "output_type": "pyout",
       "prompt_number": 10,
       "text": [
        "           crane  deer  golfer\n",
        "monday         3     2       2\n",
        "tuesday        2     5      10\n",
        "wednesday      2     7       3"
       ]
      }
     ],
     "prompt_number": 10
    },
    {
     "cell_type": "heading",
     "level": 4,
     "metadata": {},
     "source": [
      "Selecting a single column"
     ]
    },
    {
     "cell_type": "code",
     "collapsed": false,
     "input": [
      "daily_walks.crane"
     ],
     "language": "python",
     "metadata": {},
     "outputs": [
      {
       "metadata": {},
       "output_type": "pyout",
       "prompt_number": 11,
       "text": [
        "monday       3\n",
        "tuesday      2\n",
        "wednesday    2\n",
        "Name: crane, dtype: int64"
       ]
      }
     ],
     "prompt_number": 11
    },
    {
     "cell_type": "heading",
     "level": 4,
     "metadata": {},
     "source": [
      "Selecting multiple columns"
     ]
    },
    {
     "cell_type": "code",
     "collapsed": false,
     "input": [
      "daily_walks[['crane', 'deer']]"
     ],
     "language": "python",
     "metadata": {},
     "outputs": [
      {
       "html": [
        "<div style=\"max-height:1000px;max-width:1500px;overflow:auto;\">\n",
        "<table border=\"1\" class=\"dataframe\">\n",
        "  <thead>\n",
        "    <tr style=\"text-align: right;\">\n",
        "      <th></th>\n",
        "      <th>crane</th>\n",
        "      <th>deer</th>\n",
        "    </tr>\n",
        "  </thead>\n",
        "  <tbody>\n",
        "    <tr>\n",
        "      <th>monday</th>\n",
        "      <td> 3</td>\n",
        "      <td> 2</td>\n",
        "    </tr>\n",
        "    <tr>\n",
        "      <th>tuesday</th>\n",
        "      <td> 2</td>\n",
        "      <td> 5</td>\n",
        "    </tr>\n",
        "    <tr>\n",
        "      <th>wednesday</th>\n",
        "      <td> 2</td>\n",
        "      <td> 7</td>\n",
        "    </tr>\n",
        "  </tbody>\n",
        "</table>\n",
        "</div>"
       ],
       "metadata": {},
       "output_type": "pyout",
       "prompt_number": 12,
       "text": [
        "           crane  deer\n",
        "monday         3     2\n",
        "tuesday        2     5\n",
        "wednesday      2     7"
       ]
      }
     ],
     "prompt_number": 12
    },
    {
     "cell_type": "heading",
     "level": 3,
     "metadata": {},
     "source": [
      "Summary statistics"
     ]
    },
    {
     "cell_type": "code",
     "collapsed": false,
     "input": [
      "daily_walks.sum()"
     ],
     "language": "python",
     "metadata": {},
     "outputs": [
      {
       "metadata": {},
       "output_type": "pyout",
       "prompt_number": 13,
       "text": [
        "crane      7\n",
        "deer      14\n",
        "golfer    15\n",
        "dtype: int64"
       ]
      }
     ],
     "prompt_number": 13
    },
    {
     "cell_type": "code",
     "collapsed": false,
     "input": [
      "daily_walks.mean()"
     ],
     "language": "python",
     "metadata": {},
     "outputs": [
      {
       "metadata": {},
       "output_type": "pyout",
       "prompt_number": 14,
       "text": [
        "crane     2.333333\n",
        "deer      4.666667\n",
        "golfer    5.000000\n",
        "dtype: float64"
       ]
      }
     ],
     "prompt_number": 14
    },
    {
     "cell_type": "code",
     "collapsed": false,
     "input": [
      "daily_walks.describe()"
     ],
     "language": "python",
     "metadata": {},
     "outputs": [
      {
       "html": [
        "<div style=\"max-height:1000px;max-width:1500px;overflow:auto;\">\n",
        "<table border=\"1\" class=\"dataframe\">\n",
        "  <thead>\n",
        "    <tr style=\"text-align: right;\">\n",
        "      <th></th>\n",
        "      <th>crane</th>\n",
        "      <th>deer</th>\n",
        "      <th>golfer</th>\n",
        "    </tr>\n",
        "  </thead>\n",
        "  <tbody>\n",
        "    <tr>\n",
        "      <th>count</th>\n",
        "      <td> 3.000000</td>\n",
        "      <td> 3.000000</td>\n",
        "      <td>  3.000000</td>\n",
        "    </tr>\n",
        "    <tr>\n",
        "      <th>mean</th>\n",
        "      <td> 2.333333</td>\n",
        "      <td> 4.666667</td>\n",
        "      <td>  5.000000</td>\n",
        "    </tr>\n",
        "    <tr>\n",
        "      <th>std</th>\n",
        "      <td> 0.577350</td>\n",
        "      <td> 2.516611</td>\n",
        "      <td>  4.358899</td>\n",
        "    </tr>\n",
        "    <tr>\n",
        "      <th>min</th>\n",
        "      <td> 2.000000</td>\n",
        "      <td> 2.000000</td>\n",
        "      <td>  2.000000</td>\n",
        "    </tr>\n",
        "    <tr>\n",
        "      <th>25%</th>\n",
        "      <td> 2.000000</td>\n",
        "      <td> 3.500000</td>\n",
        "      <td>  2.500000</td>\n",
        "    </tr>\n",
        "    <tr>\n",
        "      <th>50%</th>\n",
        "      <td> 2.000000</td>\n",
        "      <td> 5.000000</td>\n",
        "      <td>  3.000000</td>\n",
        "    </tr>\n",
        "    <tr>\n",
        "      <th>75%</th>\n",
        "      <td> 2.500000</td>\n",
        "      <td> 6.000000</td>\n",
        "      <td>  6.500000</td>\n",
        "    </tr>\n",
        "    <tr>\n",
        "      <th>max</th>\n",
        "      <td> 3.000000</td>\n",
        "      <td> 7.000000</td>\n",
        "      <td> 10.000000</td>\n",
        "    </tr>\n",
        "  </tbody>\n",
        "</table>\n",
        "</div>"
       ],
       "metadata": {},
       "output_type": "pyout",
       "prompt_number": 15,
       "text": [
        "          crane      deer     golfer\n",
        "count  3.000000  3.000000   3.000000\n",
        "mean   2.333333  4.666667   5.000000\n",
        "std    0.577350  2.516611   4.358899\n",
        "min    2.000000  2.000000   2.000000\n",
        "25%    2.000000  3.500000   2.500000\n",
        "50%    2.000000  5.000000   3.000000\n",
        "75%    2.500000  6.000000   6.500000\n",
        "max    3.000000  7.000000  10.000000"
       ]
      }
     ],
     "prompt_number": 15
    },
    {
     "cell_type": "heading",
     "level": 3,
     "metadata": {},
     "source": [
      "Transposing (changing rows to columns)"
     ]
    },
    {
     "cell_type": "code",
     "collapsed": false,
     "input": [
      "daily_walks.T # Why is this useful"
     ],
     "language": "python",
     "metadata": {},
     "outputs": [
      {
       "html": [
        "<div style=\"max-height:1000px;max-width:1500px;overflow:auto;\">\n",
        "<table border=\"1\" class=\"dataframe\">\n",
        "  <thead>\n",
        "    <tr style=\"text-align: right;\">\n",
        "      <th></th>\n",
        "      <th>monday</th>\n",
        "      <th>tuesday</th>\n",
        "      <th>wednesday</th>\n",
        "    </tr>\n",
        "  </thead>\n",
        "  <tbody>\n",
        "    <tr>\n",
        "      <th>crane</th>\n",
        "      <td> 3</td>\n",
        "      <td>  2</td>\n",
        "      <td> 2</td>\n",
        "    </tr>\n",
        "    <tr>\n",
        "      <th>deer</th>\n",
        "      <td> 2</td>\n",
        "      <td>  5</td>\n",
        "      <td> 7</td>\n",
        "    </tr>\n",
        "    <tr>\n",
        "      <th>golfer</th>\n",
        "      <td> 2</td>\n",
        "      <td> 10</td>\n",
        "      <td> 3</td>\n",
        "    </tr>\n",
        "  </tbody>\n",
        "</table>\n",
        "</div>"
       ],
       "metadata": {},
       "output_type": "pyout",
       "prompt_number": 16,
       "text": [
        "        monday  tuesday  wednesday\n",
        "crane        3        2          2\n",
        "deer         2        5          7\n",
        "golfer       2       10          3"
       ]
      }
     ],
     "prompt_number": 16
    },
    {
     "cell_type": "code",
     "collapsed": false,
     "input": [
      "daily_walks.T.sum()"
     ],
     "language": "python",
     "metadata": {},
     "outputs": [
      {
       "metadata": {},
       "output_type": "pyout",
       "prompt_number": 17,
       "text": [
        "monday        7\n",
        "tuesday      17\n",
        "wednesday    12\n",
        "dtype: int64"
       ]
      }
     ],
     "prompt_number": 17
    },
    {
     "cell_type": "code",
     "collapsed": false,
     "input": [
      "daily_walks.T.describe()"
     ],
     "language": "python",
     "metadata": {},
     "outputs": [
      {
       "html": [
        "<div style=\"max-height:1000px;max-width:1500px;overflow:auto;\">\n",
        "<table border=\"1\" class=\"dataframe\">\n",
        "  <thead>\n",
        "    <tr style=\"text-align: right;\">\n",
        "      <th></th>\n",
        "      <th>monday</th>\n",
        "      <th>tuesday</th>\n",
        "      <th>wednesday</th>\n",
        "    </tr>\n",
        "  </thead>\n",
        "  <tbody>\n",
        "    <tr>\n",
        "      <th>count</th>\n",
        "      <td> 3.000000</td>\n",
        "      <td>  3.000000</td>\n",
        "      <td> 3.000000</td>\n",
        "    </tr>\n",
        "    <tr>\n",
        "      <th>mean</th>\n",
        "      <td> 2.333333</td>\n",
        "      <td>  5.666667</td>\n",
        "      <td> 4.000000</td>\n",
        "    </tr>\n",
        "    <tr>\n",
        "      <th>std</th>\n",
        "      <td> 0.577350</td>\n",
        "      <td>  4.041452</td>\n",
        "      <td> 2.645751</td>\n",
        "    </tr>\n",
        "    <tr>\n",
        "      <th>min</th>\n",
        "      <td> 2.000000</td>\n",
        "      <td>  2.000000</td>\n",
        "      <td> 2.000000</td>\n",
        "    </tr>\n",
        "    <tr>\n",
        "      <th>25%</th>\n",
        "      <td> 2.000000</td>\n",
        "      <td>  3.500000</td>\n",
        "      <td> 2.500000</td>\n",
        "    </tr>\n",
        "    <tr>\n",
        "      <th>50%</th>\n",
        "      <td> 2.000000</td>\n",
        "      <td>  5.000000</td>\n",
        "      <td> 3.000000</td>\n",
        "    </tr>\n",
        "    <tr>\n",
        "      <th>75%</th>\n",
        "      <td> 2.500000</td>\n",
        "      <td>  7.500000</td>\n",
        "      <td> 5.000000</td>\n",
        "    </tr>\n",
        "    <tr>\n",
        "      <th>max</th>\n",
        "      <td> 3.000000</td>\n",
        "      <td> 10.000000</td>\n",
        "      <td> 7.000000</td>\n",
        "    </tr>\n",
        "  </tbody>\n",
        "</table>\n",
        "</div>"
       ],
       "metadata": {},
       "output_type": "pyout",
       "prompt_number": 18,
       "text": [
        "         monday    tuesday  wednesday\n",
        "count  3.000000   3.000000   3.000000\n",
        "mean   2.333333   5.666667   4.000000\n",
        "std    0.577350   4.041452   2.645751\n",
        "min    2.000000   2.000000   2.000000\n",
        "25%    2.000000   3.500000   2.500000\n",
        "50%    2.000000   5.000000   3.000000\n",
        "75%    2.500000   7.500000   5.000000\n",
        "max    3.000000  10.000000   7.000000"
       ]
      }
     ],
     "prompt_number": 18
    },
    {
     "cell_type": "heading",
     "level": 3,
     "metadata": {},
     "source": [
      "Missing observations"
     ]
    },
    {
     "cell_type": "code",
     "collapsed": false,
     "input": [
      "observations[2][1] = None\n",
      "confused_daily_walks = pd.DataFrame(observations, columns=['crane', 'deer', 'golfer'],\n",
      "             index=['monday', 'tuesday', 'wednesday'])\n",
      "confused_daily_walks"
     ],
     "language": "python",
     "metadata": {},
     "outputs": [
      {
       "html": [
        "<div style=\"max-height:1000px;max-width:1500px;overflow:auto;\">\n",
        "<table border=\"1\" class=\"dataframe\">\n",
        "  <thead>\n",
        "    <tr style=\"text-align: right;\">\n",
        "      <th></th>\n",
        "      <th>crane</th>\n",
        "      <th>deer</th>\n",
        "      <th>golfer</th>\n",
        "    </tr>\n",
        "  </thead>\n",
        "  <tbody>\n",
        "    <tr>\n",
        "      <th>monday</th>\n",
        "      <td> 3</td>\n",
        "      <td>  2</td>\n",
        "      <td>  2</td>\n",
        "    </tr>\n",
        "    <tr>\n",
        "      <th>tuesday</th>\n",
        "      <td> 2</td>\n",
        "      <td>  5</td>\n",
        "      <td> 10</td>\n",
        "    </tr>\n",
        "    <tr>\n",
        "      <th>wednesday</th>\n",
        "      <td> 2</td>\n",
        "      <td>NaN</td>\n",
        "      <td>  3</td>\n",
        "    </tr>\n",
        "  </tbody>\n",
        "</table>\n",
        "</div>"
       ],
       "metadata": {},
       "output_type": "pyout",
       "prompt_number": 19,
       "text": [
        "           crane  deer  golfer\n",
        "monday         3     2       2\n",
        "tuesday        2     5      10\n",
        "wednesday      2   NaN       3"
       ]
      }
     ],
     "prompt_number": 19
    },
    {
     "cell_type": "heading",
     "level": 4,
     "metadata": {},
     "source": [
      "Dropping missing rows"
     ]
    },
    {
     "cell_type": "code",
     "collapsed": false,
     "input": [
      "confused_daily_walks.dropna()"
     ],
     "language": "python",
     "metadata": {},
     "outputs": [
      {
       "html": [
        "<div style=\"max-height:1000px;max-width:1500px;overflow:auto;\">\n",
        "<table border=\"1\" class=\"dataframe\">\n",
        "  <thead>\n",
        "    <tr style=\"text-align: right;\">\n",
        "      <th></th>\n",
        "      <th>crane</th>\n",
        "      <th>deer</th>\n",
        "      <th>golfer</th>\n",
        "    </tr>\n",
        "  </thead>\n",
        "  <tbody>\n",
        "    <tr>\n",
        "      <th>monday</th>\n",
        "      <td> 3</td>\n",
        "      <td> 2</td>\n",
        "      <td>  2</td>\n",
        "    </tr>\n",
        "    <tr>\n",
        "      <th>tuesday</th>\n",
        "      <td> 2</td>\n",
        "      <td> 5</td>\n",
        "      <td> 10</td>\n",
        "    </tr>\n",
        "  </tbody>\n",
        "</table>\n",
        "</div>"
       ],
       "metadata": {},
       "output_type": "pyout",
       "prompt_number": 20,
       "text": [
        "         crane  deer  golfer\n",
        "monday       3     2       2\n",
        "tuesday      2     5      10"
       ]
      }
     ],
     "prompt_number": 20
    },
    {
     "cell_type": "heading",
     "level": 4,
     "metadata": {},
     "source": [
      "Making up likely missing values"
     ]
    },
    {
     "cell_type": "code",
     "collapsed": false,
     "input": [
      "confused_daily_walks.fillna(confused_daily_walks.deer.mean())"
     ],
     "language": "python",
     "metadata": {},
     "outputs": [
      {
       "html": [
        "<div style=\"max-height:1000px;max-width:1500px;overflow:auto;\">\n",
        "<table border=\"1\" class=\"dataframe\">\n",
        "  <thead>\n",
        "    <tr style=\"text-align: right;\">\n",
        "      <th></th>\n",
        "      <th>crane</th>\n",
        "      <th>deer</th>\n",
        "      <th>golfer</th>\n",
        "    </tr>\n",
        "  </thead>\n",
        "  <tbody>\n",
        "    <tr>\n",
        "      <th>monday</th>\n",
        "      <td> 3</td>\n",
        "      <td> 2.0</td>\n",
        "      <td>  2</td>\n",
        "    </tr>\n",
        "    <tr>\n",
        "      <th>tuesday</th>\n",
        "      <td> 2</td>\n",
        "      <td> 5.0</td>\n",
        "      <td> 10</td>\n",
        "    </tr>\n",
        "    <tr>\n",
        "      <th>wednesday</th>\n",
        "      <td> 2</td>\n",
        "      <td> 3.5</td>\n",
        "      <td>  3</td>\n",
        "    </tr>\n",
        "  </tbody>\n",
        "</table>\n",
        "</div>"
       ],
       "metadata": {},
       "output_type": "pyout",
       "prompt_number": 21,
       "text": [
        "           crane  deer  golfer\n",
        "monday         3   2.0       2\n",
        "tuesday        2   5.0      10\n",
        "wednesday      2   3.5       3"
       ]
      }
     ],
     "prompt_number": 21
    },
    {
     "cell_type": "heading",
     "level": 3,
     "metadata": {},
     "source": [
      "Indexing"
     ]
    },
    {
     "cell_type": "heading",
     "level": 4,
     "metadata": {},
     "source": [
      "Using `.ix` method"
     ]
    },
    {
     "cell_type": "code",
     "collapsed": false,
     "input": [
      "daily_walks.ix['monday', 'crane']"
     ],
     "language": "python",
     "metadata": {},
     "outputs": [
      {
       "metadata": {},
       "output_type": "pyout",
       "prompt_number": 22,
       "text": [
        "3"
       ]
      }
     ],
     "prompt_number": 22
    },
    {
     "cell_type": "code",
     "collapsed": false,
     "input": [
      "daily_walks.ix[0]"
     ],
     "language": "python",
     "metadata": {},
     "outputs": [
      {
       "metadata": {},
       "output_type": "pyout",
       "prompt_number": 23,
       "text": [
        "crane     3\n",
        "deer      2\n",
        "golfer    2\n",
        "Name: monday, dtype: int64"
       ]
      }
     ],
     "prompt_number": 23
    },
    {
     "cell_type": "code",
     "collapsed": false,
     "input": [
      "daily_walks.ix[0:2, ['crane', 'deer']]"
     ],
     "language": "python",
     "metadata": {},
     "outputs": [
      {
       "html": [
        "<div style=\"max-height:1000px;max-width:1500px;overflow:auto;\">\n",
        "<table border=\"1\" class=\"dataframe\">\n",
        "  <thead>\n",
        "    <tr style=\"text-align: right;\">\n",
        "      <th></th>\n",
        "      <th>crane</th>\n",
        "      <th>deer</th>\n",
        "    </tr>\n",
        "  </thead>\n",
        "  <tbody>\n",
        "    <tr>\n",
        "      <th>monday</th>\n",
        "      <td> 3</td>\n",
        "      <td> 2</td>\n",
        "    </tr>\n",
        "    <tr>\n",
        "      <th>tuesday</th>\n",
        "      <td> 2</td>\n",
        "      <td> 5</td>\n",
        "    </tr>\n",
        "  </tbody>\n",
        "</table>\n",
        "</div>"
       ],
       "metadata": {},
       "output_type": "pyout",
       "prompt_number": 24,
       "text": [
        "         crane  deer\n",
        "monday       3     2\n",
        "tuesday      2     5"
       ]
      }
     ],
     "prompt_number": 24
    },
    {
     "cell_type": "heading",
     "level": 4,
     "metadata": {},
     "source": [
      "By location `.iloc`"
     ]
    },
    {
     "cell_type": "code",
     "collapsed": false,
     "input": [
      "daily_walks.iloc[0]"
     ],
     "language": "python",
     "metadata": {},
     "outputs": [
      {
       "metadata": {},
       "output_type": "pyout",
       "prompt_number": 25,
       "text": [
        "crane     3\n",
        "deer      2\n",
        "golfer    2\n",
        "Name: monday, dtype: int64"
       ]
      }
     ],
     "prompt_number": 25
    },
    {
     "cell_type": "heading",
     "level": 3,
     "metadata": {},
     "source": [
      "Data from files"
     ]
    },
    {
     "cell_type": "markdown",
     "metadata": {},
     "source": [
      "Nobel Prize winners data from [Weinberg et al. 2011](http://www.ncbi.nlm.nih.gov/pmc/articles/PMC3223465/#!po=70.0000). "
     ]
    },
    {
     "cell_type": "code",
     "collapsed": false,
     "input": [
      "!head nobel_prize_winners_age.csv"
     ],
     "language": "python",
     "metadata": {},
     "outputs": [
      {
       "output_type": "stream",
       "stream": "stdout",
       "text": [
        "name;field;year_birth;year_prize;year_research_mid;year_death;TheoryOrTheoryAndEmpirical;age_highdegree\r",
        "\r\n",
        "Van'T Hoff, Jacobus Henricus;Chemistry;1852;1901;1885;1911;1;22\r",
        "\r\n",
        "Fischer, Hermann Emil;Chemistry;1852;1902;1895;1919;0;22\r",
        "\r\n",
        "Arrhenius, Svante August;Chemistry;1859;1903;1884;1927;1;25\r",
        "\r\n",
        "Ramsay, Sir William;Chemistry;1852;1904;1894;1916;0;20\r",
        "\r\n",
        "Von Baeyer, Johann;Chemistry;1835;1905;1873;1917;0;23\r",
        "\r\n",
        "Moissan, Henri;Chemistry;1852;1906;1898;1907;0;28\r",
        "\r\n",
        "Buchner, Eduard;Chemistry;1860;1907;1897;1917;0;28\r",
        "\r\n",
        "Rutherford, Ernest;Chemistry;1871;1908;1902;1937;1;23\r",
        "\r\n",
        "Ostwald, Wilhelm;Chemistry;1853;1909;1894;1932;0;25\r",
        "\r\n"
       ]
      }
     ],
     "prompt_number": 26
    },
    {
     "cell_type": "code",
     "collapsed": false,
     "input": [
      "winners = pd.read_csv(\"nobel_prize_winners_age.csv\", sep=\";\")\n",
      "winners.head()"
     ],
     "language": "python",
     "metadata": {},
     "outputs": [
      {
       "html": [
        "<div style=\"max-height:1000px;max-width:1500px;overflow:auto;\">\n",
        "<table border=\"1\" class=\"dataframe\">\n",
        "  <thead>\n",
        "    <tr style=\"text-align: right;\">\n",
        "      <th></th>\n",
        "      <th>name</th>\n",
        "      <th>field</th>\n",
        "      <th>year_birth</th>\n",
        "      <th>year_prize</th>\n",
        "      <th>year_research_mid</th>\n",
        "      <th>year_death</th>\n",
        "      <th>TheoryOrTheoryAndEmpirical</th>\n",
        "      <th>age_highdegree</th>\n",
        "    </tr>\n",
        "  </thead>\n",
        "  <tbody>\n",
        "    <tr>\n",
        "      <th>0</th>\n",
        "      <td> Van'T Hoff, Jacobus Henricus</td>\n",
        "      <td> Chemistry</td>\n",
        "      <td> 1852</td>\n",
        "      <td> 1901</td>\n",
        "      <td> 1885</td>\n",
        "      <td> 1911</td>\n",
        "      <td> 1</td>\n",
        "      <td> 22</td>\n",
        "    </tr>\n",
        "    <tr>\n",
        "      <th>1</th>\n",
        "      <td>        Fischer, Hermann Emil</td>\n",
        "      <td> Chemistry</td>\n",
        "      <td> 1852</td>\n",
        "      <td> 1902</td>\n",
        "      <td> 1895</td>\n",
        "      <td> 1919</td>\n",
        "      <td> 0</td>\n",
        "      <td> 22</td>\n",
        "    </tr>\n",
        "    <tr>\n",
        "      <th>2</th>\n",
        "      <td>     Arrhenius, Svante August</td>\n",
        "      <td> Chemistry</td>\n",
        "      <td> 1859</td>\n",
        "      <td> 1903</td>\n",
        "      <td> 1884</td>\n",
        "      <td> 1927</td>\n",
        "      <td> 1</td>\n",
        "      <td> 25</td>\n",
        "    </tr>\n",
        "    <tr>\n",
        "      <th>3</th>\n",
        "      <td>          Ramsay, Sir William</td>\n",
        "      <td> Chemistry</td>\n",
        "      <td> 1852</td>\n",
        "      <td> 1904</td>\n",
        "      <td> 1894</td>\n",
        "      <td> 1916</td>\n",
        "      <td> 0</td>\n",
        "      <td> 20</td>\n",
        "    </tr>\n",
        "    <tr>\n",
        "      <th>4</th>\n",
        "      <td>           Von Baeyer, Johann</td>\n",
        "      <td> Chemistry</td>\n",
        "      <td> 1835</td>\n",
        "      <td> 1905</td>\n",
        "      <td> 1873</td>\n",
        "      <td> 1917</td>\n",
        "      <td> 0</td>\n",
        "      <td> 23</td>\n",
        "    </tr>\n",
        "  </tbody>\n",
        "</table>\n",
        "</div>"
       ],
       "metadata": {},
       "output_type": "pyout",
       "prompt_number": 27,
       "text": [
        "                           name      field  year_birth  year_prize  \\\n",
        "0  Van'T Hoff, Jacobus Henricus  Chemistry        1852        1901   \n",
        "1         Fischer, Hermann Emil  Chemistry        1852        1902   \n",
        "2      Arrhenius, Svante August  Chemistry        1859        1903   \n",
        "3           Ramsay, Sir William  Chemistry        1852        1904   \n",
        "4            Von Baeyer, Johann  Chemistry        1835        1905   \n",
        "\n",
        "   year_research_mid  year_death  TheoryOrTheoryAndEmpirical  age_highdegree  \n",
        "0               1885        1911                           1              22  \n",
        "1               1895        1919                           0              22  \n",
        "2               1884        1927                           1              25  \n",
        "3               1894        1916                           0              20  \n",
        "4               1873        1917                           0              23  "
       ]
      }
     ],
     "prompt_number": 27
    },
    {
     "cell_type": "heading",
     "level": 3,
     "metadata": {},
     "source": [
      "Histogram"
     ]
    },
    {
     "cell_type": "code",
     "collapsed": false,
     "input": [
      "winners.year_prize.hist()"
     ],
     "language": "python",
     "metadata": {},
     "outputs": [
      {
       "metadata": {},
       "output_type": "pyout",
       "prompt_number": 28,
       "text": [
        "<matplotlib.axes._subplots.AxesSubplot at 0x10a657ed0>"
       ]
      },
      {
       "metadata": {},
       "output_type": "display_data",
       "png": "[encoded data removed]",
       "text": [
        "<matplotlib.figure.Figure at 0x10a657fd0>"
       ]
      }
     ],
     "prompt_number": 28
    },
    {
     "cell_type": "heading",
     "level": 3,
     "metadata": {},
     "source": [
      "Table of counts"
     ]
    },
    {
     "cell_type": "code",
     "collapsed": false,
     "input": [
      "winners.year_prize.value_counts()\n",
      "winners.year_prize.value_counts().sort_index().head()"
     ],
     "language": "python",
     "metadata": {},
     "outputs": [
      {
       "metadata": {},
       "output_type": "pyout",
       "prompt_number": 29,
       "text": [
        "1901    3\n",
        "1902    4\n",
        "1903    5\n",
        "1904    3\n",
        "1905    3\n",
        "dtype: int64"
       ]
      }
     ],
     "prompt_number": 29
    },
    {
     "cell_type": "heading",
     "level": 3,
     "metadata": {},
     "source": [
      "Sorting the index"
     ]
    },
    {
     "cell_type": "code",
     "collapsed": false,
     "input": [
      "winners.year_prize.value_counts().sort_index().plot();"
     ],
     "language": "python",
     "metadata": {},
     "outputs": [
      {
       "metadata": {},
       "output_type": "display_data",
       "png": "[encoded data removed]",
       "text": [
        "<matplotlib.figure.Figure at 0x10a7d7c50>"
       ]
      }
     ],
     "prompt_number": 30
    },
    {
     "cell_type": "heading",
     "level": 3,
     "metadata": {},
     "source": [
      "By field"
     ]
    },
    {
     "cell_type": "code",
     "collapsed": false,
     "input": [
      "winners.field.value_counts()"
     ],
     "language": "python",
     "metadata": {},
     "outputs": [
      {
       "metadata": {},
       "output_type": "pyout",
       "prompt_number": 31,
       "text": [
        "Medicine     190\n",
        "Physics      182\n",
        "Chemistry    153\n",
        "dtype: int64"
       ]
      }
     ],
     "prompt_number": 31
    },
    {
     "cell_type": "heading",
     "level": 3,
     "metadata": {},
     "source": [
      "Defining new variables"
     ]
    },
    {
     "cell_type": "code",
     "collapsed": false,
     "input": [
      "winners['age_at_prize'] = winners.year_prize - winners.year_birth"
     ],
     "language": "python",
     "metadata": {},
     "outputs": [],
     "prompt_number": 32
    },
    {
     "cell_type": "code",
     "collapsed": false,
     "input": [
      "print winners.age_at_prize.min()\n",
      "print winners.age_at_prize.mean()\n",
      "print winners.age_at_prize.max()"
     ],
     "language": "python",
     "metadata": {},
     "outputs": [
      {
       "output_type": "stream",
       "stream": "stdout",
       "text": [
        "25\n",
        "55.9047619048\n",
        "88\n"
       ]
      }
     ],
     "prompt_number": 33
    },
    {
     "cell_type": "heading",
     "level": 3,
     "metadata": {},
     "source": [
      "Finding the minimum"
     ]
    },
    {
     "cell_type": "code",
     "collapsed": false,
     "input": [
      "index_of_youngest = winners.age_at_prize.argmin()\n",
      "winners.ix[index_of_youngest]"
     ],
     "language": "python",
     "metadata": {},
     "outputs": [
      {
       "metadata": {},
       "output_type": "pyout",
       "prompt_number": 34,
       "text": [
        "name                          Bragg, William Lawrence\n",
        "field                                         Physics\n",
        "year_birth                                       1890\n",
        "year_prize                                       1915\n",
        "year_research_mid                                1912\n",
        "year_death                                       1942\n",
        "TheoryOrTheoryAndEmpirical                          0\n",
        "age_highdegree                                     22\n",
        "age_at_prize                                       25\n",
        "Name: 362, dtype: object"
       ]
      }
     ],
     "prompt_number": 34
    },
    {
     "cell_type": "heading",
     "level": 3,
     "metadata": {},
     "source": [
      "Spread of variables"
     ]
    },
    {
     "cell_type": "code",
     "collapsed": false,
     "input": [
      "winners['degree_to_prize'] = winners.year_prize - (winners.year_birth + winners.age_highdegree)\n",
      "winners['degree_to_research'] = winners.year_research_mid - (winners.year_birth + winners.age_highdegree)\n",
      "winners['research_to_prize'] = winners.year_prize - winners.year_research_mid"
     ],
     "language": "python",
     "metadata": {},
     "outputs": [],
     "prompt_number": 35
    },
    {
     "cell_type": "code",
     "collapsed": false,
     "input": [
      "winners[['degree_to_prize', 'degree_to_research', 'research_to_prize']].boxplot();"
     ],
     "language": "python",
     "metadata": {},
     "outputs": [
      {
       "metadata": {},
       "output_type": "display_data",
       "png": "[encoded data removed]",
       "text": [
        "<matplotlib.figure.Figure at 0x10a8f2510>"
       ]
      }
     ],
     "prompt_number": 36
    },
    {
     "cell_type": "heading",
     "level": 3,
     "metadata": {},
     "source": [
      "Grouping operations"
     ]
    },
    {
     "cell_type": "heading",
     "level": 4,
     "metadata": {},
     "source": [
      "Age of prize across fields"
     ]
    },
    {
     "cell_type": "code",
     "collapsed": false,
     "input": [
      "winners.groupby('field').age_at_prize.mean()"
     ],
     "language": "python",
     "metadata": {},
     "outputs": [
      {
       "metadata": {},
       "output_type": "pyout",
       "prompt_number": 37,
       "text": [
        "field\n",
        "Chemistry    56.555556\n",
        "Medicine     57.031579\n",
        "Physics      54.181319\n",
        "Name: age_at_prize, dtype: float64"
       ]
      }
     ],
     "prompt_number": 37
    },
    {
     "cell_type": "heading",
     "level": 4,
     "metadata": {},
     "source": [
      "Sharing of prizes"
     ]
    },
    {
     "cell_type": "code",
     "collapsed": false,
     "input": [
      "winners_per_year_in_chem = winners[winners.field == 'Chemistry'].groupby('year_prize').field.count()\n",
      "winners_per_year_in_chem.head(10)"
     ],
     "language": "python",
     "metadata": {},
     "outputs": [
      {
       "metadata": {},
       "output_type": "pyout",
       "prompt_number": 38,
       "text": [
        "year_prize\n",
        "1901          1\n",
        "1902          1\n",
        "1903          1\n",
        "1904          1\n",
        "1905          1\n",
        "1906          1\n",
        "1907          1\n",
        "1908          1\n",
        "1909          1\n",
        "1910          1\n",
        "dtype: int64"
       ]
      }
     ],
     "prompt_number": 38
    },
    {
     "cell_type": "code",
     "collapsed": false,
     "input": [
      "winners_per_year_in_chem.plot();"
     ],
     "language": "python",
     "metadata": {},
     "outputs": [
      {
       "metadata": {},
       "output_type": "display_data",
       "png": "[encoded data removed]",
       "text": [
        "<matplotlib.figure.Figure at 0x10a9d50d0>"
       ]
      }
     ],
     "prompt_number": 39
    },
    {
     "cell_type": "heading",
     "level": 4,
     "metadata": {},
     "source": [
      "Difference at two points in time"
     ]
    },
    {
     "cell_type": "code",
     "collapsed": false,
     "input": [
      "print \"1920-1939\", winners_per_year_in_chem.ix[1920:1940].mean()\n",
      "print \"1980-1999\", winners_per_year_in_chem.ix[1980:2000].mean()"
     ],
     "language": "python",
     "metadata": {},
     "outputs": [
      {
       "output_type": "stream",
       "stream": "stdout",
       "text": [
        "1920-1939 "
       ]
      },
      {
       "output_type": "stream",
       "stream": "stdout",
       "text": [
        "1.27777777778\n",
        "1980-1999 1.95238095238\n"
       ]
      }
     ],
     "prompt_number": 40
    },
    {
     "cell_type": "heading",
     "level": 4,
     "metadata": {},
     "source": [
      "Smoothing the curve"
     ]
    },
    {
     "cell_type": "code",
     "collapsed": false,
     "input": [
      "pd.rolling_mean(winners_per_year_in_chem, 5).plot()"
     ],
     "language": "python",
     "metadata": {},
     "outputs": [
      {
       "metadata": {},
       "output_type": "pyout",
       "prompt_number": 41,
       "text": [
        "<matplotlib.axes._subplots.AxesSubplot at 0x10ab29a50>"
       ]
      },
      {
       "metadata": {},
       "output_type": "display_data",
       "png": "[encoded data removed]",
       "text": [
        "<matplotlib.figure.Figure at 0x10ab0dad0>"
       ]
      }
     ],
     "prompt_number": 41
    },
    {
     "cell_type": "heading",
     "level": 4,
     "metadata": {},
     "source": [
      "Per decade"
     ]
    },
    {
     "cell_type": "code",
     "collapsed": false,
     "input": [
      "decades = (winners_per_year_in_chem.index / 10) * 10\n",
      "decades"
     ],
     "language": "python",
     "metadata": {},
     "outputs": [
      {
       "metadata": {},
       "output_type": "pyout",
       "prompt_number": 42,
       "text": [
        "Int64Index([1900, 1900, 1900, 1900, 1900, 1900, 1900, 1900, 1900, 1910, 1910, 1910, 1910, 1910, 1910, 1910, 1920, 1920, 1920, 1920, 1920, 1920, 1920, 1920, 1920, 1930, 1930, 1930, 1930, 1930, 1930, 1930, 1930, 1930, 1940, 1940, 1940, 1940, 1940, 1940, 1940, 1950, 1950, 1950, 1950, 1950, 1950, 1950, 1950, 1950, 1950, 1960, 1960, 1960, 1960, 1960, 1960, 1960, 1960, 1960, 1960, 1970, 1970, 1970, 1970, 1970, 1970, 1970, 1970, 1970, 1970, 1980, 1980, 1980, 1980, 1980, 1980, 1980, 1980, 1980, 1980, 1990, 1990, 1990, 1990, 1990, 1990, 1990, 1990, 1990, 1990, 2000, 2000, 2000, 2000, 2000, 2000, 2000, 2000, 2000], dtype=int64)"
       ]
      }
     ],
     "prompt_number": 42
    },
    {
     "cell_type": "code",
     "collapsed": false,
     "input": [
      "winners_per_year_in_chem.groupby(decades).mean().plot()"
     ],
     "language": "python",
     "metadata": {},
     "outputs": [
      {
       "metadata": {},
       "output_type": "pyout",
       "prompt_number": 43,
       "text": [
        "<matplotlib.axes._subplots.AxesSubplot at 0x10abb8190>"
       ]
      },
      {
       "metadata": {},
       "output_type": "display_data",
       "png": "[encoded data removed]",
       "text": [
        "<matplotlib.figure.Figure at 0x10abc3050>"
       ]
      }
     ],
     "prompt_number": 43
    },
    {
     "cell_type": "heading",
     "level": 3,
     "metadata": {},
     "source": [
      "Grouping by multiple values"
     ]
    },
    {
     "cell_type": "code",
     "collapsed": false,
     "input": [
      "by_year_prize_and_field = winners.groupby(['year_prize', 'field']).year_prize.count()\n",
      "by_year_prize_and_field.head(15)"
     ],
     "language": "python",
     "metadata": {},
     "outputs": [
      {
       "metadata": {},
       "output_type": "pyout",
       "prompt_number": 44,
       "text": [
        "year_prize  field    \n",
        "1901        Chemistry    1\n",
        "            Medicine     1\n",
        "            Physics      1\n",
        "1902        Chemistry    1\n",
        "            Medicine     1\n",
        "            Physics      2\n",
        "1903        Chemistry    1\n",
        "            Medicine     1\n",
        "            Physics      3\n",
        "1904        Chemistry    1\n",
        "            Medicine     1\n",
        "            Physics      1\n",
        "1905        Chemistry    1\n",
        "            Medicine     1\n",
        "            Physics      1\n",
        "dtype: int64"
       ]
      }
     ],
     "prompt_number": 44
    },
    {
     "cell_type": "code",
     "collapsed": false,
     "input": [
      "by_year_prize_and_field.unstack('field').head(20)"
     ],
     "language": "python",
     "metadata": {},
     "outputs": [
      {
       "html": [
        "<div style=\"max-height:1000px;max-width:1500px;overflow:auto;\">\n",
        "<table border=\"1\" class=\"dataframe\">\n",
        "  <thead>\n",
        "    <tr style=\"text-align: right;\">\n",
        "      <th>field</th>\n",
        "      <th>Chemistry</th>\n",
        "      <th>Medicine</th>\n",
        "      <th>Physics</th>\n",
        "    </tr>\n",
        "    <tr>\n",
        "      <th>year_prize</th>\n",
        "      <th></th>\n",
        "      <th></th>\n",
        "      <th></th>\n",
        "    </tr>\n",
        "  </thead>\n",
        "  <tbody>\n",
        "    <tr>\n",
        "      <th>1901</th>\n",
        "      <td>  1</td>\n",
        "      <td>  1</td>\n",
        "      <td> 1</td>\n",
        "    </tr>\n",
        "    <tr>\n",
        "      <th>1902</th>\n",
        "      <td>  1</td>\n",
        "      <td>  1</td>\n",
        "      <td> 2</td>\n",
        "    </tr>\n",
        "    <tr>\n",
        "      <th>1903</th>\n",
        "      <td>  1</td>\n",
        "      <td>  1</td>\n",
        "      <td> 3</td>\n",
        "    </tr>\n",
        "    <tr>\n",
        "      <th>1904</th>\n",
        "      <td>  1</td>\n",
        "      <td>  1</td>\n",
        "      <td> 1</td>\n",
        "    </tr>\n",
        "    <tr>\n",
        "      <th>1905</th>\n",
        "      <td>  1</td>\n",
        "      <td>  1</td>\n",
        "      <td> 1</td>\n",
        "    </tr>\n",
        "    <tr>\n",
        "      <th>1906</th>\n",
        "      <td>  1</td>\n",
        "      <td>  2</td>\n",
        "      <td> 1</td>\n",
        "    </tr>\n",
        "    <tr>\n",
        "      <th>1907</th>\n",
        "      <td>  1</td>\n",
        "      <td>  1</td>\n",
        "      <td> 1</td>\n",
        "    </tr>\n",
        "    <tr>\n",
        "      <th>1908</th>\n",
        "      <td>  1</td>\n",
        "      <td>  2</td>\n",
        "      <td> 1</td>\n",
        "    </tr>\n",
        "    <tr>\n",
        "      <th>1909</th>\n",
        "      <td>  1</td>\n",
        "      <td>  1</td>\n",
        "      <td> 2</td>\n",
        "    </tr>\n",
        "    <tr>\n",
        "      <th>1910</th>\n",
        "      <td>  1</td>\n",
        "      <td>  1</td>\n",
        "      <td> 1</td>\n",
        "    </tr>\n",
        "    <tr>\n",
        "      <th>1911</th>\n",
        "      <td>  1</td>\n",
        "      <td>  1</td>\n",
        "      <td> 1</td>\n",
        "    </tr>\n",
        "    <tr>\n",
        "      <th>1912</th>\n",
        "      <td>  2</td>\n",
        "      <td>  1</td>\n",
        "      <td> 1</td>\n",
        "    </tr>\n",
        "    <tr>\n",
        "      <th>1913</th>\n",
        "      <td>  1</td>\n",
        "      <td>  1</td>\n",
        "      <td> 1</td>\n",
        "    </tr>\n",
        "    <tr>\n",
        "      <th>1914</th>\n",
        "      <td>  1</td>\n",
        "      <td>  1</td>\n",
        "      <td> 1</td>\n",
        "    </tr>\n",
        "    <tr>\n",
        "      <th>1915</th>\n",
        "      <td>  1</td>\n",
        "      <td>NaN</td>\n",
        "      <td> 2</td>\n",
        "    </tr>\n",
        "    <tr>\n",
        "      <th>1917</th>\n",
        "      <td>NaN</td>\n",
        "      <td>NaN</td>\n",
        "      <td> 1</td>\n",
        "    </tr>\n",
        "    <tr>\n",
        "      <th>1918</th>\n",
        "      <td>  1</td>\n",
        "      <td>NaN</td>\n",
        "      <td> 1</td>\n",
        "    </tr>\n",
        "    <tr>\n",
        "      <th>1919</th>\n",
        "      <td>NaN</td>\n",
        "      <td>  1</td>\n",
        "      <td> 1</td>\n",
        "    </tr>\n",
        "    <tr>\n",
        "      <th>1920</th>\n",
        "      <td>  1</td>\n",
        "      <td>  1</td>\n",
        "      <td> 1</td>\n",
        "    </tr>\n",
        "    <tr>\n",
        "      <th>1921</th>\n",
        "      <td>  1</td>\n",
        "      <td>NaN</td>\n",
        "      <td> 1</td>\n",
        "    </tr>\n",
        "  </tbody>\n",
        "</table>\n",
        "</div>"
       ],
       "metadata": {},
       "output_type": "pyout",
       "prompt_number": 45,
       "text": [
        "field       Chemistry  Medicine  Physics\n",
        "year_prize                              \n",
        "1901                1         1        1\n",
        "1902                1         1        2\n",
        "1903                1         1        3\n",
        "1904                1         1        1\n",
        "1905                1         1        1\n",
        "1906                1         2        1\n",
        "1907                1         1        1\n",
        "1908                1         2        1\n",
        "1909                1         1        2\n",
        "1910                1         1        1\n",
        "1911                1         1        1\n",
        "1912                2         1        1\n",
        "1913                1         1        1\n",
        "1914                1         1        1\n",
        "1915                1       NaN        2\n",
        "1917              NaN       NaN        1\n",
        "1918                1       NaN        1\n",
        "1919              NaN         1        1\n",
        "1920                1         1        1\n",
        "1921                1       NaN        1"
       ]
      }
     ],
     "prompt_number": 45
    },
    {
     "cell_type": "code",
     "collapsed": false,
     "input": [
      "n_prizes_by_field = by_year_prize_and_field.unstack('field').fillna(0)\n",
      "n_prizes_by_field.head(20)"
     ],
     "language": "python",
     "metadata": {},
     "outputs": [
      {
       "html": [
        "<div style=\"max-height:1000px;max-width:1500px;overflow:auto;\">\n",
        "<table border=\"1\" class=\"dataframe\">\n",
        "  <thead>\n",
        "    <tr style=\"text-align: right;\">\n",
        "      <th>field</th>\n",
        "      <th>Chemistry</th>\n",
        "      <th>Medicine</th>\n",
        "      <th>Physics</th>\n",
        "    </tr>\n",
        "    <tr>\n",
        "      <th>year_prize</th>\n",
        "      <th></th>\n",
        "      <th></th>\n",
        "      <th></th>\n",
        "    </tr>\n",
        "  </thead>\n",
        "  <tbody>\n",
        "    <tr>\n",
        "      <th>1901</th>\n",
        "      <td> 1</td>\n",
        "      <td> 1</td>\n",
        "      <td> 1</td>\n",
        "    </tr>\n",
        "    <tr>\n",
        "      <th>1902</th>\n",
        "      <td> 1</td>\n",
        "      <td> 1</td>\n",
        "      <td> 2</td>\n",
        "    </tr>\n",
        "    <tr>\n",
        "      <th>1903</th>\n",
        "      <td> 1</td>\n",
        "      <td> 1</td>\n",
        "      <td> 3</td>\n",
        "    </tr>\n",
        "    <tr>\n",
        "      <th>1904</th>\n",
        "      <td> 1</td>\n",
        "      <td> 1</td>\n",
        "      <td> 1</td>\n",
        "    </tr>\n",
        "    <tr>\n",
        "      <th>1905</th>\n",
        "      <td> 1</td>\n",
        "      <td> 1</td>\n",
        "      <td> 1</td>\n",
        "    </tr>\n",
        "    <tr>\n",
        "      <th>1906</th>\n",
        "      <td> 1</td>\n",
        "      <td> 2</td>\n",
        "      <td> 1</td>\n",
        "    </tr>\n",
        "    <tr>\n",
        "      <th>1907</th>\n",
        "      <td> 1</td>\n",
        "      <td> 1</td>\n",
        "      <td> 1</td>\n",
        "    </tr>\n",
        "    <tr>\n",
        "      <th>1908</th>\n",
        "      <td> 1</td>\n",
        "      <td> 2</td>\n",
        "      <td> 1</td>\n",
        "    </tr>\n",
        "    <tr>\n",
        "      <th>1909</th>\n",
        "      <td> 1</td>\n",
        "      <td> 1</td>\n",
        "      <td> 2</td>\n",
        "    </tr>\n",
        "    <tr>\n",
        "      <th>1910</th>\n",
        "      <td> 1</td>\n",
        "      <td> 1</td>\n",
        "      <td> 1</td>\n",
        "    </tr>\n",
        "    <tr>\n",
        "      <th>1911</th>\n",
        "      <td> 1</td>\n",
        "      <td> 1</td>\n",
        "      <td> 1</td>\n",
        "    </tr>\n",
        "    <tr>\n",
        "      <th>1912</th>\n",
        "      <td> 2</td>\n",
        "      <td> 1</td>\n",
        "      <td> 1</td>\n",
        "    </tr>\n",
        "    <tr>\n",
        "      <th>1913</th>\n",
        "      <td> 1</td>\n",
        "      <td> 1</td>\n",
        "      <td> 1</td>\n",
        "    </tr>\n",
        "    <tr>\n",
        "      <th>1914</th>\n",
        "      <td> 1</td>\n",
        "      <td> 1</td>\n",
        "      <td> 1</td>\n",
        "    </tr>\n",
        "    <tr>\n",
        "      <th>1915</th>\n",
        "      <td> 1</td>\n",
        "      <td> 0</td>\n",
        "      <td> 2</td>\n",
        "    </tr>\n",
        "    <tr>\n",
        "      <th>1917</th>\n",
        "      <td> 0</td>\n",
        "      <td> 0</td>\n",
        "      <td> 1</td>\n",
        "    </tr>\n",
        "    <tr>\n",
        "      <th>1918</th>\n",
        "      <td> 1</td>\n",
        "      <td> 0</td>\n",
        "      <td> 1</td>\n",
        "    </tr>\n",
        "    <tr>\n",
        "      <th>1919</th>\n",
        "      <td> 0</td>\n",
        "      <td> 1</td>\n",
        "      <td> 1</td>\n",
        "    </tr>\n",
        "    <tr>\n",
        "      <th>1920</th>\n",
        "      <td> 1</td>\n",
        "      <td> 1</td>\n",
        "      <td> 1</td>\n",
        "    </tr>\n",
        "    <tr>\n",
        "      <th>1921</th>\n",
        "      <td> 1</td>\n",
        "      <td> 0</td>\n",
        "      <td> 1</td>\n",
        "    </tr>\n",
        "  </tbody>\n",
        "</table>\n",
        "</div>"
       ],
       "metadata": {},
       "output_type": "pyout",
       "prompt_number": 46,
       "text": [
        "field       Chemistry  Medicine  Physics\n",
        "year_prize                              \n",
        "1901                1         1        1\n",
        "1902                1         1        2\n",
        "1903                1         1        3\n",
        "1904                1         1        1\n",
        "1905                1         1        1\n",
        "1906                1         2        1\n",
        "1907                1         1        1\n",
        "1908                1         2        1\n",
        "1909                1         1        2\n",
        "1910                1         1        1\n",
        "1911                1         1        1\n",
        "1912                2         1        1\n",
        "1913                1         1        1\n",
        "1914                1         1        1\n",
        "1915                1         0        2\n",
        "1917                0         0        1\n",
        "1918                1         0        1\n",
        "1919                0         1        1\n",
        "1920                1         1        1\n",
        "1921                1         0        1"
       ]
      }
     ],
     "prompt_number": 46
    },
    {
     "cell_type": "code",
     "collapsed": false,
     "input": [
      "decades = (n_prizes_by_field.index/10)*10\n",
      "n_prizes_by_field.groupby(decades).mean().plot()"
     ],
     "language": "python",
     "metadata": {},
     "outputs": [
      {
       "metadata": {},
       "output_type": "pyout",
       "prompt_number": 47,
       "text": [
        "<matplotlib.axes._subplots.AxesSubplot at 0x10ab29dd0>"
       ]
      },
      {
       "metadata": {},
       "output_type": "display_data",
       "png": "[encoded data removed]",
       "text": [
        "<matplotlib.figure.Figure at 0x10aaebf10>"
       ]
      }
     ],
     "prompt_number": 47
    },
    {
     "cell_type": "code",
     "collapsed": false,
     "input": [
      "n_prizes_by_field.groupby(decades).mean().plot(kind='bar') # barh"
     ],
     "language": "python",
     "metadata": {},
     "outputs": [
      {
       "metadata": {},
       "output_type": "pyout",
       "prompt_number": 48,
       "text": [
        "<matplotlib.axes._subplots.AxesSubplot at 0x10a958550>"
       ]
      },
      {
       "metadata": {},
       "output_type": "display_data",
       "png": "[encoded data removed]",
       "text": [
        "<matplotlib.figure.Figure at 0x10a8720d0>"
       ]
      }
     ],
     "prompt_number": 48
    }
   ],
   "metadata": {}
  }
 ]
}