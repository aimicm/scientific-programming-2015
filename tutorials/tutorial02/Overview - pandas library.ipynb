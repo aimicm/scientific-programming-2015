{
 "cells": [
  {
   "cell_type": "markdown",
   "metadata": {},
   "source": [
    "#`pandas`\n",
    "`pandas` is a Python *library*, a collection of functions and objects that allow you to do one thing. In the case of `pandas`, that thing is statistical data analysis.\n",
    "\n",
    "\n",
    "### Setting up\n",
    "First, we need to tell Python that we want to use `pandas`. We do that with the `import` statement. Because we are lazy and don't want to type *`pandas`* everytime we call the library, we can tell Python that we'll refer to the library by an alias, which by convention is `pd`. \n",
    "\n",
    "If you are not as lazy, you can leave out the `as pd` part. Although in principle, you can alias the library to whathever you want (e.g., `import pandas as endangered_species`), it makes for more readable code if you stick to the accepted conventions for common libraries such as `pandas`."
   ]
  },
  {
   "cell_type": "code",
   "execution_count": 3,
   "metadata": {
    "collapsed": false
   },
   "outputs": [],
   "source": [
    "%matplotlib inline\n",
    "# use the pandas library, and abbreviate it as 'pd'\n",
    "import pandas as pd"
   ]
  },
  {
   "cell_type": "markdown",
   "metadata": {},
   "source": [
    "### Introducing the `DataFrame`\n",
    "The main object that we use from `pandas` is the `DataFrame`. You can think of it as a giant table with a lot of fancy options.\n",
    "In it's simplest form, the rows as columns of the `DataFrame` are simply numbered, and the table holds the data. This is also called a *matrix*."
   ]
  },
  {
   "cell_type": "code",
   "execution_count": 4,
   "metadata": {
    "collapsed": false
   },
   "outputs": [
    {
     "data": {
      "text/html": [
       "<div style=\"max-height:1000px;max-width:1500px;overflow:auto;\">\n",
       "<table border=\"1\" class=\"dataframe\">\n",
       "  <thead>\n",
       "    <tr style=\"text-align: right;\">\n",
       "      <th></th>\n",
       "      <th>0</th>\n",
       "    </tr>\n",
       "  </thead>\n",
       "  <tbody>\n",
       "    <tr>\n",
       "      <th>0</th>\n",
       "      <td>7</td>\n",
       "    </tr>\n",
       "    <tr>\n",
       "      <th>1</th>\n",
       "      <td>9</td>\n",
       "    </tr>\n",
       "    <tr>\n",
       "      <th>2</th>\n",
       "      <td>13</td>\n",
       "    </tr>\n",
       "  </tbody>\n",
       "</table>\n",
       "</div>"
      ],
      "text/plain": [
       "    0\n",
       "0   7\n",
       "1   9\n",
       "2  13"
      ]
     },
     "execution_count": 4,
     "metadata": {},
     "output_type": "execute_result"
    }
   ],
   "source": [
    "pd.DataFrame([7, 9, 13])"
   ]
  },
  {
   "cell_type": "markdown",
   "metadata": {},
   "source": [
    "If you are working with a lot of data, it can become tedious to remember which column stood for, say *average household income*, and you'll end up having tons of post-its around your workplace. `pandas` can help you unclutter your data scientist life by providing the option to name the rows and columns. All you need to do is provide the names as lists to the keywords `index` (for the row names) and `columns` (for, well, the columns). Like so (if the data is a single element, `pandas` just assumes you would like to fill the whole table with it):"
   ]
  },
  {
   "cell_type": "code",
   "execution_count": 5,
   "metadata": {
    "collapsed": false
   },
   "outputs": [
    {
     "data": {
      "text/html": [
       "<div style=\"max-height:1000px;max-width:1500px;overflow:auto;\">\n",
       "<table border=\"1\" class=\"dataframe\">\n",
       "  <thead>\n",
       "    <tr style=\"text-align: right;\">\n",
       "      <th></th>\n",
       "      <th>C</th>\n",
       "      <th>O</th>\n",
       "      <th>L</th>\n",
       "      <th>U</th>\n",
       "      <th>M</th>\n",
       "      <th>N</th>\n",
       "      <th>S</th>\n",
       "    </tr>\n",
       "  </thead>\n",
       "  <tbody>\n",
       "    <tr>\n",
       "      <th>R</th>\n",
       "      <td>0</td>\n",
       "      <td>0</td>\n",
       "      <td>0</td>\n",
       "      <td>0</td>\n",
       "      <td>0</td>\n",
       "      <td>0</td>\n",
       "      <td>0</td>\n",
       "    </tr>\n",
       "    <tr>\n",
       "      <th>O</th>\n",
       "      <td>0</td>\n",
       "      <td>0</td>\n",
       "      <td>0</td>\n",
       "      <td>0</td>\n",
       "      <td>0</td>\n",
       "      <td>0</td>\n",
       "      <td>0</td>\n",
       "    </tr>\n",
       "    <tr>\n",
       "      <th>W</th>\n",
       "      <td>0</td>\n",
       "      <td>0</td>\n",
       "      <td>0</td>\n",
       "      <td>0</td>\n",
       "      <td>0</td>\n",
       "      <td>0</td>\n",
       "      <td>0</td>\n",
       "    </tr>\n",
       "    <tr>\n",
       "      <th>S</th>\n",
       "      <td>0</td>\n",
       "      <td>0</td>\n",
       "      <td>0</td>\n",
       "      <td>0</td>\n",
       "      <td>0</td>\n",
       "      <td>0</td>\n",
       "      <td>0</td>\n",
       "    </tr>\n",
       "  </tbody>\n",
       "</table>\n",
       "</div>"
      ],
      "text/plain": [
       "   C  O  L  U  M  N  S\n",
       "R  0  0  0  0  0  0  0\n",
       "O  0  0  0  0  0  0  0\n",
       "W  0  0  0  0  0  0  0\n",
       "S  0  0  0  0  0  0  0"
      ]
     },
     "execution_count": 5,
     "metadata": {},
     "output_type": "execute_result"
    }
   ],
   "source": [
    "pd.DataFrame(0, index=list('ROWS'), columns=list('COLUMNS'))"
   ]
  },
  {
   "cell_type": "markdown",
   "metadata": {},
   "source": [
    "Normally, you don't want just one value everywhere, but some real data. You can provide that data via a list of lists, where each element in the outer list is a row, and each element in those row lists is a column."
   ]
  },
  {
   "cell_type": "code",
   "execution_count": 6,
   "metadata": {
    "collapsed": false
   },
   "outputs": [
    {
     "data": {
      "text/html": [
       "<div style=\"max-height:1000px;max-width:1500px;overflow:auto;\">\n",
       "<table border=\"1\" class=\"dataframe\">\n",
       "  <thead>\n",
       "    <tr style=\"text-align: right;\">\n",
       "      <th></th>\n",
       "      <th>0</th>\n",
       "      <th>1</th>\n",
       "      <th>2</th>\n",
       "    </tr>\n",
       "  </thead>\n",
       "  <tbody>\n",
       "    <tr>\n",
       "      <th>0</th>\n",
       "      <td>3</td>\n",
       "      <td>2</td>\n",
       "      <td>2</td>\n",
       "    </tr>\n",
       "    <tr>\n",
       "      <th>1</th>\n",
       "      <td>2</td>\n",
       "      <td>5</td>\n",
       "      <td>10</td>\n",
       "    </tr>\n",
       "    <tr>\n",
       "      <th>2</th>\n",
       "      <td>2</td>\n",
       "      <td>7</td>\n",
       "      <td>3</td>\n",
       "    </tr>\n",
       "  </tbody>\n",
       "</table>\n",
       "</div>"
      ],
      "text/plain": [
       "   0  1   2\n",
       "0  3  2   2\n",
       "1  2  5  10\n",
       "2  2  7   3"
      ]
     },
     "execution_count": 6,
     "metadata": {},
     "output_type": "execute_result"
    }
   ],
   "source": [
    "observations = [[3, 2, 2], [2, 5, 10], [2, 7, 3]]\n",
    "pd.DataFrame(observations)"
   ]
  },
  {
   "cell_type": "markdown",
   "metadata": {},
   "source": [
    "#### Labeling columns and indices\n",
    "Again, this is a bit hard to interpret, so let's index our `DataFrame` meaningfully. Let's say each column contains the number of creatures we've seen on one of our walks in the Amager wilderness. So far, we've seen cranes, deers, and golfers. "
   ]
  },
  {
   "cell_type": "code",
   "execution_count": 7,
   "metadata": {
    "collapsed": false
   },
   "outputs": [
    {
     "data": {
      "text/html": [
       "<div style=\"max-height:1000px;max-width:1500px;overflow:auto;\">\n",
       "<table border=\"1\" class=\"dataframe\">\n",
       "  <thead>\n",
       "    <tr style=\"text-align: right;\">\n",
       "      <th></th>\n",
       "      <th>crane</th>\n",
       "      <th>deer</th>\n",
       "      <th>golfer</th>\n",
       "    </tr>\n",
       "  </thead>\n",
       "  <tbody>\n",
       "    <tr>\n",
       "      <th>0</th>\n",
       "      <td>3</td>\n",
       "      <td>2</td>\n",
       "      <td>2</td>\n",
       "    </tr>\n",
       "    <tr>\n",
       "      <th>1</th>\n",
       "      <td>2</td>\n",
       "      <td>5</td>\n",
       "      <td>10</td>\n",
       "    </tr>\n",
       "    <tr>\n",
       "      <th>2</th>\n",
       "      <td>2</td>\n",
       "      <td>7</td>\n",
       "      <td>3</td>\n",
       "    </tr>\n",
       "  </tbody>\n",
       "</table>\n",
       "</div>"
      ],
      "text/plain": [
       "   crane  deer  golfer\n",
       "0      3     2       2\n",
       "1      2     5      10\n",
       "2      2     7       3"
      ]
     },
     "execution_count": 7,
     "metadata": {},
     "output_type": "execute_result"
    }
   ],
   "source": [
    "pd.DataFrame(observations, columns=['crane', 'deer', 'golfer'])"
   ]
  },
  {
   "cell_type": "markdown",
   "metadata": {},
   "source": [
    "Better! That still leaves the rows. Usually we go on our walks on Mondays, Tuesdays, and Thursdays (Wednesday being our day of rest), so let's annotate the rows with that."
   ]
  },
  {
   "cell_type": "code",
   "execution_count": 8,
   "metadata": {
    "collapsed": false
   },
   "outputs": [
    {
     "data": {
      "text/html": [
       "<div style=\"max-height:1000px;max-width:1500px;overflow:auto;\">\n",
       "<table border=\"1\" class=\"dataframe\">\n",
       "  <thead>\n",
       "    <tr style=\"text-align: right;\">\n",
       "      <th></th>\n",
       "      <th>crane</th>\n",
       "      <th>deer</th>\n",
       "      <th>golfer</th>\n",
       "    </tr>\n",
       "  </thead>\n",
       "  <tbody>\n",
       "    <tr>\n",
       "      <th>monday</th>\n",
       "      <td>3</td>\n",
       "      <td>2</td>\n",
       "      <td>2</td>\n",
       "    </tr>\n",
       "    <tr>\n",
       "      <th>tuesday</th>\n",
       "      <td>2</td>\n",
       "      <td>5</td>\n",
       "      <td>10</td>\n",
       "    </tr>\n",
       "    <tr>\n",
       "      <th>thursday</th>\n",
       "      <td>2</td>\n",
       "      <td>7</td>\n",
       "      <td>3</td>\n",
       "    </tr>\n",
       "  </tbody>\n",
       "</table>\n",
       "</div>"
      ],
      "text/plain": [
       "          crane  deer  golfer\n",
       "monday        3     2       2\n",
       "tuesday       2     5      10\n",
       "thursday      2     7       3"
      ]
     },
     "execution_count": 8,
     "metadata": {},
     "output_type": "execute_result"
    }
   ],
   "source": [
    "daily_walks = pd.DataFrame(observations, columns=['crane', 'deer', 'golfer'],\n",
    "             index=['monday', 'tuesday', 'thursday'])\n",
    "daily_walks"
   ]
  },
  {
   "cell_type": "markdown",
   "metadata": {},
   "source": [
    "***Exercise:*** Now it's your turn! Create a `DataFrame` with at least 2 columns and 2 rows. Name both rows and columns, and fill them with different values."
   ]
  },
  {
   "cell_type": "code",
   "execution_count": 9,
   "metadata": {
    "collapsed": true
   },
   "outputs": [],
   "source": [
    "# YOUR CODE HERE"
   ]
  },
  {
   "cell_type": "markdown",
   "metadata": {},
   "source": [
    "#### Selecting a single column\n",
    "Say we are only interested in our crane-spotting experience. `pandas` let's us select a simple column of the `DataFrame` simply by accessing it via the name we gave it (the dot between the name of the frame and the column means that this is an element of the frame). How convenient!"
   ]
  },
  {
   "cell_type": "code",
   "execution_count": 10,
   "metadata": {
    "collapsed": false
   },
   "outputs": [
    {
     "data": {
      "text/plain": [
       "monday      3\n",
       "tuesday     2\n",
       "thursday    2\n",
       "Name: crane, dtype: int64"
      ]
     },
     "execution_count": 10,
     "metadata": {},
     "output_type": "execute_result"
    }
   ],
   "source": [
    "daily_walks.crane"
   ]
  },
  {
   "cell_type": "markdown",
   "metadata": {},
   "source": [
    "Instead, we can also use the same indexing as we've seen with lists, name by using `[]`.\n",
    "\n",
    "***Exercise:*** Use the list notation to get the *crane* column."
   ]
  },
  {
   "cell_type": "code",
   "execution_count": 11,
   "metadata": {
    "collapsed": true
   },
   "outputs": [],
   "source": [
    "# YOUR CODE HERE"
   ]
  },
  {
   "cell_type": "markdown",
   "metadata": {},
   "source": [
    "#### Selecting multiple columns\n",
    "If we want to sub-select more than one column, we can't use the *dot operator* anymore, but we have to use the list notation. However, instead of one name, we now provide a list of the column names we are interested in."
   ]
  },
  {
   "cell_type": "code",
   "execution_count": 12,
   "metadata": {
    "collapsed": false
   },
   "outputs": [
    {
     "data": {
      "text/html": [
       "<div style=\"max-height:1000px;max-width:1500px;overflow:auto;\">\n",
       "<table border=\"1\" class=\"dataframe\">\n",
       "  <thead>\n",
       "    <tr style=\"text-align: right;\">\n",
       "      <th></th>\n",
       "      <th>crane</th>\n",
       "      <th>deer</th>\n",
       "    </tr>\n",
       "  </thead>\n",
       "  <tbody>\n",
       "    <tr>\n",
       "      <th>monday</th>\n",
       "      <td>3</td>\n",
       "      <td>2</td>\n",
       "    </tr>\n",
       "    <tr>\n",
       "      <th>tuesday</th>\n",
       "      <td>2</td>\n",
       "      <td>5</td>\n",
       "    </tr>\n",
       "    <tr>\n",
       "      <th>thursday</th>\n",
       "      <td>2</td>\n",
       "      <td>7</td>\n",
       "    </tr>\n",
       "  </tbody>\n",
       "</table>\n",
       "</div>"
      ],
      "text/plain": [
       "          crane  deer\n",
       "monday        3     2\n",
       "tuesday       2     5\n",
       "thursday      2     7"
      ]
     },
     "execution_count": 12,
     "metadata": {},
     "output_type": "execute_result"
    }
   ],
   "source": [
    "daily_walks[['crane', 'deer']]"
   ]
  },
  {
   "cell_type": "markdown",
   "metadata": {},
   "source": [
    "### Summary statistics\n",
    "One of the great advantages of `pandas` is that you can get descriptive statistics over the data. Most of them are fairly self-explanatory. Note that we get the aggregate over each *column*."
   ]
  },
  {
   "cell_type": "code",
   "execution_count": 13,
   "metadata": {
    "collapsed": false
   },
   "outputs": [
    {
     "data": {
      "text/plain": [
       "crane      7\n",
       "deer      14\n",
       "golfer    15\n",
       "dtype: int64"
      ]
     },
     "execution_count": 13,
     "metadata": {},
     "output_type": "execute_result"
    }
   ],
   "source": [
    "daily_walks.sum()"
   ]
  },
  {
   "cell_type": "code",
   "execution_count": 14,
   "metadata": {
    "collapsed": false
   },
   "outputs": [
    {
     "data": {
      "text/plain": [
       "crane     2.333333\n",
       "deer      4.666667\n",
       "golfer    5.000000\n",
       "dtype: float64"
      ]
     },
     "execution_count": 14,
     "metadata": {},
     "output_type": "execute_result"
    }
   ],
   "source": [
    "daily_walks.mean()"
   ]
  },
  {
   "cell_type": "markdown",
   "metadata": {},
   "source": [
    "`pandas` also provides a more comprehensive analysis of the data. The function `describe()` will extract and summarize some of the basic statistical measures in one fell swoop."
   ]
  },
  {
   "cell_type": "code",
   "execution_count": 15,
   "metadata": {
    "collapsed": false
   },
   "outputs": [
    {
     "data": {
      "text/html": [
       "<div style=\"max-height:1000px;max-width:1500px;overflow:auto;\">\n",
       "<table border=\"1\" class=\"dataframe\">\n",
       "  <thead>\n",
       "    <tr style=\"text-align: right;\">\n",
       "      <th></th>\n",
       "      <th>crane</th>\n",
       "      <th>deer</th>\n",
       "      <th>golfer</th>\n",
       "    </tr>\n",
       "  </thead>\n",
       "  <tbody>\n",
       "    <tr>\n",
       "      <th>count</th>\n",
       "      <td>3.000000</td>\n",
       "      <td>3.000000</td>\n",
       "      <td>3.000000</td>\n",
       "    </tr>\n",
       "    <tr>\n",
       "      <th>mean</th>\n",
       "      <td>2.333333</td>\n",
       "      <td>4.666667</td>\n",
       "      <td>5.000000</td>\n",
       "    </tr>\n",
       "    <tr>\n",
       "      <th>std</th>\n",
       "      <td>0.577350</td>\n",
       "      <td>2.516611</td>\n",
       "      <td>4.358899</td>\n",
       "    </tr>\n",
       "    <tr>\n",
       "      <th>min</th>\n",
       "      <td>2.000000</td>\n",
       "      <td>2.000000</td>\n",
       "      <td>2.000000</td>\n",
       "    </tr>\n",
       "    <tr>\n",
       "      <th>25%</th>\n",
       "      <td>2.000000</td>\n",
       "      <td>3.500000</td>\n",
       "      <td>2.500000</td>\n",
       "    </tr>\n",
       "    <tr>\n",
       "      <th>50%</th>\n",
       "      <td>2.000000</td>\n",
       "      <td>5.000000</td>\n",
       "      <td>3.000000</td>\n",
       "    </tr>\n",
       "    <tr>\n",
       "      <th>75%</th>\n",
       "      <td>2.500000</td>\n",
       "      <td>6.000000</td>\n",
       "      <td>6.500000</td>\n",
       "    </tr>\n",
       "    <tr>\n",
       "      <th>max</th>\n",
       "      <td>3.000000</td>\n",
       "      <td>7.000000</td>\n",
       "      <td>10.000000</td>\n",
       "    </tr>\n",
       "  </tbody>\n",
       "</table>\n",
       "</div>"
      ],
      "text/plain": [
       "          crane      deer     golfer\n",
       "count  3.000000  3.000000   3.000000\n",
       "mean   2.333333  4.666667   5.000000\n",
       "std    0.577350  2.516611   4.358899\n",
       "min    2.000000  2.000000   2.000000\n",
       "25%    2.000000  3.500000   2.500000\n",
       "50%    2.000000  5.000000   3.000000\n",
       "75%    2.500000  6.000000   6.500000\n",
       "max    3.000000  7.000000  10.000000"
      ]
     },
     "execution_count": 15,
     "metadata": {},
     "output_type": "execute_result"
    }
   ],
   "source": [
    "daily_walks.describe()"
   ]
  },
  {
   "cell_type": "markdown",
   "metadata": {},
   "source": [
    "### Transposing (changing rows to columns)\n",
    "As we have seen before, the descriptive statistics are calculated over the columns. What if we were interested in knowing how many creatures we saw on a given day instead? We'd have to switch the rows and columns. Sounds like a lot of hassle and nested `for`-loops, but fret not, because there is a built-in function that does it for you. The process of swapping rows and columns is called **transposing** in linear algebra, and so the function in `pandas` is helpfully called `transpose()`."
   ]
  },
  {
   "cell_type": "code",
   "execution_count": 16,
   "metadata": {
    "collapsed": false
   },
   "outputs": [
    {
     "data": {
      "text/html": [
       "<div style=\"max-height:1000px;max-width:1500px;overflow:auto;\">\n",
       "<table border=\"1\" class=\"dataframe\">\n",
       "  <thead>\n",
       "    <tr style=\"text-align: right;\">\n",
       "      <th></th>\n",
       "      <th>monday</th>\n",
       "      <th>tuesday</th>\n",
       "      <th>thursday</th>\n",
       "    </tr>\n",
       "  </thead>\n",
       "  <tbody>\n",
       "    <tr>\n",
       "      <th>crane</th>\n",
       "      <td>3</td>\n",
       "      <td>2</td>\n",
       "      <td>2</td>\n",
       "    </tr>\n",
       "    <tr>\n",
       "      <th>deer</th>\n",
       "      <td>2</td>\n",
       "      <td>5</td>\n",
       "      <td>7</td>\n",
       "    </tr>\n",
       "    <tr>\n",
       "      <th>golfer</th>\n",
       "      <td>2</td>\n",
       "      <td>10</td>\n",
       "      <td>3</td>\n",
       "    </tr>\n",
       "  </tbody>\n",
       "</table>\n",
       "</div>"
      ],
      "text/plain": [
       "        monday  tuesday  thursday\n",
       "crane        3        2         2\n",
       "deer         2        5         7\n",
       "golfer       2       10         3"
      ]
     },
     "execution_count": 16,
     "metadata": {},
     "output_type": "execute_result"
    }
   ],
   "source": [
    "daily_walks.transpose()"
   ]
  },
  {
   "cell_type": "markdown",
   "metadata": {},
   "source": [
    "Transposing is a surprisingly common, and since we are lazy (see above), `pandas` provides a shorthand, namely the letter `T`. This also comes from linear algebra, where the transpose of a matrix is often written as $X^T$.\n",
    "\n",
    "The result of transposing the `DataFrame` is another `DataFrame`, and we can simply execute all the functions we want on that. So let's transpose and then sum over the days."
   ]
  },
  {
   "cell_type": "code",
   "execution_count": 17,
   "metadata": {
    "collapsed": false
   },
   "outputs": [
    {
     "data": {
      "text/plain": [
       "monday       7\n",
       "tuesday     17\n",
       "thursday    12\n",
       "dtype: int64"
      ]
     },
     "execution_count": 17,
     "metadata": {},
     "output_type": "execute_result"
    }
   ],
   "source": [
    "daily_walks.T.sum()"
   ]
  },
  {
   "cell_type": "markdown",
   "metadata": {},
   "source": [
    "***Exercise:*** Get the mean, median, and description for the transposed `DataFrame`."
   ]
  },
  {
   "cell_type": "code",
   "execution_count": 18,
   "metadata": {
    "collapsed": false
   },
   "outputs": [],
   "source": [
    "# YOUR CODE HERE"
   ]
  },
  {
   "cell_type": "markdown",
   "metadata": {},
   "source": [
    "### Missing observations\n",
    "\n",
    "Life is messy, and often times, your data is too. For various reasons, we often have to work with whatever data we have, and more often than not, some information will be missing. Let's simulate that here, by setting one of the observations to `None`."
   ]
  },
  {
   "cell_type": "code",
   "execution_count": 19,
   "metadata": {
    "collapsed": false
   },
   "outputs": [],
   "source": [
    "observations[2][1] = None"
   ]
  },
  {
   "cell_type": "markdown",
   "metadata": {},
   "source": [
    "Now, we can create a new `DataFrame` that has a missing value."
   ]
  },
  {
   "cell_type": "code",
   "execution_count": 20,
   "metadata": {
    "collapsed": false
   },
   "outputs": [
    {
     "data": {
      "text/html": [
       "<div style=\"max-height:1000px;max-width:1500px;overflow:auto;\">\n",
       "<table border=\"1\" class=\"dataframe\">\n",
       "  <thead>\n",
       "    <tr style=\"text-align: right;\">\n",
       "      <th></th>\n",
       "      <th>crane</th>\n",
       "      <th>deer</th>\n",
       "      <th>golfer</th>\n",
       "    </tr>\n",
       "  </thead>\n",
       "  <tbody>\n",
       "    <tr>\n",
       "      <th>monday</th>\n",
       "      <td>3</td>\n",
       "      <td>2</td>\n",
       "      <td>2</td>\n",
       "    </tr>\n",
       "    <tr>\n",
       "      <th>tuesday</th>\n",
       "      <td>2</td>\n",
       "      <td>5</td>\n",
       "      <td>10</td>\n",
       "    </tr>\n",
       "    <tr>\n",
       "      <th>thursday</th>\n",
       "      <td>2</td>\n",
       "      <td>NaN</td>\n",
       "      <td>3</td>\n",
       "    </tr>\n",
       "  </tbody>\n",
       "</table>\n",
       "</div>"
      ],
      "text/plain": [
       "          crane  deer  golfer\n",
       "monday        3     2       2\n",
       "tuesday       2     5      10\n",
       "thursday      2   NaN       3"
      ]
     },
     "execution_count": 20,
     "metadata": {},
     "output_type": "execute_result"
    }
   ],
   "source": [
    "confused_daily_walks = pd.DataFrame(observations, columns=['crane', 'deer', 'golfer'],\n",
    "             index=['monday', 'tuesday', 'thursday'])\n",
    "confused_daily_walks"
   ]
  },
  {
   "cell_type": "markdown",
   "metadata": {},
   "source": [
    "Apparently, `pandas` can handle missing values in displaying the data. Next, let's see what we can do when it comes to using missing values in descriptive statistics.\n",
    "\n",
    "***Exercise:*** compute the mean values for the corrupted data."
   ]
  },
  {
   "cell_type": "code",
   "execution_count": 21,
   "metadata": {
    "collapsed": false
   },
   "outputs": [],
   "source": [
    "# YOUR CODE HERE"
   ]
  },
  {
   "cell_type": "markdown",
   "metadata": {},
   "source": [
    "#### Dropping missing rows\n",
    "Maybe, we don't want to have those days with missing values in our data. At all. In that case, we could simply drop all rows that contain a missing value."
   ]
  },
  {
   "cell_type": "code",
   "execution_count": 22,
   "metadata": {
    "collapsed": false
   },
   "outputs": [
    {
     "data": {
      "text/html": [
       "<div style=\"max-height:1000px;max-width:1500px;overflow:auto;\">\n",
       "<table border=\"1\" class=\"dataframe\">\n",
       "  <thead>\n",
       "    <tr style=\"text-align: right;\">\n",
       "      <th></th>\n",
       "      <th>crane</th>\n",
       "      <th>deer</th>\n",
       "      <th>golfer</th>\n",
       "    </tr>\n",
       "  </thead>\n",
       "  <tbody>\n",
       "    <tr>\n",
       "      <th>monday</th>\n",
       "      <td>3</td>\n",
       "      <td>2</td>\n",
       "      <td>2</td>\n",
       "    </tr>\n",
       "    <tr>\n",
       "      <th>tuesday</th>\n",
       "      <td>2</td>\n",
       "      <td>5</td>\n",
       "      <td>10</td>\n",
       "    </tr>\n",
       "  </tbody>\n",
       "</table>\n",
       "</div>"
      ],
      "text/plain": [
       "         crane  deer  golfer\n",
       "monday       3     2       2\n",
       "tuesday      2     5      10"
      ]
     },
     "execution_count": 22,
     "metadata": {},
     "output_type": "execute_result"
    }
   ],
   "source": [
    "confused_daily_walks.dropna()"
   ]
  },
  {
   "cell_type": "markdown",
   "metadata": {},
   "source": [
    "***Exercise:*** What if we want all days, but drop all creatures for which we have missing values?"
   ]
  },
  {
   "cell_type": "code",
   "execution_count": 23,
   "metadata": {
    "collapsed": true
   },
   "outputs": [],
   "source": [
    "# YOUR CODE HERE"
   ]
  },
  {
   "cell_type": "markdown",
   "metadata": {},
   "source": [
    "#### Making up likely missing values\n",
    "Throwing entire entries away can be pretty radical, and depending on sparse your observations matrix is, you might end up with very little to go on.\n",
    "\n",
    "Instead, it can be a good idea to impute a value to replace those missing values. \n",
    "The simplest way is to assume a minimum value, say 1, and just use that. Like so:"
   ]
  },
  {
   "cell_type": "code",
   "execution_count": 24,
   "metadata": {
    "collapsed": false
   },
   "outputs": [
    {
     "data": {
      "text/html": [
       "<div style=\"max-height:1000px;max-width:1500px;overflow:auto;\">\n",
       "<table border=\"1\" class=\"dataframe\">\n",
       "  <thead>\n",
       "    <tr style=\"text-align: right;\">\n",
       "      <th></th>\n",
       "      <th>crane</th>\n",
       "      <th>deer</th>\n",
       "      <th>golfer</th>\n",
       "    </tr>\n",
       "  </thead>\n",
       "  <tbody>\n",
       "    <tr>\n",
       "      <th>monday</th>\n",
       "      <td>3</td>\n",
       "      <td>2</td>\n",
       "      <td>2</td>\n",
       "    </tr>\n",
       "    <tr>\n",
       "      <th>tuesday</th>\n",
       "      <td>2</td>\n",
       "      <td>5</td>\n",
       "      <td>10</td>\n",
       "    </tr>\n",
       "    <tr>\n",
       "      <th>thursday</th>\n",
       "      <td>2</td>\n",
       "      <td>1</td>\n",
       "      <td>3</td>\n",
       "    </tr>\n",
       "  </tbody>\n",
       "</table>\n",
       "</div>"
      ],
      "text/plain": [
       "          crane  deer  golfer\n",
       "monday        3     2       2\n",
       "tuesday       2     5      10\n",
       "thursday      2     1       3"
      ]
     },
     "execution_count": 24,
     "metadata": {},
     "output_type": "execute_result"
    }
   ],
   "source": [
    "confused_daily_walks.fillna(1)"
   ]
  },
  {
   "cell_type": "markdown",
   "metadata": {},
   "source": [
    "This is better than nothing, but still a bit blunt. Maybe we can make use of the fact that we know some values, and the fact that we can compute statistics over them. That let's us fill missing values with an average:"
   ]
  },
  {
   "cell_type": "code",
   "execution_count": 25,
   "metadata": {
    "collapsed": false
   },
   "outputs": [
    {
     "data": {
      "text/html": [
       "<div style=\"max-height:1000px;max-width:1500px;overflow:auto;\">\n",
       "<table border=\"1\" class=\"dataframe\">\n",
       "  <thead>\n",
       "    <tr style=\"text-align: right;\">\n",
       "      <th></th>\n",
       "      <th>crane</th>\n",
       "      <th>deer</th>\n",
       "      <th>golfer</th>\n",
       "    </tr>\n",
       "  </thead>\n",
       "  <tbody>\n",
       "    <tr>\n",
       "      <th>monday</th>\n",
       "      <td>3</td>\n",
       "      <td>2.0</td>\n",
       "      <td>2</td>\n",
       "    </tr>\n",
       "    <tr>\n",
       "      <th>tuesday</th>\n",
       "      <td>2</td>\n",
       "      <td>5.0</td>\n",
       "      <td>10</td>\n",
       "    </tr>\n",
       "    <tr>\n",
       "      <th>thursday</th>\n",
       "      <td>2</td>\n",
       "      <td>3.5</td>\n",
       "      <td>3</td>\n",
       "    </tr>\n",
       "  </tbody>\n",
       "</table>\n",
       "</div>"
      ],
      "text/plain": [
       "          crane  deer  golfer\n",
       "monday        3   2.0       2\n",
       "tuesday       2   5.0      10\n",
       "thursday      2   3.5       3"
      ]
     },
     "execution_count": 25,
     "metadata": {},
     "output_type": "execute_result"
    }
   ],
   "source": [
    "confused_daily_walks.fillna(confused_daily_walks.deer.mean())"
   ]
  },
  {
   "cell_type": "markdown",
   "metadata": {},
   "source": [
    "### Indexing\n",
    "So far, we were ony interested in columns, and used the `transpose()` function if we wanted rows instead. With large matrices, this approach can become too slow, so let's look at other ways to retrive rows.\n",
    "\n",
    "#### By location `.iloc`\n",
    "`iloc` let's us specify a row, and returns just that. However, it only takes positinal arguments, not names."
   ]
  },
  {
   "cell_type": "code",
   "execution_count": 26,
   "metadata": {
    "collapsed": false
   },
   "outputs": [
    {
     "data": {
      "text/plain": [
       "crane     3\n",
       "deer      2\n",
       "golfer    2\n",
       "Name: monday, dtype: int64"
      ]
     },
     "execution_count": 26,
     "metadata": {},
     "output_type": "execute_result"
    }
   ],
   "source": [
    "daily_walks.iloc[0]"
   ]
  },
  {
   "cell_type": "markdown",
   "metadata": {},
   "source": [
    "#### Using `.ix` method\n",
    "The `ix` method is somewhat more convenient, since we can choose."
   ]
  },
  {
   "cell_type": "markdown",
   "metadata": {},
   "source": [
    "`ix` can use either names or positions to retrive rows:"
   ]
  },
  {
   "cell_type": "code",
   "execution_count": 27,
   "metadata": {
    "collapsed": false
   },
   "outputs": [
    {
     "data": {
      "text/plain": [
       "crane     3\n",
       "deer      2\n",
       "golfer    2\n",
       "Name: monday, dtype: int64"
      ]
     },
     "execution_count": 27,
     "metadata": {},
     "output_type": "execute_result"
    }
   ],
   "source": [
    "daily_walks.ix['monday']"
   ]
  },
  {
   "cell_type": "code",
   "execution_count": 28,
   "metadata": {
    "collapsed": false
   },
   "outputs": [
    {
     "data": {
      "text/plain": [
       "crane     3\n",
       "deer      2\n",
       "golfer    2\n",
       "Name: monday, dtype: int64"
      ]
     },
     "execution_count": 28,
     "metadata": {},
     "output_type": "execute_result"
    }
   ],
   "source": [
    "daily_walks.ix[0]"
   ]
  },
  {
   "cell_type": "markdown",
   "metadata": {},
   "source": [
    "We can also get specific data cells, i.e., a combination of a row and a column. You can mix names and positions. Note that you need to ***first*** give it the row, then the column, though."
   ]
  },
  {
   "cell_type": "code",
   "execution_count": 29,
   "metadata": {
    "collapsed": false
   },
   "outputs": [
    {
     "data": {
      "text/plain": [
       "3"
      ]
     },
     "execution_count": 29,
     "metadata": {},
     "output_type": "execute_result"
    }
   ],
   "source": [
    "daily_walks.ix['monday', 'crane']"
   ]
  },
  {
   "cell_type": "code",
   "execution_count": 30,
   "metadata": {
    "collapsed": false
   },
   "outputs": [
    {
     "data": {
      "text/html": [
       "<div style=\"max-height:1000px;max-width:1500px;overflow:auto;\">\n",
       "<table border=\"1\" class=\"dataframe\">\n",
       "  <thead>\n",
       "    <tr style=\"text-align: right;\">\n",
       "      <th></th>\n",
       "      <th>crane</th>\n",
       "      <th>deer</th>\n",
       "    </tr>\n",
       "  </thead>\n",
       "  <tbody>\n",
       "    <tr>\n",
       "      <th>monday</th>\n",
       "      <td>3</td>\n",
       "      <td>2</td>\n",
       "    </tr>\n",
       "    <tr>\n",
       "      <th>tuesday</th>\n",
       "      <td>2</td>\n",
       "      <td>5</td>\n",
       "    </tr>\n",
       "  </tbody>\n",
       "</table>\n",
       "</div>"
      ],
      "text/plain": [
       "         crane  deer\n",
       "monday       3     2\n",
       "tuesday      2     5"
      ]
     },
     "execution_count": 30,
     "metadata": {},
     "output_type": "execute_result"
    }
   ],
   "source": [
    "daily_walks.ix[0:2, ['crane', 'deer']]"
   ]
  },
  {
   "cell_type": "markdown",
   "metadata": {},
   "source": []
  },
  {
   "cell_type": "markdown",
   "metadata": {},
   "source": [
    "### Data from files\n",
    "`pandas` also provides some nifty functions to read data from files. A common format is the ***CSV*** (commma-separated values) format, which separates fields by a special ***separator token***, usually a comma.\n",
    "\n",
    "Let's take some data about Nobel Prize winners from [Weinberg et al. 2011](http://www.ncbi.nlm.nih.gov/pmc/articles/PMC3223465/#!po=70.0000). The raw file looks like this:"
   ]
  },
  {
   "cell_type": "code",
   "execution_count": 31,
   "metadata": {
    "collapsed": false
   },
   "outputs": [
    {
     "name": "stdout",
     "output_type": "stream",
     "text": [
      "name;field;year_birth;year_prize;year_research_mid;year_death;TheoryOrTheoryAndEmpirical;age_highdegree\r",
      "\r\n",
      "Van'T Hoff, Jacobus Henricus;Chemistry;1852;1901;1885;1911;1;22\r",
      "\r\n",
      "Fischer, Hermann Emil;Chemistry;1852;1902;1895;1919;0;22\r",
      "\r\n",
      "Arrhenius, Svante August;Chemistry;1859;1903;1884;1927;1;25\r",
      "\r\n",
      "Ramsay, Sir William;Chemistry;1852;1904;1894;1916;0;20\r",
      "\r\n",
      "Von Baeyer, Johann;Chemistry;1835;1905;1873;1917;0;23\r",
      "\r\n",
      "Moissan, Henri;Chemistry;1852;1906;1898;1907;0;28\r",
      "\r\n",
      "Buchner, Eduard;Chemistry;1860;1907;1897;1917;0;28\r",
      "\r\n",
      "Rutherford, Ernest;Chemistry;1871;1908;1902;1937;1;23\r",
      "\r\n",
      "Ostwald, Wilhelm;Chemistry;1853;1909;1894;1932;0;25\r",
      "\r\n"
     ]
    }
   ],
   "source": [
    "!head nobel_prize_winners_age.csv"
   ]
  },
  {
   "cell_type": "markdown",
   "metadata": {},
   "source": [
    "In order to get this into a nice `DataFrame`, pandas provides the `read_csv()` function. All you have to give it is a name. By default, it will assume that the separator is a comma. However, here, we have commas as parts of some of the fields (e.g., when several people got the prize), so the file use a semicolon instead. Luckily, we can tell `pandas` about that via the `sep=` keyword.\n",
    "\n",
    "The original file is pretty large, so in order to see whether it works, we only peak at the top 5 lines. For this, we can use the `head()` function (the command is the same in the shell, as you can see in the cell above)."
   ]
  },
  {
   "cell_type": "code",
   "execution_count": 32,
   "metadata": {
    "collapsed": false
   },
   "outputs": [
    {
     "data": {
      "text/html": [
       "<div style=\"max-height:1000px;max-width:1500px;overflow:auto;\">\n",
       "<table border=\"1\" class=\"dataframe\">\n",
       "  <thead>\n",
       "    <tr style=\"text-align: right;\">\n",
       "      <th></th>\n",
       "      <th>name</th>\n",
       "      <th>field</th>\n",
       "      <th>year_birth</th>\n",
       "      <th>year_prize</th>\n",
       "      <th>year_research_mid</th>\n",
       "      <th>year_death</th>\n",
       "      <th>TheoryOrTheoryAndEmpirical</th>\n",
       "      <th>age_highdegree</th>\n",
       "    </tr>\n",
       "  </thead>\n",
       "  <tbody>\n",
       "    <tr>\n",
       "      <th>0</th>\n",
       "      <td>Van'T Hoff, Jacobus Henricus</td>\n",
       "      <td>Chemistry</td>\n",
       "      <td>1852</td>\n",
       "      <td>1901</td>\n",
       "      <td>1885</td>\n",
       "      <td>1911</td>\n",
       "      <td>1</td>\n",
       "      <td>22</td>\n",
       "    </tr>\n",
       "    <tr>\n",
       "      <th>1</th>\n",
       "      <td>Fischer, Hermann Emil</td>\n",
       "      <td>Chemistry</td>\n",
       "      <td>1852</td>\n",
       "      <td>1902</td>\n",
       "      <td>1895</td>\n",
       "      <td>1919</td>\n",
       "      <td>0</td>\n",
       "      <td>22</td>\n",
       "    </tr>\n",
       "    <tr>\n",
       "      <th>2</th>\n",
       "      <td>Arrhenius, Svante August</td>\n",
       "      <td>Chemistry</td>\n",
       "      <td>1859</td>\n",
       "      <td>1903</td>\n",
       "      <td>1884</td>\n",
       "      <td>1927</td>\n",
       "      <td>1</td>\n",
       "      <td>25</td>\n",
       "    </tr>\n",
       "    <tr>\n",
       "      <th>3</th>\n",
       "      <td>Ramsay, Sir William</td>\n",
       "      <td>Chemistry</td>\n",
       "      <td>1852</td>\n",
       "      <td>1904</td>\n",
       "      <td>1894</td>\n",
       "      <td>1916</td>\n",
       "      <td>0</td>\n",
       "      <td>20</td>\n",
       "    </tr>\n",
       "    <tr>\n",
       "      <th>4</th>\n",
       "      <td>Von Baeyer, Johann</td>\n",
       "      <td>Chemistry</td>\n",
       "      <td>1835</td>\n",
       "      <td>1905</td>\n",
       "      <td>1873</td>\n",
       "      <td>1917</td>\n",
       "      <td>0</td>\n",
       "      <td>23</td>\n",
       "    </tr>\n",
       "  </tbody>\n",
       "</table>\n",
       "</div>"
      ],
      "text/plain": [
       "                           name      field  year_birth  year_prize  \\\n",
       "0  Van'T Hoff, Jacobus Henricus  Chemistry        1852        1901   \n",
       "1         Fischer, Hermann Emil  Chemistry        1852        1902   \n",
       "2      Arrhenius, Svante August  Chemistry        1859        1903   \n",
       "3           Ramsay, Sir William  Chemistry        1852        1904   \n",
       "4            Von Baeyer, Johann  Chemistry        1835        1905   \n",
       "\n",
       "   year_research_mid  year_death  TheoryOrTheoryAndEmpirical  age_highdegree  \n",
       "0               1885        1911                           1              22  \n",
       "1               1895        1919                           0              22  \n",
       "2               1884        1927                           1              25  \n",
       "3               1894        1916                           0              20  \n",
       "4               1873        1917                           0              23  "
      ]
     },
     "execution_count": 32,
     "metadata": {},
     "output_type": "execute_result"
    }
   ],
   "source": [
    "winners = pd.read_csv(\"nobel_prize_winners_age.csv\", sep=\";\")\n",
    "winners.head()"
   ]
  },
  {
   "cell_type": "markdown",
   "metadata": {},
   "source": [
    "Now that we have all that data in a `DataFrame`, we can use all the `pandas` functions we have seen before.\n",
    "\n",
    "***Exercise:*** What is the average age for `age_highdegree`?"
   ]
  },
  {
   "cell_type": "code",
   "execution_count": 33,
   "metadata": {
    "collapsed": false
   },
   "outputs": [],
   "source": [
    "# YOUR CODE HERE"
   ]
  },
  {
   "cell_type": "markdown",
   "metadata": {},
   "source": [
    "### Histogram\n",
    "`pandas` also provides easy functions to visualize the data. One of the most usefuls is the `hist()` function, which gives us a histogram of the data, i.e., how many entries we have for each value. The semicolon at the end is just there to suppress some irrelevant output in the notebook setting (go ahead and remove it to see the difference)."
   ]
  },
  {
   "cell_type": "code",
   "execution_count": 34,
   "metadata": {
    "collapsed": false
   },
   "outputs": [
    {
     "data": {
      "image/png": "[encoded data removed]",
      "text/plain": [
       "<matplotlib.figure.Figure at 0x109f8bd68>"
      ]
     },
     "metadata": {},
     "output_type": "display_data"
    }
   ],
   "source": [
    "winners.year_prize.hist();"
   ]
  },
  {
   "cell_type": "markdown",
   "metadata": {},
   "source": [
    "***Exercise:*** plot a histogram of the birth years (`year_birth`)."
   ]
  },
  {
   "cell_type": "code",
   "execution_count": 35,
   "metadata": {
    "collapsed": false
   },
   "outputs": [],
   "source": [
    "# YOUR CODE HERE"
   ]
  },
  {
   "cell_type": "markdown",
   "metadata": {},
   "source": [
    "The values we need for histograms (the counts per value) can be accessed by a separate function, aptly named `value_counts()`."
   ]
  },
  {
   "cell_type": "code",
   "execution_count": 36,
   "metadata": {
    "collapsed": false
   },
   "outputs": [
    {
     "data": {
      "text/plain": [
       "2008    9\n",
       "2002    9\n",
       "2001    9\n",
       "2000    9\n",
       "1988    9\n",
       "dtype: int64"
      ]
     },
     "execution_count": 36,
     "metadata": {},
     "output_type": "execute_result"
    }
   ],
   "source": [
    "number_of_winners_per_year = winners.year_prize.value_counts()\n",
    "number_of_winners_per_year.head()"
   ]
  },
  {
   "cell_type": "markdown",
   "metadata": {},
   "source": [
    "This creates a new `DataFrame` object, named `number_of_winners_per_year`.\n",
    "You might have noted that the values are not sorted (which would make for a pretty bad histogram). In order to sort them, we can use `sort_index()` on the counts:"
   ]
  },
  {
   "cell_type": "code",
   "execution_count": 37,
   "metadata": {
    "collapsed": false
   },
   "outputs": [
    {
     "data": {
      "text/plain": [
       "1901    3\n",
       "1902    4\n",
       "1903    5\n",
       "1904    3\n",
       "1905    3\n",
       "dtype: int64"
      ]
     },
     "execution_count": 37,
     "metadata": {},
     "output_type": "execute_result"
    }
   ],
   "source": [
    "sorted_number_of_winners_per_year = number_of_winners_per_year.sort_index()\n",
    "sorted_number_of_winners_per_year.head()"
   ]
  },
  {
   "cell_type": "markdown",
   "metadata": {},
   "source": [
    "***Exercise:*** Get the value counts for the fields."
   ]
  },
  {
   "cell_type": "code",
   "execution_count": 38,
   "metadata": {
    "collapsed": false
   },
   "outputs": [],
   "source": [
    "# YOUR CODE HERE"
   ]
  },
  {
   "cell_type": "markdown",
   "metadata": {},
   "source": [
    "##Plotting\n",
    "With the data we computed via counting and sorting, we can also produce a neat plot, which tracks the exact number of winners over time. It's as easy as calling `plot()` on our sorted `DataFrame` of value counts."
   ]
  },
  {
   "cell_type": "code",
   "execution_count": 39,
   "metadata": {
    "collapsed": false
   },
   "outputs": [
    {
     "data": {
      "image/png": "[encoded data removed]",
      "text/plain": [
       "<matplotlib.figure.Figure at 0x10a339d68>"
      ]
     },
     "metadata": {},
     "output_type": "display_data"
    }
   ],
   "source": [
    "sorted_number_of_winners_per_year.plot();"
   ]
  },
  {
   "cell_type": "markdown",
   "metadata": {},
   "source": [
    "### Defining new variables\n",
    "Sometimes, there are values we are interested in that can be computed from the existing ones. Let's compute how old the winners were at the time they received the prize, and how many years it took them from getting their degree until they received the prize.\n",
    "\n",
    "In order to add a new column to an existing `DataFrame`, we need to use the list notation (after we added a new column, we can use the dot notation)."
   ]
  },
  {
   "cell_type": "code",
   "execution_count": 40,
   "metadata": {
    "collapsed": false
   },
   "outputs": [],
   "source": [
    "winners['age_at_prize'] = winners.year_prize - winners.year_birth\n",
    "winners['degree_to_prize'] = winners.year_prize - (winners.year_birth + winners.age_highdegree)"
   ]
  },
  {
   "cell_type": "markdown",
   "metadata": {},
   "source": [
    "***Exercise:*** Find the minimum and maximum values of the two new columns."
   ]
  },
  {
   "cell_type": "code",
   "execution_count": 41,
   "metadata": {
    "collapsed": false
   },
   "outputs": [],
   "source": [
    "# YOUR CODE HERE"
   ]
  },
  {
   "cell_type": "markdown",
   "metadata": {},
   "source": [
    "### Finding the minimum position\n",
    "Sometimes, we are not interested in the minum ***value***, but in the position at which it occurs. Instead of the `min()` function, we use `argmin()`. The return value is an index of the `DataFrame`, which we can then retrive:"
   ]
  },
  {
   "cell_type": "code",
   "execution_count": 42,
   "metadata": {
    "collapsed": false
   },
   "outputs": [
    {
     "data": {
      "text/plain": [
       "name                          Bragg, William Lawrence\n",
       "field                                         Physics\n",
       "year_birth                                       1890\n",
       "year_prize                                       1915\n",
       "year_research_mid                                1912\n",
       "year_death                                       1942\n",
       "TheoryOrTheoryAndEmpirical                          0\n",
       "age_highdegree                                     22\n",
       "age_at_prize                                       25\n",
       "degree_to_prize                                     3\n",
       "Name: 362, dtype: object"
      ]
     },
     "execution_count": 42,
     "metadata": {},
     "output_type": "execute_result"
    }
   ],
   "source": [
    "index_of_youngest = winners.age_at_prize.argmin()\n",
    "winners.ix[index_of_youngest]"
   ]
  },
  {
   "cell_type": "markdown",
   "metadata": {},
   "source": [
    "***Exercise:*** Add a column `age_at_death`."
   ]
  },
  {
   "cell_type": "code",
   "execution_count": 43,
   "metadata": {
    "collapsed": false
   },
   "outputs": [],
   "source": [
    "# YOUR CODE HERE"
   ]
  },
  {
   "cell_type": "markdown",
   "metadata": {},
   "source": [
    "***Exercise:*** What is the name of the winner who died the youngest?"
   ]
  },
  {
   "cell_type": "code",
   "execution_count": 44,
   "metadata": {
    "collapsed": true
   },
   "outputs": [],
   "source": [
    "# YOUR CODE HERE"
   ]
  },
  {
   "cell_type": "markdown",
   "metadata": {},
   "source": [
    "### Boxplots\n",
    "In statistical analysis, it can be informative to look at the ***spread*** of variables. One of the standard visualizations for this is the boxplot (with whiskers). The red line gives us the median value, the box covers 50 % of the data points, and the whiskers give us the minimum and maximum."
   ]
  },
  {
   "cell_type": "code",
   "execution_count": 45,
   "metadata": {
    "collapsed": false
   },
   "outputs": [
    {
     "name": "stdout",
     "output_type": "stream",
     "text": [
      "55.0\n",
      "25\n",
      "88\n"
     ]
    },
    {
     "name": "stderr",
     "output_type": "stream",
     "text": [
      "/Users/anders/anaconda/envs/py34/lib/python3.4/site-packages/pandas/tools/plotting.py:2633: FutureWarning: \n",
      "The default value for 'return_type' will change to 'axes' in a future release.\n",
      " To use the future behavior now, set return_type='axes'.\n",
      " To keep the previous behavior and silence this warning, set return_type='dict'.\n",
      "  warnings.warn(msg, FutureWarning)\n"
     ]
    },
    {
     "data": {
      "image/png": "[encoded data removed]",
      "text/plain": [
       "<matplotlib.figure.Figure at 0x10a30ecc0>"
      ]
     },
     "metadata": {},
     "output_type": "display_data"
    }
   ],
   "source": [
    "winners[['age_at_prize', 'degree_to_prize']].boxplot();\n",
    "print(winners.age_at_prize.median())\n",
    "print(winners.age_at_prize.min())\n",
    "print(winners.age_at_prize.max())"
   ]
  },
  {
   "cell_type": "code",
   "execution_count": null,
   "metadata": {
    "collapsed": true
   },
   "outputs": [],
   "source": []
  }
 ],
 "metadata": {
  "kernelspec": {
   "display_name": "Python 3",
   "language": "python",
   "name": "python3"
  },
  "language_info": {
   "codemirror_mode": {
    "name": "ipython",
    "version": 3
   },
   "file_extension": ".py",
   "mimetype": "text/x-python",
   "name": "python",
   "nbconvert_exporter": "python",
   "pygments_lexer": "ipython3",
   "version": "3.4.3"
  }
 },
 "nbformat": 4,
 "nbformat_minor": 0
}
