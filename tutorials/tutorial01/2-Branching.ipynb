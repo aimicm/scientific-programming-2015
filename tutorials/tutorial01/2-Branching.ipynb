{
 "cells": [
  {
   "cell_type": "markdown",
   "metadata": {},
   "source": [
    "## Branching"
   ]
  },
  {
   "cell_type": "markdown",
   "metadata": {},
   "source": [
    "Branching means to take different paths through the code based on the value of some statement (e.g. a variable). A branch point is where the decision is made about which path to take. Typically, a branch point in Python is introduced by the `if`-`elif`-`else` statement. The example below is mostly to remind you of the syntax."
   ]
  },
  {
   "cell_type": "code",
   "execution_count": null,
   "metadata": {
    "collapsed": false
   },
   "outputs": [],
   "source": [
    "yellow = True\n",
    "huge = True\n",
    "if yellow:\n",
    "    if huge:\n",
    "        print(\"The sun\")\n",
    "    else:\n",
    "        print(\"Fried egg?\")\n",
    "else:\n",
    "    if huge:\n",
    "        print(\"The moon\")\n",
    "    else:\n",
    "        print(\"A toast?\")"
   ]
  },
  {
   "cell_type": "markdown",
   "metadata": {},
   "source": [
    "You can combine expressions (e.g. the variables `yellow` and `huge`) using the logical operators `and` and `or`, and reverse the truth value of an expression by prefixing it with `not`."
   ]
  },
  {
   "cell_type": "code",
   "execution_count": null,
   "metadata": {
    "collapsed": false
   },
   "outputs": [],
   "source": [
    "if yellow and huge:\n",
    "    print(\"The sun\")\n",
    "elif not yellow and huge:\n",
    "    print(\"The moon\")\n",
    "else:\n",
    "    print(\"Something else\")"
   ]
  },
  {
   "cell_type": "markdown",
   "metadata": {},
   "source": [
    "### Exercise: Eligibility for funding"
   ]
  },
  {
   "cell_type": "markdown",
   "metadata": {},
   "source": [
    "You can often find scholarships advertised in the University Post. In the simplest case the requirement is just that you are a student. The program below, which might be used by an administrator of a scholarship, checks whether this requirement is fullfilled or not. "
   ]
  },
  {
   "cell_type": "code",
   "execution_count": null,
   "metadata": {
    "collapsed": false
   },
   "outputs": [],
   "source": [
    "student = True\n",
    "if student:\n",
    "    print(\"eligible\")\n",
    "else:\n",
    "    print(\"not eligble\")"
   ]
  },
  {
   "cell_type": "markdown",
   "metadata": {},
   "source": [
    "Pretty simple! However, most sources of funding have more intricate rules for who can apply. \n",
    "\n",
    "Consider *Cand. mag. frøken Ellen Hartmanns Rejselegat*. You may apply only if \n",
    "\n",
    "* you are a student at the University of Copenhagen\n",
    "* you are female\n",
    "* your subject is either\n",
    "  * Nordic philology; or\n",
    "  * Danish\n",
    "* you will spend the money on a stay at the\n",
    "  * University of Uppsala; or\n",
    "  * University of Stockholm\n",
    "\n",
    "** Exercise ** Make a program that prints *eligible* if and only if the person meets these criteria, and otherwise *not eligible*. Use the variables below to test your code."
   ]
  },
  {
   "cell_type": "code",
   "execution_count": null,
   "metadata": {
    "collapsed": false
   },
   "outputs": [],
   "source": [
    "# Person 1: eligible\n",
    "subject = \"danish\"\n",
    "female = True\n",
    "student_at_ucph = True\n",
    "goes_to = \"uppsala\"\n",
    "\n",
    "# Person 2: not eligible\n",
    "subject = \"danish\"\n",
    "female = False\n",
    "student_at_ucph = True\n",
    "goes_to = \"stockholm\"\n",
    "\n",
    "# Your code here"
   ]
  },
  {
   "cell_type": "markdown",
   "metadata": {},
   "source": [
    "**Exercise** Make the same program, but using only a single `if`-`else` statement. You can use extra variables if you like."
   ]
  },
  {
   "cell_type": "code",
   "execution_count": null,
   "metadata": {
    "collapsed": false
   },
   "outputs": [],
   "source": [
    "# Your code here"
   ]
  },
  {
   "cell_type": "markdown",
   "metadata": {},
   "source": [
    "### Exercise: Danish CPR numbers"
   ]
  },
  {
   "cell_type": "markdown",
   "metadata": {},
   "source": [
    "Danish CPR numbers are 10 digits long. The first six digits represent the date of birth. The last four digits are a personal identifier, but additionally encode the gender of the person (last digit even or uneven) and serve as a checksum.\n",
    "\n",
    "One problem with CPR numbers is that the year is represented by a two digit number, because that leaves some ambiguity with respect to the year of birth. For instance, does *05* indicate a birth year of 1905 or 2005? Actually the CPR system has a rather complicated system in place to deal with this, where the century of birth is determined by whether the last four digit number falls into certain ranges. If you are interested, you can read more [here](https://cpr.dk/media/167692/personnummeret%20i%20cpr.pdf) (Link in Danish).\n",
    "\n",
    "** Exercise ** You'll be implementing an approximation, which expands the two-digit birth year into a full four-digit year based on what year we have now. The rule is simple: if we see a birth year that is less than or equal to 14 (the current year), we decide it belongs to this century, otherwise it's the last century. This heuristic encodes the assumption that we are more likely to encounter a birthday of a newly born than of a person who is 100 years old, and that a five year old is more likely than a 95 year old. While this is true in general, it might fail in specific circumstances.\n",
    "\n",
    "Use the values in the array `years` to test your code. You can either put your code in a loop, or you can input the values one by one."
   ]
  },
  {
   "cell_type": "code",
   "execution_count": null,
   "metadata": {
    "collapsed": false
   },
   "outputs": [],
   "source": [
    "years = [\"99\", \"07\", \"11\", \"16\", \"85\"]\n"
   ]
  },
  {
   "cell_type": "markdown",
   "metadata": {},
   "source": [
    "Does your code work if you feed it `\"7\"` instead of `\"07\"`. Why/why not?"
   ]
  },
  {
   "cell_type": "code",
   "execution_count": null,
   "metadata": {
    "collapsed": false
   },
   "outputs": [],
   "source": []
  }
 ],
 "metadata": {
  "kernelspec": {
   "display_name": "Python 3",
   "language": "python",
   "name": "python3"
  },
  "language_info": {
   "codemirror_mode": {
    "name": "ipython",
    "version": 3
   },
   "file_extension": ".py",
   "mimetype": "text/x-python",
   "name": "python",
   "nbconvert_exporter": "python",
   "pygments_lexer": "ipython3",
   "version": "3.4.3"
  }
 },
 "nbformat": 4,
 "nbformat_minor": 0
}
