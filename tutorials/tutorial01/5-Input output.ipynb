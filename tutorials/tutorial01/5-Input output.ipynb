{
 "cells": [
  {
   "cell_type": "markdown",
   "metadata": {},
   "source": [
    "## Input/Output"
   ]
  },
  {
   "cell_type": "markdown",
   "metadata": {},
   "source": [
    "In scientific programming we usually write programs to process data. Such a program accepts some input, does a series of computations on that input, and outputs something. One example is the (fictional --- but you could write it) program `outlier.py` which takes as input a file with numbers and writes to a new file only those that are more than one standard deviation away from the mean. \n",
    "\n",
    "It is quite clear that the program (the thing that does the computations) is distinct from the input and output. The input is what we feed to the program, and the output is what we get out. \n",
    "\n",
    "In an interactive enviroment, such as IPython notebook, this clear distinction sometimes blurs, because we frequently provide the input data as part of the program. For instance, the input to the outlier detector might be written as follows:\n",
    "\n",
    "```\n",
    "numbers_to_check = [5, 1, 9, 2, 6, 4, 5, 6]\n",
    "```\n",
    "\n",
    "Although on a technical level the input here is a part of the program, it should still conceptually be regarded as input."
   ]
  },
  {
   "cell_type": "markdown",
   "metadata": {},
   "source": [
    "### Trustpilot dataset"
   ]
  },
  {
   "cell_type": "markdown",
   "metadata": {},
   "source": [
    "In this notebook we will work on a dataset of users from Danish section of the review website [Trustpilot](www.trustpilot.com). For each user we registered the name, birth year, and gender, if available. The dataset consists of publically avaiable data and was collected a few months ago (June 2014). It is stored in a file called `trustpilot_names.tsv`, which is placed in the same directory as the notebooks.\n",
    "\n",
    "Let's first have a look at the file. In IPython you can execute command line programs by putting them on a line which starts with an exclamation mark. We are going to use the utility program `head`, which displays the first lines in a file (10 by default)."
   ]
  },
  {
   "cell_type": "code",
   "execution_count": 4,
   "metadata": {
    "collapsed": false
   },
   "outputs": [
    {
     "name": "stdout",
     "output_type": "stream",
     "text": [
      "name\tbirth_year\tgender\r\n",
      "Anders Harvest\t1955\tM\r\n",
      "Gordon Steffensen\t1955\tM\r\n",
      "tue\t1979\tM\r\n",
      "Janni Michelsen\t1960\tF\r\n",
      "Yasemin Yigen\t1979\tNA\r\n",
      "Christian Harder\t1991\tM\r\n",
      "Pia Rolschau Hansen\t1978\tF\r\n",
      "Anders\t1974\tM\r\n",
      "Gitte Nielsen\t1962\tF\r\n"
     ]
    }
   ],
   "source": [
    "!head trustpilot_names.tsv"
   ]
  },
  {
   "cell_type": "markdown",
   "metadata": {},
   "source": [
    "### Reading the file"
   ]
  },
  {
   "cell_type": "markdown",
   "metadata": {},
   "source": [
    "Below we are reading and processing lines from a file one at a time. The goal is to fill the three lists `names`, `ages`, and `genders` with appropriate values. The lists should be coordinated such that `names[i]` refers to the name of the *i*th person, `ages[i]` to the age of that person, and `genders[i]` to his or her gender. After reading in the file, you should check that all lists have the same length. That is,\n",
    "\n",
    "````\n",
    "len(names) == len(genders) == len(ages)\n",
    "````\n",
    "\n",
    "\n",
    "The line that says\n",
    "\n",
    "````\n",
    "input = open(\"trustpilot_names.tsv\")\n",
    "````\n",
    "\n",
    "opens the file for reading and saves a reference to it in the variable `input`. \n",
    "Using the `input` variable in a `for` loop lets us examine the lines one by one. \n",
    "\n",
    "*Note that Python also supports opening files specifying the encoding (such as `utf-8`). Python will generally assume you want UTF-8, so you can ignore this parameter unless you positively know the file is in some other encoding.*\n",
    "\n",
    "**Exercise** The implementation in the cell below is incomplete. To make it work correctly you need to do three things:\n",
    "\n",
    "1. add code to skip the processing of the first line of the file, which is a header; and \n",
    "2. initialize the variables `name`, `birth_year`, and `gender` with correct values; and\n",
    "3. remove the debugging code that exits the loop after 50 lines."
   ]
  },
  {
   "cell_type": "code",
   "execution_count": 9,
   "metadata": {
    "collapsed": false
   },
   "outputs": [],
   "source": [
    "input = open(\"trustpilot_names.tsv\")\n",
    "names = []\n",
    "ages = []\n",
    "genders = []\n",
    "\n",
    "i = 0\n",
    "for line in input:\n",
    "    name = \"Nobody\"\n",
    "    birth_year = 2014\n",
    "    gender = \"NA\"\n",
    "\n",
    "    parts = line.strip().split(\"\\t\")\n",
    "    names.append(name)\n",
    "    ages.append(2014 - birth_year)\n",
    "    genders.append(gender)\n",
    "\n",
    "    if i == 49:\n",
    "        break\n",
    "    \n",
    "    i += 1"
   ]
  },
  {
   "cell_type": "markdown",
   "metadata": {},
   "source": [
    "**Exercise** Write a `for` loop that computes what percentage of people are male and female. Is the dataset reasonably balanced with respect to genders?"
   ]
  },
  {
   "cell_type": "code",
   "execution_count": null,
   "metadata": {
    "collapsed": false
   },
   "outputs": [],
   "source": [
    "# Your code here"
   ]
  },
  {
   "cell_type": "markdown",
   "metadata": {},
   "source": [
    "**Exercise** Use a list comprehension to construct a list of first names from the list of full names. We consider the first name to be whatever comes before the first whitespace in the full name. You can use the list comprehension below as a point of departure."
   ]
  },
  {
   "cell_type": "code",
   "execution_count": 12,
   "metadata": {
    "collapsed": false
   },
   "outputs": [],
   "source": [
    "first_names = [full_name for full_name in names]"
   ]
  },
  {
   "cell_type": "markdown",
   "metadata": {},
   "source": [
    "**Exercise** What is the most common first name. Is it male, female, or unisex? And what do you expect? \n",
    "\n",
    "Hint: Sort the list of first names before processing it. One way to do this is by executing `first_names.sort()` in a cell."
   ]
  },
  {
   "cell_type": "markdown",
   "metadata": {},
   "source": [
    "### Further projects"
   ]
  },
  {
   "cell_type": "markdown",
   "metadata": {},
   "source": [
    "Here are some other things that you might want to try with this dataset. A word of warning: some of the projects are a bit daunting\n",
    "to do with the tools you have learned so far. Once we begin to dive deeper into the data structures and base libraries of Python, however, you will discover that most can be solved efficiently with a few lines of Python.\n",
    "\n",
    "* How many unique names are there?\n",
    "* Make a list of names that are exclusively male and a list of names that are exclusively female.\n",
    "* Some girl's names are formed by taking a boy's name and adding a female suffix. Can you find any examples of that? What would be an algorithmic way of finding such examples?. \n",
    "* Find the five most popular names for each decade.\n",
    "* Some of the values of age are clearly not correct: we don't expect reviews from people who are four years old, nor people aged 104. Create new versions of the `first_names`, `ages`, and `genders` list with these values removed\n",
    "* Consider an alternative representation of the dataset. Instead of three separate lists, you would have one list `users` with each item being a dictionary with keys `first_name`, `age`, `gender`. Which operations would be easier to perform? And which would be harder?"
   ]
  },
  {
   "cell_type": "code",
   "execution_count": null,
   "metadata": {
    "collapsed": false
   },
   "outputs": [],
   "source": []
  }
 ],
 "metadata": {
  "kernelspec": {
   "display_name": "Python 3",
   "language": "python",
   "name": "python3"
  },
  "language_info": {
   "codemirror_mode": {
    "name": "ipython",
    "version": 3
   },
   "file_extension": ".py",
   "mimetype": "text/x-python",
   "name": "python",
   "nbconvert_exporter": "python",
   "pygments_lexer": "ipython3",
   "version": "3.4.3"
  }
 },
 "nbformat": 4,
 "nbformat_minor": 0
}
