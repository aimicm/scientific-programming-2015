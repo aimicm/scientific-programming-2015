{
 "cells": [
  {
   "cell_type": "markdown",
   "metadata": {},
   "source": [
    "# Iteration"
   ]
  },
  {
   "cell_type": "markdown",
   "metadata": {},
   "source": [
    "The idea of iteration is simply to execute a chunk of code repeatedly. *An iteration* refers to a single pass over the code. The code that you wish to run repeatedly is placed inside of a *loop*, which then starts over as long as some condition holds, or something causes it to stop (e.g. a `break` or `return` statement). \n",
    "\n",
    "Python has two main loop constructs: the `while` loop and the `for` loop. Functionally, they are equivalent. But even though, in principle, there is nothing you can do with a `for` loop that you can't do with a `while`, and vice-versa, one is often more convenient than the other. In Scientific Programming, you will encounter the `for` loop far more often than the `while` loop. \n",
    "\n",
    "In the example below, both types of loop are used to iterate over a list of digits, printing one at a time. \n",
    "\n",
    "**Exercise** Are the two loops equivalent (as written). Why or why not?"
   ]
  },
  {
   "cell_type": "code",
   "execution_count": null,
   "metadata": {
    "collapsed": false
   },
   "outputs": [],
   "source": [
    "pin_digits = [4, 7, 5, 3]\n",
    "\n",
    "for pin_digit in pin_digits:\n",
    "    print(pin_digit, end=' ')\n",
    "\n",
    "print()\n",
    "    \n",
    "while len(pin_digits):\n",
    "    print(pin_digits[0], end=' ')\n",
    "    pin_digits = pin_digits[1:]"
   ]
  },
  {
   "cell_type": "markdown",
   "metadata": {},
   "source": [
    "### Exercise: Multiplication tables"
   ]
  },
  {
   "cell_type": "markdown",
   "metadata": {},
   "source": [
    "Although not terribly useful, multiplication tables nicely illustrate the idea of performing the same operation on a number of elements. \n",
    "\n",
    "![Multiplication table](http://renew.education.ucsb.edu/downloads/overheads_handouts/MultiplicationTable.jpg)\n",
    "\n",
    "Any row or column in the table can be obtained by multiplying each element of the sequence\n",
    "\n",
    "$$(1, 2, ..., n)$$\n",
    "\n",
    "by an integer corresponding to the row or column number. Thus for row 3 the sequence is \n",
    "\n",
    "$$(1 \\cdot 3, 2 \\cdot 3, ..., n \\cdot 3),$$\n",
    "\n",
    "and more generally, for the the $k$th row:\n",
    "\n",
    "$$(k, 2k, ..., nk).$$\n",
    "\n",
    "To do this in Python the first step is to get a list of integers from 1 to $n$. The function `range` may be used for that."
   ]
  },
  {
   "cell_type": "code",
   "execution_count": null,
   "metadata": {
    "collapsed": false
   },
   "outputs": [],
   "source": [
    "range(1, 10)"
   ]
  },
  {
   "cell_type": "markdown",
   "metadata": {},
   "source": [
    "Note that the list returned from `range` doesn't include the second argument. Getting the range from 1 to $n$ therefore requires that you write `range(1, n + 1)`.\n",
    "\n",
    "The list from `range` can be used in a `for` loop."
   ]
  },
  {
   "cell_type": "code",
   "execution_count": 1,
   "metadata": {
    "collapsed": false
   },
   "outputs": [
    {
     "name": "stdout",
     "output_type": "stream",
     "text": [
      "1 2 3 4 5 6 7 8 9 "
     ]
    }
   ],
   "source": [
    "for i in range(1, 10):\n",
    "    print(i, end=' ')"
   ]
  },
  {
   "cell_type": "markdown",
   "metadata": {},
   "source": [
    "**Exercise** Modify the loop below to output the $k$th row in a multiplication table."
   ]
  },
  {
   "cell_type": "code",
   "execution_count": null,
   "metadata": {
    "collapsed": false
   },
   "outputs": [],
   "source": [
    "k = 3\n",
    "for i in range(1, 10):\n",
    "    print(i, end=' ')"
   ]
  },
  {
   "cell_type": "markdown",
   "metadata": {},
   "source": [
    "Often it is more desirable to save the values we compute in a list, rather than printing them to the screen. Built into the Python language is a very handy construction for doing just that which is called the *list comprehension*.\n",
    "\n",
    "Syntactically it is very similar to the `for` loop."
   ]
  },
  {
   "cell_type": "code",
   "execution_count": null,
   "metadata": {
    "collapsed": false
   },
   "outputs": [],
   "source": [
    "[i*k for i in range(1, 10)]"
   ]
  },
  {
   "cell_type": "markdown",
   "metadata": {},
   "source": [
    "**Exercise** Now we will use the list comprehension to create a full multiplication table. It is going to be a little bit complicated as we need a data structure where we can look up two values (i.e. the numbers $i$ and $j$ to find the product $ij$). \n",
    "\n",
    "In this exercise the data structure for the multiplication table should be a list of lists. The first, or outer, list is the rows. Concretely, say the multiplication table is bound to `mult_table`. When we look up, say, the fifth row, it should be a list with the following elements:\n",
    "\n",
    "````\n",
    "In []: mult_table[5]\n",
    "Out[]: [0, 5, 10, 15, 20, 25, 30, 35, 40, 45, 50]\n",
    "````\n",
    "\n",
    "To find out what $5 \\times 6$ is we look up the value of the sixth element in `mult_table[5]` - that is:\n",
    "\n",
    "````\n",
    "In []: mult_table[5][6]\n",
    "Out[]: 30\n",
    "````\n",
    "\n",
    "Tip: Use `range(0, 11)` as your range."
   ]
  },
  {
   "cell_type": "code",
   "execution_count": null,
   "metadata": {
    "collapsed": false
   },
   "outputs": [],
   "source": [
    "# Your code here"
   ]
  },
  {
   "cell_type": "markdown",
   "metadata": {},
   "source": [
    "### Distance to the moon"
   ]
  },
  {
   "cell_type": "markdown",
   "metadata": {},
   "source": [
    "Next we turn to a a pertinent scientific question: How many times do you need to fold a piece of paper in order to reach the moon?"
   ]
  },
  {
   "cell_type": "code",
   "execution_count": null,
   "metadata": {
    "collapsed": false
   },
   "outputs": [],
   "source": [
    "paper_thickness_in_mm = 0.02\n",
    "paper_thickness_in_m = paper_thickness_in_mm / 1000\n",
    "distance_to_moon_in_km = 384400\n",
    "distance_to_moon_in_m = distance_to_moon_in_km * 1000"
   ]
  },
  {
   "cell_type": "markdown",
   "metadata": {},
   "source": [
    "What value do you think `max_folds` should have?"
   ]
  },
  {
   "cell_type": "code",
   "execution_count": null,
   "metadata": {
    "collapsed": false
   },
   "outputs": [],
   "source": [
    "folded_thickness = paper_thickness_in_m\n",
    "max_folds = 5\n",
    "for n_folds in range(1, max_folds):\n",
    "    print(\"Number of folds\", n_folds)\n",
    "    print(\"Percent of distance\", (folded_thickness / distance_to_moon_in_m) * 100)\n",
    "    folded_thickness = folded_thickness * 2"
   ]
  },
  {
   "cell_type": "markdown",
   "metadata": {},
   "source": [
    "**Exercise** Modify the above loop to exit when the thickness of the paper exceeds the distance to the moon. Terminating a loop prematurely is called *breaking* and is done by the statement `break`. See the example below. (What is the result of executing the cell?)"
   ]
  },
  {
   "cell_type": "code",
   "execution_count": null,
   "metadata": {
    "collapsed": false
   },
   "outputs": [],
   "source": [
    "for i in range(10):\n",
    "    print(i, end=' ')\n",
    "    if i == 5:\n",
    "        break"
   ]
  },
  {
   "cell_type": "code",
   "execution_count": null,
   "metadata": {
    "collapsed": false
   },
   "outputs": [],
   "source": []
  }
 ],
 "metadata": {
  "kernelspec": {
   "display_name": "Python 3",
   "language": "python",
   "name": "python3"
  },
  "language_info": {
   "codemirror_mode": {
    "name": "ipython",
    "version": 3
   },
   "file_extension": ".py",
   "mimetype": "text/x-python",
   "name": "python",
   "nbconvert_exporter": "python",
   "pygments_lexer": "ipython3",
   "version": "3.4.3"
  }
 },
 "nbformat": 4,
 "nbformat_minor": 0
}
