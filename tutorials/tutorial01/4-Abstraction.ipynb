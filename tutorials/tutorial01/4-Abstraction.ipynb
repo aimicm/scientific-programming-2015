{
 "cells": [
  {
   "cell_type": "markdown",
   "metadata": {},
   "source": [
    "## Abstraction"
   ]
  },
  {
   "cell_type": "markdown",
   "metadata": {},
   "source": [
    "The story of how a computer actually (down to the physical level) adds two Python numbers together is incredibly complicated. If you had to handle all the details yourself, it would be impossible to get any work done. Abstraction is what allows us to simply type:"
   ]
  },
  {
   "cell_type": "code",
   "execution_count": null,
   "metadata": {
    "collapsed": false
   },
   "outputs": [],
   "source": [
    "2 + 2"
   ]
  },
  {
   "cell_type": "markdown",
   "metadata": {},
   "source": [
    "get the answer, and not worry too much about what goes on \"under the hood\". As a high-level language, Python takes care of most of the details for us. For instance, you don't have to think about where to place data structures in computer memory or what happens to them once they no longer are needed (as you would have to in some lower-level programming languages).\n",
    "\n",
    "Python abstract away many details of programming, and code written in Python can do the same. One important way of doing this is to organize smaller pieces of related code into units called *functions*. A function has a name, which usually reflects what it does, it takes some arguments as input and produces a value as output. \n",
    "\n",
    "Here's an example:"
   ]
  },
  {
   "cell_type": "code",
   "execution_count": null,
   "metadata": {
    "collapsed": false
   },
   "outputs": [],
   "source": [
    "def double(x):\n",
    "    return 2 * x\n",
    "\n",
    "print(double(5))"
   ]
  },
  {
   "cell_type": "markdown",
   "metadata": {},
   "source": [
    "**Exercise** What is the return value of `double(double(5))`?\n",
    "\n",
    "Functions accept any number of arguments, including zero. The arguments can optionally have default values, in which case you can omit the argument when calling the function. Arguments may also be provided by name. Thus `double(5)` and `double(x=5)` mean the same thing. When the number of arguments to a function is large, spelling the names out is often helpful.\n",
    "\n",
    "As you can see below, functions can call each other freely. In fact, many important algorithms rely on functions that call themselves (these are known as *recursive* functions)."
   ]
  },
  {
   "cell_type": "code",
   "execution_count": null,
   "metadata": {
    "collapsed": false
   },
   "outputs": [],
   "source": [
    "def plain_greet(name):\n",
    "    return \"Hello\" + \" \" +  name\n",
    "\n",
    "def added_insult():\n",
    "    return \"considering your age\"\n",
    "\n",
    "def added_praise():\n",
    "    return \"you look nice\"\n",
    "\n",
    "def fancy_greet(name, praise=True, insult=False):\n",
    "    greeting = plain_greet(name)\n",
    "    if praise:\n",
    "        greeting += \", \"\n",
    "        greeting += added_praise()\n",
    "    if insult:\n",
    "        greeting += \" \"\n",
    "        greeting += added_insult()\n",
    "    \n",
    "    return greeting\n",
    "\n",
    "fancy_greet(\"Helen\", insult=True)"
   ]
  },
  {
   "cell_type": "markdown",
   "metadata": {},
   "source": [
    "**Exercise** List all the ways you can call the `fancy_greet` function with the same set of parameters. Excluding permutations of named arguments (shuffling the order of the named arguments), there should be at least 11 variations."
   ]
  },
  {
   "cell_type": "code",
   "execution_count": null,
   "metadata": {
    "collapsed": false
   },
   "outputs": [],
   "source": [
    "print(fancy_greet(\"Helen\"))\n",
    "print(fancy_greet(\"Helen\", True))\n",
    "# Continue the list here\n",
    "\n",
    "\n"
   ]
  },
  {
   "cell_type": "markdown",
   "metadata": {},
   "source": [
    "### Importing functions (and other code) from modules"
   ]
  },
  {
   "cell_type": "markdown",
   "metadata": {},
   "source": [
    "In almost every script or notebook we need to call functions that are not defined in that same script or notebook. The functions might come from the standard library, a machine learning or plotting package, or maybe even from another file of your own where you put commonly used code.\n",
    "\n",
    "In Python this is made possible by *importing* the function from a module. Recall that every Python source file is a module. Importing means to *bind* the function from the foreigning module to a name in the current module. Look at the file `number_magic.py`, which is in the same directory as the notebook you are currently running. It defines a simple function `triple`, which we now are going to import. "
   ]
  },
  {
   "cell_type": "code",
   "execution_count": null,
   "metadata": {
    "collapsed": false
   },
   "outputs": [],
   "source": [
    "from number_magic import triple"
   ]
  },
  {
   "cell_type": "markdown",
   "metadata": {},
   "source": [
    "Now `triple` is defined in the local namespace. Try to run `%whos` to check if you can see it.\n",
    "\n",
    "The import statement follows the pattern \n",
    "\n",
    "```\n",
    "from <module> import <name>\n",
    "```\n",
    "\n",
    "An alternative is to import the module \n",
    "\n",
    "```\n",
    "import number_magic\n",
    "```\n",
    "\n",
    "and access the function like this\n",
    "\n",
    "```\n",
    "number_magic.triple(5)\n",
    "```\n",
    "\n",
    "Finally, you can rename the functions and modules as you import them. A common reason for doing this is to have a short alias for a commonly used module. Thus the numerical library `numpy` is conventionally imported as `np`. It can also be helpful to avoid name clashes (i.e. a function in your local code and a function in the foreign module is called the same thing). The syntax for importing and renaming is:\n",
    "\n",
    "````\n",
    "import <module> as <name>\n",
    "from <module> import <name> as <name>\n",
    "````\n",
    "\n",
    "\n"
   ]
  },
  {
   "cell_type": "markdown",
   "metadata": {},
   "source": [
    "**Exercise** Try the different ways of importing triple to your local namespace. Check `%whos` to see if it behaves as expected"
   ]
  },
  {
   "cell_type": "code",
   "execution_count": null,
   "metadata": {
    "collapsed": false
   },
   "outputs": [],
   "source": [
    "# Your code here"
   ]
  }
 ],
 "metadata": {
  "kernelspec": {
   "display_name": "Python 3",
   "language": "python",
   "name": "python3"
  },
  "language_info": {
   "codemirror_mode": {
    "name": "ipython",
    "version": 3
   },
   "file_extension": ".py",
   "mimetype": "text/x-python",
   "name": "python",
   "nbconvert_exporter": "python",
   "pygments_lexer": "ipython3",
   "version": "3.4.3"
  }
 },
 "nbformat": 4,
 "nbformat_minor": 0
}
