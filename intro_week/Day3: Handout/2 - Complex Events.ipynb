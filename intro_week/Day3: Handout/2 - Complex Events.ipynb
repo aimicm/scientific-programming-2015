{
 "cells": [
  {
   "cell_type": "markdown",
   "metadata": {},
   "source": [
    "# Complex sample spaces\n",
    "\n",
    "So far, we only looked at sample spaces where an outcome is a single unit (rolling a single die, choosing one card from a set of cards). Oftentimes, an outcome (a single *pepple*) consists of ***several components***, the sequence of outcomes from several trials that are parts of the experiment. Thus, \"HTTHT\" can represent the outcome of drawing 5 coins.\n",
    "\n",
    "When an outcome involves more than a single unit, we call them complex sample spaces. \n",
    "\n",
    "### Generating the sample space\n",
    "\n",
    "Now, suppose you are given **two** dice. \n",
    "\n",
    "- What is an example *outcome*?\n",
    "- What is an example *event*?\n",
    "- Generate the sample space for the experiment. How large is the sample space?"
   ]
  },
  {
   "cell_type": "code",
   "execution_count": 1,
   "metadata": {
    "collapsed": false
   },
   "outputs": [],
   "source": [
    "### your code here\n",
    "     "
   ]
  },
  {
   "cell_type": "markdown",
   "metadata": {},
   "source": [
    "Use the sample space you generated to answer the following:\n",
    "- Calculate the probability that the dice turn up with the same digit.\n",
    "- Calculate the probability that at least one of the dice comes up greater than 1? (hint: think about the complement)\n",
    "\n"
   ]
  },
  {
   "cell_type": "code",
   "execution_count": null,
   "metadata": {
    "collapsed": false
   },
   "outputs": [],
   "source": [
    "### your code here"
   ]
  },
  {
   "cell_type": "markdown",
   "metadata": {},
   "source": [
    "## Job hunting"
   ]
  },
  {
   "cell_type": "markdown",
   "metadata": {},
   "source": [
    "Rita just finished her studies. She is applying for jobs at three places. She categorizes her job interview as a success (S) or failure (F) depending on whether or not the interview leads to a job offer. \n",
    "\n",
    "An outcome of this experiment can be seen as $(x,y,z)$, where $x,y,z$ is the result of the job interviews at place one, two and three, respectively.\n"
   ]
  },
  {
   "cell_type": "markdown",
   "metadata": {},
   "source": [
    "- set up the sample space $S$ for the experiment, i.e., generate the sample space (Hint: use `for`-loops)"
   ]
  },
  {
   "cell_type": "code",
   "execution_count": 2,
   "metadata": {
    "collapsed": false
   },
   "outputs": [],
   "source": [
    "### your code here"
   ]
  },
  {
   "cell_type": "markdown",
   "metadata": {},
   "source": [
    "- calculate the sample size."
   ]
  },
  {
   "cell_type": "code",
   "execution_count": 3,
   "metadata": {
    "collapsed": false
   },
   "outputs": [],
   "source": [
    "### your code here\n"
   ]
  },
  {
   "cell_type": "markdown",
   "metadata": {},
   "source": [
    "- what is the probability that she gets either the second or third job offered?\n"
   ]
  },
  {
   "cell_type": "code",
   "execution_count": null,
   "metadata": {
    "collapsed": false
   },
   "outputs": [],
   "source": [
    "### your code here\n"
   ]
  },
  {
   "cell_type": "markdown",
   "metadata": {},
   "source": [
    "- what is the probability that she gets exactly 2 job offers? "
   ]
  },
  {
   "cell_type": "code",
   "execution_count": 4,
   "metadata": {
    "collapsed": false
   },
   "outputs": [],
   "source": [
    "### your code here\n",
    "\n"
   ]
  },
  {
   "cell_type": "markdown",
   "metadata": {},
   "source": [
    "## Exercise: 10 dice\n",
    "\n",
    "\n",
    "So far we enumerated the entire sample space. However, they were pretty small, while they can get huge quickly. \n",
    "\n",
    "Imagine we throw 10 dice. What is an example outcome? What is the size of the sample space for this experiment?\n"
   ]
  },
  {
   "cell_type": "code",
   "execution_count": 5,
   "metadata": {
    "collapsed": false
   },
   "outputs": [],
   "source": [
    "### your code here\n"
   ]
  },
  {
   "cell_type": "markdown",
   "metadata": {
    "collapsed": true
   },
   "source": [
    "\n"
   ]
  }
 ],
 "metadata": {
  "kernelspec": {
   "display_name": "Python 3",
   "language": "python",
   "name": "python3"
  },
  "language_info": {
   "codemirror_mode": {
    "name": "ipython",
    "version": 3
   },
   "file_extension": ".py",
   "mimetype": "text/x-python",
   "name": "python",
   "nbconvert_exporter": "python",
   "pygments_lexer": "ipython3",
   "version": "3.3.5"
  }
 },
 "nbformat": 4,
 "nbformat_minor": 0
}
