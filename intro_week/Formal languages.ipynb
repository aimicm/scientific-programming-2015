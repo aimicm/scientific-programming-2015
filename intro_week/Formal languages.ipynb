{
 "cells": [
  {
   "cell_type": "markdown",
   "metadata": {},
   "source": [
    "## What is a programming language\n",
    "\n",
    "In what sense is a *programming* language a language like English or French?\n",
    "\n",
    "While programming languages differ in **purpose** from natural languages, clear analogies can be drawn between the two kinds of language with respect to **grammar** (what is the structure of the sentence), **semantics** (what does it mean?), and **pragmatics** (what assumptions do I need to invoke to interpret the sentence?). We'll go over each of these aspects in this notebook. \n",
    "\n",
    "### A language with a purpose\n",
    "\n",
    "Most of us use our native languages to talk about everything under the sun and to accomplish all sorts of things. Nevertheless, there is a widely spread notion that some languages are more suitable for certain purposes than others. According to Google autocomplete, \n",
    "\n",
    "- Russian is the language of literature\n",
    "- French is the language of desire\n",
    "- Chinese is the language of the future\n",
    "- Italian is the language of music\n",
    "- Greek is the language of mathematics\n",
    "\n",
    "Although these conventional images may not be wholly accurate in the case of natural languages, programming languages are actually constructed with a very specific purpose in mind. You use them to control what your computer do. In other words, \n",
    "\n",
    "- Python is the language of bossing your computer around\n",
    "\n",
    "or, more delicately phrased:\n",
    "\n",
    "- Python is the language of computation and algorithms"
   ]
  },
  {
   "cell_type": "markdown",
   "metadata": {},
   "source": [
    "### Grammaticality\n",
    "\n",
    "#### Natural languages\n",
    "\n",
    "In natural languages the difference between grammatical and ungrammatical statements is sometimes blurry. English, for instance, mostly puts modifying adjectives on the left side of the noun, e.g. \n",
    "\n",
    "> I'll take you **unknown places**\n",
    "\n",
    "Reversing the word order is likely to raise some eyebrows, but people would nevertheless have no trouble understanding the sentence, which might be considered *borderline grammatical*:\n",
    "\n",
    "> I'll take you **places unknown**\n",
    "\n",
    "In some instances the inverted word order is uncontroversial:\n",
    "\n",
    "> Paradise Lost\n",
    "\n",
    "#### Formal languages\n",
    "\n",
    "Formal languages, in contrast, have a highly non-flexible notion of grammaticality. Either a sentence is a part of the language, or it isn't. \n",
    "\n",
    "A formal language is often conceptualized as a set of sentences, namely all sentences that are a part of that language. We can thus say that a sentence is grammatical if it *belongs* to the (set of sentences in the) language. \n",
    "\n",
    "Formal languages are based on collections of rules, which can be though of as building blocks for constructing sentences. "
   ]
  },
  {
   "cell_type": "markdown",
   "metadata": {},
   "source": [
    "### A formal language of treasure maps\n",
    "\n",
    "![Treasure map of Jesse James](jesse_james_treasure_map.jpg)\n",
    "\n",
    "#### Example sentences\n",
    "\n",
    "- The treasure chest is buried under the old oak\n",
    "- The gold is hidden at the cementary\n",
    "- The treasure chest is hidden under the floor\n",
    "\n",
    "These sentences seem follow a simple pattern where you plug in words or phrases from a list into predefined slots. Below the brackets indicate where position of these slots in the example sentences.   \n",
    "\n",
    "- The \\[treasure chest\\] is \\[buried\\] \\[under the old oak\\]\n",
    "- The \\[gold\\] is \\[hidden\\] \\[at the cementary\\]\n",
    "- The \\[treasure chest\\] is \\[hidden\\] \\[under the floor\\]\n",
    "\n",
    "Thus we can summarize all of the above sentence by a master sentence with *placeholder symbols* inserted. \n",
    "\n",
    "> *Master* $\\rightarrow$ The *Treasure* is *Hidden* *AtPlace* \n",
    "\n",
    "The placeholder symbols then need to defined. First the treasure.\n",
    "\n",
    "> *Treasure* $\\rightarrow$ gold <br/>\n",
    "> *Treasure* $\\rightarrow$ treasure chest\n",
    "\n",
    "The location apparently consists of two things, a relative location (e.g. \"under\" or \"at\") and  landmark (e.g. \"old oak\"). It's therefore convenient to split that placeholder further\n",
    "\n",
    "> *AtPlace* $\\rightarrow$ *RelativeLocation* the *Landmark* <br/>\n",
    "> *RelativeLocation* $\\rightarrow$ at <br/>\n",
    "> *RelativeLocation* $\\rightarrow$ under <br/>\n",
    "> *Landmark* $\\rightarrow$ old oak <br/>\n",
    "> *Landmark* $\\rightarrow$ floor <br/>\n",
    "> *Landmark* $\\rightarrow$ cementary <br/>\n",
    "\n",
    "What we have written above in terms of a master sentence with pluggable placeholder symbols is grammar that defines a small formal language. \n",
    "\n",
    "This sort of grammar is also called a *rewrite system*, because the individual elements of the grammar are small rules that tell you that you may rewrite (replace) the symbol on the left side of the arrow with whatever is on the right side. \n",
    "\n",
    "**Excercise** Let's try it out. In the cell below, begin by writing master sentence on the first line (i.e. the right-hand side of the *Master* rule). Then replace one symbol of your choice in the sentence, writing the new sentence on the next line. Repeat this process until there are no longer any symbols left. Once you are done, repeat the process to generate a different sentence."
   ]
  },
  {
   "cell_type": "markdown",
   "metadata": {},
   "source": [
    "### Exercise\n",
    "\n",
    "**AJ delete**\n",
    "\n",
    "The Treasure is Hidden AtPlace\n",
    "\n",
    "The gold is Hidden AtPlace\n",
    "\n",
    "The gold is buried AtPlace\n",
    "\n",
    "The gold is buried RelativeLocation the Landmark\n",
    "\n",
    "The gold is buried under the Landmark\n",
    "\n",
    "The gold is buried under the cemetary\n"
   ]
  },
  {
   "cell_type": "markdown",
   "metadata": {},
   "source": [
    "#### Limitations of the treasure map grammar\n",
    "\n",
    "The number of sentences that can be generated by the simple rule-based grammar above is limited. Of course you can greatly expand the number of sentences allowed by the language through adding more rules of the type:\n",
    "\n",
    "> *Landmark* $\\rightarrow$ mountain top <br/>\n",
    "> *Landmark* $\\rightarrow$ enchanted forest <br/>\n",
    "\n",
    "Regardless of any such additions to the vocabulary, the treasure map language is incapable of expressing more complex descriptions of the treasure and its location. In particular, we run into trouble when meaning is compositional (obtaining by combining smaller units) and we do not wish to impose some arbitrary limit on the number of such combinations.\n",
    "\n",
    "- The gold is buried under the old oak at the mountain top in the enchanted forest.\n",
    "\n",
    "\n",
    "- The gold is buried \\[in the enchanted forest\\].\n",
    "- The gold is buried [ at the mountain top \\[in the enchanted forest\\] \\].\n",
    "- The gold is buried \\[under the old oak \\[ at the mountain top \\[in the enchanted forest\\] \\] \\].\n",
    "\n",
    "\n",
    "(Some formal observations:)\n",
    "\n",
    "- The number of sentences in the language remains finite. \n",
    "- It's easy to calculate the maximum number of words a sentence can be. \n",
    "- The number of derivation steps you need to generate a sentence is always the same.\n",
    "\n",
    "\n",
    "### Recursion \n",
    "\n",
    "We will now introduce the very potent concept of recursion, which will allow us to express sentences with a long chain of modifications like the one above. Recursion is a special form of repeating an action and is pervasive in all programming languages.\n",
    "\n",
    "Allowing chains of modifications can be done by adding a single rule to our grammar. \n",
    "\n",
    "> *AtPlace* $\\rightarrow$ *AtPlace* *RelativeLocation* the *Landmark* <br/>\n",
    "\n",
    "Here is an example derivation (omitting the expansion of the non-recursive *AtPlace* rule)\n",
    "\n",
    "- The gold is buried \\[*AtPlace*\\]\n",
    "- The gold is buried \\[*AtPlace* *RelativeLocation* the *Landmark*\\].\n",
    "- The gold is buried \\[*AtPlace* in the enchanted forest\\].\n",
    "- The gold is buried \\[\\[ *AtPlace* *RelativeLocation* the *Landmark* \\] in the enchanted forest\\].\n",
    "- The gold is buried \\[\\[ *AtPlace* at the mountain top \\] in the enchanted forest\\].\n",
    "- The gold is buried \\[\\[\\[under the old oak\\] at the mountain top\\] in the enchanted forest\\].\n",
    "\n",
    "The formal properties of the grammar has changed:\n",
    "\n",
    "- The number of sentences in the language is infinite. \n",
    "- There is no bound on the number of words in a sentence. \n",
    "- The number of derivation steps you need to generate a sentence has a minimum but no maximum.\n",
    "\n",
    "\n",
    "**Discussion** Here are two alternative rules that also add compositionality of the place name to the grammar. What do they do differently? Can you think of any reasons for preferring the first version?\n",
    "\n",
    "> *AtPlace* $\\rightarrow$ *RelativeLocation* the *Landmark* *AtPlace* <br/>\n",
    "> *AtPlace* $\\rightarrow$ *AtPlace* *AtPlace* <br/>\n",
    "\n",
    "\n",
    "\n",
    "\n"
   ]
  },
  {
   "cell_type": "markdown",
   "metadata": {},
   "source": [
    "### Semantics \n",
    "\n",
    "While writing code that obeys the grammar of a programming language is an accomplishment, it is unfortunately not enough to make sure that the program works as intented. \n",
    "\n",
    "Statements may be well-formed but semantically undefined. For such statements the computer understands your instructions. Carrying them out "
   ]
  },
  {
   "cell_type": "code",
   "execution_count": 24,
   "metadata": {
    "collapsed": false
   },
   "outputs": [
    {
     "ename": "ZeroDivisionError",
     "evalue": "division by zero",
     "output_type": "error",
     "traceback": [
      "\u001b[0;31m---------------------------------------------------------------------------\u001b[0m",
      "\u001b[0;31mZeroDivisionError\u001b[0m                         Traceback (most recent call last)",
      "\u001b[0;32m<ipython-input-24-411e39eefd0e>\u001b[0m in \u001b[0;36m<module>\u001b[0;34m()\u001b[0m\n\u001b[1;32m      2\u001b[0m \u001b[0mx\u001b[0m \u001b[0;34m=\u001b[0m \u001b[0;36m25\u001b[0m\u001b[0;34m\u001b[0m\u001b[0m\n\u001b[1;32m      3\u001b[0m \u001b[0my\u001b[0m \u001b[0;34m=\u001b[0m \u001b[0;36m0\u001b[0m\u001b[0;34m\u001b[0m\u001b[0m\n\u001b[0;32m----> 4\u001b[0;31m \u001b[0mx\u001b[0m \u001b[0;34m/\u001b[0m \u001b[0my\u001b[0m\u001b[0;34m\u001b[0m\u001b[0m\n\u001b[0m",
      "\u001b[0;31mZeroDivisionError\u001b[0m: division by zero"
     ]
    }
   ],
   "source": [
    "# Division by zero\n",
    "x = 25 \n",
    "y = 0\n",
    "x / y"
   ]
  },
  {
   "cell_type": "code",
   "execution_count": null,
   "metadata": {
    "collapsed": false
   },
   "outputs": [],
   "source": [
    "# Write the sentence in title case\n",
    "\"a most unusual story\".title()"
   ]
  },
  {
   "cell_type": "code",
   "execution_count": null,
   "metadata": {
    "collapsed": false
   },
   "outputs": [],
   "source": [
    "# Calling an undefined function\n",
    "\"a most unusual story\".make_title()"
   ]
  },
  {
   "cell_type": "code",
   "execution_count": null,
   "metadata": {
    "collapsed": false
   },
   "outputs": [],
   "source": [
    "# Combining incompatible types of things\n",
    "a_number = 3\n",
    "a_letter = \"X\"\n",
    "a_number + a_letter"
   ]
  },
  {
   "cell_type": "code",
   "execution_count": null,
   "metadata": {
    "collapsed": false
   },
   "outputs": [],
   "source": [
    "# However, numbers work\n",
    "a_number + a_number"
   ]
  },
  {
   "cell_type": "code",
   "execution_count": null,
   "metadata": {
    "collapsed": false
   },
   "outputs": [],
   "source": [
    "# String may be combined \n",
    "a_letter + a_letter"
   ]
  },
  {
   "cell_type": "code",
   "execution_count": null,
   "metadata": {
    "collapsed": false
   },
   "outputs": [],
   "source": [
    "# Even strings can be multiplied (i.e. repeated) by numbers\n",
    "a_letter * a_number"
   ]
  },
  {
   "cell_type": "markdown",
   "metadata": {},
   "source": [
    "Some programming languages know how to check for semantic errors like the ones above where incompatible types are combined. These are referred as *strongly-typed* languages, because the type of any variable like `a_letter` is known even before running the program. (Recall the name of the variable, despite being meaningful to humans, is nothing but an uninterpretable symbol to the computer). Java, C and C++ are examples of such languages. \n",
    "\n",
    "Python, on the other hand, is *weakly typed*. In practical terms that means you have to deal with semantic errors due to type incompatibility while the program is running (they could happen when your program has been running for an hour). Strongly-typed languages rejects such programs without even attempting to run them, potentially saving you time. \n",
    "\n",
    "Why would anyone then use a weakly-typed language? Well, it turns out that it takes a lot of effort to keep track of the exact types in a complicated program.\n",
    "\n",
    "For instance, if you wanted a datastructure to store how many times you've seen different words in a collection of documents, you might write something like the following in Java: \n",
    "\n",
    "```java\n",
    "HashMap<String, HashMap<String, Integer>> wordCountsByDoc = new HashMap<String, HashMap<String, Integer>>(); \n",
    "```\n",
    "\n",
    "Python would let you get away with this:\n",
    "\n",
    "```python\n",
    "word_counts_by_doc = {}\n",
    "```\n"
   ]
  },
  {
   "cell_type": "markdown",
   "metadata": {},
   "source": [
    "### Lack of pragmatics \n",
    "\n",
    "Pragmatics is what enables speakers of a language to communicate efficiently. They do not have to spell out every single detail, because they can rely on a set of shared assumptions. Even if the message comes out less than perfect, speakers are often able to infer the meaning. \n",
    "\n",
    "Programming languages offer no such pragmatics. The computer is incredibly literal-minded and will do exactly as instructed, offering no charitable interpretation of your code, even in cases when humans would have no trouble inferring what you meant. \n",
    "\n",
    "Yet this is not as bad as it sounds. Computer languages have less need for pragmatics, because they are restricted in a way that natural languages are not. A syntactically and semantically valid line in a computer programming will have one and only one interpretation. English sentences, in contrast, are often ambigious and can mean a number of things, depending on the context. One of the more famous examples of natural language ambiguity is prepositional attachment:\n",
    "\n",
    "> He saw the girl with the telescope\n",
    "\n",
    "Did the girl or the guy have the telescope? I.e. which of the two interpretations below is the correct one?\n",
    "\n",
    "> He saw \\[the girl \\[with the telescope\\]\\]\n",
    "> He saw \\[the girl \\] \\[with the telescope\\]\n",
    "\n",
    "Whenever programming languages encounter potentially ambigious statements, they employ preference rules to select a single interpretation. Below, the value of the mathematical expression depends on what order you evaluate the components of the equations -- subtraction or multiplication first? \n",
    "\n",
    "```\n",
    "3 - 2 * 5\n",
    "```\n",
    "\n",
    "As you might have guessed, multiplications are handled first in Python. Alternative orderings of the operations can be forced by using parenthesis.\n"
   ]
  },
  {
   "cell_type": "code",
   "execution_count": 25,
   "metadata": {
    "collapsed": false
   },
   "outputs": [
    {
     "data": {
      "text/plain": [
       "-7"
      ]
     },
     "execution_count": 25,
     "metadata": {},
     "output_type": "execute_result"
    }
   ],
   "source": [
    "3 - 2 * 5"
   ]
  },
  {
   "cell_type": "code",
   "execution_count": 26,
   "metadata": {
    "collapsed": false
   },
   "outputs": [
    {
     "data": {
      "text/plain": [
       "5"
      ]
     },
     "execution_count": 26,
     "metadata": {},
     "output_type": "execute_result"
    }
   ],
   "source": [
    "(3 - 2) * 5"
   ]
  },
  {
   "cell_type": "code",
   "execution_count": 27,
   "metadata": {
    "collapsed": false
   },
   "outputs": [
    {
     "data": {
      "text/plain": [
       "-7"
      ]
     },
     "execution_count": 27,
     "metadata": {},
     "output_type": "execute_result"
    }
   ],
   "source": [
    "3 - (2 * 5)"
   ]
  }
 ],
 "metadata": {
  "kernelspec": {
   "display_name": "Python 3",
   "language": "python",
   "name": "python3"
  },
  "language_info": {
   "codemirror_mode": {
    "name": "ipython",
    "version": 3
   },
   "file_extension": ".py",
   "mimetype": "text/x-python",
   "name": "python",
   "nbconvert_exporter": "python",
   "pygments_lexer": "ipython3",
   "version": "3.4.3"
  }
 },
 "nbformat": 4,
 "nbformat_minor": 0
}
