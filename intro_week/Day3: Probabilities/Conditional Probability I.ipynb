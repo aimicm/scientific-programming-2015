{
 "cells": [
  {
   "cell_type": "markdown",
   "metadata": {},
   "source": [
    "## Conditional Probability I\n",
    "\n",
    "For example, you are rolling a single die, and the roll of the die comes up odd. What is the probability that the roll is a 5? \n",
    "\n",
    "In probability notation, you want the probability of the event A = \"roll is a 5\" ***given*** the information B that the roll is odd. In other words, P(A|B). After you know that the roll is odd, you have only three possibilities: {$1,3,5$}, and each is equally likely. Therefore P(roll is 5|odd) = $1/3$ = $0.33$."
   ]
  },
  {
   "cell_type": "markdown",
   "metadata": {},
   "source": [
    "The definition of conditional probability is: $$ P(A|B) = \\frac{P(A \\cap B)}{P(B)}$$ "
   ]
  },
  {
   "cell_type": "markdown",
   "metadata": {},
   "source": [
    "That is, to derive the conditional probability $P(A|B)$, you take the ***joint*** probability $P(A \\cap B)$ (intersection) and divide by $P(B)$. \n",
    "\n",
    "You can use the formula to derive the previous anser. $A \\cap B $ = {5} and $B$ = {$1,3,5$}. So, $P(A \\cap B)=1/6$ and $P(B) = 3/6$. Therefore, $P(A|B)$= 1/6 / 3/6 = 1/6 * 6/3 = 1/3 = $0.33$. "
   ]
  },
  {
   "cell_type": "markdown",
   "metadata": {},
   "source": [
    "## Multiplication rule\n",
    "\n",
    "You can use the multiplication rule to find the probability of the intersection of two events A and B. The multiplication rule can easily  be derived from the definition of *conditional probability*. \n",
    "\n",
    "Conditional probability:\n",
    "\n",
    "$$ P(A|B) = \\frac{P(A \\cap B)}{P(B)}$$ \n",
    "\n",
    "Multiplication rule:\n",
    "\n",
    "$$ P(A \\cap B) = P(A|B) * P(B)$$ "
   ]
  },
  {
   "cell_type": "markdown",
   "metadata": {},
   "source": [
    "** Note: do not confuse $P(A \\cap B)$ with $P(A|B)$.\n"
   ]
  },
  {
   "cell_type": "markdown",
   "metadata": {},
   "source": [
    "## Exercise: Married women\n",
    "\n",
    "%Suppose a class consists of 60% women. You also know that, of these women, 33% are married. What is the chance that a person you select at random is a woman and married?\n",
    "\n",
    "Suppose you are given the following class of students where 'f'/'m' indicates their gender and 'yes'/'no' whether they are married. \n"
   ]
  },
  {
   "cell_type": "code",
   "execution_count": 42,
   "metadata": {
    "collapsed": false
   },
   "outputs": [],
   "source": [
    "population=[('f','no'),('m','yes'),('m','yes'),('f','no'),('f','no'),('m','yes'),('f','no'),('f','yes'),('f','yes'),('m','no')]"
   ]
  },
  {
   "cell_type": "code",
   "execution_count": 43,
   "metadata": {
    "collapsed": false
   },
   "outputs": [
    {
     "data": {
      "text/plain": [
       "[('f', 'no'),\n",
       " ('m', 'yes'),\n",
       " ('m', 'yes'),\n",
       " ('f', 'no'),\n",
       " ('f', 'no'),\n",
       " ('m', 'yes'),\n",
       " ('f', 'no'),\n",
       " ('f', 'yes'),\n",
       " ('f', 'yes'),\n",
       " ('m', 'no')]"
      ]
     },
     "execution_count": 43,
     "metadata": {},
     "output_type": "execute_result"
    }
   ],
   "source": [
    "population"
   ]
  },
  {
   "cell_type": "markdown",
   "metadata": {},
   "source": [
    "* what is the percentage of women in the class? $$P(women)$$\n",
    "* what is the percentage of women that are married? (Note: make sure you understand which probability this is, e.g., $P(women \\cap married)$, $P(married|women)$, $P(women|married)$?)\n",
    "* what is the chance that a person you select at random is a woman and married? "
   ]
  },
  {
   "cell_type": "code",
   "execution_count": 44,
   "metadata": {
    "collapsed": true
   },
   "outputs": [],
   "source": [
    "count= {}\n",
    "for gender,married in population:\n",
    "    count[gender] = count.get(gender,0)+1\n",
    "    count[married] = count.get(married,0)+1\n",
    "    count[(gender,married)] = count.get((gender,married),0)+1"
   ]
  },
  {
   "cell_type": "code",
   "execution_count": 45,
   "metadata": {
    "collapsed": false
   },
   "outputs": [
    {
     "data": {
      "text/plain": [
       "0.6"
      ]
     },
     "execution_count": 45,
     "metadata": {},
     "output_type": "execute_result"
    }
   ],
   "source": [
    "# percentage of women P(W)\n",
    "count['f'] / (count['f'] + count['m'])"
   ]
  },
  {
   "cell_type": "code",
   "execution_count": 46,
   "metadata": {
    "collapsed": false
   },
   "outputs": [
    {
     "data": {
      "text/plain": [
       "0.3333333333333333"
      ]
     },
     "execution_count": 46,
     "metadata": {},
     "output_type": "execute_result"
    }
   ],
   "source": [
    "# percentage of woman that are married = P(W|M)\n",
    "count[('f','yes')]/ count['f']"
   ]
  },
  {
   "cell_type": "markdown",
   "metadata": {},
   "source": [
    "The randomly selected person is a women AND married means that you ask for $$P(married \\cap women)$$"
   ]
  },
  {
   "cell_type": "code",
   "execution_count": 47,
   "metadata": {
    "collapsed": false
   },
   "outputs": [
    {
     "data": {
      "text/plain": [
       "0.19999999999999998"
      ]
     },
     "execution_count": 47,
     "metadata": {},
     "output_type": "execute_result"
    }
   ],
   "source": [
    "prob_women = count['f'] / (count['f'] + count['m'])\n",
    "prob_married_given_women = count[('f','yes')]/ count['f']\n",
    "prob_women_and_married = prob_married_given_women * prob_women\n",
    "prob_women_and_married"
   ]
  },
  {
   "cell_type": "code",
   "execution_count": null,
   "metadata": {
    "collapsed": true
   },
   "outputs": [],
   "source": []
  },
  {
   "cell_type": "code",
   "execution_count": null,
   "metadata": {
    "collapsed": true
   },
   "outputs": [],
   "source": []
  }
 ],
 "metadata": {
  "kernelspec": {
   "display_name": "Python 3",
   "language": "python",
   "name": "python3"
  },
  "language_info": {
   "codemirror_mode": {
    "name": "ipython",
    "version": 3
   },
   "file_extension": ".py",
   "mimetype": "text/x-python",
   "name": "python",
   "nbconvert_exporter": "python",
   "pygments_lexer": "ipython3",
   "version": "3.3.5"
  }
 },
 "nbformat": 4,
 "nbformat_minor": 0
}
