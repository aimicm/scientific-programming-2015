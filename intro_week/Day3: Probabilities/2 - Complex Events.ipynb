{
 "cells": [
  {
   "cell_type": "markdown",
   "metadata": {},
   "source": [
    "#Generating complex sample spaces\n",
    "\n",
    "Depending on the setup of the experiment, the outcome can be a single atomar unit (e.g. drawing a 6 when rolling a single die) or a composite or complex outcome. For example, when drawing several dice. Here we look at more examples of complex sample spaces."
   ]
  },
  {
   "cell_type": "markdown",
   "metadata": {},
   "source": [
    "## Job hunting"
   ]
  },
  {
   "cell_type": "markdown",
   "metadata": {},
   "source": [
    "Rita just finished her studies. She is applying for jobs at three places. She categorizes her job interview as a success (S) or failure (F) depending on whether or not the interview leads to a job offer. \n",
    "\n",
    "An outcome of this experiment can be seen as $(x,y,z)$, where $x,y,z$ is the result of the job interviews at place one, two and three, respectively.\n"
   ]
  },
  {
   "cell_type": "markdown",
   "metadata": {},
   "source": [
    "- set up the sample space $S$ for the experiment, i.e., generate the sample space (Hint: use `for`-loops)"
   ]
  },
  {
   "cell_type": "code",
   "execution_count": 16,
   "metadata": {
    "collapsed": false
   },
   "outputs": [
    {
     "data": {
      "text/plain": [
       "{('F', 'F', 'F'),\n",
       " ('F', 'F', 'S'),\n",
       " ('F', 'S', 'F'),\n",
       " ('F', 'S', 'S'),\n",
       " ('S', 'F', 'F'),\n",
       " ('S', 'F', 'S'),\n",
       " ('S', 'S', 'F'),\n",
       " ('S', 'S', 'S')}"
      ]
     },
     "execution_count": 16,
     "metadata": {},
     "output_type": "execute_result"
    }
   ],
   "source": [
    "S=set()\n",
    "values=[\"S\",\"F\"]\n",
    "for job1 in values:\n",
    "    for job2 in values:\n",
    "        for job3 in values:\n",
    "            S.add((job1,job2,job3))\n",
    "S    "
   ]
  },
  {
   "cell_type": "markdown",
   "metadata": {},
   "source": [
    "- calculate the sample size."
   ]
  },
  {
   "cell_type": "code",
   "execution_count": 17,
   "metadata": {
    "collapsed": false
   },
   "outputs": [
    {
     "data": {
      "text/plain": [
       "8"
      ]
     },
     "execution_count": 17,
     "metadata": {},
     "output_type": "execute_result"
    }
   ],
   "source": [
    "len(S)\n"
   ]
  },
  {
   "cell_type": "markdown",
   "metadata": {},
   "source": [
    "- An alternative way to derive the sample size to use the number of possible values ($n$) and the number of trials in a single experiment ($k$), i.e., $n^k$. What is $n$ and $k$ in this example? Calculate the sample size directly using the formula.\n"
   ]
  },
  {
   "cell_type": "code",
   "execution_count": 27,
   "metadata": {
    "collapsed": false
   },
   "outputs": [
    {
     "data": {
      "text/plain": [
       "8"
      ]
     },
     "execution_count": 27,
     "metadata": {},
     "output_type": "execute_result"
    }
   ],
   "source": [
    "n=2\n",
    "k=3\n",
    "n**k"
   ]
  },
  {
   "cell_type": "markdown",
   "metadata": {},
   "source": [
    "- express the three events \"exactly 2 successes\",  \"at least 2 successes\" "
   ]
  },
  {
   "cell_type": "code",
   "execution_count": 31,
   "metadata": {
    "collapsed": false
   },
   "outputs": [
    {
     "name": "stdout",
     "output_type": "stream",
     "text": [
      "('S', 'S', 'F') exactly 2 successes\n",
      "('F', 'S', 'S') exactly 2 successes\n",
      "('S', 'F', 'S') exactly 2 successes\n"
     ]
    }
   ],
   "source": [
    "# exactly 2 \n",
    "for outcome in S:\n",
    "    # first count \n",
    "    count={}\n",
    "    for t in outcome:\n",
    "        count[t] = count.get(t,0)+1\n",
    "    if count.get(\"S\") == 2:\n",
    "        print(outcome, \"exactly 2 successes\")\n",
    "    "
   ]
  },
  {
   "cell_type": "code",
   "execution_count": 37,
   "metadata": {
    "collapsed": false
   },
   "outputs": [
    {
     "name": "stdout",
     "output_type": "stream",
     "text": [
      "('S', 'S', 'F') at least 2 successes\n",
      "('F', 'S', 'S') at least 2 successes\n",
      "('S', 'F', 'S') at least 2 successes\n",
      "('S', 'S', 'S') at least 2 successes\n"
     ]
    }
   ],
   "source": [
    "# at least two successes\n",
    "for outcome in S:\n",
    "    count={}\n",
    "    for t in outcome:\n",
    "        count[t] = count.get(t,0)+1\n",
    "    if count.get(\"S\",0) >= 2:\n",
    "        print(outcome,\"at least 2 successes\")"
   ]
  },
  {
   "cell_type": "markdown",
   "metadata": {},
   "source": [
    "- calculate the probability of the event \"exactly 2 successes or 2 failures\""
   ]
  },
  {
   "cell_type": "code",
   "execution_count": 41,
   "metadata": {
    "collapsed": false
   },
   "outputs": [
    {
     "name": "stdout",
     "output_type": "stream",
     "text": [
      "('S', 'S', 'F') 2 successes or 2 failures\n",
      "('S', 'F', 'F') 2 successes or 2 failures\n",
      "('F', 'S', 'S') 2 successes or 2 failures\n",
      "('F', 'F', 'S') 2 successes or 2 failures\n",
      "('S', 'F', 'S') 2 successes or 2 failures\n",
      "('F', 'S', 'F') 2 successes or 2 failures\n"
     ]
    },
    {
     "data": {
      "text/plain": [
       "0.75"
      ]
     },
     "execution_count": 41,
     "metadata": {},
     "output_type": "execute_result"
    }
   ],
   "source": [
    "# either 2 sucesses or 2 failures\n",
    "outcomes_in_A=0\n",
    "for outcome in S:\n",
    "    # again count\n",
    "    count={}\n",
    "    for t in outcome:\n",
    "        count[t] = count.get(t,0)+1\n",
    "    if 2 in count.values():\n",
    "        outcomes_in_A+=1\n",
    "        print(outcome, \"2 successes or 2 failures\")\n",
    "outcomes_in_A / len(S)"
   ]
  },
  {
   "cell_type": "markdown",
   "metadata": {},
   "source": [
    "## Exercise: 10 dice\n",
    "Imagine we throw 10 dice at the same time. Each outcome is now a combination of 10 digits betwen 1 and 6. Our sample space is fairly large. Calculate the  sample space size!\n"
   ]
  },
  {
   "cell_type": "code",
   "execution_count": 44,
   "metadata": {
    "collapsed": false
   },
   "outputs": [
    {
     "data": {
      "text/plain": [
       "60466176"
      ]
     },
     "execution_count": 44,
     "metadata": {},
     "output_type": "execute_result"
    }
   ],
   "source": [
    "k=10\n",
    "n=6\n",
    "n**k"
   ]
  },
  {
   "cell_type": "markdown",
   "metadata": {
    "collapsed": true
   },
   "source": [
    "\n"
   ]
  },
  {
   "cell_type": "code",
   "execution_count": null,
   "metadata": {
    "collapsed": true
   },
   "outputs": [],
   "source": []
  }
 ],
 "metadata": {
  "kernelspec": {
   "display_name": "Python 3",
   "language": "python",
   "name": "python3"
  },
  "language_info": {
   "codemirror_mode": {
    "name": "ipython",
    "version": 3
   },
   "file_extension": ".py",
   "mimetype": "text/x-python",
   "name": "python",
   "nbconvert_exporter": "python",
   "pygments_lexer": "ipython3",
   "version": "3.3.5"
  }
 },
 "nbformat": 4,
 "nbformat_minor": 0
}
