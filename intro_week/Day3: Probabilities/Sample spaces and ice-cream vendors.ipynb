{
 "cells": [
  {
   "cell_type": "markdown",
   "metadata": {},
   "source": [
    "# I scream, you scream, we all scream for probabilities\n",
    "\n",
    "Copenhagen has a new attraction: the probabilistic ice-cream vendor! You don't get to choose, he just hands you whatever is available. There are two options: the cone can either be a waffle or a cup, and you can get one of three flavors: vanilla, chocolate, or strawberry.\n",
    "The sample space is a combination of these two variables, i.e., `(waffle, vanilla)` is a possible ***outcome***.\n",
    "\n",
    "##Exercise 1: Combined Sample Space\n",
    "What are all the possible ***outcomes***? Tip: represent cones and flavors as individual elements, and `S` as a combination of them.\n"
   ]
  },
  {
   "cell_type": "code",
   "execution_count": 2,
   "metadata": {
    "collapsed": false
   },
   "outputs": [
    {
     "data": {
      "text/plain": [
       "{('cup', 'chocolate'),\n",
       " ('cup', 'strawberry'),\n",
       " ('cup', 'vanilla'),\n",
       " ('waffle', 'chocolate'),\n",
       " ('waffle', 'strawberry'),\n",
       " ('waffle', 'vanilla')}"
      ]
     },
     "execution_count": 2,
     "metadata": {},
     "output_type": "execute_result"
    }
   ],
   "source": [
    "S = set()\n",
    "\n",
    "##### remove\n",
    "cones = set(['waffle', 'cup'])\n",
    "flavors = set(['vanilla', 'chocolate', 'strawberry'])\n",
    "\n",
    "for c in cones:\n",
    "    for f in flavors:\n",
    "        S.add((c,f))\n",
    "        \n",
    "S"
   ]
  },
  {
   "cell_type": "markdown",
   "metadata": {},
   "source": [
    "##Exercise 2\n",
    "How large is S?"
   ]
  },
  {
   "cell_type": "code",
   "execution_count": 3,
   "metadata": {
    "collapsed": false
   },
   "outputs": [
    {
     "data": {
      "text/plain": [
       "6"
      ]
     },
     "execution_count": 3,
     "metadata": {},
     "output_type": "execute_result"
    }
   ],
   "source": [
    "len(S)"
   ]
  },
  {
   "cell_type": "markdown",
   "metadata": {},
   "source": [
    "Rumor has it that the waffles are sometimes made with ants, so it's maybe a better idea to get a cup. Since you can't choose, you just have to hope the vendor gives you your ice cream in a cup.\n",
    "\n",
    "##Exercise 3\n",
    "What is the event `C`, that you do get your ice cream in a cup?"
   ]
  },
  {
   "cell_type": "code",
   "execution_count": 4,
   "metadata": {
    "collapsed": false
   },
   "outputs": [],
   "source": [
    "C = set() # the event that I get a cake cone\n",
    "\n",
    "for s in S:\n",
    "    if 'cup' in s:\n",
    "        C.add(s)\n",
    "        \n"
   ]
  },
  {
   "cell_type": "markdown",
   "metadata": {},
   "source": [
    "##Exercise 4\n",
    "How large is C?"
   ]
  },
  {
   "cell_type": "code",
   "execution_count": 5,
   "metadata": {
    "collapsed": false
   },
   "outputs": [
    {
     "data": {
      "text/plain": [
       "3"
      ]
     },
     "execution_count": 5,
     "metadata": {},
     "output_type": "execute_result"
    }
   ],
   "source": [
    "len(C)"
   ]
  },
  {
   "cell_type": "markdown",
   "metadata": {},
   "source": [
    "##Exercise 5\n",
    "What is the probability that you get your ice cream in a cup?"
   ]
  },
  {
   "cell_type": "code",
   "execution_count": null,
   "metadata": {
    "collapsed": true
   },
   "outputs": [],
   "source": []
  }
 ],
 "metadata": {
  "kernelspec": {
   "display_name": "Python 3",
   "language": "python",
   "name": "python3"
  },
  "language_info": {
   "codemirror_mode": {
    "name": "ipython",
    "version": 3
   },
   "file_extension": ".py",
   "mimetype": "text/x-python",
   "name": "python",
   "nbconvert_exporter": "python",
   "pygments_lexer": "ipython3",
   "version": "3.4.3"
  }
 },
 "nbformat": 4,
 "nbformat_minor": 0
}
