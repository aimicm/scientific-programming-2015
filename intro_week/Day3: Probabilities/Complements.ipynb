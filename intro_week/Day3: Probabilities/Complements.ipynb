{
 "cells": [
  {
   "cell_type": "markdown",
   "metadata": {},
   "source": [
    "## Exercise: Complement\n",
    "\n",
    "We have seen that probabilities are numbers (between 0 and 1) assigned to events in the sample space.\n",
    "\n",
    "An event is a subset of outcomes in the sample space. When the sample space is finite (we will see later a case where this does not hold), we can think of the outcomes as pebbles. An event is thus a subset of the sample space, and we can assign a probability to such an event. \n",
    "\n",
    "For example, when tossing a single coin, the possible outcomes are {$1,2,3,4,5,6$}. \n",
    "\n",
    "The event of getting an *odd* number is the subset {$1,3,5$}, i.e., $3/6 = 0.5$.\n",
    "\n",
    "### Putting sets together: Union, Intersection, Complement\n",
    "\n",
    "We have seen that we can use the following set operations on on events:\n",
    "\n",
    "- Union: $P(A \\cup B)$ (A and B)\n",
    "- Intersection: $P(A \\cap B)$ (A or B; note: this is not exclusive or)\n",
    "- Complement: $P(A_c) = 1.0 - P(A)$\n",
    "\n",
    "The complement of an even $A$, denoted $A_c$, is every outcome in the sample space $S$ that is not in A. \n",
    "\n",
    "By definition, if you take the union of an event $A$ and its complement $A_c$, you get the probability for the sample space $S$, i.e., 1.0.\n",
    "\n",
    "#### Why do we care about the complement?\n",
    "\n",
    "Oftentimes, when you deal with a complicated and difficult event, it is easier to think at the complement, rather than the event itself. It might be easier to grasp the outcomes that you don't want, than the outcomes that you do want.\n",
    "\n",
    "Here is an illustrative (yet simple) example. \n",
    "\n",
    "Imagine you roll two dice. You have $6*6=6^2=36$ possible outcomes, i.e.:\n"
   ]
  },
  {
   "cell_type": "code",
   "execution_count": 6,
   "metadata": {
    "collapsed": false
   },
   "outputs": [
    {
     "data": {
      "text/plain": [
       "{(1, 1),\n",
       " (1, 2),\n",
       " (1, 3),\n",
       " (1, 4),\n",
       " (1, 5),\n",
       " (1, 6),\n",
       " (2, 1),\n",
       " (2, 2),\n",
       " (2, 3),\n",
       " (2, 4),\n",
       " (2, 5),\n",
       " (2, 6),\n",
       " (3, 1),\n",
       " (3, 2),\n",
       " (3, 3),\n",
       " (3, 4),\n",
       " (3, 5),\n",
       " (3, 6),\n",
       " (4, 1),\n",
       " (4, 2),\n",
       " (4, 3),\n",
       " (4, 4),\n",
       " (4, 5),\n",
       " (4, 6),\n",
       " (5, 1),\n",
       " (5, 2),\n",
       " (5, 3),\n",
       " (5, 4),\n",
       " (5, 5),\n",
       " (5, 6),\n",
       " (6, 1),\n",
       " (6, 2),\n",
       " (6, 3),\n",
       " (6, 4),\n",
       " (6, 5),\n",
       " (6, 6)}"
      ]
     },
     "execution_count": 6,
     "metadata": {},
     "output_type": "execute_result"
    }
   ],
   "source": [
    "S=set()\n",
    "for d1 in range(1,6+1): #hey, why did we add 1 here??\n",
    "    for d2 in range(1,6+1):\n",
    "       S.add((d1,d2))\n",
    "S"
   ]
  },
  {
   "cell_type": "markdown",
   "metadata": {},
   "source": [
    "Suppose A is the event that at least one of the dice comes up greater than 1. To find the probability of this event, you'd need to sum up the probabilities of all the outcomes (pebbles) that make up this event. However, all outcomes ***except one***, fit this description, namely `(1,1)`.\n",
    "\n",
    "So, you could find all outcomes and sum up their probabilities to get $P(A) = 35/36$. ***Or***, you use the complement rule."
   ]
  },
  {
   "cell_type": "code",
   "execution_count": 12,
   "metadata": {
    "collapsed": false
   },
   "outputs": [
    {
     "data": {
      "text/plain": [
       "0.027777777777777776"
      ]
     },
     "execution_count": 12,
     "metadata": {},
     "output_type": "execute_result"
    }
   ],
   "source": [
    "P_A_c = 1/len(S)\n",
    "P_A_c"
   ]
  },
  {
   "cell_type": "code",
   "execution_count": 13,
   "metadata": {
    "collapsed": false
   },
   "outputs": [],
   "source": [
    "## calculate P_A"
   ]
  },
  {
   "cell_type": "code",
   "execution_count": 14,
   "metadata": {
    "collapsed": false
   },
   "outputs": [
    {
     "data": {
      "text/plain": [
       "0.9722222222222222"
      ]
     },
     "execution_count": 14,
     "metadata": {},
     "output_type": "execute_result"
    }
   ],
   "source": [
    "1-P_A_c"
   ]
  },
  {
   "cell_type": "markdown",
   "metadata": {},
   "source": [
    "## Exercise: Birthdays\n"
   ]
  }
 ],
 "metadata": {
  "kernelspec": {
   "display_name": "Python 3",
   "language": "python",
   "name": "python3"
  },
  "language_info": {
   "codemirror_mode": {
    "name": "ipython",
    "version": 3
   },
   "file_extension": ".py",
   "mimetype": "text/x-python",
   "name": "python",
   "nbconvert_exporter": "python",
   "pygments_lexer": "ipython3",
   "version": "3.3.5"
  }
 },
 "nbformat": 4,
 "nbformat_minor": 0
}
