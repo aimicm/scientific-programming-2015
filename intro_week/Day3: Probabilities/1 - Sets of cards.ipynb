{
 "cells": [
  {
   "cell_type": "markdown",
   "metadata": {},
   "source": [
    "# Sample spaces and events\n",
    "\n",
    "An event is a subset of outcomes in the sample space. Probabilities are numbers (between 0 and 1) assigned to events in the sample space.\n",
    "For example, when tossing a single coin, the possible outcomes are {$1,2,3,4,5,6$}. \n",
    "\n",
    "The event of getting an *odd* number is the subset {$1,3,5$}, i.e., $3/6 = 0.5$.\n",
    "\n",
    "### Events as sets - putting events together: Union, Intersection, Complement\n",
    "\n",
    "We can use the following set operations on on events:\n",
    "\n",
    "- Union: $P(A \\cup B)$ (A and B)\n",
    "- Intersection: $P(A \\cap B)$ (A or B)\n",
    "- Complement: $P(A_c) = 1.0 - P(A)$\n",
    "\n",
    "The complement of an even $A$, denoted $A_c$, is every outcome in the sample space $S$ that is not in A. \n",
    "\n",
    "By definition, if you take the union of an event $A$ and its complement $A_c$, you get the probability for the sample space $S$, i.e., 1.0.\n",
    "\n",
    "\n",
    "##A House of Cards...\n",
    "You have a regular deck of 52 cards. Suppose you draw a single card from the deck. The ***sample space*** `S` is thus the set of all 52 possible cards. An ***event*** is a subset of all the cards. \n",
    "\n",
    "We defined some events below:\n",
    "- `A` is the set of all cards that are aces, \n",
    "- `B` is the set of cards that are of a black suit (spades or clubs), \n",
    "- `D` is the set of all cards that are diamonds, and \n",
    "- `H` is the set of all cards that are hearts.\n",
    "\n"
   ]
  },
  {
   "cell_type": "code",
   "execution_count": 30,
   "metadata": {
    "collapsed": false
   },
   "outputs": [],
   "source": [
    "S = set(['ace of spades', 'two of spades', 'three of spades', 'four of spades', 'five of spades', 'six of spades', 'seven of spades', 'eight of spades', 'nine of spades', 'ten of spades', 'jack of spades', 'queen of spades', 'king of spades', 'ace of hearts', 'two of hearts', 'three of hearts', 'four of hearts', 'five of hearts', 'six of hearts', 'seven of hearts', 'eight of hearts', 'nine of hearts', 'ten of hearts', 'jack of hearts', 'queen of hearts', 'king of hearts', 'ace of diamonds', 'two of diamonds', 'three of diamonds', 'four of diamonds', 'five of diamonds', 'six of diamonds', 'seven of diamonds', 'eight of diamonds', 'nine of diamonds', 'ten of diamonds', 'jack of diamonds', 'queen of diamonds', 'king of diamonds', 'ace of clubs', 'two of clubs', 'three of clubs', 'four of clubs', 'five of clubs', 'six of clubs', 'seven of clubs', 'eight of clubs', 'nine of clubs', 'ten of clubs', 'jack of clubs', 'queen of clubs', 'king of clubs'])\n",
    "A = set(['ace of spades', 'ace of hearts', 'ace of diamonds', 'ace of clubs'])\n",
    "B = set(['ace of spades', 'two of spades', 'three of spades', 'four of spades', 'five of spades', 'six of spades', 'seven of spades', 'eight of spades', 'nine of spades', 'ten of spades', 'jack of spades', 'queen of spades', 'king of spades', 'ace of clubs', 'two of clubs', 'three of clubs', 'four of clubs', 'five of clubs', 'six of clubs', 'seven of clubs', 'eight of clubs', 'nine of clubs', 'ten of clubs', 'jack of clubs', 'queen of clubs', 'king of clubs'])\n",
    "D = set(['ace of diamonds', 'two of diamonds', 'three of diamonds', 'four of diamonds', 'five of diamonds', 'six of diamonds', 'seven of diamonds', 'eight of diamonds', 'nine of diamonds', 'ten of diamonds', 'jack of diamonds', 'queen of diamonds', 'king of diamonds'])\n",
    "H = set(['ace of hearts', 'two of hearts', 'three of hearts', 'four of hearts', 'five of hearts', 'six of hearts', 'seven of hearts', 'eight of hearts', 'nine of hearts', 'ten of hearts', 'jack of hearts', 'queen of hearts', 'king of hearts'])"
   ]
  },
  {
   "cell_type": "markdown",
   "metadata": {},
   "source": [
    "We can now use set operations (intersection, union) on `A`, `B`, `D`, `H` to compute more events.\n",
    "\n",
    "As a reminder: in Python, we have `X.intersection(Y)` for the intersection, `X.union(Y)` for the union, and `X.difference(Y)` for the difference of two sets `X` and `Y`.\n",
    "\n",
    "\n",
    "### Exercise 1\n",
    "What operations do we need to get the event containing\n",
    "- the ace of hearts\n",
    "- the aces of clubs and spades\n",
    "- all cards that are red ***or*** an ace\n",
    "- all cards that are ***not*** aces\n",
    "- all cards that are red suits"
   ]
  },
  {
   "cell_type": "code",
   "execution_count": 22,
   "metadata": {
    "collapsed": false
   },
   "outputs": [
    {
     "data": {
      "text/plain": [
       "26"
      ]
     },
     "execution_count": 22,
     "metadata": {},
     "output_type": "execute_result"
    }
   ],
   "source": [
    "A.intersection(H) # ace of hearts\n",
    "A.intersection(B) # aces of balck suits\n",
    "A.union(D).union(H) # card is red or an ace\n",
    "S.difference(A) # non-aces\n",
    "D.union(H) # red suits"
   ]
  },
  {
   "cell_type": "markdown",
   "metadata": {},
   "source": [
    "Defining events via set theory is a useful first step, but we would also like to express the probability in numerical terms. In this case, we can use ***relative frequency estimation*** to compute the probability as the size of the event wrt to the entire sample space.\n",
    "\n",
    "### Exercise 2\n",
    "How likely are you to \n",
    "- draw an ace\n",
    "- draw an ace from a black suit\n",
    "- draw a diamond \n",
    "- draw a card that is not a heart"
   ]
  },
  {
   "cell_type": "code",
   "execution_count": 29,
   "metadata": {
    "collapsed": false
   },
   "outputs": [
    {
     "name": "stdout",
     "output_type": "stream",
     "text": [
      "0.07692307692307693\n",
      "0.038461538461538464\n",
      "0.25\n",
      "0.75\n"
     ]
    }
   ],
   "source": [
    "print(len(A)/len(S))\n",
    "print(len(A.intersection(B))/len(S))\n",
    "print(len(D)/len(S))\n",
    "print(len(S.difference(H))/len(S))"
   ]
  },
  {
   "cell_type": "markdown",
   "metadata": {
    "collapsed": true
   },
   "source": [
    "## Why do we care about the complement?\n",
    "\n",
    "Oftentimes, when you deal with a complicated and difficult event, it is easier to think at the complement, rather than the event itself. It might be easier to grasp the outcomes that you don't want, than the outcomes that you do want.\n",
    "\n",
    "Here is an illustrative example. \n",
    "\n",
    "### Exercise 3 \n",
    "Imagine you roll two dice. Construct the sample space. How big is the sample space?"
   ]
  },
  {
   "cell_type": "code",
   "execution_count": 1,
   "metadata": {
    "collapsed": false
   },
   "outputs": [
    {
     "data": {
      "text/plain": [
       "{(1, 1),\n",
       " (1, 2),\n",
       " (1, 3),\n",
       " (1, 4),\n",
       " (1, 5),\n",
       " (1, 6),\n",
       " (2, 1),\n",
       " (2, 2),\n",
       " (2, 3),\n",
       " (2, 4),\n",
       " (2, 5),\n",
       " (2, 6),\n",
       " (3, 1),\n",
       " (3, 2),\n",
       " (3, 3),\n",
       " (3, 4),\n",
       " (3, 5),\n",
       " (3, 6),\n",
       " (4, 1),\n",
       " (4, 2),\n",
       " (4, 3),\n",
       " (4, 4),\n",
       " (4, 5),\n",
       " (4, 6),\n",
       " (5, 1),\n",
       " (5, 2),\n",
       " (5, 3),\n",
       " (5, 4),\n",
       " (5, 5),\n",
       " (5, 6),\n",
       " (6, 1),\n",
       " (6, 2),\n",
       " (6, 3),\n",
       " (6, 4),\n",
       " (6, 5),\n",
       " (6, 6)}"
      ]
     },
     "execution_count": 1,
     "metadata": {},
     "output_type": "execute_result"
    }
   ],
   "source": [
    "S=set()\n",
    "for d1 in range(1,6+1): #hey, why did we add 1 here??\n",
    "    for d2 in range(1,6+1):\n",
    "       S.add((d1,d2))\n",
    "S\n"
   ]
  },
  {
   "cell_type": "markdown",
   "metadata": {},
   "source": [
    "Suppose A is the event that at least one of the dice comes up greater than 1. To find the probability of this event, you'd need to sum up the probabilities of all the outcomes (pebbles) that make up this event. However, all outcomes ***except one***, fit this description, namely `(1,1)`.\n",
    "\n",
    "### Exercise 4\n",
    "\n",
    "Calculate the probability that at least one of the dice comes up greater than 1? (hint: create event A which is that both dice turn up 1 and use the complement rule)"
   ]
  },
  {
   "cell_type": "code",
   "execution_count": 2,
   "metadata": {
    "collapsed": false
   },
   "outputs": [
    {
     "data": {
      "text/plain": [
       "0.9722222222222222"
      ]
     },
     "execution_count": 2,
     "metadata": {},
     "output_type": "execute_result"
    }
   ],
   "source": [
    "A = set([(1,1)])\n",
    "1 - len(A)/len(S)\n",
    "\n"
   ]
  },
  {
   "cell_type": "markdown",
   "metadata": {},
   "source": [
    "### Exercise 5: birthdays"
   ]
  },
  {
   "cell_type": "code",
   "execution_count": null,
   "metadata": {
    "collapsed": true
   },
   "outputs": [],
   "source": []
  }
 ],
 "metadata": {
  "kernelspec": {
   "display_name": "Python 3",
   "language": "python",
   "name": "python3"
  },
  "language_info": {
   "codemirror_mode": {
    "name": "ipython",
    "version": 3
   },
   "file_extension": ".py",
   "mimetype": "text/x-python",
   "name": "python",
   "nbconvert_exporter": "python",
   "pygments_lexer": "ipython3",
   "version": "3.3.5"
  }
 },
 "nbformat": 4,
 "nbformat_minor": 0
}
