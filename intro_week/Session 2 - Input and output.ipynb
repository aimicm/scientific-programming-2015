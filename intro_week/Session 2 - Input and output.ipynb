{
 "cells": [
  {
   "cell_type": "markdown",
   "metadata": {},
   "source": [
    "#File operations\n",
    "\n",
    "Manipulating the file system is of paramount importance in programming. In its simplest forms, this manipulation boils down to reading from files and writing to files, to retrieve stored information, or to store results of our processing.\n",
    "\n",
    "In this module, we play with some basic file operations."
   ]
  },
  {
   "cell_type": "markdown",
   "metadata": {
    "collapsed": true
   },
   "source": [
    "###Assignment 1: Naive file statistics\n",
    "\n",
    "We provide a file `medium.txt`. Give us the number of lines, words, and characters in the file. Print these on the screen."
   ]
  },
  {
   "cell_type": "code",
   "execution_count": 9,
   "metadata": {
    "collapsed": false
   },
   "outputs": [
    {
     "name": "stdout",
     "output_type": "stream",
     "text": [
      "7 118 677\n"
     ]
    }
   ],
   "source": [
    "# open the provided file\n",
    "file = open(\"medium.txt\")\n",
    "\n",
    "# initialize counters\n",
    "lines = 0\n",
    "words = 0\n",
    "chars = 0\n",
    "\n",
    "# iterate through lines\n",
    "for line in file:\n",
    "    line = line.strip()  # clean the string\n",
    "    if line:\n",
    "        lines += 1\n",
    "        words = len(line.split())\n",
    "        chars = len(line)\n",
    "\n",
    "print(lines, words, chars)"
   ]
  },
  {
   "cell_type": "markdown",
   "metadata": {},
   "source": [
    "###Assignment 2: Translation by lookup\n",
    "\n",
    "We provide two files: `source.txt` and `dictionary.txt`. The first one contains text in English, one sentence per line, with words split by spaces. The other file is an English-French dictionary, where each line is a pair of words, one English, the other one French, separated by a tab (`\\t`).\n",
    "\n",
    "Translate the source English file into French using the dictionary, and output the results to screen."
   ]
  },
  {
   "cell_type": "code",
   "execution_count": 17,
   "metadata": {
    "collapsed": false
   },
   "outputs": [
    {
     "name": "stdout",
     "output_type": "stream",
     "text": [
      "I have a lovely new chaise in my house . \n",
      "It is the best chaise I ever had . \n"
     ]
    }
   ],
   "source": [
    "# loads the dictionary\n",
    "def pairs_to_dict(filename):\n",
    "    d = {}\n",
    "    for line in open(filename):\n",
    "        line = line.strip()\n",
    "        if line:\n",
    "            en, fr = line.split(\"\\t\")\n",
    "            d[en] = fr\n",
    "    return d\n",
    "\n",
    "table = pairs_to_dict(\"dictionary.txt\")\n",
    "\n",
    "# translate the English file\n",
    "for line in open(\"source.txt\"):\n",
    "    line = line.strip()\n",
    "    if line:\n",
    "        words = line.split(\" \")\n",
    "        for word in words:\n",
    "            if word in table:\n",
    "                word = table[word]\n",
    "            print(word, end=\" \")\n",
    "        print()"
   ]
  },
  {
   "cell_type": "code",
   "execution_count": null,
   "metadata": {
    "collapsed": true
   },
   "outputs": [],
   "source": []
  }
 ],
 "metadata": {
  "kernelspec": {
   "display_name": "Python 3",
   "language": "python",
   "name": "python3"
  },
  "language_info": {
   "codemirror_mode": {
    "name": "ipython",
    "version": 3
   },
   "file_extension": ".py",
   "mimetype": "text/x-python",
   "name": "python",
   "nbconvert_exporter": "python",
   "pygments_lexer": "ipython3",
   "version": "3.4.3"
  }
 },
 "nbformat": 4,
 "nbformat_minor": 0
}
