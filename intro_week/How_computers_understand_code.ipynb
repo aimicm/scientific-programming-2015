{
 "cells": [
  {
   "cell_type": "markdown",
   "metadata": {
    "slideshow": {
     "slide_type": "slide"
    }
   },
   "source": [
    "## What is a programming language?\n",
    "\n",
    "<img src=\"natural_languages_bookends.png\">\n",
    "\n",
    "In what sense is a *programming language* a language like English or French?"
   ]
  },
  {
   "cell_type": "markdown",
   "metadata": {
    "slideshow": {
     "slide_type": "subslide"
    }
   },
   "source": [
    "While programming languages clearly have a different **purpose** from natural languages, they can be meaningfully be compared in other respects. \n",
    "\n",
    "### Grammar \n",
    "\n",
    "What is the syntactic structure of the sentence?"
   ]
  },
  {
   "cell_type": "markdown",
   "metadata": {
    "slideshow": {
     "slide_type": "fragment"
    }
   },
   "source": [
    "### Semantics\n",
    "\n",
    "What is the meaning of a grammatical sentence?\n"
   ]
  },
  {
   "cell_type": "markdown",
   "metadata": {
    "slideshow": {
     "slide_type": "fragment"
    }
   },
   "source": [
    "### Pragmatics\n",
    "\n",
    "What assumptions do I need to invoke to interpret the sentence?"
   ]
  },
  {
   "cell_type": "markdown",
   "metadata": {
    "slideshow": {
     "slide_type": "skip"
    }
   },
   "source": [
    "We'll go over each of these aspects in this notebook. "
   ]
  },
  {
   "cell_type": "markdown",
   "metadata": {
    "slideshow": {
     "slide_type": "slide"
    }
   },
   "source": [
    "### A language with a purpose"
   ]
  },
  {
   "cell_type": "markdown",
   "metadata": {
    "slideshow": {
     "slide_type": "skip"
    }
   },
   "source": [
    "Most of us use our native languages to talk about everything under the sun and to accomplish all sorts of things. Nevertheless, there is a widely spread notion that some languages are more suitable for certain purposes than others. "
   ]
  },
  {
   "cell_type": "markdown",
   "metadata": {
    "slideshow": {
     "slide_type": "-"
    }
   },
   "source": [
    "According to Google autocomplete, \n",
    "\n",
    "- Russian is the language of literature\n",
    "- French is the language of desire\n",
    "- Chinese is the language of the future\n",
    "- Italian is the language of music\n",
    "- Greek is the language of mathematics"
   ]
  },
  {
   "cell_type": "markdown",
   "metadata": {
    "slideshow": {
     "slide_type": "subslide"
    }
   },
   "source": [
    "### What language is Python?"
   ]
  },
  {
   "cell_type": "markdown",
   "metadata": {
    "slideshow": {
     "slide_type": "skip"
    }
   },
   "source": [
    "Although these conventional images may not be wholly accurate in the case of natural languages, programming languages are actually constructed with a very specific purpose in mind. You use them to control what your computer do. In other words, \n"
   ]
  },
  {
   "cell_type": "markdown",
   "metadata": {
    "slideshow": {
     "slide_type": "fragment"
    }
   },
   "source": [
    "- Python is the language of bossing your computer around"
   ]
  },
  {
   "cell_type": "markdown",
   "metadata": {
    "slideshow": {
     "slide_type": "fragment"
    }
   },
   "source": [
    "Or, more delicately phrased:\n",
    "\n",
    "- Python is the language of computation and algorithms"
   ]
  },
  {
   "cell_type": "markdown",
   "metadata": {
    "slideshow": {
     "slide_type": "slide"
    }
   },
   "source": [
    "### Grammaticality\n",
    "\n",
    "#### Natural languages\n",
    "\n",
    "In natural languages the difference between grammatical and ungrammatical statements is sometimes blurry. English, for instance, mostly puts modifying adjectives on the left side of the noun, e.g. \n",
    "\n",
    "> I'll take you **unknown places**"
   ]
  },
  {
   "cell_type": "markdown",
   "metadata": {
    "slideshow": {
     "slide_type": "skip"
    }
   },
   "source": [
    "Reversing the word order is likely to raise some eyebrows, but people would nevertheless have no trouble understanding the sentence, which might be considered *borderline grammatical*:"
   ]
  },
  {
   "cell_type": "markdown",
   "metadata": {
    "slideshow": {
     "slide_type": "fragment"
    }
   },
   "source": [
    "> I'll take you **places unknown**"
   ]
  },
  {
   "cell_type": "markdown",
   "metadata": {
    "slideshow": {
     "slide_type": "fragment"
    }
   },
   "source": [
    "In some instances the inverted word order is uncontroversial:\n",
    "\n",
    "> Paradise Lost\n"
   ]
  },
  {
   "cell_type": "markdown",
   "metadata": {
    "slideshow": {
     "slide_type": "subslide"
    }
   },
   "source": [
    "#### Formal languages\n",
    "\n",
    "Formal languages have a highly non-flexible notion of grammaticality. Either a sentence is a part of the language, or it isn't. "
   ]
  },
  {
   "cell_type": "markdown",
   "metadata": {
    "slideshow": {
     "slide_type": "subslide"
    }
   },
   "source": [
    "A formal language if often conceptualized as a set of sentences, namely all sentences that are a part of that language. We can thus say that a sentence is grammatical if it *belongs* to the (set of sentences in the) language. "
   ]
  },
  {
   "cell_type": "markdown",
   "metadata": {
    "slideshow": {
     "slide_type": "subslide"
    }
   },
   "source": [
    "Formal languages are based on collections of rules, which can be though of as building blocks for constructing sentences. "
   ]
  },
  {
   "cell_type": "markdown",
   "metadata": {
    "slideshow": {
     "slide_type": "slide"
    }
   },
   "source": [
    "### A formal language of treasure maps\n",
    "\n",
    "![Treasure map of Jesse James](jesse_james_treasure_map.jpg)"
   ]
  },
  {
   "cell_type": "markdown",
   "metadata": {
    "slideshow": {
     "slide_type": "subslide"
    }
   },
   "source": [
    "#### Some sentences generated by the langauge\n",
    "\n",
    "- The treasure chest is hidden under the old oak\n",
    "- The gold is hidden at the cementary\n",
    "- The treasure chest is hidden under the floor"
   ]
  },
  {
   "cell_type": "markdown",
   "metadata": {
    "slideshow": {
     "slide_type": "fragment"
    }
   },
   "source": [
    "#### Discussion\n",
    "\n",
    "These sentences seem follow a simple pattern where you plug in words or phrases from a list into predefined slots. \n",
    "\n",
    "Indicate by inserting brackets into the sentences where these slots are."
   ]
  },
  {
   "cell_type": "markdown",
   "metadata": {
    "slideshow": {
     "slide_type": "subslide"
    }
   },
   "source": [
    "Here are the sentences with brackets inserted.\n",
    "\n",
    "- The \\[treasure chest\\] is hidden \\[under the old oak\\]\n",
    "- The \\[gold\\] is hidden \\[at the cementary\\]\n",
    "- The \\[treasure chest\\] is hidden \\[under the floor\\]"
   ]
  },
  {
   "cell_type": "markdown",
   "metadata": {
    "slideshow": {
     "slide_type": "fragment"
    }
   },
   "source": [
    "All of the sentences can be summarized by a master sentence with *placeholder symbols* inserted. \n",
    "\n",
    "> *Master* $\\rightarrow$ The *Treasure* is hidden *AtPlace* "
   ]
  },
  {
   "cell_type": "markdown",
   "metadata": {
    "slideshow": {
     "slide_type": "subslide"
    }
   },
   "source": [
    "> *Master* $\\rightarrow$ The *Treasure* is hidden *AtPlace* \n",
    "\n",
    "The placeholder symbols then need to defined. First the treasure.\n",
    "\n",
    "> *Treasure* $\\rightarrow$ gold <br/>\n",
    "> *Treasure* $\\rightarrow$ treasure chest"
   ]
  },
  {
   "cell_type": "markdown",
   "metadata": {
    "slideshow": {
     "slide_type": "skip"
    }
   },
   "source": [
    "The location apparently consists of two things, a relative location (e.g. \"under\" or \"at\") and  landmark (e.g. \"old oak\"). \n",
    "\n",
    "Therefore, we split that placeholder further:\n"
   ]
  },
  {
   "cell_type": "markdown",
   "metadata": {
    "slideshow": {
     "slide_type": "fragment"
    }
   },
   "source": [
    "> *AtPlace* $\\rightarrow$ *RelativeLocation* the *Landmark* <br/>\n",
    "> *RelativeLocation* $\\rightarrow$ at <br/>\n",
    "> *RelativeLocation* $\\rightarrow$ under <br/>\n",
    "> *Landmark* $\\rightarrow$ old oak <br/>\n",
    "> *Landmark* $\\rightarrow$ floor <br/>\n",
    "> *Landmark* $\\rightarrow$ cementary <br/>\n"
   ]
  },
  {
   "cell_type": "markdown",
   "metadata": {
    "slideshow": {
     "slide_type": "skip"
    }
   },
   "source": [
    "What we have written above in terms of a master sentence with pluggable placeholder symbols is a grammar that defines a small formal language. \n",
    "\n",
    "This sort of grammar is also called a *rewrite system*, because the individual elements of the grammar are small rules that tell you that you may rewrite (replace) the symbol on the left side of the arrow with whatever is on the right side. "
   ]
  },
  {
   "cell_type": "markdown",
   "metadata": {
    "slideshow": {
     "slide_type": "subslide"
    }
   },
   "source": [
    "#### Exercise\n",
    "\n",
    "Let's try it out. In the cell below, begin by writing master sentence on the first line (i.e. the right-hand side of the *Master* rule). Then replace one symbol of your choice in the sentence, writing the new sentence on the next line. \n",
    "\n",
    "Repeat this process until there are no longer any symbols left. Once you are done, repeat the process to generate a different sentence."
   ]
  },
  {
   "cell_type": "markdown",
   "metadata": {
    "slideshow": {
     "slide_type": "skip"
    }
   },
   "source": []
  },
  {
   "cell_type": "markdown",
   "metadata": {
    "slideshow": {
     "slide_type": "subslide"
    }
   },
   "source": [
    "#### Another view of the generating process\n",
    "\n",
    "<img src=\"treasure_non_recursive_parseviz.png\">"
   ]
  },
  {
   "cell_type": "markdown",
   "metadata": {
    "slideshow": {
     "slide_type": "subslide"
    }
   },
   "source": [
    "### Limitations of the treasure map grammar\n",
    "\n",
    "The number of sentences that can be generated by the simple rule-based grammar above is small. \n",
    "\n",
    "One way to greatly enlarge this number is through adding more rules of the type:\n",
    "\n",
    "> *Landmark* $\\rightarrow$ mountain top <br/>\n",
    "> *Landmark* $\\rightarrow$ enchanted forest <br/>"
   ]
  },
  {
   "cell_type": "markdown",
   "metadata": {
    "slideshow": {
     "slide_type": "subslide"
    }
   },
   "source": [
    "#### Discussion\n",
    "\n",
    "Say we want to be able to express more complex descriptions of the location of the treasure, such as the following sentence:\n",
    "\n",
    "- The gold is buried under the old oak at the mountain top in the enchanted forest.\n",
    "\n",
    "What kind of relation holds between the sentence parts *under the old oak*, *at the mountain top*, and *in the enchanted forest*?\n",
    "\n",
    "Can we get away with simply adding more rules to the grammar in order to generate a sentence like the one above?"
   ]
  },
  {
   "cell_type": "markdown",
   "metadata": {
    "slideshow": {
     "slide_type": "skip"
    }
   },
   "source": [
    "Regardless of any such additions to the vocabulary, the treasure map language is incapable of expressing more complex descriptions of the treasure and its location. In particular, we run into trouble when meaning is compositional (obtaining by combining smaller units) and we do not wish to impose some arbitrary limit on the number of such combinations.\n",
    "\n",
    "\n",
    "(Some formal observations:)\n",
    "\n",
    "- The number of sentences in the language remains finite. \n",
    "- It's easy to calculate the maximum number of words a sentence can be. \n",
    "- The number of derivation steps you need to generate a sentence is always the same."
   ]
  },
  {
   "cell_type": "markdown",
   "metadata": {
    "slideshow": {
     "slide_type": "subslide"
    }
   },
   "source": [
    "### Recursion \n",
    "\n",
    "Recursion allows us to express sentences with a long chain of modifications like the one above. Recursion is a special form of repeating an action and is pervasive in all programming languages."
   ]
  },
  {
   "cell_type": "markdown",
   "metadata": {
    "slideshow": {
     "slide_type": "fragment"
    }
   },
   "source": [
    "Allowing chains of modifications can be done by adding a single rule to our grammar. \n",
    "\n",
    "> *AtPlace* $\\rightarrow$ *RelativeLocation* the *Landmark* *AtPlace* <br/>"
   ]
  },
  {
   "cell_type": "markdown",
   "metadata": {
    "slideshow": {
     "slide_type": "subslide"
    }
   },
   "source": [
    "Here is an example derivation (with some non-essential omissions):\n",
    "\n",
    "- The gold is buried \\[*AtPlace*\\]\n",
    "- The gold is buried \\[*RelativeLocation* the *Landmark* *AtPlace*\\].\n",
    "- The gold is buried \\[under the old oak *AtPlace*\\].\n",
    "- The gold is buried \\[under the old oak \\[ *RelativeLocation* the *Landmark* *AtPlace* \\] \\].\n",
    "- The gold is buried \\[under the old oak \\[ at the mountain top *AtPlace* \\] \\].\n",
    "- The gold is buried \\[under the old oak \\[ at the mountain top \\[ *RelativeLocation* the *Landmark* \\] \\] \\].\n",
    "- The gold is buried \\[under the old oak \\[ at the mountain top \\[ in the enchanted forest \\] \\] \\]."
   ]
  },
  {
   "cell_type": "markdown",
   "metadata": {
    "slideshow": {
     "slide_type": "subslide"
    }
   },
   "source": [
    "#### Sentence with right-recursive rule\n",
    "\n",
    "<img src=\"treasure_right_branching_parseviz.png\">"
   ]
  },
  {
   "cell_type": "markdown",
   "metadata": {
    "slideshow": {
     "slide_type": "skip"
    }
   },
   "source": [
    "The formal properties of the grammar has changed:\n",
    "\n",
    "- The number of sentences in the language is infinite. \n",
    "- There is no bound on the number of words in a sentence. \n",
    "- The number of derivation steps you need to generate a sentence has a minimum but no maximum.\n"
   ]
  },
  {
   "cell_type": "markdown",
   "metadata": {
    "slideshow": {
     "slide_type": "subslide"
    }
   },
   "source": [
    "#### Discussion (time permitting)\n",
    "\n",
    "Here is an alternative rule that also adds compositionality of the place name to the grammar. What does it do differently? Can you think of any reasons for preferring the first version?\n",
    "\n",
    "> *AtPlace* $\\rightarrow$ *AtPlace* *RelativeLocation* the *Landmark* <br/>\n"
   ]
  },
  {
   "cell_type": "markdown",
   "metadata": {
    "slideshow": {
     "slide_type": "subslide"
    }
   },
   "source": [
    "#### Sentence with left-recursive rule\n",
    "\n",
    "<img src=\"treasure_left_branching_parseviz.png\">"
   ]
  },
  {
   "cell_type": "markdown",
   "metadata": {
    "slideshow": {
     "slide_type": "subslide"
    }
   },
   "source": [
    "### Semantics \n",
    "\n",
    "While writing code that obeys the grammar of a programming language is an accomplishment, it doesn't ensure that the program is *bug free*. "
   ]
  },
  {
   "cell_type": "markdown",
   "metadata": {
    "slideshow": {
     "slide_type": "fragment"
    }
   },
   "source": [
    "Code may be well-formed but semantically undefined. For such statements the computer understands your instructions, but carrying them out leads to errors. "
   ]
  },
  {
   "cell_type": "code",
   "execution_count": 1,
   "metadata": {
    "collapsed": false,
    "slideshow": {
     "slide_type": "subslide"
    }
   },
   "outputs": [
    {
     "ename": "ZeroDivisionError",
     "evalue": "division by zero",
     "output_type": "error",
     "traceback": [
      "\u001b[0;31m---------------------------------------------------------------------------\u001b[0m",
      "\u001b[0;31mZeroDivisionError\u001b[0m                         Traceback (most recent call last)",
      "\u001b[0;32m<ipython-input-1-411e39eefd0e>\u001b[0m in \u001b[0;36m<module>\u001b[0;34m()\u001b[0m\n\u001b[1;32m      2\u001b[0m \u001b[0mx\u001b[0m \u001b[0;34m=\u001b[0m \u001b[0;36m25\u001b[0m\u001b[0;34m\u001b[0m\u001b[0m\n\u001b[1;32m      3\u001b[0m \u001b[0my\u001b[0m \u001b[0;34m=\u001b[0m \u001b[0;36m0\u001b[0m\u001b[0;34m\u001b[0m\u001b[0m\n\u001b[0;32m----> 4\u001b[0;31m \u001b[0mx\u001b[0m \u001b[0;34m/\u001b[0m \u001b[0my\u001b[0m\u001b[0;34m\u001b[0m\u001b[0m\n\u001b[0m",
      "\u001b[0;31mZeroDivisionError\u001b[0m: division by zero"
     ]
    }
   ],
   "source": [
    "# Division by zero\n",
    "x = 25 \n",
    "y = 0\n",
    "x / y"
   ]
  },
  {
   "cell_type": "code",
   "execution_count": 2,
   "metadata": {
    "collapsed": false,
    "slideshow": {
     "slide_type": "subslide"
    }
   },
   "outputs": [
    {
     "ename": "AttributeError",
     "evalue": "'str' object has no attribute 'make_title'",
     "output_type": "error",
     "traceback": [
      "\u001b[0;31m---------------------------------------------------------------------------\u001b[0m",
      "\u001b[0;31mAttributeError\u001b[0m                            Traceback (most recent call last)",
      "\u001b[0;32m<ipython-input-2-79d7608135bf>\u001b[0m in \u001b[0;36m<module>\u001b[0;34m()\u001b[0m\n\u001b[1;32m      1\u001b[0m \u001b[0;31m# Calling an undefined function\u001b[0m\u001b[0;34m\u001b[0m\u001b[0;34m\u001b[0m\u001b[0m\n\u001b[0;32m----> 2\u001b[0;31m \u001b[0;34m\"a most unusual story\"\u001b[0m\u001b[0;34m.\u001b[0m\u001b[0mmake_title\u001b[0m\u001b[0;34m(\u001b[0m\u001b[0;34m)\u001b[0m\u001b[0;34m\u001b[0m\u001b[0m\n\u001b[0m",
      "\u001b[0;31mAttributeError\u001b[0m: 'str' object has no attribute 'make_title'"
     ]
    }
   ],
   "source": [
    "# Calling an undefined function\n",
    "\"a most unusual story\".make_title()"
   ]
  },
  {
   "cell_type": "code",
   "execution_count": 3,
   "metadata": {
    "collapsed": false,
    "slideshow": {
     "slide_type": "subslide"
    }
   },
   "outputs": [
    {
     "ename": "TypeError",
     "evalue": "unsupported operand type(s) for +: 'int' and 'str'",
     "output_type": "error",
     "traceback": [
      "\u001b[0;31m---------------------------------------------------------------------------\u001b[0m",
      "\u001b[0;31mTypeError\u001b[0m                                 Traceback (most recent call last)",
      "\u001b[0;32m<ipython-input-3-9123ebc2d8d7>\u001b[0m in \u001b[0;36m<module>\u001b[0;34m()\u001b[0m\n\u001b[1;32m      2\u001b[0m \u001b[0ma_number\u001b[0m \u001b[0;34m=\u001b[0m \u001b[0;36m3\u001b[0m\u001b[0;34m\u001b[0m\u001b[0m\n\u001b[1;32m      3\u001b[0m \u001b[0ma_letter\u001b[0m \u001b[0;34m=\u001b[0m \u001b[0;34m\"X\"\u001b[0m\u001b[0;34m\u001b[0m\u001b[0m\n\u001b[0;32m----> 4\u001b[0;31m \u001b[0ma_number\u001b[0m \u001b[0;34m+\u001b[0m \u001b[0ma_letter\u001b[0m\u001b[0;34m\u001b[0m\u001b[0m\n\u001b[0m",
      "\u001b[0;31mTypeError\u001b[0m: unsupported operand type(s) for +: 'int' and 'str'"
     ]
    }
   ],
   "source": [
    "# Combining incompatible types of things\n",
    "a_number = 3\n",
    "a_letter = \"X\"\n",
    "a_number + a_letter"
   ]
  },
  {
   "cell_type": "code",
   "execution_count": 4,
   "metadata": {
    "collapsed": false,
    "slideshow": {
     "slide_type": "subslide"
    }
   },
   "outputs": [
    {
     "data": {
      "text/plain": [
       "6"
      ]
     },
     "execution_count": 4,
     "metadata": {},
     "output_type": "execute_result"
    }
   ],
   "source": [
    "# However, numbers work\n",
    "a_number + a_number"
   ]
  },
  {
   "cell_type": "code",
   "execution_count": 5,
   "metadata": {
    "collapsed": false,
    "slideshow": {
     "slide_type": "fragment"
    }
   },
   "outputs": [
    {
     "data": {
      "text/plain": [
       "'XX'"
      ]
     },
     "execution_count": 5,
     "metadata": {},
     "output_type": "execute_result"
    }
   ],
   "source": [
    "# String may be combined \n",
    "a_letter + a_letter"
   ]
  },
  {
   "cell_type": "markdown",
   "metadata": {
    "slideshow": {
     "slide_type": "skip"
    }
   },
   "source": [
    "Some programming languages know how to check for semantic errors like the ones above where incompatible types are combined. These are referred as *strongly-typed* languages, because the type of any variable like `a_letter` is known even before running the program. (Recall the name of the variable, despite being meaningful to humans, is nothing but an uninterpretable symbol to the computer). Java, C and C++ are examples of such languages. \n",
    "\n",
    "Python, on the other hand, is *weakly typed*. In practical terms that means you have to deal with semantic errors due to type incompatibility while the program is running (they could happen when your program has been running for an hour). Strongly-typed languages rejects such programs without even attempting to run them, potentially saving you time. \n",
    "\n",
    "Why would anyone then use a weakly-typed language? Well, it turns out that it takes a lot of effort to keep track of the exact types in a complicated program.\n",
    "\n",
    "For instance, if you wanted a datastructure to store how many times you've seen different words in a collection of documents, you might write something like the following in Java: \n",
    "\n",
    "```java\n",
    "HashMap<String, HashMap<String, Integer>> wordCountsByDoc = new HashMap<String, HashMap<String, Integer>>(); \n",
    "```\n",
    "\n",
    "Python would let you get away with this:\n",
    "\n",
    "```python\n",
    "word_counts_by_doc = {}\n",
    "```\n"
   ]
  },
  {
   "cell_type": "markdown",
   "metadata": {
    "slideshow": {
     "slide_type": "subslide"
    }
   },
   "source": [
    "### Lack of pragmatics "
   ]
  },
  {
   "cell_type": "markdown",
   "metadata": {
    "slideshow": {
     "slide_type": "skip"
    }
   },
   "source": [
    "Pragmatics is what enables speakers of a language to communicate efficiently. They do not have to spell out every single detail, because they can rely on a set of shared assumptions. Even if the message comes out less than perfect, speakers are often able to infer the meaning. \n",
    "\n",
    "Programming languages offer no such pragmatics. The computer is incredibly literal-minded and will do exactly as instructed, offering no charitable interpretation of your code, even in cases when humans would have no trouble inferring what you meant. \n",
    "\n",
    "Yet this is not as bad as it sounds. Computer languages have less need for pragmatics, because they are restricted in a way that natural languages are not. A syntactically and semantically valid line in a computer programming will have one and only one interpretation. English sentences, in contrast, are often ambigious and can mean a number of things, depending on the context. One of the more famous examples of natural language ambiguity is prepositional attachment:\n"
   ]
  },
  {
   "cell_type": "markdown",
   "metadata": {},
   "source": [
    "> He saw the girl with the telescope\n",
    "\n",
    "Did the girl or the guy have the telescope? I.e. which of the two interpretations below is the correct one?\n",
    "\n",
    "> He saw \\[the girl \\[with the telescope\\]\\] <br/>\n",
    "> He saw \\[the girl \\] \\[with the telescope\\]"
   ]
  },
  {
   "cell_type": "markdown",
   "metadata": {
    "slideshow": {
     "slide_type": "subslide"
    }
   },
   "source": [
    "Whenever programming languages encounter potentially ambigious statements, they employ preference rules to select a single interpretation. "
   ]
  },
  {
   "cell_type": "markdown",
   "metadata": {
    "slideshow": {
     "slide_type": "skip"
    }
   },
   "source": [
    "Below, the value of the mathematical expression depends on what order you evaluate the components of the equations -- subtraction or multiplication first? \n",
    "\n",
    "```\n",
    "3 - 2 * 5\n",
    "```\n",
    "\n",
    "As you might have guessed, multiplications are handled first in Python. Alternative orderings of the operations can be forced by using parenthesis.\n"
   ]
  },
  {
   "cell_type": "code",
   "execution_count": 6,
   "metadata": {
    "collapsed": false,
    "slideshow": {
     "slide_type": "fragment"
    }
   },
   "outputs": [
    {
     "data": {
      "text/plain": [
       "-7"
      ]
     },
     "execution_count": 6,
     "metadata": {},
     "output_type": "execute_result"
    }
   ],
   "source": [
    "3 - 2 * 5"
   ]
  },
  {
   "cell_type": "code",
   "execution_count": 7,
   "metadata": {
    "collapsed": false,
    "slideshow": {
     "slide_type": "fragment"
    }
   },
   "outputs": [
    {
     "data": {
      "text/plain": [
       "5"
      ]
     },
     "execution_count": 7,
     "metadata": {},
     "output_type": "execute_result"
    }
   ],
   "source": [
    "(3 - 2) * 5"
   ]
  },
  {
   "cell_type": "code",
   "execution_count": 8,
   "metadata": {
    "collapsed": false,
    "slideshow": {
     "slide_type": "fragment"
    }
   },
   "outputs": [
    {
     "data": {
      "text/plain": [
       "-7"
      ]
     },
     "execution_count": 8,
     "metadata": {},
     "output_type": "execute_result"
    }
   ],
   "source": [
    "3 - (2 * 5)"
   ]
  }
 ],
 "metadata": {
  "celltoolbar": "Slideshow",
  "kernelspec": {
   "display_name": "Python 3",
   "language": "python",
   "name": "python3"
  },
  "language_info": {
   "codemirror_mode": {
    "name": "ipython",
    "version": 3
   },
   "file_extension": ".py",
   "mimetype": "text/x-python",
   "name": "python",
   "nbconvert_exporter": "python",
   "pygments_lexer": "ipython3",
   "version": "3.4.3"
  }
 },
 "nbformat": 4,
 "nbformat_minor": 0
}
