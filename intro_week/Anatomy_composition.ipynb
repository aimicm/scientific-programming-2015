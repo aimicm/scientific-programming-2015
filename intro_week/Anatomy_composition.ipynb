{
 "cells": [
  {
   "cell_type": "markdown",
   "metadata": {
    "slideshow": {
     "slide_type": "slide"
    }
   },
   "source": [
    "#Abstraction and composition"
   ]
  },
  {
   "cell_type": "markdown",
   "metadata": {
    "slideshow": {
     "slide_type": "slide"
    }
   },
   "source": [
    "###The issue"
   ]
  },
  {
   "cell_type": "markdown",
   "metadata": {
    "slideshow": {
     "slide_type": "slide"
    }
   },
   "source": [
    "There are 100 points in 2D space.\n",
    "\n",
    "Let's calculate the distance to origin for each of them!"
   ]
  },
  {
   "cell_type": "code",
   "execution_count": 16,
   "metadata": {
    "collapsed": false,
    "slideshow": {
     "slide_type": "slide"
    }
   },
   "outputs": [
    {
     "name": "stdout",
     "output_type": "stream",
     "text": [
      "p01 to origin: 16.278821\n",
      "...\n",
      "p99 to origin: 21.470911\n"
     ]
    }
   ],
   "source": [
    "import math\n",
    "\n",
    "# the points\n",
    "p00 = (10, 11)\n",
    "p01 = (11, 12)\n",
    "\n",
    "# and at the end of a very long list...\n",
    "p99 = (19, 10)\n",
    "\n",
    "# the distances\n",
    "d01 = math.sqrt((p01[0] * p01[0]) + (p01[1] * p01[1]))\n",
    "print(\"p01 to origin: %f\" % d01)\n",
    "\n",
    "# and after yet another long list...\n",
    "d99 = math.sqrt((p99[0] * p99[0]) + (p99[1] * p99[1]))\n",
    "print(\"...\\np99 to origin: %f\" % d99)"
   ]
  },
  {
   "cell_type": "markdown",
   "metadata": {
    "slideshow": {
     "slide_type": "slide"
    }
   },
   "source": [
    "We **could** code like this... or could we?\n",
    "\n",
    "* It's fairly easy to conceive a problem with **thousands, or even millions** of points, \n",
    "* in n-dimensional spaces, \n",
    "* with large numbers of complex operations required, that all dwarf our little distance-to-origin problem."
   ]
  },
  {
   "cell_type": "markdown",
   "metadata": {
    "slideshow": {
     "slide_type": "slide"
    }
   },
   "source": [
    "###Turing completeness ≠ Ease of programming\n",
    "\n",
    "<img src=\"turing-complete.jpg\">"
   ]
  },
  {
   "cell_type": "markdown",
   "metadata": {
    "slideshow": {
     "slide_type": "slide"
    }
   },
   "source": [
    "###Abstraction to the rescue!\n",
    "\n",
    "<img src=\"pulp-fiction.jpg\">"
   ]
  },
  {
   "cell_type": "markdown",
   "metadata": {
    "collapsed": true,
    "slideshow": {
     "slide_type": "slide"
    }
   },
   "source": [
    "###Callable units\n",
    "\n",
    "Certain blocks of code need manyfold executions.\n",
    "\n",
    "We could just repeat the block manyfold.\n",
    "\n",
    "What if we could package these blocks, name them, and then call them by name?"
   ]
  },
  {
   "cell_type": "code",
   "execution_count": 22,
   "metadata": {
    "collapsed": false,
    "slideshow": {
     "slide_type": "slide"
    }
   },
   "outputs": [
    {
     "name": "stdout",
     "output_type": "stream",
     "text": [
      "from a to b: 8.485281\n"
     ]
    }
   ],
   "source": [
    "import math\n",
    "\n",
    "point_a = (2, 3)\n",
    "point_b = (8, 9)\n",
    "\n",
    "distance = math.sqrt(math.pow(point_a[0] - point_b[0], 2) + math.pow(point_a[1] - point_b[1], 2))\n",
    "print(\"from a to b: %f\" % distance)\n",
    "\n",
    "point_c = (4, 5)\n",
    "point_d = (6, 7)\n",
    "# and here we go again..."
   ]
  },
  {
   "cell_type": "code",
   "execution_count": 23,
   "metadata": {
    "collapsed": false,
    "slideshow": {
     "slide_type": "slide"
    }
   },
   "outputs": [
    {
     "name": "stdout",
     "output_type": "stream",
     "text": [
      "from a to b: 8.485281\n"
     ]
    }
   ],
   "source": [
    "import math\n",
    "\n",
    "def distance(a, b):\n",
    "    return math.sqrt(math.pow(a[0] - b[0], 2) + math.pow(a[1] - b[1], 2))\n",
    "\n",
    "point_a = (2, 3)\n",
    "point_b = (8, 9)\n",
    "\n",
    "print(\"from a to b: %f\" % distance(point_a, point_b))"
   ]
  },
  {
   "cell_type": "markdown",
   "metadata": {
    "slideshow": {
     "slide_type": "slide"
    }
   },
   "source": [
    "###Antigravity\n",
    "\n",
    "<img src=\"xkcd-python.png\">"
   ]
  },
  {
   "cell_type": "markdown",
   "metadata": {
    "slideshow": {
     "slide_type": "slide"
    }
   },
   "source": [
    "###Data abstraction\n",
    "\n",
    "Our problems have to do with points and distances.\n",
    "\n",
    "However, in code, we deal with integers and floats.\n",
    "\n",
    "Wouldn't it be nice to code our problems more directly?"
   ]
  },
  {
   "cell_type": "code",
   "execution_count": 25,
   "metadata": {
    "collapsed": false,
    "slideshow": {
     "slide_type": "slide"
    }
   },
   "outputs": [
    {
     "name": "stdout",
     "output_type": "stream",
     "text": [
      "p0 to origin: 2.236068\n",
      "p1 to origin: 5.000000\n",
      "p2 to origin: 7.810250\n",
      "p3 to origin: 10.630146\n",
      "p4 to origin: 13.453624\n",
      "p5 to origin: 16.278821\n",
      "p6 to origin: 17.691806\n",
      "p7 to origin: 19.104973\n",
      "p8 to origin: 20.518285\n",
      "p9 to origin: 21.931712\n"
     ]
    }
   ],
   "source": [
    "import math\n",
    "\n",
    "def distance(a, b):\n",
    "    return math.sqrt(math.pow(a[0] - b[0], 2) + math.pow(a[1] - b[1], 2))\n",
    "\n",
    "# much nicer than 100 variables\n",
    "points = [(1, 2), (3, 4), (5, 6), (7, 8), (9, 10), \n",
    "          (11, 12), (12, 13), (13, 14), (14, 15), (15, 16)]\n",
    "\n",
    "for i, point in enumerate(points):\n",
    "    print(\"p%d to origin: %f\" % (i, distance(point, (0, 0))))"
   ]
  },
  {
   "cell_type": "code",
   "execution_count": 37,
   "metadata": {
    "collapsed": false,
    "slideshow": {
     "slide_type": "slide"
    }
   },
   "outputs": [
    {
     "name": "stdout",
     "output_type": "stream",
     "text": [
      "p0 to origin: 0.000000\n",
      "p1 to origin: 1.414214\n",
      "p2 to origin: 2.828427\n",
      "p3 to origin: 4.242641\n",
      "p4 to origin: 5.656854\n",
      "p5 to origin: 7.071068\n",
      "p6 to origin: 8.485281\n",
      "p7 to origin: 9.899495\n",
      "p8 to origin: 11.313708\n",
      "p9 to origin: 12.727922\n"
     ]
    }
   ],
   "source": [
    "import math\n",
    "\n",
    "# introducing the Point type\n",
    "class Point:\n",
    "    def __init__(self, x, y):\n",
    "        self.x = x\n",
    "        self.y = y\n",
    "    def distance_to(self, other):\n",
    "        return math.sqrt(math.pow(self.x - other.x, 2) + math.pow(self.y - other.y, 2))\n",
    "    def distance_to_origin(self):\n",
    "        return math.sqrt(math.pow(self.x, 2) + math.pow(self.y, 2))\n",
    "\n",
    "points = [Point(i, i) for i in range(0, 10)]\n",
    "\n",
    "for i, point in enumerate(points):\n",
    "    print(\"p%d to origin: %f\" % (i, point.distance_to_origin()))"
   ]
  },
  {
   "cell_type": "markdown",
   "metadata": {
    "slideshow": {
     "slide_type": "slide"
    }
   },
   "source": [
    "###The changes\n",
    "\n",
    "Huge numbers of variables became one list.\n",
    "\n",
    "We replaced logically grouped coordinates by actual points.\n",
    "\n",
    "Repeated calculations gave place to functions.\n",
    "\n",
    "Functions got associated to data types."
   ]
  },
  {
   "cell_type": "markdown",
   "metadata": {
    "slideshow": {
     "slide_type": "slide"
    }
   },
   "source": [
    "###Enjoy object-oriented programming!\n",
    "\n",
    "<img src=\"oop.png\">"
   ]
  },
  {
   "cell_type": "code",
   "execution_count": null,
   "metadata": {
    "collapsed": true
   },
   "outputs": [],
   "source": []
  }
 ],
 "metadata": {
  "celltoolbar": "Slideshow",
  "kernelspec": {
   "display_name": "Python 3",
   "language": "python",
   "name": "python3"
  },
  "language_info": {
   "codemirror_mode": {
    "name": "ipython",
    "version": 3
   },
   "file_extension": ".py",
   "mimetype": "text/x-python",
   "name": "python",
   "nbconvert_exporter": "python",
   "pygments_lexer": "ipython3",
   "version": "3.4.3"
  }
 },
 "nbformat": 4,
 "nbformat_minor": 0
}
