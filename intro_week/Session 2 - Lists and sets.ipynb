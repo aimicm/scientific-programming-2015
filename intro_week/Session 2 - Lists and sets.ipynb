{
 "cells": [
  {
   "cell_type": "markdown",
   "metadata": {},
   "source": [
    "##Lists and sets"
   ]
  },
  {
   "cell_type": "markdown",
   "metadata": {},
   "source": [
    "###Getting started with lists"
   ]
  },
  {
   "cell_type": "markdown",
   "metadata": {},
   "source": [
    "Sum the values of this list using a foor loop."
   ]
  },
  {
   "cell_type": "code",
   "execution_count": 117,
   "metadata": {
    "collapsed": false
   },
   "outputs": [
    {
     "name": "stdout",
     "output_type": "stream",
     "text": [
      "86\n"
     ]
    }
   ],
   "source": [
    "L = [9, 9, 5, 1, 2, 5, 1, 7, 4, 6, 1, 1, 3, 1, 1, 14, 2, 1, 6, 7]\n",
    "\n",
    "a=0\n",
    "for v in L:\n",
    "   a+=v\n",
    "print(a)\n"
   ]
  },
  {
   "cell_type": "markdown",
   "metadata": {},
   "source": [
    "Compare the length of the list L, and the length of the set constructed from L."
   ]
  },
  {
   "cell_type": "code",
   "execution_count": 118,
   "metadata": {
    "collapsed": false
   },
   "outputs": [
    {
     "data": {
      "text/plain": [
       "9"
      ]
     },
     "execution_count": 118,
     "metadata": {},
     "output_type": "execute_result"
    }
   ],
   "source": [
    "L = [9, 9, 5, 1, 2, 5, 1, 7, 4, 6, 1, 1, 3, 1, 1, 14, 2, 1, 6, 7]\n",
    "len(L)\n",
    "len(set(L))"
   ]
  },
  {
   "cell_type": "markdown",
   "metadata": {},
   "source": [
    "Given the list L, retrieve the very first element."
   ]
  },
  {
   "cell_type": "code",
   "execution_count": 119,
   "metadata": {
    "collapsed": false
   },
   "outputs": [
    {
     "data": {
      "text/plain": [
       "9"
      ]
     },
     "execution_count": 119,
     "metadata": {},
     "output_type": "execute_result"
    }
   ],
   "source": [
    "L[0]"
   ]
  },
  {
   "cell_type": "markdown",
   "metadata": {},
   "source": [
    "Given the list L, retrieve the final element. Try to find the final element in two different ways."
   ]
  },
  {
   "cell_type": "code",
   "execution_count": 120,
   "metadata": {
    "collapsed": false
   },
   "outputs": [
    {
     "data": {
      "text/plain": [
       "7"
      ]
     },
     "execution_count": 120,
     "metadata": {},
     "output_type": "execute_result"
    }
   ],
   "source": [
    "L[-1]\n",
    "\n",
    "L[len(L)-1]"
   ]
  },
  {
   "cell_type": "markdown",
   "metadata": {},
   "source": [
    "Given the list L, retrieve the sublist that has all the values of L except the first two and the last two elements.\n",
    "\n",
    "__Hint: Use list slicing__"
   ]
  },
  {
   "cell_type": "code",
   "execution_count": 121,
   "metadata": {
    "collapsed": false
   },
   "outputs": [
    {
     "data": {
      "text/plain": [
       "[5, 1, 2, 5, 1, 7, 4, 6, 1, 1, 3, 1, 1, 14, 2]"
      ]
     },
     "execution_count": 121,
     "metadata": {},
     "output_type": "execute_result"
    }
   ],
   "source": [
    "L[2:len(L)-3]"
   ]
  },
  {
   "cell_type": "markdown",
   "metadata": {},
   "source": [
    "Most people have a favorite food. We provide you with a list of names and a parallel list of foods. \n",
    "\n",
    "Your task is to find out who loves what, generating sentences like \"Anna loves pizza\".\n",
    "\n",
    "**Hint: Use the zip() function.**"
   ]
  },
  {
   "cell_type": "code",
   "execution_count": 122,
   "metadata": {
    "collapsed": false
   },
   "outputs": [
    {
     "name": "stdout",
     "output_type": "stream",
     "text": [
      "Anna loves pizza\n",
      "Bob loves tofu\n",
      "Carla loves oranges\n",
      "David loves burgers\n",
      "Elisabeth loves tea\n",
      "Frank loves crackers\n"
     ]
    }
   ],
   "source": [
    "names = \"Anna Bob Carla David Elisabeth Frank\".split(\" \")\n",
    "food = \"pizza tofu oranges burgers tea crackers\".split(\" \")\n",
    "for n, f in zip(names, food):\n",
    "    print(n, \"loves\", f)"
   ]
  },
  {
   "cell_type": "markdown",
   "metadata": {},
   "source": [
    "### Set operations"
   ]
  },
  {
   "cell_type": "markdown",
   "metadata": {},
   "source": [
    "Given the sets of flying animals, birds and mammals,\n",
    "retrieve the set of flightless birds and flying mammals using set operations like `.intersection`, `.union` or `.difference`\n",
    "\n",
    "Try to do it in one single line."
   ]
  },
  {
   "cell_type": "code",
   "execution_count": 123,
   "metadata": {
    "collapsed": false
   },
   "outputs": [
    {
     "data": {
      "text/plain": [
       "{'bat', 'ostrich', 'penguin', 'possum'}"
      ]
     },
     "execution_count": 123,
     "metadata": {},
     "output_type": "execute_result"
    }
   ],
   "source": [
    "fly = {\"bat\",\"crow\",\"eagle\",\"possum\",\"sparrow\",\"finch\"}\n",
    "bird = {\"crow\",\"eagle\",\"sparrow\",\"finch\",\"penguin\",\"ostrich\"}\n",
    "mammal = {\"bat\",\"possum\",\"cow\",\"whale\"}\n",
    "\n",
    "fly.intersection(mammal).union(bird.difference(fly))\n",
    "\n"
   ]
  },
  {
   "cell_type": "markdown",
   "metadata": {},
   "source": [
    "### Story problems"
   ]
  },
  {
   "cell_type": "markdown",
   "metadata": {},
   "source": [
    "#### Counting toasts\n",
    "\n",
    "A lot of superstition is put in toasting. \n",
    "Very often, even in larger groups, it is important that everyone's drink touches everyone else's drink, especially when the toast requires eye contact.\n",
    "\n",
    "<img width=\"50%\"src=\"eyecontact.jpg\">\n",
    "\n",
    "\n",
    "\n",
    "Devise a function that, for a number of party atteendees (`nguests`), tells you how many toasts in total must happen. This will help us keep track of the right number of pairwise toastings.\n"
   ]
  },
  {
   "cell_type": "code",
   "execution_count": 124,
   "metadata": {
    "collapsed": false
   },
   "outputs": [
    {
     "data": {
      "text/plain": [
       "45.0"
      ]
     },
     "execution_count": 124,
     "metadata": {},
     "output_type": "execute_result"
    }
   ],
   "source": [
    "from math import factorial\n",
    "\n",
    "def number_of_toasts(nguests):\n",
    "    if nguests < 2:\n",
    "        ntoasts = 0 # One cannot toast alone\n",
    "    else:\n",
    "        ntoasts = ((nguests * nguests) - nguests) / 2\n",
    "    return ntoasts\n",
    "\n",
    "\n",
    "number_of_toasts(10)"
   ]
  },
  {
   "cell_type": "markdown",
   "metadata": {
    "collapsed": true
   },
   "source": [
    "#### Points on a map I: Nearest point\n",
    "\n",
    "<img width=\"50%\" src=\"points.jpg\">\n",
    "\n",
    "Given a set of points, find the nearest point for each point.\n",
    "We provide you the `distance` function, which calculates the Euclidean distance (i.e. the length of the straight line) between two points. The image below illustrates the Euclidean distance \n",
    "\n",
    "<img width=\"40%\"src=\"euclidean.png\">\n",
    "\n"
   ]
  },
  {
   "cell_type": "code",
   "execution_count": 125,
   "metadata": {
    "collapsed": false,
    "scrolled": true
   },
   "outputs": [
    {
     "name": "stdout",
     "output_type": "stream",
     "text": [
      "4\n",
      "5\n",
      "3\n",
      "2\n",
      "0\n",
      "1\n",
      "5\n"
     ]
    }
   ],
   "source": [
    "import math\n",
    "points = {(0,0),(0,1),(1,3),(2,3),(3,3),(4,5),(5,5)}\n",
    "\n",
    "def distance(pointA,pointB):\n",
    "    d = math.sqrt((pointA[0] - pointB[0]) ** 2 + (pointA[1] - pointB[1]) ** 2)\n",
    "    return d \n",
    "\n",
    "def nearest_point(points, reference):\n",
    "    nearest_point = None\n",
    "    nearest_dist = float('inf')\n",
    "    for point in points:\n",
    "        distance_to_point = distance(point, reference)\n",
    "        if distance_to_point < nearest_dist:\n",
    "            nearest_point = point\n",
    "            nearest_dist = distance_to_point\n",
    "    return nearest_point\n",
    "\n",
    "\n",
    "for point in points:\n",
    "    print(nearest(points,point))\n"
   ]
  },
  {
   "cell_type": "markdown",
   "metadata": {},
   "source": [
    "#### Points on a map II:  Find a path\n",
    "And now you can calculate a path! \n",
    "\n",
    "We provide you a set of points and a starting point. \n",
    "Your task is to calculate a path that includes all the points in the set exactly once. \n",
    "The next point in the path is the nearest one.\n",
    "Print out the sequence of points.\n",
    "\n",
    "You can use the `nearest_point` function from the previous exercise.\n",
    "\n",
    "__Hint:__ Check the `.remove` function from `set`.\n",
    "\n"
   ]
  },
  {
   "cell_type": "code",
   "execution_count": 126,
   "metadata": {
    "collapsed": false
   },
   "outputs": [
    {
     "name": "stdout",
     "output_type": "stream",
     "text": [
      "(0, 1)\n",
      "(1, 3)\n",
      "(2, 3)\n",
      "(3, 3)\n",
      "(4, 5)\n",
      "(5, 5)\n",
      "None\n"
     ]
    }
   ],
   "source": [
    "current_point = (0,0)\n",
    "\n",
    "while points:\n",
    "    points.remove(current_point)\n",
    "    current_point = nearest_point(points,current_point)\n",
    "    print(current_point)\n",
    "\n"
   ]
  }
 ],
 "metadata": {
  "kernelspec": {
   "display_name": "Python 3",
   "language": "python",
   "name": "python3"
  },
  "language_info": {
   "codemirror_mode": {
    "name": "ipython",
    "version": 3
   },
   "file_extension": ".py",
   "mimetype": "text/x-python",
   "name": "python",
   "nbconvert_exporter": "python",
   "pygments_lexer": "ipython3",
   "version": "3.3.5"
  }
 },
 "nbformat": 4,
 "nbformat_minor": 0
}
