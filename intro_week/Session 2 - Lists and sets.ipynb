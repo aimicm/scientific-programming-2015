{
 "cells": [
  {
   "cell_type": "markdown",
   "metadata": {},
   "source": [
    "Sum values of a list using a list comprehension"
   ]
  },
  {
   "cell_type": "code",
   "execution_count": null,
   "metadata": {
    "collapsed": true
   },
   "outputs": [],
   "source": []
  },
  {
   "cell_type": "markdown",
   "metadata": {},
   "source": [
    "Set union and intersection operations (retrieve elements that satisfy X and not Y)"
   ]
  },
  {
   "cell_type": "code",
   "execution_count": null,
   "metadata": {
    "collapsed": true
   },
   "outputs": [],
   "source": []
  },
  {
   "cell_type": "markdown",
   "metadata": {},
   "source": [
    "Compare the length of the list L, and the length of the set constructed from L."
   ]
  },
  {
   "cell_type": "code",
   "execution_count": 33,
   "metadata": {
    "collapsed": false
   },
   "outputs": [
    {
     "data": {
      "text/plain": [
       "9"
      ]
     },
     "execution_count": 33,
     "metadata": {},
     "output_type": "execute_result"
    }
   ],
   "source": [
    "L = [9, 9, 5, 1, 2, 5, 1, 7, 4, 6, 1, 1, 3, 1, 1, 14, 2, 1, 6, 7]\n",
    "len(L)\n",
    "len(set(L))"
   ]
  },
  {
   "cell_type": "markdown",
   "metadata": {},
   "source": [
    "Given the list L, retrieve the very first element."
   ]
  },
  {
   "cell_type": "code",
   "execution_count": null,
   "metadata": {
    "collapsed": true
   },
   "outputs": [],
   "source": []
  },
  {
   "cell_type": "markdown",
   "metadata": {},
   "source": [
    "Given the list L, retrieve the final element. Try to find the final element in two different ways."
   ]
  },
  {
   "cell_type": "markdown",
   "metadata": {},
   "source": []
  },
  {
   "cell_type": "markdown",
   "metadata": {},
   "source": [
    "Given the list L, retrieve the sublist that has all the values of L except the first two and the last two elements.\n",
    "\n",
    "__Hint: Use list slicing__"
   ]
  },
  {
   "cell_type": "code",
   "execution_count": null,
   "metadata": {
    "collapsed": true
   },
   "outputs": [],
   "source": []
  },
  {
   "cell_type": "markdown",
   "metadata": {},
   "source": [
    "Most people have a favorite food. We provide you with a list of names and a parallel list of foods. \n",
    "\n",
    "Your task is to find out who loves what, generating sentences like \"Anna loves pizza\".\n",
    "\n",
    "**Hint: Use the zip() function.**"
   ]
  },
  {
   "cell_type": "code",
   "execution_count": 17,
   "metadata": {
    "collapsed": false
   },
   "outputs": [
    {
     "name": "stdout",
     "output_type": "stream",
     "text": [
      "Anna loves pizza\n",
      "Bob loves tofu\n",
      "Carla loves oranges\n",
      "David loves burgers\n",
      "Elisabeth loves tea\n",
      "Frank loves crackers\n"
     ]
    }
   ],
   "source": [
    "names = \"Anna Bob Carla David Elisabeth Frank\".split(\" \")\n",
    "food = \"pizza tofu oranges burgers tea crackers\".split(\" \")\n",
    "for n, f in zip(names, food):\n",
    "    print(n, \"loves\", f)"
   ]
  },
  {
   "cell_type": "markdown",
   "metadata": {},
   "source": [
    "A lot of superstition is put in toasting. Very often, even in larger groups, it is important that everyone's drink touches everyone else's drink.\n",
    "\n",
    "Can you devise a function that, for a number of party atteendees (`nguests`), tells you how many toasts in total must happen.\n"
   ]
  },
  {
   "cell_type": "code",
   "execution_count": 39,
   "metadata": {
    "collapsed": false
   },
   "outputs": [
    {
     "data": {
      "text/plain": [
       "-1"
      ]
     },
     "execution_count": 39,
     "metadata": {},
     "output_type": "execute_result"
    }
   ],
   "source": [
    "def number_of_toasts(nguests):\n",
    "    if nguests < 2:\n",
    "        ntoasts = 0 # One cannot toast alone\n",
    "    else:\n",
    "        ntoasts = -1 # calculate it from here and put the variable in ntoasts\n",
    "        \n",
    "    return ntoasts\n",
    "\n",
    "\n",
    "number_of_toasts(4)"
   ]
  },
  {
   "cell_type": "markdown",
   "metadata": {
    "collapsed": true
   },
   "source": [
    "Preparatory exercise for Graphics A: given a list of lists, find the nearest point for each point"
   ]
  },
  {
   "cell_type": "code",
   "execution_count": 32,
   "metadata": {
    "collapsed": false,
    "scrolled": true
   },
   "outputs": [
    {
     "name": "stdout",
     "output_type": "stream",
     "text": [
      "[0.0, 1.0, 3.605551275463989, 5.656854249492381, 2.23606797749979, 2.8284271247461903, 6.4031242374328485]\n",
      "[1.0, 0.0, 4.242640687119285, 6.4031242374328485, 3.1622776601683795, 3.605551275463989, 7.0710678118654755]\n",
      "[3.605551275463989, 4.242640687119285, 0.0, 2.23606797749979, 2.0, 1.0, 2.8284271247461903]\n",
      "[5.656854249492381, 6.4031242374328485, 2.23606797749979, 0.0, 3.605551275463989, 2.8284271247461903, 1.0]\n",
      "[2.23606797749979, 3.1622776601683795, 2.0, 3.605551275463989, 0.0, 1.0, 4.47213595499958]\n",
      "[2.8284271247461903, 3.605551275463989, 1.0, 2.8284271247461903, 1.0, 0.0, 3.605551275463989]\n",
      "[6.4031242374328485, 7.0710678118654755, 2.8284271247461903, 1.0, 4.47213595499958, 3.605551275463989, 0.0]\n"
     ]
    }
   ],
   "source": [
    "import math\n",
    "points = [(0,0),(0,1),(1,3),(2,3),(3,3),(4,5),(5,5)]\n",
    "\n",
    "\n",
    "def distance(pointA,pointB):\n",
    "    d = math.sqrt((pointA[0] - pointB[0]) ** 2 + (pointA[1] - pointB[1]) ** 2)\n",
    "    return d \n",
    "\n",
    "def nearest(points,reference):\n",
    "    distances = [distance(x,reference) for x in points]\n",
    "    #retrieve minimum, i.e. the lowest non-zero value.\n",
    "    \n",
    "    \n",
    "    #retrieve the index of the mininum\n",
    "    #return the value of the point from the index in the points variable\n",
    "    \n",
    "\n",
    "for point in points:\n",
    "    print(nearest(points,point))\n"
   ]
  },
  {
   "cell_type": "markdown",
   "metadata": {},
   "source": [
    "Preparatory exercise for Graphics B: given a list of lists, find the nearest point for each point (keeping a set of visited points)"
   ]
  },
  {
   "cell_type": "code",
   "execution_count": null,
   "metadata": {
    "collapsed": true
   },
   "outputs": [],
   "source": []
  }
 ],
 "metadata": {
  "kernelspec": {
   "display_name": "Python 3",
   "language": "python",
   "name": "python3"
  },
  "language_info": {
   "codemirror_mode": {
    "name": "ipython",
    "version": 3
   },
   "file_extension": ".py",
   "mimetype": "text/x-python",
   "name": "python",
   "nbconvert_exporter": "python",
   "pygments_lexer": "ipython3",
   "version": "3.3.5"
  }
 },
 "nbformat": 4,
 "nbformat_minor": 0
}
