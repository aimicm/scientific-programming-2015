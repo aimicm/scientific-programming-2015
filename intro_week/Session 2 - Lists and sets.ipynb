{
 "cells": [
  {
   "cell_type": "markdown",
   "metadata": {},
   "source": [
    "Sum values of a list using a list comprehension"
   ]
  },
  {
   "cell_type": "markdown",
   "metadata": {},
   "source": [
    "Set union and intersection operations (retrieve elements that satisfy X and not Y)"
   ]
  },
  {
   "cell_type": "markdown",
   "metadata": {},
   "source": [
    "Compare lenght of list(x) and set(x)"
   ]
  },
  {
   "cell_type": "code",
   "execution_count": 10,
   "metadata": {
    "collapsed": false
   },
   "outputs": [
    {
     "data": {
      "text/plain": [
       "17"
      ]
     },
     "execution_count": 10,
     "metadata": {},
     "output_type": "execute_result"
    }
   ],
   "source": [
    "L = [19, 9, 15, 13, 2, 5, 1, 7, 4, 16, 1, 10, 3, 1, 1, 14, 12, 0, 6, 17]\n",
    "len(L)\n",
    "len(set(L))"
   ]
  },
  {
   "cell_type": "markdown",
   "metadata": {},
   "source": [
    "Most people have a favorite food. We provide you with a list of names and a parallel list of foods. \n",
    "\n",
    "Your task is to tterare through them to find out who loves what, generating sentences like \"Anna loves pizza\".\n",
    "\n",
    "Hint: Use the zip() function."
   ]
  },
  {
   "cell_type": "code",
   "execution_count": 11,
   "metadata": {
    "collapsed": false
   },
   "outputs": [
    {
     "name": "stdout",
     "output_type": "stream",
     "text": [
      "Anna loves pizza\n",
      "Bob loves tofu\n",
      "Carla loves oranges\n",
      "David loves burgers\n",
      "Elisabeth loves tea\n",
      "Frank loves crackers\n"
     ]
    }
   ],
   "source": [
    "names = \"Anna Bob Carla David Elisabeth Frank\".split(\" \")\n",
    "food = \"pizza tofu oranges burgers tea crackers\".split(\" \")\n",
    "for n, f in zip(names, food):\n",
    "    print(n, \"loves\", f)"
   ]
  },
  {
   "cell_type": "markdown",
   "metadata": {
    "collapsed": true
   },
   "source": [
    "Preparatory exercise for Graphics A: given a list of lists, find the nearest point for each point"
   ]
  },
  {
   "cell_type": "code",
   "execution_count": 13,
   "metadata": {
    "collapsed": true
   },
   "outputs": [],
   "source": [
    "points = set([(0,0),(0,1),(1,3),(2,3),(3,3),(4,5),(5,5)])\n",
    "\n",
    "def nearest(points,reference):\n",
    "    return point\n",
    "\n"
   ]
  },
  {
   "cell_type": "markdown",
   "metadata": {},
   "source": [
    "Preparatory exercise for Graphics B: given a list of lists, find the nearest point for each point (keeping a set of visited points)"
   ]
  },
  {
   "cell_type": "code",
   "execution_count": null,
   "metadata": {
    "collapsed": true
   },
   "outputs": [],
   "source": []
  }
 ],
 "metadata": {
  "kernelspec": {
   "display_name": "Python 3",
   "language": "python",
   "name": "python3"
  },
  "language_info": {
   "codemirror_mode": {
    "name": "ipython",
    "version": 3
   },
   "file_extension": ".py",
   "mimetype": "text/x-python",
   "name": "python",
   "nbconvert_exporter": "python",
   "pygments_lexer": "ipython3",
   "version": "3.3.5"
  }
 },
 "nbformat": 4,
 "nbformat_minor": 0
}
