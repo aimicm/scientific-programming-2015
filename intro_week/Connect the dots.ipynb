{
 "cells": [
  {
   "cell_type": "code",
   "execution_count": 1,
   "metadata": {
    "collapsed": false
   },
   "outputs": [],
   "source": []
  },
  {
   "cell_type": "code",
   "execution_count": 2,
   "metadata": {
    "collapsed": true
   },
   "outputs": [],
   "source": [
    " import turtle             # Allows us to use turtles\n",
    " wn = turtle.Screen()      # Creates a playground for turtles\n",
    " alex = turtle.Turtle()    # Create a turtle, assign to alex\n",
    "\n",
    " alex.forward(50)          # Tell alex to move forward by 50 units\n",
    " alex.left(90)             # Tell alex to turn by 90 degrees\n",
    " alex.forward(30)          # Complete the second side of a rectangle\n",
    "\n",
    " wn.mainloop()             # Wait for user to close window"
   ]
  },
  {
   "cell_type": "code",
   "execution_count": null,
   "metadata": {
    "collapsed": true
   },
   "outputs": [],
   "source": []
  }
 ],
 "metadata": {
  "kernelspec": {
   "display_name": "Python 3",
   "language": "python",
   "name": "python3"
  },
  "language_info": {
   "codemirror_mode": {
    "name": "ipython",
    "version": 3
   },
   "file_extension": ".py",
   "mimetype": "text/x-python",
   "name": "python",
   "nbconvert_exporter": "python",
   "pygments_lexer": "ipython3",
   "version": "3.4.3"
  }
 },
 "nbformat": 4,
 "nbformat_minor": 0
}
