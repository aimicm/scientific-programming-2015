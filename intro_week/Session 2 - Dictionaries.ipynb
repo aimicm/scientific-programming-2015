{
 "cells": [
  {
   "cell_type": "markdown",
   "metadata": {},
   "source": [
    "## Dictionaries"
   ]
  },
  {
   "cell_type": "markdown",
   "metadata": {},
   "source": [
    "### Getting used to dictionaries"
   ]
  },
  {
   "cell_type": "markdown",
   "metadata": {},
   "source": [
    "Build a dictionary `land_capital` where the keys are country names and the values are their capitals. Add at least five countries."
   ]
  },
  {
   "cell_type": "code",
   "execution_count": 39,
   "metadata": {
    "collapsed": true
   },
   "outputs": [],
   "source": [
    "land_capital = {\"UK\": \"London\" , \"Denmark\": \"Copenhagen\", \"Thailand\":  \"Bangkok\" , \"Russia\" : \"Moscow\", \"North Korea\" : \"Pyonyang\"}\n",
    "\n"
   ]
  },
  {
   "cell_type": "markdown",
   "metadata": {},
   "source": [
    "Print the contents of the `land_capital` dictionary in alphabetical order of countries."
   ]
  },
  {
   "cell_type": "code",
   "execution_count": 40,
   "metadata": {
    "collapsed": false
   },
   "outputs": [
    {
     "name": "stdout",
     "output_type": "stream",
     "text": [
      "Denmark , Copenhagen\n",
      "North Korea , Pyonyang\n",
      "Russia , Moscow\n",
      "Thailand , Bangkok\n",
      "UK , London\n"
     ]
    }
   ],
   "source": [
    "for land in sorted(land_capital.keys()):\n",
    "    print(land, \",\",land_capital[land])"
   ]
  },
  {
   "cell_type": "markdown",
   "metadata": {},
   "source": [
    "### Default values\n",
    "In the following exercise, the `all_people` set gives you names of people, and the `people_age` dictionary gives you their age. \n",
    "\n",
    "Print out all the names in `all_people`, retrieving the age from `people_age`, following this format:\n",
    "\n",
    "`Anna: 70 years`\n",
    "\n",
    "Some names are not present in `people_age`, so print \"unknown\" instead of them. You can use set operations to determine if a name is in the dictionary, or the default value in the `.get` function.\n"
   ]
  },
  {
   "cell_type": "code",
   "execution_count": 41,
   "metadata": {
    "collapsed": false
   },
   "outputs": [
    {
     "name": "stdout",
     "output_type": "stream",
     "text": [
      "Carla : 23 years\n",
      "Gisela : unknown years\n",
      "Bob : 55 years\n",
      "Anna : 70 years\n",
      "Howard : unknown years\n",
      "Frank : 37 years\n",
      "Elisabeth : 12 years\n",
      "David : 45 years\n"
     ]
    }
   ],
   "source": [
    "people_age = {\"Anna\": 70 , \"Bob\": 55 , \"Carla\":  23 , \"David\" : 45 , \"Elisabeth\" : 12 ,\"Frank\" : 37}\n",
    "all_people = {\"Anna\", \"Bob\" , \"Carla\" , \"David\" , \"Elisabeth\",\"Frank\",\"Gisela\", \"Howard\"}\n",
    "\n",
    "for name in all_people:\n",
    "    print(name, \":\",people_age.get(name,\"unknown\"), \"years\")\n",
    "\n",
    "\n"
   ]
  },
  {
   "cell_type": "markdown",
   "metadata": {},
   "source": [
    "###Fat cats"
   ]
  },
  {
   "cell_type": "markdown",
   "metadata": {},
   "source": [
    "Domestic cat overweight is a serious concern to many owners and lovers. \n",
    "A concerned owner of several cats has contacted you for advice.\n",
    "\n",
    "<img src=\"ccl.jpg\">\n",
    "\n",
    "The `cats` dictionary gives you pairs of cats names and their weight.\n"
   ]
  },
  {
   "cell_type": "code",
   "execution_count": 42,
   "metadata": {
    "collapsed": false
   },
   "outputs": [],
   "source": [
    "cats = {\"Socks\": 3.7 , \"Oreo\": 3.1, \"MrWhiskers\":  4.5 , \"Princess\" : 3.3, \"Pumpkin\" : 4.3 ,\"Peanut\" : 2.7}\n",
    "\n"
   ]
  },
  {
   "cell_type": "markdown",
   "metadata": {},
   "source": [
    "We are taking all the cats to the vet. Can you find the total weight of cats? Our basket can only hold 20 kgs. Will the basket break?"
   ]
  },
  {
   "cell_type": "code",
   "execution_count": 43,
   "metadata": {
    "collapsed": false
   },
   "outputs": [
    {
     "name": "stdout",
     "output_type": "stream",
     "text": [
      "21.6 True\n"
     ]
    }
   ],
   "source": [
    "totalweigth=0\n",
    "for x in cats.values():\n",
    "    totalweigth+=x\n",
    "print(totalweigth, totalweigth > 20)"
   ]
  },
  {
   "cell_type": "markdown",
   "metadata": {},
   "source": [
    "What is the average cat weight?"
   ]
  },
  {
   "cell_type": "code",
   "execution_count": 44,
   "metadata": {
    "collapsed": false
   },
   "outputs": [
    {
     "data": {
      "text/plain": [
       "3.6"
      ]
     },
     "execution_count": 44,
     "metadata": {},
     "output_type": "execute_result"
    }
   ],
   "source": [
    "totalweigth / len(cats)"
   ]
  },
  {
   "cell_type": "markdown",
   "metadata": {},
   "source": [
    "Can you find the fattest kitten?\n",
    "<img src=\"catonscale.jpg\">\n",
    "\n",
    "\n"
   ]
  },
  {
   "cell_type": "code",
   "execution_count": 47,
   "metadata": {
    "collapsed": false
   },
   "outputs": [
    {
     "name": "stdout",
     "output_type": "stream",
     "text": [
      "MrWhiskers\n"
     ]
    }
   ],
   "source": [
    "weight = 0.0\n",
    "fattest_cat = \"\"\n",
    "for cat in cats.keys():\n",
    "    if cats[cat] > weight:\n",
    "        weight = cats[cat]\n",
    "        fattest_cat = cat\n",
    "\n",
    "print(fattest_cat)"
   ]
  }
 ],
 "metadata": {
  "kernelspec": {
   "display_name": "Python 3",
   "language": "python",
   "name": "python3"
  },
  "language_info": {
   "codemirror_mode": {
    "name": "ipython",
    "version": 3
   },
   "file_extension": ".py",
   "mimetype": "text/x-python",
   "name": "python",
   "nbconvert_exporter": "python",
   "pygments_lexer": "ipython3",
   "version": "3.3.5"
  }
 },
 "nbformat": 4,
 "nbformat_minor": 0
}
