{
 "cells": [
  {
   "cell_type": "markdown",
   "metadata": {
    "slideshow": {
     "slide_type": "slide"
    }
   },
   "source": [
    "# Loops and conditionals\n"
   ]
  },
  {
   "cell_type": "markdown",
   "metadata": {
    "slideshow": {
     "slide_type": "fragment"
    }
   },
   "source": [
    "### A philosophical program"
   ]
  },
  {
   "cell_type": "code",
   "execution_count": 1,
   "metadata": {
    "collapsed": false
   },
   "outputs": [
    {
     "name": "stdout",
     "output_type": "stream",
     "text": [
      "You win!\n",
      "You lose!\n"
     ]
    }
   ],
   "source": [
    "print(\"You win!\")\n",
    "print(\"You lose!\")"
   ]
  },
  {
   "cell_type": "markdown",
   "metadata": {
    "slideshow": {
     "slide_type": "fragment"
    }
   },
   "source": [
    "Whatever happens, you always both win and lose. There may be a deep truth to this. It's also kind of boring."
   ]
  },
  {
   "cell_type": "markdown",
   "metadata": {
    "slideshow": {
     "slide_type": "subslide"
    }
   },
   "source": [
    "What this program needs is a conditional statement."
   ]
  },
  {
   "cell_type": "code",
   "execution_count": 30,
   "metadata": {
    "collapsed": false
   },
   "outputs": [
    {
     "name": "stdout",
     "output_type": "stream",
     "text": [
      "You win!\n"
     ]
    }
   ],
   "source": [
    "score = 550\n",
    "if score > 500:\n",
    "    print(\"You win!\")\n",
    "else:\n",
    "    print(\"You lose!\")"
   ]
  },
  {
   "cell_type": "markdown",
   "metadata": {
    "slideshow": {
     "slide_type": "notes"
    }
   },
   "source": [
    "The `if-else` construction above creates a two-way branch in the program. If the *predicate* immediately following the `if` keyword evaluates as `True`, the first branch is taken, otherwise the second branch following the `else` is executed. \n",
    "\n",
    "A branch is simply the code indented by a single tab (⇥) character. In general, Python uses tab indentation to find out where in the structure of the program a given line of code belongs."
   ]
  },
  {
   "cell_type": "markdown",
   "metadata": {
    "slideshow": {
     "slide_type": "fragment"
    }
   },
   "source": [
    "#### Discussion\n",
    "\n",
    "What happens if the score is:\n",
    "\n",
    "- Zero?\n",
    "- Exactly 500?\n",
    "- Negative?"
   ]
  },
  {
   "cell_type": "markdown",
   "metadata": {
    "slideshow": {
     "slide_type": "slide"
    }
   },
   "source": [
    "### Multi-branching conditionals"
   ]
  },
  {
   "cell_type": "code",
   "execution_count": 31,
   "metadata": {
    "collapsed": false
   },
   "outputs": [
    {
     "name": "stdout",
     "output_type": "stream",
     "text": [
      "You win, but you are not all that good!\n"
     ]
    }
   ],
   "source": [
    "if score > 600:\n",
    "    print(\"You win!\")\n",
    "elif score > 500:\n",
    "    print(\"You win, but you are not all that good!\")\n",
    "else:\n",
    "    print(\"You lose!\")"
   ]
  },
  {
   "cell_type": "markdown",
   "metadata": {
    "slideshow": {
     "slide_type": "subslide"
    }
   },
   "source": [
    "The full form of the multi-branching `if` statement is:\n",
    "\n",
    "```python\n",
    "if <pred>:\n",
    "⇥   <stmt>\n",
    "elif <pred>:\n",
    "⇥   <stmt>\n",
    "elif <pred>:\n",
    "⇥   <stmt>\n",
    "else:\n",
    "⇥   <stmt>\n",
    "```"
   ]
  },
  {
   "cell_type": "markdown",
   "metadata": {
    "slideshow": {
     "slide_type": "slide"
    }
   },
   "source": [
    "### Complex predicates\n"
   ]
  },
  {
   "cell_type": "markdown",
   "metadata": {},
   "source": [
    "Predicates in conditionals may be combined by using the logical operators `and` and `or`. Additionally, the truth-value of an expression can be negated by preprending `not`."
   ]
  },
  {
   "cell_type": "markdown",
   "metadata": {
    "slideshow": {
     "slide_type": "subslide"
    }
   },
   "source": [
    "### Truth table of `or`"
   ]
  },
  {
   "cell_type": "code",
   "execution_count": 9,
   "metadata": {
    "collapsed": false,
    "slideshow": {
     "slide_type": "-"
    }
   },
   "outputs": [
    {
     "name": "stdout",
     "output_type": "stream",
     "text": [
      " Key  | Password | Gives access? |\n",
      "======|==========|===============|\n",
      "True  | True     | True\n",
      "True  | False    | True\n",
      "False | False    | False\n",
      "False | True     | True\n"
     ]
    }
   ],
   "source": [
    "print(\" Key  | Password | Gives access? |\")\n",
    "print(\"======|==========|===============|\")\n",
    "print(\"True  | True     |\", True or True)\n",
    "print(\"True  | False    |\", True or False)\n",
    "print(\"False | False    |\", False or False)\n",
    "print(\"False | True     |\", False or True)"
   ]
  },
  {
   "cell_type": "markdown",
   "metadata": {
    "slideshow": {
     "slide_type": "subslide"
    }
   },
   "source": [
    "### Truth table of `and`"
   ]
  },
  {
   "cell_type": "code",
   "execution_count": 6,
   "metadata": {
    "collapsed": false,
    "slideshow": {
     "slide_type": "-"
    }
   },
   "outputs": [
    {
     "name": "stdout",
     "output_type": "stream",
     "text": [
      " Key  | Password | Gives access? |\n",
      "======|==========|===============|\n",
      "True  | True     | True\n",
      "True  | False    | False\n",
      "False | False    | False\n",
      "False | True     | False\n"
     ]
    }
   ],
   "source": [
    "print(\" Key  | Password | Gives access? |\")\n",
    "print(\"======|==========|===============|\")\n",
    "print(\"True  | True     |\", True and True)\n",
    "print(\"True  | False    |\", True and False)\n",
    "print(\"False | False    |\", False and False)\n",
    "print(\"False | True     |\", False and True)"
   ]
  },
  {
   "cell_type": "markdown",
   "metadata": {
    "slideshow": {
     "slide_type": "subslide"
    }
   },
   "source": [
    "### Truth table of `not`"
   ]
  },
  {
   "cell_type": "code",
   "execution_count": 62,
   "metadata": {
    "collapsed": false,
    "slideshow": {
     "slide_type": "-"
    }
   },
   "outputs": [
    {
     "name": "stdout",
     "output_type": "stream",
     "text": [
      "not True  | False\n",
      "not False | True\n"
     ]
    }
   ],
   "source": [
    "print(\"not True  |\", not True)\n",
    "print(\"not False |\", not False)"
   ]
  },
  {
   "cell_type": "markdown",
   "metadata": {
    "slideshow": {
     "slide_type": "subslide"
    }
   },
   "source": [
    "#### Discussion\n",
    "\n",
    "What is the logical value of the following complex predicates. Think about it before you confirm your answer by trying out the expression in notebook.\n",
    "\n",
    "- `True and False and True`\n",
    "- `True or False or True`\n",
    "- `True and False or True`\n",
    "- `not (False and True)`"
   ]
  },
  {
   "cell_type": "code",
   "execution_count": null,
   "metadata": {
    "collapsed": true,
    "slideshow": {
     "slide_type": "skip"
    }
   },
   "outputs": [],
   "source": []
  },
  {
   "cell_type": "markdown",
   "metadata": {
    "slideshow": {
     "slide_type": "skip"
    }
   },
   "source": [
    "### `and`-predicates are lazily evaluated\n",
    "\n",
    "Two logical values combined with the `and` operator are false when the first value is false. This allows Python to do an optimization in which the evaluation is short-circuited whenever the first value is found to be false. \n",
    "\n",
    "This short-circuiting mechanism is often exploited by programmers who wish to perform a potentially unsafe operations like dividing by a variable that might contain the value `0`."
   ]
  },
  {
   "cell_type": "code",
   "execution_count": 57,
   "metadata": {
    "collapsed": false,
    "slideshow": {
     "slide_type": "skip"
    }
   },
   "outputs": [],
   "source": [
    "numerator = 5\n",
    "denominator = 0\n",
    "if denominator != 0 and numerator / denominator > .5:\n",
    "    print(\"The fraction is in your favor\")"
   ]
  },
  {
   "cell_type": "code",
   "execution_count": 58,
   "metadata": {
    "collapsed": false,
    "slideshow": {
     "slide_type": "skip"
    }
   },
   "outputs": [
    {
     "ename": "ZeroDivisionError",
     "evalue": "division by zero",
     "output_type": "error",
     "traceback": [
      "\u001b[0;31m---------------------------------------------------------------------------\u001b[0m",
      "\u001b[0;31mZeroDivisionError\u001b[0m                         Traceback (most recent call last)",
      "\u001b[0;32m<ipython-input-58-5b5f0e73d2c2>\u001b[0m in \u001b[0;36m<module>\u001b[0;34m()\u001b[0m\n\u001b[0;32m----> 1\u001b[0;31m \u001b[0;32mif\u001b[0m \u001b[0mnumerator\u001b[0m \u001b[0;34m/\u001b[0m \u001b[0mdenominator\u001b[0m \u001b[0;34m>\u001b[0m \u001b[0;36m.5\u001b[0m \u001b[0;32mand\u001b[0m \u001b[0mdenominator\u001b[0m \u001b[0;34m!=\u001b[0m \u001b[0;36m0\u001b[0m\u001b[0;34m:\u001b[0m\u001b[0;34m\u001b[0m\u001b[0m\n\u001b[0m\u001b[1;32m      2\u001b[0m     \u001b[0mprint\u001b[0m\u001b[0;34m(\u001b[0m\u001b[0;34m\"The fraction is in your favor\"\u001b[0m\u001b[0;34m)\u001b[0m\u001b[0;34m\u001b[0m\u001b[0m\n",
      "\u001b[0;31mZeroDivisionError\u001b[0m: division by zero"
     ]
    }
   ],
   "source": [
    "if numerator / denominator > .5 and denominator != 0:\n",
    "    print(\"The fraction is in your favor\")"
   ]
  },
  {
   "cell_type": "markdown",
   "metadata": {
    "slideshow": {
     "slide_type": "subslide"
    }
   },
   "source": [
    "#### Exercise\n",
    "\n",
    "Rewrite the multi-branching conditional below, changing the order of the tests. In the new version the case that prints *You win, but you are not all that good* should be the first one.\n",
    "\n",
    "```python\n",
    "if score > 600:\n",
    "    print(\"You win!\")\n",
    "elif score > 500:\n",
    "    print(\"You win, but you are not all that good!\")\n",
    "else:\n",
    "    print(\"You lose!\")\n",
    "```"
   ]
  },
  {
   "cell_type": "code",
   "execution_count": 2,
   "metadata": {
    "collapsed": false
   },
   "outputs": [
    {
     "name": "stdout",
     "output_type": "stream",
     "text": [
      "You lose!\n"
     ]
    }
   ],
   "source": [
    "score = 200\n",
    "if score > 600:\n",
    "    print(\"You win!\")\n",
    "elif score > 500:\n",
    "    print(\"You win, but you are not all that good!\")\n",
    "else:\n",
    "    print(\"You lose!\")"
   ]
  },
  {
   "cell_type": "markdown",
   "metadata": {
    "slideshow": {
     "slide_type": "subslide"
    }
   },
   "source": [
    "### Nested branching\n",
    "\n",
    "Anything that you can write outside of a branch, you can write inside of a branch. That goes for additional branching constructions as well."
   ]
  },
  {
   "cell_type": "code",
   "execution_count": 61,
   "metadata": {
    "collapsed": true
   },
   "outputs": [],
   "source": [
    "if denominator != 0:\n",
    "    if numerator / denominator > .5:\n",
    "        print(\"The fraction is in your favor\")"
   ]
  },
  {
   "cell_type": "markdown",
   "metadata": {},
   "source": [
    "(Note the double indentation)"
   ]
  },
  {
   "cell_type": "markdown",
   "metadata": {
    "slideshow": {
     "slide_type": "slide"
    }
   },
   "source": [
    "## Two types of loops\n",
    "\n",
    "Few things are more boring then repetitive work, especially if the repetitions number in the millions, which is often the case in computing. Programming languages fortunately offer an out: *the loop*. "
   ]
  },
  {
   "cell_type": "markdown",
   "metadata": {
    "slideshow": {
     "slide_type": "notes"
    }
   },
   "source": [
    "Loops are used in many place. For instance, if you need to:\n",
    "\n",
    "- do something a certain number of times; or\n",
    "- perform the same operation for all elements in a list."
   ]
  },
  {
   "cell_type": "markdown",
   "metadata": {
    "slideshow": {
     "slide_type": "fragment"
    }
   },
   "source": [
    "Python has two loop constructions, the `for` loop and the `while` loop. The two constructions are theoretically equally powerful. In practical coding, though, you'll end up using the `for` loop (and friends) much more.\n"
   ]
  },
  {
   "cell_type": "markdown",
   "metadata": {
    "slideshow": {
     "slide_type": "subslide"
    }
   },
   "source": [
    "### For \n",
    "\n",
    "Syntax\n",
    "\n",
    "```python\n",
    "for <elem> in <iterable>:\n",
    "   <stmt>\n",
    "```\n",
    "\n",
    "An iterable is a collection of elements. The collection can either be fully materialized, like a list or set of strings, or conceptual, like a range of numbers. "
   ]
  },
  {
   "cell_type": "code",
   "execution_count": 10,
   "metadata": {
    "collapsed": false,
    "slideshow": {
     "slide_type": "fragment"
    }
   },
   "outputs": [
    {
     "name": "stdout",
     "output_type": "stream",
     "text": [
      "Thor, God of the North\n",
      "Odin, God of the North\n",
      "Loki, God of the North\n"
     ]
    }
   ],
   "source": [
    "for norse_god in ('Thor', 'Odin', 'Loki'):\n",
    "    print(norse_god + \", God of the North\")"
   ]
  },
  {
   "cell_type": "code",
   "execution_count": 63,
   "metadata": {
    "collapsed": false,
    "slideshow": {
     "slide_type": "fragment"
    }
   },
   "outputs": [
    {
     "name": "stdout",
     "output_type": "stream",
     "text": [
      "1\n",
      "2\n",
      "3\n",
      "4\n"
     ]
    }
   ],
   "source": [
    "for i in range(1, 5):\n",
    "    print(i)"
   ]
  },
  {
   "cell_type": "markdown",
   "metadata": {
    "slideshow": {
     "slide_type": "subslide"
    }
   },
   "source": [
    "### While\n",
    "\n",
    "The indented body of the `while` loop repeats *as long as* the predicate following the keyword is true:\n",
    "\n",
    "```python\n",
    "while <pred>:\n",
    "   <stmt>\n",
    "\n",
    "```\n"
   ]
  },
  {
   "cell_type": "code",
   "execution_count": 11,
   "metadata": {
    "collapsed": false,
    "slideshow": {
     "slide_type": "fragment"
    }
   },
   "outputs": [
    {
     "name": "stdout",
     "output_type": "stream",
     "text": [
      "Loki, God of the North\n",
      "Odin, God of the North\n",
      "Thor, God of the North\n"
     ]
    }
   ],
   "source": [
    "norse_gods = ['Thor', 'Odin', 'Loki']\n",
    "while len(norse_gods) > 0:\n",
    "    norse_god = norse_gods.pop()\n",
    "    print(norse_god + \", God of the North\")"
   ]
  },
  {
   "cell_type": "markdown",
   "metadata": {
    "slideshow": {
     "slide_type": "subslide"
    }
   },
   "source": [
    "### Infinite loops\n",
    "\n",
    "An often used variation of the `while` loop is the `while True`-loop, which will keep on going forever. \n",
    "\n",
    "Luckily, it can be interrupted by the `break` keyword, which also can be used with `for`-loops."
   ]
  },
  {
   "cell_type": "code",
   "execution_count": 79,
   "metadata": {
    "collapsed": false,
    "slideshow": {
     "slide_type": "fragment"
    }
   },
   "outputs": [
    {
     "name": "stdout",
     "output_type": "stream",
     "text": [
      "Found number in 7 steps\n"
     ]
    }
   ],
   "source": [
    "from random import randint\n",
    "num_steps = 0\n",
    "numbers = [5, 1, 6, 8, 3, 9, 4, 2, 7]\n",
    "search_for = 3\n",
    "\n",
    "while True:\n",
    "    num_steps += 1\n",
    "    random_index = randint(0, len(numbers) - 1)\n",
    "    if numbers[random_index] == search_for:\n",
    "        print(\"Found number in \" + str(num_steps) + \" steps\")\n",
    "        break"
   ]
  },
  {
   "cell_type": "markdown",
   "metadata": {
    "slideshow": {
     "slide_type": "fragment"
    }
   },
   "source": [
    "#### Discussion\n",
    "\n",
    "What happens if `search_for` is not actually in the list? What would the program do if the `break` statement was left out?"
   ]
  },
  {
   "cell_type": "markdown",
   "metadata": {
    "slideshow": {
     "slide_type": "slide"
    }
   },
   "source": [
    "## Truth and truth-like quantities\n",
    "\n",
    "The result of any comparison using the built-in operators (e.g. `==` and `>`) is binary; it is either `True` or `False`. That makes comparisons perfect for use in branching statements or loop conditionals.\n",
    "\n",
    "However, in contrast to many other languages, Python offers considerable flexibility in what may be used as a truth-value. In fact it will attempt to interpret any value used in a test as either `True` or `False`."
   ]
  },
  {
   "cell_type": "code",
   "execution_count": 81,
   "metadata": {
    "collapsed": false,
    "slideshow": {
     "slide_type": "fragment"
    }
   },
   "outputs": [
    {
     "name": "stdout",
     "output_type": "stream",
     "text": [
      "1 is True\n"
     ]
    }
   ],
   "source": [
    "if 1:\n",
    "    print(\"1 is True\")\n",
    "else:\n",
    "    print(\"1 is False\")\n",
    "    "
   ]
  },
  {
   "cell_type": "markdown",
   "metadata": {
    "slideshow": {
     "slide_type": "subslide"
    }
   },
   "source": [
    "#### Exercise \n",
    "\n",
    "Consider the list `true_or_false_list` given below. What values do you think Python would *cast* as `True`? \n",
    "\n",
    "Test your hypotheseses by writing a `for` loop that passes over each of the values in turn and tests in an `if` statement whether Python considers it `True` or `False`. \n",
    "\n",
    "Print a message indicating the result of the test. The message should include a textual representation of the tested value. Use the function `str` for this purpose. "
   ]
  },
  {
   "cell_type": "code",
   "execution_count": 80,
   "metadata": {
    "collapsed": false,
    "slideshow": {
     "slide_type": "-"
    }
   },
   "outputs": [],
   "source": [
    "true_or_false_list = [0, 1, True, False, \"\", \"0\", None, {}, {1}, [], [1]]"
   ]
  }
 ],
 "metadata": {
  "celltoolbar": "Slideshow",
  "kernelspec": {
   "display_name": "Python 3",
   "language": "python",
   "name": "python3"
  },
  "language_info": {
   "codemirror_mode": {
    "name": "ipython",
    "version": 3
   },
   "file_extension": ".py",
   "mimetype": "text/x-python",
   "name": "python",
   "nbconvert_exporter": "python",
   "pygments_lexer": "ipython3",
   "version": "3.4.3"
  }
 },
 "nbformat": 4,
 "nbformat_minor": 0
}
