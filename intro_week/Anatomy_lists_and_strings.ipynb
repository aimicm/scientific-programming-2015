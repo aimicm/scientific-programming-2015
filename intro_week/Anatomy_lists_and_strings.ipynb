{
 "cells": [
  {
   "cell_type": "markdown",
   "metadata": {
    "slideshow": {
     "slide_type": "slide"
    }
   },
   "source": [
    "# Built-in data types: Lists and strings\n",
    "\n",
    "A list is one of the most versatile data structure in Python. It is pretty much \n",
    "\n",
    "Composite. In the sense that they contain and organize other data types (which might be simple or composite)"
   ]
  },
  {
   "cell_type": "code",
   "execution_count": null,
   "metadata": {
    "collapsed": true
   },
   "outputs": [],
   "source": []
  },
  {
   "cell_type": "markdown",
   "metadata": {},
   "source": [
    "### Lists and planks\n",
    "\n",
    "Sometimes a physical analogy helps you reason about data structures. In case of lists it's instructive to imagine a physical arrangement of objects, like tea-cups on a wood plank:\n",
    "\n",
    "<img src=\"teacups-in-row.png\">"
   ]
  },
  {
   "cell_type": "markdown",
   "metadata": {},
   "source": [
    "The plank is the list, providing space for the teacups, which are the items."
   ]
  },
  {
   "cell_type": "markdown",
   "metadata": {},
   "source": [
    "#### Discuss\n",
    "\n",
    "How much trouble is it \n",
    "\n",
    "- to add a new cup at the end of the plank, given some left-over room?\n",
    "- to add a new cup at the begiining of the plank?\n",
    "- to insert a new cup right after the first one?\n",
    "- to remove the second cup without leaving holes?"
   ]
  },
  {
   "cell_type": "markdown",
   "metadata": {},
   "source": [
    "### Conceptual model of lists \n",
    "\n",
    "A list consists of a number of slots in which you put *references* to objects, such as numbers, strings, or even other lists.\n",
    "\n",
    "| Index | 0 | 1 | 2 | 3 | 4 | 5 |\n",
    "|:------|:--|:--|:--|:--|:--|:--|\n",
    "| Object| C | A | T | M | A | N |"
   ]
  },
  {
   "cell_type": "markdown",
   "metadata": {},
   "source": [
    "### Building a list"
   ]
  },
  {
   "cell_type": "code",
   "execution_count": 10,
   "metadata": {
    "collapsed": false
   },
   "outputs": [
    {
     "data": {
      "text/plain": [
       "['C', 'A', 'T', 'M', 'A', 'N']"
      ]
     },
     "execution_count": 10,
     "metadata": {},
     "output_type": "execute_result"
    }
   ],
   "source": [
    "catman_list = [\"C\", \"A\", \"T\", \"M\", \"A\", \"N\"]\n",
    "catman_list"
   ]
  },
  {
   "cell_type": "markdown",
   "metadata": {},
   "source": [
    "Incrementally constructing the list"
   ]
  },
  {
   "cell_type": "code",
   "execution_count": 12,
   "metadata": {
    "collapsed": false
   },
   "outputs": [
    {
     "data": {
      "text/plain": [
       "['C', 'A', 'T', 'M', 'A', 'N']"
      ]
     },
     "execution_count": 12,
     "metadata": {},
     "output_type": "execute_result"
    }
   ],
   "source": [
    "catman_list_incr = []\n",
    "catman_list_incr.append(\"C\")\n",
    "catman_list_incr.append(\"A\")\n",
    "catman_list_incr.append(\"T\")\n",
    "catman_list_incr.append(\"M\")\n",
    "catman_list_incr.append(\"A\")\n",
    "catman_list_incr.append(\"N\")\n",
    "catman_list_incr"
   ]
  },
  {
   "cell_type": "markdown",
   "metadata": {},
   "source": [
    "## Common operations"
   ]
  },
  {
   "cell_type": "markdown",
   "metadata": {},
   "source": [
    "## Slicing"
   ]
  },
  {
   "cell_type": "markdown",
   "metadata": {},
   "source": [
    "\n",
    "\n",
    "\n",
    "## The simple data types of Python\n",
    "\n",
    "- Numbers; cannot be decomposed\n",
    "\n",
    "## RAT 🐀 \n",
    "\n",
    "&#128000 🐁\n",
    "\n",
    "\n",
    " 🐀🐀🐀🐀🐀🐀🐀, 🐀\n"
   ]
  },
  {
   "cell_type": "markdown",
   "metadata": {
    "slideshow": {
     "slide_type": "slide"
    }
   },
   "source": [
    "Two of the most fundamental data types\n",
    "\n"
   ]
  },
  {
   "cell_type": "code",
   "execution_count": 1,
   "metadata": {
    "collapsed": true,
    "slideshow": {
     "slide_type": "slide"
    }
   },
   "outputs": [],
   "source": [
    "x = \"🐀\""
   ]
  },
  {
   "cell_type": "markdown",
   "metadata": {},
   "source": [
    "## Strings\n",
    "\n"
   ]
  },
  {
   "cell_type": "code",
   "execution_count": null,
   "metadata": {
    "collapsed": true
   },
   "outputs": [],
   "source": []
  }
 ],
 "metadata": {
  "kernelspec": {
   "display_name": "Python 3",
   "language": "python",
   "name": "python3"
  },
  "language_info": {
   "codemirror_mode": {
    "name": "ipython",
    "version": 3
   },
   "file_extension": ".py",
   "mimetype": "text/x-python",
   "name": "python",
   "nbconvert_exporter": "python",
   "pygments_lexer": "ipython3",
   "version": "3.4.3"
  }
 },
 "nbformat": 4,
 "nbformat_minor": 0
}
