{
 "cells": [
  {
   "cell_type": "markdown",
   "metadata": {},
   "source": [
    "##Lists and sets"
   ]
  },
  {
   "cell_type": "markdown",
   "metadata": {},
   "source": [
    "###Getting started with lists"
   ]
  },
  {
   "cell_type": "markdown",
   "metadata": {},
   "source": [
    "Sum the values of this list using a foor loop."
   ]
  },
  {
   "cell_type": "code",
   "execution_count": 2,
   "metadata": {
    "collapsed": false
   },
   "outputs": [
    {
     "name": "stdout",
     "output_type": "stream",
     "text": [
      "0\n"
     ]
    }
   ],
   "source": [
    "L = [9, 9, 5, 1, 2, 5, 1, 7, 4, 6, 1, 1, 3, 1, 1, 14, 2, 1, 6, 7]\n",
    "\n",
    "total=0\n",
    "#your code here\n",
    "print(0)\n"
   ]
  },
  {
   "cell_type": "markdown",
   "metadata": {},
   "source": [
    "Compare the length of the list L, and the length of the set constructed from L."
   ]
  },
  {
   "cell_type": "code",
   "execution_count": 3,
   "metadata": {
    "collapsed": false
   },
   "outputs": [],
   "source": [
    "L = [9, 9, 5, 1, 2, 5, 1, 7, 4, 6, 1, 1, 3, 1, 1, 14, 2, 1, 6, 7]\n",
    "\n",
    "#your code here\n"
   ]
  },
  {
   "cell_type": "markdown",
   "metadata": {},
   "source": [
    "Given the list L, retrieve the very first element."
   ]
  },
  {
   "cell_type": "code",
   "execution_count": 4,
   "metadata": {
    "collapsed": false
   },
   "outputs": [],
   "source": [
    "#your code here"
   ]
  },
  {
   "cell_type": "markdown",
   "metadata": {},
   "source": [
    "Given the list L, retrieve the final element. Try to find the final element in two different ways."
   ]
  },
  {
   "cell_type": "code",
   "execution_count": 5,
   "metadata": {
    "collapsed": false
   },
   "outputs": [],
   "source": [
    "#your code here"
   ]
  },
  {
   "cell_type": "markdown",
   "metadata": {},
   "source": [
    "Given the list L, retrieve the sublist that has all the values of L except the first two and the last two elements.\n",
    "\n",
    "__Hint: Use list slicing__"
   ]
  },
  {
   "cell_type": "code",
   "execution_count": 6,
   "metadata": {
    "collapsed": false
   },
   "outputs": [],
   "source": [
    "#your code here"
   ]
  },
  {
   "cell_type": "markdown",
   "metadata": {},
   "source": [
    "Most people have a favorite food. We provide you with a list of names and a parallel list of foods. \n",
    "\n",
    "Your task is to find out who loves what, generating sentences like \"Anna loves pizza\".\n",
    "\n",
    "**Hint: Use the zip() function.**"
   ]
  },
  {
   "cell_type": "code",
   "execution_count": 7,
   "metadata": {
    "collapsed": false
   },
   "outputs": [],
   "source": [
    "names = \"Anna Bob Carla David Elisabeth Frank\".split(\" \")\n",
    "food = \"pizza tofu oranges burgers tea crackers\".split(\" \")\n",
    "\n",
    "\n",
    "#your code here"
   ]
  },
  {
   "cell_type": "markdown",
   "metadata": {},
   "source": [
    "### Set operations"
   ]
  },
  {
   "cell_type": "markdown",
   "metadata": {},
   "source": [
    "Given the sets of flying animals, birds and mammals,\n",
    "retrieve the set of flightless birds and flying mammals using set operations like `.intersection`, `.union` or `.difference`\n",
    "\n",
    "Try to do it in one single line."
   ]
  },
  {
   "cell_type": "code",
   "execution_count": 8,
   "metadata": {
    "collapsed": false
   },
   "outputs": [],
   "source": [
    "fly = {\"bat\",\"crow\",\"eagle\",\"possum\",\"sparrow\",\"finch\"}\n",
    "bird = {\"crow\",\"eagle\",\"sparrow\",\"finch\",\"penguin\",\"ostrich\"}\n",
    "mammal = {\"bat\",\"possum\",\"cow\",\"whale\"}\n",
    "\n",
    "#your code here\n"
   ]
  },
  {
   "cell_type": "markdown",
   "metadata": {},
   "source": [
    "### Story problems"
   ]
  },
  {
   "cell_type": "markdown",
   "metadata": {},
   "source": [
    "#### Counting toasts\n",
    "\n",
    "A lot of superstition is put in toasting. \n",
    "Very often, even in larger groups, it is important that everyone's drink touches everyone else's drink, especially when the toast requires eye contact.\n",
    "\n",
    "<img width=\"50%\"src=\"eyecontact.jpg\">\n",
    "\n",
    "\n",
    "\n",
    "Devise a function that, for a number of party atteendees (`nguests`), tells you how many toasts in total must happen. This will help us keep track of the right number of pairwise toastings.\n"
   ]
  },
  {
   "cell_type": "code",
   "execution_count": 9,
   "metadata": {
    "collapsed": false
   },
   "outputs": [
    {
     "data": {
      "text/plain": [
       "0"
      ]
     },
     "execution_count": 9,
     "metadata": {},
     "output_type": "execute_result"
    }
   ],
   "source": [
    "\n",
    "def number_of_toasts(nguests):\n",
    "    if nguests < 2:\n",
    "        ntoasts = 0 # One cannot toast alone\n",
    "    else:\n",
    "        #yourcodehere\n",
    "        ntoasts = 0\n",
    "    return ntoasts\n",
    "\n",
    "\n",
    "number_of_toasts(10)"
   ]
  },
  {
   "cell_type": "markdown",
   "metadata": {
    "collapsed": true
   },
   "source": [
    "#### Points on a map I: Nearest point\n",
    "\n",
    "<img width=\"50%\" src=\"points.jpg\">\n",
    "\n",
    "Given a set of points, find the nearest point for each point.\n",
    "We provide you the `distance` function, which calculates the Euclidean distance (i.e. the length of the straight line) between two points. The image below illustrates the Euclidean distance \n",
    "\n",
    "<img width=\"40%\"src=\"euclidean.png\">\n",
    "\n"
   ]
  },
  {
   "cell_type": "code",
   "execution_count": 10,
   "metadata": {
    "collapsed": false,
    "scrolled": true
   },
   "outputs": [
    {
     "name": "stdout",
     "output_type": "stream",
     "text": [
      "(3, 3)\n",
      "(3, 3)\n",
      "(3, 3)\n",
      "(3, 3)\n",
      "(3, 3)\n",
      "(3, 3)\n",
      "(3, 3)\n"
     ]
    }
   ],
   "source": [
    "import math\n",
    "points = {(0,0),(0,1),(1,3),(2,3),(3,3),(4,5),(5,5)}\n",
    "\n",
    "def distance(pointA,pointB):\n",
    "    d = math.sqrt((pointA[0] - pointB[0]) ** 2 + (pointA[1] - pointB[1]) ** 2)\n",
    "    return d \n",
    "\n",
    "def nearest_point(points, reference):\n",
    "    nearest_point = None\n",
    "    nearest_dist = float('inf')\n",
    "    for point in points:\n",
    "        #your code here\n",
    "        #remove the following statement, it is just there so the code runs at first\n",
    "        pass\n",
    "    return nearest_point\n",
    "\n",
    "\n",
    "for point in points:\n",
    "    print(nearest_point(points,point))\n"
   ]
  },
  {
   "cell_type": "markdown",
   "metadata": {},
   "source": [
    "#### Points on a map II:  Find a path\n",
    "And now you can calculate a path! \n",
    "\n",
    "We provide you a set of points and a starting point. \n",
    "Your task is to calculate a path that includes all the points in the set exactly once. \n",
    "The next point in the path is the nearest one.\n",
    "Print out the sequence of points.\n",
    "\n",
    "You can use the `nearest_point` function from the previous exercise.\n",
    "\n",
    "__Hint:__ Check the `.remove` function from `set`.\n",
    "\n"
   ]
  },
  {
   "cell_type": "code",
   "execution_count": 11,
   "metadata": {
    "collapsed": false
   },
   "outputs": [],
   "source": [
    "current_point = (0,0)\n",
    "\n",
    "#your code here\n",
    "#this one is a bit tricker!\n"
   ]
  }
 ],
 "metadata": {
  "kernelspec": {
   "display_name": "Python 3",
   "language": "python",
   "name": "python3"
  },
  "language_info": {
   "codemirror_mode": {
    "name": "ipython",
    "version": 3
   },
   "file_extension": ".py",
   "mimetype": "text/x-python",
   "name": "python",
   "nbconvert_exporter": "python",
   "pygments_lexer": "ipython3",
   "version": "3.3.5"
  }
 },
 "nbformat": 4,
 "nbformat_minor": 0
}
