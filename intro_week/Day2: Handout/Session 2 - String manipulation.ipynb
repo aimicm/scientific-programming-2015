{
 "cells": [
  {
   "cell_type": "markdown",
   "metadata": {},
   "source": [
    "#String manipulation\n",
    "\n",
    "Here, we play around with **strings**, i.e., sequences of characters, which are an important data type that is integral to many programming languages, including Python.\n",
    "\n",
    "Strings can be iterated over, added, subtracted, upper- or lowercased, read and written from and to files, and transformed in many other ways.\n",
    "\n",
    "We proceed to try out some of these string manipulations."
   ]
  },
  {
   "cell_type": "markdown",
   "metadata": {},
   "source": [
    "###Assignment 1: Is this string a name?\n",
    "\n",
    "Say a personal name consists of one first name and one last name, space-delimited. Both the first name and the last name must contain only letters: the first one is uppercased, while the rest are lowercased.\n",
    "\n",
    "Check whether the four strings are, in fact, personal names."
   ]
  },
  {
   "cell_type": "code",
   "execution_count": 21,
   "metadata": {
    "collapsed": false
   },
   "outputs": [
    {
     "name": "stdout",
     "output_type": "stream",
     "text": [
      "Jolly Roger True\n",
      "Professor von X False\n",
      "McLovin False\n",
      "Optimus Prim3 False\n"
     ]
    }
   ],
   "source": [
    "names = [\"Jolly Roger\", \"Professor von X\", \"McLovin\", \"Optimus Prim3\"]\n",
    "\n",
    "# candidate name checking\n",
    "def is_name(candidate):\n",
    "    \n",
    "    names = candidate.split(\" \")\n",
    "    \n",
    "    # first and last name criterion\n",
    "    if len(names) != 2:\n",
    "        return False\n",
    "    \n",
    "    first = names[0]\n",
    "    last = names[1]\n",
    "    \n",
    "    # uppercased first letter\n",
    "    if not first[0].isupper() or not last[0].isupper():\n",
    "        return False\n",
    "    \n",
    "    # lowercased remainder\n",
    "    for letter in first[1:]:\n",
    "        if not letter.islower():\n",
    "            return False\n",
    "    for letter in last[1:]:\n",
    "        if not letter.islower():\n",
    "            return False\n",
    "\n",
    "    return True\n",
    "\n",
    "# check names\n",
    "for name in names:\n",
    "    print(name, is_name(name))\n"
   ]
  },
  {
   "cell_type": "markdown",
   "metadata": {},
   "source": [
    "###Assignment 2: Translate English to Leetspeak\n",
    "\n",
    "Here, we translate English into Leet through a map we provide. Note that the mapping includes only uppercased characters. You should make sure to convert lowercased characters, too, and output the Leet sentences."
   ]
  },
  {
   "cell_type": "code",
   "execution_count": 46,
   "metadata": {
    "collapsed": false
   },
   "outputs": [
    {
     "name": "stdout",
     "output_type": "stream",
     "text": [
      "! w!11 f0110w u0u !n70 7#3 d4rk.\n",
      "!7'5 4 10n6 w4y 70 7#3 70p.\n",
      "137'5 637 70637#3r 83f0r3 w3 637 mu<# 01d3r.\n",
      "! 4!n'7 n0 53n470r'5 50n.\n"
     ]
    }
   ],
   "source": [
    "# the map\n",
    "english_to_leet = {\"A\": \"4\", \"B\": \"8\", \"C\": \"<\", \"E\": \"3\", \"G\": \"6\", \"H\": \"#\", \"I\": \"!\", \n",
    "                   \"L\": \"1\", \"O\": \"0\", \"S\": \"5\", \"T\": \"7\", \"Z\": \"2\"}\n",
    "\n",
    "# the sentences\n",
    "sentences = [\"I will follow uou into the dark.\",\n",
    "             \"It's a long way to the top.\",\n",
    "             \"Let's get together before we get much older.\", \n",
    "             \"I ain't no Senator's son.\"]\n",
    "\n",
    "# coding\n",
    "for sentence in sentences:\n",
    "    for letter in sentence:\n",
    "        if letter.upper() in english_to_leet:\n",
    "            letter = english_to_leet[letter.upper()]\n",
    "        print(letter, end=\"\")\n",
    "    print()"
   ]
  },
  {
   "cell_type": "markdown",
   "metadata": {
    "collapsed": true
   },
   "source": [
    "###Assignment 3: Translate English to Pig Latin\n",
    "\n",
    "English words are transformed into Pig Latin words by using a very simple rule. If a word starts with a consonant, move this consonant from the start to the end of the word, and append \"ay\" to the end as well. For example, the English word \"dictionary\" would become \"ictionaryday\".\n",
    "\n",
    "Now, please translate the given English sentence to Pig Latin. Use functions for checking if a given letter is vowel/consonant, and for transforming a word to Pig Latin. Print out the original and the resulting sentence."
   ]
  },
  {
   "cell_type": "code",
   "execution_count": 14,
   "metadata": {
    "collapsed": false
   },
   "outputs": [
    {
     "name": "stdout",
     "output_type": "stream",
     "text": [
      "I have seen things you people would not believe\n",
      "I avehay eensay hingstay ouyay eoplepay ouldway otnay elievebay "
     ]
    }
   ],
   "source": [
    "# function checks if letter is a vowel\n",
    "def is_vowel(letter):\n",
    "    if letter.lower() in [\"a\", \"e\", \"i\", \"o\", \"u\"]:\n",
    "        return True\n",
    "    return False\n",
    "\n",
    "# transforms the word\n",
    "def pigify(word):\n",
    "    new_word = word[1:] + word[0] + \"ay\"\n",
    "    return new_word\n",
    "\n",
    "# sentence, and its list of words\n",
    "sentence = \"I have seen things you people would not believe\"\n",
    "words = sentence.split()\n",
    "\n",
    "print(sentence)\n",
    "\n",
    "# checking and possibly transforming words\n",
    "for word in words:\n",
    "    first_letter = word[0]\n",
    "    if not is_vowel(first_letter):\n",
    "        print(pigify(word), end=\" \")\n",
    "    else:\n",
    "        print(word, end=\" \")"
   ]
  },
  {
   "cell_type": "markdown",
   "metadata": {},
   "source": [
    "###Assignment 4: English to Morse code and back\n",
    "\n",
    "We provide an English-to-Morse code table for uppercased characters, and messages in Morse code. You have to decode the messages and print them on the screen.\n",
    "\n",
    "Note that the letters in the code are space-delimited, while the words are delimited by \" / \". Use this wisely for splitting the strings.\n",
    "\n",
    "For extra credit, try guessing the movie titles. :-)"
   ]
  },
  {
   "cell_type": "code",
   "execution_count": 39,
   "metadata": {
    "collapsed": false
   },
   "outputs": [
    {
     "name": "stdout",
     "output_type": "stream",
     "text": [
      "ALL THOSE MOMENTS WILL BE LOST IN TIME LIKE TEARS IN THE RAIN \n",
      "JUST KEEP SWIMMING \n",
      "ROSEBUD \n",
      "WHY SO SERIOUS \n",
      "YOU HAD ME AT HELLO \n",
      "I LOVE THE SMELL OF NAPALM IN THE MORNING \n",
      "OPEN THE POD BAY DOORS \n",
      "NOBODY PUTS BABY IN A CORNER \n"
     ]
    }
   ],
   "source": [
    "# the code table we provide\n",
    "english_to_morse = {'A': '.-', 'B': '-...', 'C': '-.-.', 'D': '-..', 'E': '.', \n",
    "                    'F': '..-.', 'G': '--.', 'H': '....', 'I': '..', 'J': '.---', \n",
    "                    'K': '-.-', 'L': '.-..', 'M': '--', 'N': '-.', 'O': '---', \n",
    "                    'P': '.--.', 'Q': '--.-', 'R': '.-.', 'S': '...', 'T': '-', \n",
    "                    'U': '..-', 'V': '...-', 'W': '.--', 'X': '-..-', 'Y': '-.--', \n",
    "                    'Z': '--..', '0': '-----', '1': '.----', '2': '..---', '3': '...--', \n",
    "                    '4': '....-', '5': '.....', '6': '-....', '7': '--...', '8': '---..', '9': '----.' }\n",
    "\n",
    "# the reversed code table\n",
    "morse_to_english = {value: key for key, value in english_to_morse.items()}\n",
    "\n",
    "# sentences to decode\n",
    "sentences = [\".- .-.. .-.. / - .... --- ... . / -- --- -- . -. - ... / .-- .. .-.. .-.. / -... . / .-.. --- ... - / .. -. / - .. -- . / .-.. .. -.- . / - . .- .-. ... / .. -. / - .... . / .-. .- .. -.\",\n",
    "             \".--- ..- ... - / -.- . . .--. / ... .-- .. -- -- .. -. --.\",\n",
    "             \".-. --- ... . -... ..- -..\",\n",
    "             \".-- .... -.-- / ... --- / ... . .-. .. --- ..- ...\",\n",
    "             \"-.-- --- ..- / .... .- -.. / -- . / .- - / .... . .-.. .-.. ---\",\n",
    "             \".. / .-.. --- ...- . / - .... . / ... -- . .-.. .-.. / --- ..-. / -. .- .--. .- .-.. -- / .. -. / - .... . / -- --- .-. -. .. -. --.\",\n",
    "             \"--- .--. . -. / - .... . / .--. --- -.. / -... .- -.-- / -.. --- --- .-. ...\",\n",
    "             \"-. --- -... --- -.. -.-- / .--. ..- - ... / -... .- -... -.-- / .. -. / .- / -.-. --- .-. -. . .-.\"\n",
    "             ]\n",
    "\n",
    "# decoding and printing\n",
    "for sentence in sentences:\n",
    "    words = sentence.split(\" / \")\n",
    "    for word in words:\n",
    "        letters = word.split()\n",
    "        for letter in letters:\n",
    "            print(morse_to_english[letter], end=\"\")\n",
    "        print(end=\" \")\n",
    "    print()"
   ]
  },
  {
   "cell_type": "code",
   "execution_count": null,
   "metadata": {
    "collapsed": true
   },
   "outputs": [],
   "source": []
  }
 ],
 "metadata": {
  "kernelspec": {
   "display_name": "Python 3",
   "language": "python",
   "name": "python3"
  },
  "language_info": {
   "codemirror_mode": {
    "name": "ipython",
    "version": 3
   },
   "file_extension": ".py",
   "mimetype": "text/x-python",
   "name": "python",
   "nbconvert_exporter": "python",
   "pygments_lexer": "ipython3",
   "version": "3.4.3"
  }
 },
 "nbformat": 4,
 "nbformat_minor": 0
}
