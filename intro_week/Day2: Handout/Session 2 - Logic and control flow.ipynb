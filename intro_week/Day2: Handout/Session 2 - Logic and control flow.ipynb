{
 "cells": [
  {
   "cell_type": "markdown",
   "metadata": {
    "collapsed": true
   },
   "source": [
    "#Control flow\n",
    "\n",
    "In this exercise module, we deal with **controlling the flow of our Python code**.\n",
    "\n",
    "Control flow is a fundamental feature of programming languages, as it provides ways of specifying the sequences in which our code is to be executed.\n",
    "\n",
    "There are two basic concepts regarding control flow: **branching** and **looping**. We deal with them further."
   ]
  },
  {
   "cell_type": "markdown",
   "metadata": {},
   "source": [
    "###Assignment 1: Printing heights\n",
    "\n",
    "In this assignment, you get two variables: a list of persons' heights in centimeters (`heights`), and the average height of the group calculated from the list (`average`). Your task is to:\n",
    "\n",
    "1. iterate through the list using a for-loop, printing out each height, and \n",
    "2. if a given height is below/equal/above the average, print that information along with the height.\n",
    "\n",
    "For extra credit, try printing a horizontal column of Xs proportional in length to a given height. You can also print out the average in the end, for comparison."
   ]
  },
  {
   "cell_type": "code",
   "execution_count": 1,
   "metadata": {
    "collapsed": false
   },
   "outputs": [
    {
     "name": "stdout",
     "output_type": "stream",
     "text": [
      "XXXXXXXXXXXXXXXXXX 180 taller\n",
      "XXXXXXXXXXXXXXXX 160 shorter\n",
      "XXXXXXXXXXXXXXXXX 171 taller\n",
      "XXXXXXXXXXXXXX 141 shorter\n",
      "XXXXXXXXXXXXXXX 155 shorter\n",
      "XXXXXXXXXXXXXXXXXXX 192 taller\n",
      "average = 166\n"
     ]
    }
   ],
   "source": [
    "heights = [180, 160, 171, 141, 155, 192]  # list of heights\n",
    "average = sum(heights) // len(heights)  # average height calculated from the list\n",
    "\n",
    "# iterate through the list\n",
    "for height in heights:\n",
    "    \n",
    "    # the histogram part\n",
    "    # your code here\n",
    "    \n",
    "    print(\" %d\" % height, end=\" \")  # print the height itself, with some formatting\n",
    "    \n",
    "    # condition the average indicator, and print it\n",
    "    # your code here\n",
    "\n",
    "print(\"average = %d\" % average)  # print the average"
   ]
  },
  {
   "cell_type": "markdown",
   "metadata": {
    "collapsed": true
   },
   "source": [
    "###Assignment 2: Calculating exam scores\n",
    "\n",
    "A math exam had 10 assignments. Each assignment was worth 10 points, accounting for a maximum of 100 exam points. But alas, one could also score negative points!\n",
    "\n",
    "Below you can find a list of assignment scores for two students: Alice and Bob. Please let us know who did better in the exam, by printing \"X did better than Y on the exam\"!\n",
    "\n",
    "For extra credit, identify and print out which assignments, in order of appearance, troubled Alice and Bob the most. We define assignments as troubling if students scored negative on them.\n",
    "\n",
    "Please implement the average calculation by using for-loops."
   ]
  },
  {
   "cell_type": "code",
   "execution_count": 53,
   "metadata": {
    "collapsed": false
   },
   "outputs": [
    {
     "name": "stdout",
     "output_type": "stream",
     "text": [
      "Assigments that troubled Alice: 7\n",
      "Assigments that troubled Bob: 8\n",
      "Alice did better than Bob on the exam!\n"
     ]
    }
   ],
   "source": [
    "scores_alice = [10, 7, 8, 4, 6, 10, -1, 5, 9, 9]\n",
    "scores_bob = [9, 8, 8, 3, 9, 7, 4, -5, 10, 9]\n",
    "\n",
    "sum_alice = 0\n",
    "sum_bob = 0\n",
    "\n",
    "print(\"Assigments that troubled Alice: \", end=\"\")\n",
    "# summing for Alice\n",
    "# your code here\n",
    "\n",
    "print(\"Assigments that troubled Bob: \", end=\"\")\n",
    "# summing for Bob\n",
    "# your code here\n",
    "\n",
    "\n",
    "# the averages\n",
    "average_alice = 0.0 # your code here, calculate averages\n",
    "average_bob = 0.0 # your code here, calculate averages\n",
    "\n",
    "\n",
    "\n",
    "#Now use if-elif-else statements comparing the averages to print out who did better, Alice, Bob, or both.\n",
    "# your code here\n"
   ]
  },
  {
   "cell_type": "markdown",
   "metadata": {
    "collapsed": true
   },
   "source": [
    "###Assignment 3: Translating a flowchart\n",
    "\n",
    "Check out the flowchart at [this site](https://upload.wikimedia.org/wikipedia/en/thumb/6/62/Lava_lamp_flowchart.svg/419px-Lava_lamp_flowchart.svg.png)!\n",
    "\n",
    "Your task is to translate it into code. For each decision point, set a boolean variable to either `True` or `False`, and let your if-else branches do the rest. Print out the appropriate green instructions. Extra points for reducing the number of lines by increasing the complexity of your statements."
   ]
  },
  {
   "cell_type": "code",
   "execution_count": 56,
   "metadata": {
    "collapsed": false
   },
   "outputs": [
    {
     "name": "stdout",
     "output_type": "stream",
     "text": [
      "Replace bulb\n"
     ]
    }
   ],
   "source": [
    "# the booleans\n",
    "lamp_does_not_work = True\n",
    "lamp_plugged_in = True\n",
    "bulb_burned_out = True\n",
    "\n",
    "# the flowchart\n",
    "# Your code here\n",
    "# If ...\n"
   ]
  },
  {
   "cell_type": "code",
   "execution_count": null,
   "metadata": {
    "collapsed": true
   },
   "outputs": [],
   "source": []
  }
 ],
 "metadata": {
  "kernelspec": {
   "display_name": "Python 3",
   "language": "python",
   "name": "python3"
  },
  "language_info": {
   "codemirror_mode": {
    "name": "ipython",
    "version": 3
   },
   "file_extension": ".py",
   "mimetype": "text/x-python",
   "name": "python",
   "nbconvert_exporter": "python",
   "pygments_lexer": "ipython3",
   "version": "3.4.3"
  }
 },
 "nbformat": 4,
 "nbformat_minor": 0
}
