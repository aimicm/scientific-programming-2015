{
 "cells": [
  {
   "cell_type": "code",
   "execution_count": 4,
   "metadata": {
    "collapsed": true
   },
   "outputs": [],
   "source": [
    "# Import plotting-related commands\n",
    "%matplotlib inline\n",
    "import matplotlib.pyplot as plt"
   ]
  },
  {
   "cell_type": "markdown",
   "metadata": {},
   "source": [
    "# Exercise: Connecting the dots\n",
    "\n",
    "<img src=\"picasso_drawings.jpg\">\n",
    "\n",
    "Picasso was a fun character who liked to draw and paint in unconventional manners. \n",
    "\n",
    "One of his experiments was to make drawings without ever lifting the pen from the paper. The Google images screen-grab above shows some samples of these single-stroke drawings."
   ]
  },
  {
   "cell_type": "markdown",
   "metadata": {},
   "source": [
    "### Your job\n",
    "\n",
    "We now ask you continue experimenting in the spirit of Picasso. The picture below is Picasso's one-stroke camel, converted to a connect-the-dots drawing. (Thanks to Sigrid Klerke, a PhD student at CST for tracing the line). \n",
    "\n",
    "<img src=\"camel_with_dots.png\" width=\"350\">\n",
    "\n",
    "From this drawing we extracted the $(x, y)$ coordinates of the centers of the dots dots, which you are given as a list. The idea is now that you connect the dots, i.e. draw line segments from one dot to the next in the correct order. \n",
    "\n",
    "To make things interesting, however, we scrambled the order of the list, which presents an additional challenge. For each point you have to decide where to go next. \n",
    "\n",
    "We'll tell you where to start. Where to go from there is up to you. "
   ]
  },
  {
   "cell_type": "markdown",
   "metadata": {},
   "source": [
    "#### Discussion\n",
    "\n",
    "Come up with an approach for connecting the dots. You can assume that you are always have a current location, so the task is to find out which dot you should go to next"
   ]
  },
  {
   "cell_type": "markdown",
   "metadata": {},
   "source": [
    "#### Drawing lines warm-up"
   ]
  },
  {
   "cell_type": "code",
   "execution_count": 9,
   "metadata": {
    "collapsed": false
   },
   "outputs": [
    {
     "data": {
      "text/plain": [
       "[<matplotlib.lines.Line2D at 0x108d49828>]"
      ]
     },
     "execution_count": 9,
     "metadata": {},
     "output_type": "execute_result"
    },
    {
     "data": {
      "image/png": "[encoded data removed]",
      "text/plain": [
       "<matplotlib.figure.Figure at 0x1090d5be0>"
      ]
     },
     "metadata": {},
     "output_type": "display_data"
    }
   ],
   "source": [
    "# Create a new plot, which will automatically be displayed when the cell is executed\n",
    "fig, ax = plt.subplots(figsize=(10, 10))\n",
    "\n",
    "# Draw a line from (10, 10) to (20, 20)\n",
    "start_point = (10, 10)\n",
    "end_point = (20, 20)\n",
    "\n",
    "x_coords = (start_point[0], end_point[0])\n",
    "y_coords = (start_point[1], end_point[1])\n",
    "\n",
    "# 'k-' sets the color and style of the line.\n",
    "ax.plot(x_coords, y_coords, 'k-', linewidth=5)"
   ]
  },
  {
   "cell_type": "markdown",
   "metadata": {},
   "source": [
    "#### Exercise: Drawing two lines in the same plot\n",
    "\n",
    "In addition to the line between (10, 10) and (20, 20), draw a line from (20, 10) to (10, 20). Write the complete code below. So if you wish to reuse parts of the code from above, you'll have to copy it down here."
   ]
  },
  {
   "cell_type": "code",
   "execution_count": null,
   "metadata": {
    "collapsed": true
   },
   "outputs": [],
   "source": []
  },
  {
   "cell_type": "markdown",
   "metadata": {},
   "source": [
    "#### Exercise: Connecting the dots\n",
    "\n",
    "We're finally ready to trace the line.\n",
    "\n"
   ]
  },
  {
   "cell_type": "code",
   "execution_count": 2,
   "metadata": {
    "collapsed": false
   },
   "outputs": [],
   "source": [
    "dots = {(367, 281), (452, 387), (589, 16), (204, 198), (574, 45), (625, 283), (694, 64), (186, 593), (426, 126), (602, 119), (120, 491), (492, 555), (581, 309), (477, 379), (482, 206), (512, 358), (143, 596), (494, 537), (127, 475), (215, 405), (157, 323), (433, 131), (180, 627), (498, 483), (260, 132), (524, 285), (296, 281), (155, 620), (383, 112), (303, 123), (130, 544), (678, 89), (156, 404), (394, 284), (483, 324), (509, 412), (286, 123), (577, 28), (167, 280), (134, 570), (170, 492), (178, 477), (610, 145), (604, 128), (583, 60), (440, 137), (155, 332), (360, 123), (614, 296), (497, 501), (227, 381), (505, 255), (410, 310), (376, 282), (385, 283), (620, 290), (613, 153), (159, 571), (219, 397), (418, 121), (189, 462), (633, 266), (253, 137), (601, 110), (413, 354), (625, 24), (546, 300), (245, 141), (231, 373), (457, 276), (506, 323), (313, 278), (500, 465), (636, 249), (642, 29), (161, 306), (637, 240), (473, 190), (277, 125), (202, 207), (700, 80), (635, 222), (497, 492), (198, 447), (196, 224), (174, 263), (494, 528), (207, 190), (165, 288), (653, 80), (212, 414), (209, 422), (210, 181), (666, 42), (498, 306), (578, 0), (139, 461), (171, 627), (206, 620), (153, 350), (662, 82), (163, 509), (411, 345), (629, 195), (596, 41), (563, 307), (202, 439), (673, 48), (326, 137), (158, 526), (429, 294), (320, 130), (609, 86), (279, 288), (466, 277), (497, 239), (431, 282), (511, 394), (129, 535), (268, 128), (451, 151), (488, 331), (120, 500), (267, 300), (620, 170), (244, 339), (492, 564), (154, 341), (509, 331), (608, 20), (630, 275), (456, 158), (469, 182), (633, 213), (184, 248), (507, 421), (189, 626), (511, 349), (590, 308), (477, 317), (434, 383), (448, 276), (333, 142), (687, 59), (502, 447), (617, 162), (322, 278), (123, 483), (206, 430), (470, 311), (312, 126), (287, 283), (512, 385), (491, 573), (214, 173), (213, 615), (305, 279), (332, 279), (489, 222), (237, 146), (687, 91), (626, 187), (238, 356), (439, 278), (572, 309), (446, 143), (188, 240), (616, 23), (252, 323), (485, 214), (634, 26), (139, 588), (488, 292), (443, 386), (495, 519), (493, 230), (200, 216), (133, 561), (518, 278), (636, 231), (577, 54), (539, 295), (509, 263), (198, 624), (531, 291), (375, 113), (695, 88), (650, 33), (502, 314), (131, 553), (596, 50), (121, 509), (462, 306), (409, 319), (461, 386), (591, 23), (417, 362), (392, 112), (601, 101), (152, 359), (465, 174), (418, 294), (272, 293), (224, 158), (437, 296), (147, 604), (491, 340), (446, 299), (163, 625), (617, 81), (469, 384), (510, 340), (670, 85), (413, 301), (157, 422), (349, 281), (145, 455), (583, 7), (160, 518), (179, 256), (512, 376), (604, 93), (159, 315), (230, 152), (219, 166), (156, 544), (412, 288), (504, 439), (202, 602), (241, 348), (635, 78), (152, 368), (600, 17), (136, 579), (489, 366), (155, 395), (493, 546), (699, 72), (234, 364), (424, 287), (349, 137), (256, 315), (582, 21), (631, 204), (492, 348), (150, 447), (454, 302), (154, 439), (482, 285), (261, 308), (478, 198), (127, 526), (410, 117), (501, 456), (460, 166), (194, 455), (427, 377), (171, 584), (355, 130), (506, 430), (510, 403), (420, 290), (358, 281), (501, 247), (403, 286), (492, 357), (340, 280), (183, 469), (153, 386), (194, 597), (512, 367), (591, 57), (594, 32), (366, 116), (157, 413), (607, 137), (401, 114), (410, 336), (166, 501), (624, 178), (193, 232), (174, 484), (156, 431), (513, 270), (474, 280), (163, 297), (164, 578), (496, 510), (554, 304), (179, 588), (150, 612), (494, 299), (680, 53), (170, 271), (132, 468), (152, 377), (574, 36), (483, 373), (156, 562), (209, 608), (223, 389), (409, 328), (499, 474), (635, 258), (294, 122), (644, 79), (422, 370), (606, 301), (155, 553), (598, 305), (248, 331), (626, 79), (124, 518), (156, 535), (658, 37), (342, 142)}\n",
    "start_dot = (122, 700)"
   ]
  },
  {
   "cell_type": "code",
   "execution_count": 5,
   "metadata": {
    "collapsed": true
   },
   "outputs": [],
   "source": [
    "def find_next_point(available_dots, current_dot):\n",
    "    return None"
   ]
  },
  {
   "cell_type": "code",
   "execution_count": 6,
   "metadata": {
    "collapsed": false
   },
   "outputs": [
    {
     "ename": "KeyboardInterrupt",
     "evalue": "",
     "output_type": "error",
     "traceback": [
      "\u001b[0;31m---------------------------------------------------------------------------\u001b[0m",
      "\u001b[0;31mKeyboardInterrupt\u001b[0m                         Traceback (most recent call last)",
      "\u001b[0;32m<ipython-input-6-92bcb0052960>\u001b[0m in \u001b[0;36m<module>\u001b[0;34m()\u001b[0m\n\u001b[1;32m      1\u001b[0m \u001b[0mcurrent_dot\u001b[0m \u001b[0;34m=\u001b[0m \u001b[0mstart_dot\u001b[0m\u001b[0;34m\u001b[0m\u001b[0m\n\u001b[0;32m----> 2\u001b[0;31m \u001b[0;32mwhile\u001b[0m \u001b[0mdots\u001b[0m\u001b[0;34m:\u001b[0m\u001b[0;34m\u001b[0m\u001b[0m\n\u001b[0m\u001b[1;32m      3\u001b[0m     \u001b[0mnext_dot\u001b[0m \u001b[0;34m=\u001b[0m \u001b[0mfind_next_point\u001b[0m\u001b[0;34m(\u001b[0m\u001b[0mdots\u001b[0m\u001b[0;34m,\u001b[0m \u001b[0mcurrent_dot\u001b[0m\u001b[0;34m)\u001b[0m\u001b[0;34m\u001b[0m\u001b[0m\n\u001b[1;32m      4\u001b[0m     \u001b[0;32mif\u001b[0m \u001b[0mnext_dot\u001b[0m\u001b[0;34m:\u001b[0m\u001b[0;34m\u001b[0m\u001b[0m\n\u001b[1;32m      5\u001b[0m         \u001b[0;31m# Your turn: Draw a line from current_dot to next_dot\u001b[0m\u001b[0;34m\u001b[0m\u001b[0;34m\u001b[0m\u001b[0m\n",
      "\u001b[0;31mKeyboardInterrupt\u001b[0m: "
     ]
    }
   ],
   "source": [
    "current_dot = start_dot\n",
    "while dots:\n",
    "    next_dot = find_next_point(dots, current_dot)\n",
    "    if next_dot:\n",
    "        # Your turn: Draw a line from current_dot to next_dot\n",
    "        pass\n",
    "    \n",
    "    # Your turn: Remove current_dot from the set of dots\n",
    "    \n",
    "    current_dot = next_dot"
   ]
  },
  {
   "cell_type": "markdown",
   "metadata": {
    "collapsed": true
   },
   "source": [
    "#### Exercise: Alternative starting location\n",
    "\n",
    "You've now successfully drawn a camel, starting from the hair. What happens if you start from the tail instead? "
   ]
  },
  {
   "cell_type": "code",
   "execution_count": null,
   "metadata": {
    "collapsed": true
   },
   "outputs": [],
   "source": [
    "start_dot = (209, 127)"
   ]
  }
 ],
 "metadata": {
  "kernelspec": {
   "display_name": "Python 3",
   "language": "python",
   "name": "python3"
  },
  "language_info": {
   "codemirror_mode": {
    "name": "ipython",
    "version": 3
   },
   "file_extension": ".py",
   "mimetype": "text/x-python",
   "name": "python",
   "nbconvert_exporter": "python",
   "pygments_lexer": "ipython3",
   "version": "3.4.3"
  }
 },
 "nbformat": 4,
 "nbformat_minor": 0
}
