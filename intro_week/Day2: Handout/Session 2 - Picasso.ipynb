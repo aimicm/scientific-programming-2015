{
 "cells": [
  {
   "cell_type": "code",
   "execution_count": null,
   "metadata": {
    "collapsed": true
   },
   "outputs": [],
   "source": [
    "# Import plotting-related commands\n",
    "%matplotlib inline\n",
    "import matplotlib.pyplot as plt\n",
    "import numpy as np"
   ]
  },
  {
   "cell_type": "markdown",
   "metadata": {},
   "source": [
    "# Exercise: Connecting the dots\n",
    "\n",
    "<img src=\"picasso_drawings.jpg\">\n",
    "\n",
    "Picasso was a fun character who liked to draw and paint in unconventional manners. \n",
    "\n",
    "One of his experiments was to make drawings without ever lifting the pen from the paper. The Google image search screen-grab above shows a sample of these single-stroke drawings."
   ]
  },
  {
   "cell_type": "markdown",
   "metadata": {},
   "source": [
    "### Your job\n",
    "\n",
    "We now ask you continue experimenting in the spirit of Picasso. The picture below is Picasso's one-stroke camel, converted to a connect-the-dots drawing. (Thanks to Sigrid Klerke, a PhD student at CST for tracing the line). \n",
    "\n",
    "<img src=\"camel_with_dots.png\" width=\"350\">\n",
    "\n",
    "From this drawing we extracted the $(x, y)$ coordinates of the centers of the dots dots, which you are given as a list. The idea is now that you connect the dots, i.e. draw line segments from one dot to the next in the correct order. \n",
    "\n",
    "To make things interesting, however, we scrambled the order of the list, which presents an additional challenge. For each point you have to decide where to go next. \n",
    "\n",
    "We'll tell you where to start. Where to go from there is up to you. "
   ]
  },
  {
   "cell_type": "markdown",
   "metadata": {},
   "source": [
    "#### Discussion\n",
    "\n",
    "Come up with an approach for connecting the dots. You can assume that you are always have a current location, so the task is to find out which dot you should go to next"
   ]
  },
  {
   "cell_type": "markdown",
   "metadata": {},
   "source": [
    "#### Drawing lines warm-up"
   ]
  },
  {
   "cell_type": "code",
   "execution_count": null,
   "metadata": {
    "collapsed": false
   },
   "outputs": [],
   "source": [
    "# Create a new plot, which will automatically be displayed when the cell is executed\n",
    "fig, ax = plt.subplots(figsize=(10, 10))\n",
    "\n",
    "# Draw a line from (10, 10) to (20, 20)\n",
    "start_point = (10, 10)\n",
    "end_point = (20, 20)\n",
    "\n",
    "x_coords = (start_point[0], end_point[0])\n",
    "y_coords = (start_point[1], end_point[1])\n",
    "\n",
    "# 'k-' sets the color and style of the line.\n",
    "ax.plot(x_coords, y_coords, 'k-', linewidth=5)"
   ]
  },
  {
   "cell_type": "markdown",
   "metadata": {},
   "source": [
    "#### Exercise: Drawing two lines in the same plot\n",
    "\n",
    "In addition to the line between (10, 10) and (20, 20), draw a line from (20, 10) to (10, 20). Write the complete code below. So if you wish to reuse parts of the code from above, you'll have to copy it down here."
   ]
  },
  {
   "cell_type": "code",
   "execution_count": null,
   "metadata": {
    "collapsed": true
   },
   "outputs": [],
   "source": []
  },
  {
   "cell_type": "markdown",
   "metadata": {},
   "source": [
    "#### Exercise: Connecting the dots\n",
    "\n",
    "We're finally ready to trace the line. Use the code provided below as a template for your own solution."
   ]
  },
  {
   "cell_type": "code",
   "execution_count": null,
   "metadata": {
    "collapsed": false
   },
   "outputs": [],
   "source": [
    "dots = {(456, 361), (473, 319), (56, 621), (380, 570), (189, 351), (182, 422), (227, 510), (161, 405), (297, 414), (191, 369), (540, 182), (257, 314), (13, 609), (421, 412), (106, 668), (206, 163), (561, 112), (239, 314), (529, 116), (569, 147), (249, 549), (117, 693), (360, 420), (395, 421), (543, 287), (529, 73), (290, 364), (50, 667), (333, 419), (502, 253), (490, 519), (547, 314), (243, 424), (555, 245), (199, 453), (498, 98), (20, 647), (526, 437), (340, 577), (452, 369), (506, 245), (208, 352), (564, 121), (553, 96), (65, 442), (64, 451), (75, 417), (123, 672), (47, 620), (470, 548), (67, 434), (496, 502), (271, 406), (208, 145), (325, 587), (96, 572), (278, 330), (506, 103), (63, 460), (128, 391), (459, 352), (244, 542), (504, 476), (462, 344), (358, 558), (67, 487), (543, 377), (561, 239), (455, 559), (514, 107), (263, 404), (447, 563), (521, 444), (388, 574), (193, 279), (342, 419), (240, 534), (444, 385), (477, 311), (288, 412), (544, 156), (76, 522), (254, 401), (208, 343), (448, 377), (190, 360), (84, 677), (282, 579), (27, 652), (0, 620), (69, 496), (187, 430), (324, 418), (169, 409), (71, 505), (291, 381), (287, 399), (191, 288), (368, 421), (570, 156), (91, 614), (566, 130), (317, 588), (488, 286), (530, 208), (191, 437), (345, 570), (530, 429), (99, 590), (211, 478), (289, 355), (537, 403), (176, 415), (266, 317), (573, 225), (481, 303), (194, 377), (291, 372), (541, 129), (315, 417), (351, 419), (118, 679), (463, 554), (254, 557), (80, 530), (548, 332), (491, 278), (544, 296), (252, 424), (234, 423), (126, 655), (206, 172), (269, 418), (109, 677), (196, 261), (439, 392), (545, 368), (428, 407), (378, 422), (5, 612), (374, 563), (96, 607), (13, 641), (516, 452), (238, 394), (548, 341), (203, 208), (308, 588), (276, 413), (203, 199), (507, 468), (567, 139), (299, 586), (218, 415), (100, 683), (200, 235), (83, 538), (122, 700), (215, 486), (511, 238), (545, 147), (119, 391), (543, 278), (267, 569), (576, 182), (30, 615), (74, 513), (283, 338), (260, 563), (498, 493), (104, 650), (189, 306), (571, 165), (58, 671), (209, 360), (536, 122), (413, 417), (246, 398), (80, 410), (204, 190), (290, 390), (209, 127), (469, 327), (548, 323), (547, 350), (287, 346), (205, 181), (231, 316), (546, 261), (512, 460), (433, 400), (537, 191), (500, 484), (544, 138), (65, 478), (83, 619), (423, 575), (273, 323), (550, 253), (188, 324), (290, 583), (539, 394), (201, 226), (222, 502), (487, 85), (111, 684), (414, 577), (580, 200), (207, 470), (146, 396), (521, 112), (87, 547), (306, 416), (198, 253), (580, 209), (123, 646), (211, 334), (546, 359), (117, 640), (109, 643), (188, 333), (38, 618), (212, 369), (517, 231), (404, 419), (537, 75), (94, 399), (223, 321), (511, 74), (274, 574), (533, 420), (282, 406), (198, 386), (34, 658), (217, 327), (137, 393), (64, 469), (502, 76), (70, 425), (542, 174), (154, 400), (188, 342), (223, 383), (577, 217), (486, 527), (218, 494), (544, 165), (485, 295), (188, 315), (440, 568), (351, 563), (75, 676), (110, 392), (493, 510), (99, 599), (190, 297), (557, 104), (42, 663), (102, 395), (522, 223), (526, 216), (98, 581), (397, 577), (6, 636), (65, 622), (92, 680), (494, 270), (90, 555), (212, 408), (194, 270), (498, 261), (202, 394), (387, 422), (541, 385), (248, 313), (573, 174), (545, 80), (494, 80), (568, 232), (534, 199), (86, 404), (104, 659), (406, 578), (202, 217), (74, 621), (66, 674), (93, 563), (203, 461), (545, 305), (217, 376), (199, 244), (579, 191), (207, 154), (208, 136), (235, 526), (520, 73), (550, 88), (1, 628), (481, 534), (544, 269), (261, 422), (476, 542), (466, 336), (432, 572), (367, 558), (231, 518), (226, 420), (206, 401), (491, 92), (195, 445), (280, 410), (230, 389), (22, 611), (334, 584), (126, 664), (535, 412)}\n",
    "start_dot = (122, 700)"
   ]
  },
  {
   "cell_type": "markdown",
   "metadata": {},
   "source": [
    "For reference here are all the dots plotted as individual points."
   ]
  },
  {
   "cell_type": "code",
   "execution_count": null,
   "metadata": {
    "collapsed": false
   },
   "outputs": [],
   "source": [
    "xy = np.array(list(dots))\n",
    "plt.scatter(xy[:, 0], xy[:, 1], s=1)"
   ]
  },
  {
   "cell_type": "code",
   "execution_count": null,
   "metadata": {
    "collapsed": true
   },
   "outputs": [],
   "source": [
    "def find_next_point(available_dots, current_dot):\n",
    "    return None"
   ]
  },
  {
   "cell_type": "code",
   "execution_count": null,
   "metadata": {
    "collapsed": false
   },
   "outputs": [],
   "source": [
    "current_dot = start_dot\n",
    "while dots:\n",
    "    next_dot = find_next_point(dots, current_dot)\n",
    "    if next_dot:\n",
    "        # Your turn: Draw a line from current_dot to next_dot\n",
    "        pass\n",
    "    \n",
    "    # Your turn: Remove current_dot from the set of dots\n",
    "    \n",
    "    current_dot = next_dot"
   ]
  },
  {
   "cell_type": "markdown",
   "metadata": {
    "collapsed": true
   },
   "source": [
    "#### Exercise: Alternative starting location\n",
    "\n",
    "You've now successfully drawn a camel, starting from the hair. What happens if you start from the tail instead? "
   ]
  },
  {
   "cell_type": "code",
   "execution_count": null,
   "metadata": {
    "collapsed": true
   },
   "outputs": [],
   "source": [
    "start_dot = (209, 127)"
   ]
  }
 ],
 "metadata": {
  "kernelspec": {
   "display_name": "Python 3",
   "language": "python",
   "name": "python3"
  },
  "language_info": {
   "codemirror_mode": {
    "name": "ipython",
    "version": 3
   },
   "file_extension": ".py",
   "mimetype": "text/x-python",
   "name": "python",
   "nbconvert_exporter": "python",
   "pygments_lexer": "ipython3",
   "version": "3.4.3"
  }
 },
 "nbformat": 4,
 "nbformat_minor": 0
}
