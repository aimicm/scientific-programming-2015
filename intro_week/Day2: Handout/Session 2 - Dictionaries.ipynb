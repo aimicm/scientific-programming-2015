{
 "cells": [
  {
   "cell_type": "markdown",
   "metadata": {},
   "source": [
    "## Dictionaries"
   ]
  },
  {
   "cell_type": "markdown",
   "metadata": {},
   "source": [
    "### Getting used to dictionaries"
   ]
  },
  {
   "cell_type": "markdown",
   "metadata": {},
   "source": [
    "Build a dictionary `land_capital` where the keys are country names and the values are their capitals. Add at least five countries."
   ]
  },
  {
   "cell_type": "code",
   "execution_count": 1,
   "metadata": {
    "collapsed": true
   },
   "outputs": [],
   "source": [
    "land_capital = {} #Insert values \n"
   ]
  },
  {
   "cell_type": "markdown",
   "metadata": {},
   "source": [
    "Print the contents of the `land_capital` dictionary in alphabetical order of countries."
   ]
  },
  {
   "cell_type": "code",
   "execution_count": 2,
   "metadata": {
    "collapsed": false
   },
   "outputs": [],
   "source": [
    "#your code here"
   ]
  },
  {
   "cell_type": "markdown",
   "metadata": {},
   "source": [
    "### Default values\n",
    "In the following exercise, the `all_people` set gives you names of people, and the `people_age` dictionary gives you their age. \n",
    "\n",
    "Print out all the names in `all_people`, retrieving the age from `people_age`, following this format:\n",
    "\n",
    "`Anna: 70 years`\n",
    "\n",
    "Some names are not present in `people_age`, so print \"unknown\" instead of them. You can use set operations to determine if a name is in the dictionary, or the default value in the `.get` function.\n"
   ]
  },
  {
   "cell_type": "code",
   "execution_count": 3,
   "metadata": {
    "collapsed": false
   },
   "outputs": [],
   "source": [
    "people_age = {\"Anna\": 70 , \"Bob\": 55 , \"Carla\":  23 , \"David\" : 45 , \"Elisabeth\" : 12 ,\"Frank\" : 37}\n",
    "all_people = {\"Anna\", \"Bob\" , \"Carla\" , \"David\" , \"Elisabeth\",\"Frank\",\"Gisela\", \"Howard\"}\n",
    "\n",
    "#your code here\n",
    "\n"
   ]
  },
  {
   "cell_type": "markdown",
   "metadata": {},
   "source": [
    "###Fat cats"
   ]
  },
  {
   "cell_type": "markdown",
   "metadata": {},
   "source": [
    "Domestic cat overweight is a serious concern to many owners and lovers. \n",
    "A concerned owner of several cats has contacted you for advice.\n",
    "\n",
    "<img src=\"ccl.jpg\">\n",
    "\n",
    "The `cats` dictionary gives you pairs of cats names and their weight.\n"
   ]
  },
  {
   "cell_type": "code",
   "execution_count": 42,
   "metadata": {
    "collapsed": false
   },
   "outputs": [],
   "source": [
    "cats = {\"Socks\": 3.7 , \"Oreo\": 3.1, \"MrWhiskers\":  4.5 , \"Princess\" : 3.3, \"Pumpkin\" : 4.3 ,\"Peanut\" : 2.7}\n",
    "\n"
   ]
  },
  {
   "cell_type": "markdown",
   "metadata": {},
   "source": [
    "We are taking all the cats to the vet. Can you find the total weight of cats? Our basket can only hold 20 kgs. Will the basket break?"
   ]
  },
  {
   "cell_type": "code",
   "execution_count": 4,
   "metadata": {
    "collapsed": false
   },
   "outputs": [
    {
     "name": "stdout",
     "output_type": "stream",
     "text": [
      "0 False\n"
     ]
    }
   ],
   "source": [
    "totalweigth=0\n",
    "\n",
    "#your code here, calculate the total weight\n",
    "\n",
    "print(totalweigth, totalweigth > 20)"
   ]
  },
  {
   "cell_type": "markdown",
   "metadata": {},
   "source": [
    "What is the average cat weight?"
   ]
  },
  {
   "cell_type": "code",
   "execution_count": 5,
   "metadata": {
    "collapsed": false
   },
   "outputs": [
    {
     "name": "stdout",
     "output_type": "stream",
     "text": [
      "0.0\n"
     ]
    }
   ],
   "source": [
    "avgweight = 0.0\n",
    "#your code here, calculate the average weight\n",
    "print(avgweight)"
   ]
  },
  {
   "cell_type": "markdown",
   "metadata": {},
   "source": [
    "Can you find the name of the fattest kitten?\n",
    "<img src=\"catonscale.jpg\">\n",
    "\n",
    "\n"
   ]
  },
  {
   "cell_type": "code",
   "execution_count": 7,
   "metadata": {
    "collapsed": false
   },
   "outputs": [
    {
     "name": "stdout",
     "output_type": "stream",
     "text": [
      "\n"
     ]
    }
   ],
   "source": [
    "weight = 0.0\n",
    "fattest_cat = \"\"\n",
    "\n",
    "#your code here\n",
    "\n",
    "print(fattest_cat)"
   ]
  },
  {
   "cell_type": "code",
   "execution_count": null,
   "metadata": {
    "collapsed": true
   },
   "outputs": [],
   "source": []
  }
 ],
 "metadata": {
  "kernelspec": {
   "display_name": "Python 3",
   "language": "python",
   "name": "python3"
  },
  "language_info": {
   "codemirror_mode": {
    "name": "ipython",
    "version": 3
   },
   "file_extension": ".py",
   "mimetype": "text/x-python",
   "name": "python",
   "nbconvert_exporter": "python",
   "pygments_lexer": "ipython3",
   "version": "3.3.5"
  }
 },
 "nbformat": 4,
 "nbformat_minor": 0
}
