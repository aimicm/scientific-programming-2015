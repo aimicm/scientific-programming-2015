{
 "cells": [
  {
   "cell_type": "markdown",
   "metadata": {},
   "source": [
    "Homework 1 - Part 2\n",
    "====\n",
    "\n",
    "Use the scaffold of the code below to implement \n",
    "\n",
    "* a way to read in the CPU data\n",
    "\n",
    "* a strategy based on the data to choose an attribute\n",
    "\n",
    "Make sure to pay attention to whether the attribute is better when it has a high (e.g., speed) or a low (e.g., price) value. For a given attribute you can check the dictionary defined below to see whether a larger or a smaller value wins."
   ]
  },
  {
   "cell_type": "code",
   "execution_count": 59,
   "metadata": {
    "collapsed": false
   },
   "outputs": [],
   "source": [
    "larger_is_better = {'clock_speed': True, \n",
    "                    'bus_speed': True, \n",
    "                    'year': False, \n",
    "                    'n_transistors': True, \n",
    "                    'data_width': True,  \n",
    "                    'process': False, \n",
    "                    'die_size': False, \n",
    "                    'tdp': False}"
   ]
  },
  {
   "cell_type": "markdown",
   "metadata": {},
   "source": [
    "### Ex. 2.1: Read in the data (5 pts)\n",
    "\n",
    "In Part 1 of the homework you removed an outlier from the dataset. Your code from Part 1 should write the corrected dataset to a new CSV file.\n",
    "\n",
    "Below, read in the corrected data file and store it as a Pandas `DataFrame` variable `cards`."
   ]
  },
  {
   "cell_type": "code",
   "execution_count": 60,
   "metadata": {
    "collapsed": false
   },
   "outputs": [],
   "source": [
    "import numpy as np\n",
    "import pandas as pd\n",
    "import random\n",
    "\n",
    "# Your code here"
   ]
  },
  {
   "cell_type": "markdown",
   "metadata": {},
   "source": [
    "### Ex. 2.2: Implement the strategy (45 pts)\n",
    "\n",
    "\n",
    "Implement a strategy to beat the opponents. We first provide two baseline strategies, `RandomStrategy` and `MeanStrategy`.\n",
    "\n",
    "Your strategy has to implement the `pick_attribute` method, which is where your strategy decides what attribute to play. \n",
    "\n",
    "In addition, you may choose to implement the `update` and `new_game` method, which keep you informed about the how the game is progressing. These methods are needed for advanced strategies only, and you will have no trouble beating the baselines without them. If, on the other hand, you want your strategy to beat all of your fellow student's strategies, this is where you turn."
   ]
  },
  {
   "cell_type": "code",
   "execution_count": 61,
   "metadata": {
    "collapsed": false
   },
   "outputs": [],
   "source": [
    "class Strategy():\n",
    "\n",
    "    def __init__(self, cards):\n",
    "        self.cards = cards\n",
    "        \n",
    "    def update(self, outcome, cache):\n",
    "        pass\n",
    "    \n",
    "    def new_game(self):\n",
    "        pass\n",
    "        \n",
    "class RandomStrategy(Strategy):\n",
    "\n",
    "    def pick_attribute(self, card):\n",
    "        \"\"\"\n",
    "        Pick an attribute at random.\n",
    "        \"\"\"\n",
    "        return random.choice(list(card.keys()))\n",
    "        \n",
    "class MeanStrategy(Strategy):\n",
    "    \n",
    "    def pick_attribute(self, card):\n",
    "        \"\"\"\n",
    "        Identify attributes in which the current card has a value \n",
    "        below the mean (if lower is better) or \n",
    "        above the mean (if higher is better).\n",
    "\n",
    "        Return a random attribute from the set of attributes satisfying the above.\n",
    "        \"\"\"\n",
    "        attributes = list(card.keys())\n",
    "\n",
    "        # Add attributes with above/below mean to the `eligible` list\n",
    "        eligible = []\n",
    "        mean_values = self.cards.mean()\n",
    "        for attribute in attributes:\n",
    "            if larger_is_better[attribute]:\n",
    "                if card[attribute] > mean_values[attribute]:\n",
    "                    eligible.append(attribute)\n",
    "            else:\n",
    "                if card[attribute] < mean_values[attribute]:\n",
    "                    eligible.append(attribute)\n",
    "\n",
    "        # Choose randomly from the set of eligible attributes. \n",
    "        # If no attribute was eligible, return a totally random attribute.\n",
    "        if len(eligible):\n",
    "            return random.choice(eligible)\n",
    "        else:\n",
    "            return random.choice(attributes)"
   ]
  },
  {
   "cell_type": "markdown",
   "metadata": {},
   "source": [
    "Your own strategy should go below"
   ]
  },
  {
   "cell_type": "code",
   "execution_count": 62,
   "metadata": {
    "collapsed": false
   },
   "outputs": [],
   "source": [
    "class CunningStrategy(Strategy):\n",
    "    def pick_attribute(self, card):\n",
    "        \"\"\"\n",
    "        Describe your winning strategy here.\n",
    "        \n",
    "        You probably want to change the implementation of the function as well.\n",
    "        \"\"\"\n",
    "        return 'clock_speed'"
   ]
  },
  {
   "cell_type": "markdown",
   "metadata": {},
   "source": [
    "The code below provides the `play_game` function. You should not change anything in this block. Read through it to make sure that you understand how the game works. "
   ]
  },
  {
   "cell_type": "code",
   "execution_count": 63,
   "metadata": {
    "collapsed": false
   },
   "outputs": [],
   "source": [
    "cards = pd.read_csv(\"cpu_wars.csv\")\n"
   ]
  },
  {
   "cell_type": "code",
   "execution_count": 70,
   "metadata": {
    "collapsed": true
   },
   "outputs": [],
   "source": [
    "def void_update_func(event, cards, turn_i):\n",
    "    \"\"\"don't do anything\"\"\"\n",
    "    pass\n",
    "\n",
    "\n",
    "def play_game(my_strategy, opponent_strategy, cards, N=100):\n",
    "    \"\"\"\n",
    "    Play N games and report statistics.\n",
    "    \"\"\"\n",
    "    wins = 0\n",
    "    no_of_draws = 0\n",
    "    no_of_turns = 0\n",
    "    \n",
    "    # Take out `name` column \n",
    "    cards = cards[cards.columns.difference(['name'])]\n",
    "    \n",
    "    # Build a list of dictionaries, each dictionary \n",
    "    # representing a single card.\n",
    "    card_list = cards.to_dict('records')\n",
    "    \n",
    "    for round_index in range(N):\n",
    "        # Notify the strategies that a new game has begun\n",
    "        my_strategy.new_game()\n",
    "        opponent_strategy.new_game()\n",
    "        \n",
    "        # Shuffle cards\n",
    "        random.shuffle(card_list)\n",
    "    \n",
    "        # Divide into two stacks. \n",
    "        # `my_stack` is formed by taking every second card, starting from the first card.\n",
    "        # `opponent_stack` is formed by taking every second card, starting from the second card.\n",
    "        my_stack = card_list[::2]\n",
    "        opponent_stack = card_list[1::2]\n",
    "    \n",
    "        # Pick starter\n",
    "        my_turn = random.random() >= 0.5\n",
    "    \n",
    "        cache = []\n",
    "        \n",
    "        # Play until one player runs out of cards\n",
    "        while my_stack and opponent_stack:\n",
    "            no_of_turns += 1\n",
    "            \n",
    "            # Draw cards from the stacks\n",
    "            my_card = my_stack.pop(0)\n",
    "            opponent_card = opponent_stack.pop(0)\n",
    "        \n",
    "            # Decide attribute\n",
    "            if my_turn:\n",
    "                chosen_attribute = my_strategy.pick_attribute(my_card)\n",
    "            else:\n",
    "                chosen_attribute = opponent_strategy.pick_attribute(opponent_card)\n",
    "    \n",
    "            my_value = my_card[chosen_attribute]\n",
    "            opponent_value = opponent_card[chosen_attribute]\n",
    "    \n",
    "            # Add cards to cache\n",
    "            cache += [my_card, opponent_card]\n",
    "    \n",
    "            # In case both cards have the same value there is a draw\n",
    "            if my_value == opponent_value:\n",
    "                my_strategy.update('draw', cache)\n",
    "                opponent_strategy.update('draw', cache)\n",
    "                no_of_draws += 1\n",
    "            else:\n",
    "                # Find out who is the winner\n",
    "                if larger_is_better[chosen_attribute]:\n",
    "                    i_win_turn = my_value > opponent_value\n",
    "                else: \n",
    "                    i_win_turn = my_value < opponent_value\n",
    "                    \n",
    "                if i_win_turn:\n",
    "                    my_strategy.update('win', cache)\n",
    "                    opponent_strategy.update('lose', cache)\n",
    "\n",
    "                    random.shuffle(cache)\n",
    "                    my_stack += cache\n",
    "                else:\n",
    "                    my_strategy.update('lose', cache)\n",
    "                    opponent_strategy.update('win', cache)\n",
    "                \n",
    "                    random.shuffle(cache)\n",
    "                    opponent_stack += cache\n",
    "\n",
    "                my_turn = i_win_turn\n",
    "                cache.clear()\n",
    "                    \n",
    "        # If I have cards left, I win the game\n",
    "        if my_stack:\n",
    "            wins += 1\n",
    "    \n",
    "    return {\"Success rate\": (wins / N), \n",
    "            \"Avg #turns\": (no_of_turns / N),\n",
    "            \"Draw rate\": (no_of_draws / N)}\n",
    "    "
   ]
  },
  {
   "cell_type": "markdown",
   "metadata": {},
   "source": [
    "Finally, play the game using strategies of your choice. \n",
    "\n",
    "The example code below plays 1000 games between two random strategies."
   ]
  },
  {
   "cell_type": "code",
   "execution_count": 85,
   "metadata": {
    "collapsed": false
   },
   "outputs": [
    {
     "data": {
      "text/plain": [
       "{'Avg #turns': 198.334, 'Draw rate': 10.711, 'Success rate': 0.522}"
      ]
     },
     "execution_count": 85,
     "metadata": {},
     "output_type": "execute_result"
    }
   ],
   "source": [
    "play_game(RandomStrategy(cards), RandomStrategy(cards), cards, N=1000)"
   ]
  },
  {
   "cell_type": "markdown",
   "metadata": {},
   "source": [
    "Ex 2.3: Confusion matrix (10 pts)\n",
    "----\n",
    "\n",
    "Make a confusion matrix in `pandas` that shows how your strategy, the random, and the mean opponent perform against each other."
   ]
  },
  {
   "cell_type": "code",
   "execution_count": 86,
   "metadata": {
    "collapsed": false
   },
   "outputs": [],
   "source": [
    "# Your code here"
   ]
  },
  {
   "cell_type": "code",
   "execution_count": null,
   "metadata": {
    "collapsed": true
   },
   "outputs": [],
   "source": []
  }
 ],
 "metadata": {
  "kernelspec": {
   "display_name": "Python 3",
   "language": "python",
   "name": "python3"
  },
  "language_info": {
   "codemirror_mode": {
    "name": "ipython",
    "version": 3
   },
   "file_extension": ".py",
   "mimetype": "text/x-python",
   "name": "python",
   "nbconvert_exporter": "python",
   "pygments_lexer": "ipython3",
   "version": "3.4.3"
  }
 },
 "nbformat": 4,
 "nbformat_minor": 0
}
