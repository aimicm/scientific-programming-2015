{
 "cells": [
  {
   "cell_type": "markdown",
   "metadata": {},
   "source": [
    "## Part 1: Finding your way on a map"
   ]
  },
  {
   "cell_type": "markdown",
   "metadata": {},
   "source": [
    "In the first part of the homework, we ask you to implement the core parts of a routing algorithm, including the visualization of the route on a map. In other words you will be making something that maybe could pass as a very early prototype of Google Maps. And although everything will be kind-of bare-bones and in a much smaller scale compared to the route planners you find on the net, the basic principles are much the same.\n",
    "\n",
    "#### On grading\n",
    "\n",
    "The homework is graded on a scale from 0 to 100. For each question we indicate how many points you can get. If the answer is not completely correct but nonetheless on the right track, we may decide to give partial credit.\n",
    "\n",
    "For this and future homeworks we require **50 points** or more to pass. If you score below this threshold, the homework will count as failed. \n",
    "\n",
    "\n",
    "#### Required Python module\n",
    "\n",
    "The visualizations require a module called [Folium](https://github.com/wrobstory/folium). It is not a part of the Anaconda distribution, so you need to install it before you continue. Open a terminal and run:\n",
    "\n",
    "``\n",
    "pip install folium\n",
    "``\n",
    "\n",
    "If the command completed successfully, you should be able to execute the first cell without errors."
   ]
  },
  {
   "cell_type": "code",
   "execution_count": 1,
   "metadata": {
    "collapsed": false
   },
   "outputs": [],
   "source": [
    "from IPython.display import HTML\n",
    "import folium\n",
    "import json\n",
    "import networkx as nx"
   ]
  },
  {
   "cell_type": "markdown",
   "metadata": {},
   "source": [
    "Below are visualization helpers needed to display the routes on a map."
   ]
  },
  {
   "cell_type": "code",
   "execution_count": 3,
   "metadata": {
    "collapsed": false
   },
   "outputs": [],
   "source": [
    "def inline_map(map):\n",
    "    \"\"\"\n",
    "    Embeds the HTML source of the map directly into the IPython notebook.\n",
    "    \n",
    "    This method will not work if the map depends on any files (json data). Also this uses\n",
    "    the HTML5 srcdoc attribute, which may not be supported in all browsers.\n",
    "    \"\"\"\n",
    "    map._build_map()\n",
    "    return HTML('<iframe srcdoc=\"{srcdoc}\" style=\"width: 100%; height: 510px; border: none\"></iframe>'.format(srcdoc=map.HTML.replace('\"', '&quot;')))\n",
    "\n",
    "def add_lines(folium_map, list_of_lines, filename, line_color='blue', line_weight=5):\n",
    "    \"\"\"\n",
    "    Draws a number of lines to the given map.\n",
    "    \n",
    "    An individual line consists of (lat, lon) coordinate pairs, which are connected by line segments.\n",
    "    The argument `list_of_lines` should be thus be a list of lists of coordinate pairs. For instance,\n",
    "    \n",
    "    [[(55.65, 12.59), (55.79, 12.79)], [(55.20, 12.50), (55.22, 12.62)]]\n",
    "    \n",
    "    will draw a two line, each made up of a single line segment.\n",
    "    \"\"\"\n",
    "    swap_multi_line_string = []\n",
    "    for line in list_of_lines:\n",
    "        swap_line = []\n",
    "        for lat, lon in line:\n",
    "            swap_line.append((lon, lat))\n",
    "        swap_multi_line_string.append(swap_line)\n",
    "        \n",
    "    feature = {\"type\": \"MultiLineString\", \"coordinates\": swap_multi_line_string}\n",
    "    with open(filename, 'w') as f:\n",
    "        json.dump(feature, f)\n",
    "\n",
    "    folium_map.geo_json(geo_path=filename, line_weight=line_weight,\n",
    "                        line_opacity=0.5, line_color=line_color)    "
   ]
  },
  {
   "cell_type": "markdown",
   "metadata": {},
   "source": [
    "## Basic visualization\n",
    "\n",
    "More often than not, scientific programming involves juggling numbers and abstract concepts that are kind of hard to form a clear picture of in your head. Fortunately, though, maps are delightfully visual. Here we show you:\n",
    "\n",
    "1. How you can display a map in IPython;\n",
    "2. How to add markers, such as circles or tear drops, to the map; and\n",
    "3. How to draw lines. \n",
    "\n",
    "At present the support for map drawing in IPython is a little more experimental than we would have liked. If you cannot get the examples below to work, please try it in another browser. We have tested the notebook in a recent versions of Chrome and Safari."
   ]
  },
  {
   "cell_type": "code",
   "execution_count": 7,
   "metadata": {
    "collapsed": false
   },
   "outputs": [
    {
     "data": {
      "text/html": [
       "<iframe srcdoc=\"<!DOCTYPE html>\n",
       "<head>\n",
       "   <meta http-equiv=&quot;content-type&quot; content=&quot;text/html; charset=UTF-8&quot; />\n",
       "   <link rel=&quot;stylesheet&quot; href=&quot;https://cdnjs.cloudflare.com/ajax/libs/leaflet/0.7.3/leaflet.css&quot; />\n",
       "   <script src=&quot;https://cdnjs.cloudflare.com/ajax/libs/leaflet/0.7.3/leaflet.js&quot;></script>\n",
       "   <script src=&quot;https://cdnjs.cloudflare.com/ajax/libs/d3/3.5.5/d3.min.js&quot; charset=&quot;utf-8&quot;></script>\n",
       "   <script src=&quot;https://cdnjs.cloudflare.com/ajax/libs/queue-async/1.0.7/queue.min.js&quot;></script>\n",
       "\n",
       "   \n",
       "   \n",
       "   \n",
       "   \n",
       "\n",
       "   <style>\n",
       "\n",
       "      html, body {\n",
       "        width: 100%;\n",
       "        height: 100%;\n",
       "        margin: 0;\n",
       "        padding: 0;\n",
       "      }\n",
       "\n",
       "      .legend {\n",
       "          padding: 0px 0px;\n",
       "          font: 10px sans-serif;\n",
       "          background: white;\n",
       "          background: rgba(255,255,255,0.8);\n",
       "          box-shadow: 0 0 15px rgba(0,0,0,0.2);\n",
       "          border-radius: 5px;\n",
       "      }\n",
       "\n",
       "      .key path {\n",
       "        display: none;\n",
       "      }\n",
       "\n",
       "   </style>\n",
       "</head>\n",
       "\n",
       "<body>\n",
       "\n",
       "   <div id=&quot;map&quot; style=&quot;width: 100%; height: 100%&quot;></div>\n",
       "\n",
       "   <script>\n",
       "\n",
       "      queue()\n",
       "          .defer(d3.json, 'example_path.json')\n",
       "          .await(makeMap)\n",
       "\n",
       "      function onEachFeature(feature, layer) {\n",
       "          // does this feature have a property named popupContent?\n",
       "          if (feature.properties && feature.properties.popupContent) {\n",
       "              layer.bindPopup(feature.properties.popupContent);\n",
       "              }\n",
       "          };\n",
       "\n",
       "      function makeMap(error, gjson_1) {\n",
       "\n",
       "          \n",
       "\n",
       "          \n",
       "\n",
       "          function matchKey(datapoint, key_variable){\n",
       "              if (typeof key_variable[0][datapoint] === 'undefined') {\n",
       "                  return null;\n",
       "              }\n",
       "              else {\n",
       "                  return parseFloat(key_variable[0][datapoint]);\n",
       "              };\n",
       "          };\n",
       "\n",
       "          \n",
       "\n",
       "          var map = L.map('map').setView([55.6632322, 12.5870087], 15);\n",
       "\n",
       "          L.tileLayer('https://{s}.tile.openstreetmap.org/{z}/{x}/{y}.png', {\n",
       "              maxZoom: 18,\n",
       "              minZoom: 1,\n",
       "              attribution: 'Map data (c) <a href=&quot;http://openstreetmap.org&quot;>OpenStreetMap</a> contributors'\n",
       "          }).addTo(map);\n",
       "\n",
       "          \n",
       "          function style_1(feature) {\n",
       "    return {\n",
       "        fillColor: 'blue',\n",
       "        weight: 5,\n",
       "        opacity: 0.5,\n",
       "        color: 'blue',\n",
       "        fillOpacity: 0.6\n",
       "    };\n",
       "}\n",
       "          \n",
       "\n",
       "          \n",
       "          gJson_layer_1 = L.geoJson(gjson_1, {style: style_1,onEachFeature: onEachFeature}).addTo(map)\n",
       "          \n",
       "\n",
       "          \n",
       "\n",
       "          \n",
       "          var circle_1 = L.circle([55.658105, 12.59094], 50, {\n",
       "                            color: 'black',\n",
       "                            fillColor: 'black',\n",
       "                            fillOpacity: 0.6\n",
       "                            });\n",
       "          circle_1.bindPopup(&quot;DR Byen&quot;);\n",
       "      circle_1._popup.options.maxWidth = 300;\n",
       "          map.addLayer(circle_1)\n",
       "          \n",
       "\n",
       "          \n",
       "\n",
       "          \n",
       "\n",
       "          \n",
       "\n",
       "          \n",
       "\n",
       "          \n",
       "\n",
       "      };\n",
       "\n",
       "   </script>\n",
       "</body>\" style=\"width: 100%; height: 510px; border: none\"></iframe>"
      ],
      "text/plain": [
       "<IPython.core.display.HTML object>"
      ]
     },
     "execution_count": 7,
     "metadata": {},
     "output_type": "execute_result"
    }
   ],
   "source": [
    "# Creates a map centered at `location`, which is a coordinate pair in decimal degrees.\n",
    "map_viz = folium.Map(location=[55.6632322, 12.5870087], zoom_start=15)\n",
    "\n",
    "# Place a circle marker at DR byen\n",
    "dr_byen_loc = (55.658105, 12.590940)\n",
    "map_viz.circle_marker(dr_byen_loc, radius=50, popup='DR Byen')\n",
    "\n",
    "# Draw a path between DR Byen, Islands Brygge Station, and Statens Seruminsitut\n",
    "# Note calls to `add_lines` places files in your homework folder, which you must include the upload.\n",
    "islands_brygge_loc = (55.663425, 12.585951)\n",
    "statens_serum_loc = (55.666037, 12.590951)\n",
    "add_lines(map_viz, [[dr_byen_loc, islands_brygge_loc, statens_serum_loc]], 'example_path.json')\n",
    "inline_map(map_viz)"
   ]
  },
  {
   "cell_type": "markdown",
   "metadata": {},
   "source": [
    "### Map data\n",
    "\n",
    "You will be working with freely available map data from the collaborative [Open Street Map](http://www.openstreetmap.org/) service. We have exported a small part of the dataset covering the area around the southern campus of the University of Copenhagen. You will find this in the file `bryggen.osm`. \n",
    "\n",
    "Additionally, we provide a loader function `read_way_network` from the module `osm` which parses the Open Street Map data and returns a `networkx` graph. The nodes in the graph represent points on the map, and the edges are roads or, more generally, *ways* between these points.\n",
    "\n",
    "In the cell below we read in the network and bind it to the variable `bryggen`. We also import the function `gc_dist`, which calculates the great-circle distance between two points on the map."
   ]
  },
  {
   "cell_type": "code",
   "execution_count": 5,
   "metadata": {
    "collapsed": false
   },
   "outputs": [],
   "source": [
    "from osm import read_way_network, gc_dist\n",
    "bryggen = read_way_network(\"bryggen.osm\")"
   ]
  },
  {
   "cell_type": "markdown",
   "metadata": {},
   "source": [
    "### Exercise 1.1: Properties of nodes and edges (10 pts)\n",
    "\n",
    "To get a feel for how the way network is represented in the graph, please retrieve **5** nodes from the `bryggen` graph at random and for each of them output the following: \n",
    "\n",
    "- Node id\n",
    "- Data associated with the node\n",
    "- IDs of outgoing edges\n",
    "- Data associated with the outgoing edges\n",
    "\n",
    "At this point we also advice you to go the provided `osm.py` file and familiarize yourself with the source code, especially how the class `Way` is defined."
   ]
  },
  {
   "cell_type": "code",
   "execution_count": null,
   "metadata": {
    "collapsed": false
   },
   "outputs": [],
   "source": [
    "# Your code here"
   ]
  },
  {
   "cell_type": "markdown",
   "metadata": {},
   "source": [
    "### Exercise 1.2: Find nearest node (10 pts)\n",
    "\n",
    "Pick a point as close to the center of Tietgen Kollegiet as possible and retrieve the coordinates. You may use Google Maps for this purpose, as explained [here](https://support.google.com/maps/answer/18539?hl=en).\n",
    "\n",
    "Once you have the coordinates of the point, you should implement a function `find_nearest_node`, which takes the `networkx` graph as well as the latitude and longtitude of a point as arguments. The return value should be the the node id of the nearest node on the map, measured by great circle distance. In other words, the function should map from a set of coordinates to the nearest way intersection.\n",
    "\n",
    "To verify that your function works as expected, place a circle marker in the middle of Tietgen Kollegiet and draw a line from that point to the way intersection. Display the map."
   ]
  },
  {
   "cell_type": "code",
   "execution_count": null,
   "metadata": {
    "collapsed": false
   },
   "outputs": [],
   "source": [
    "# Your code here"
   ]
  },
  {
   "cell_type": "markdown",
   "metadata": {},
   "source": [
    "### Exercise 1.3 (15 pts)\n",
    "\n",
    "Find and draw the shortest path in meters from `start_loc` to `goal_loc`. Use both A\\* search (including heuristic function) and depth-first search. You should compare the results both with respect to number of way segments traveled and length of path in meters. \n",
    "\n",
    "You can use the A\\* implementation available in `networkx`."
   ]
  },
  {
   "cell_type": "code",
   "execution_count": null,
   "metadata": {
    "collapsed": false
   },
   "outputs": [],
   "source": [
    "start_loc = (55.663811, 12.596087)\n",
    "goal_loc = (55.665372, 12.578170)\n",
    "\n"
   ]
  },
  {
   "cell_type": "code",
   "execution_count": 10,
   "metadata": {
    "collapsed": true
   },
   "outputs": [],
   "source": [
    "# A* search\n",
    "\n",
    "# Your code here"
   ]
  },
  {
   "cell_type": "code",
   "execution_count": 9,
   "metadata": {
    "collapsed": false
   },
   "outputs": [
    {
     "ename": "NameError",
     "evalue": "name 'start_node' is not defined",
     "output_type": "error",
     "traceback": [
      "\u001b[0;31m---------------------------------------------------------------------------\u001b[0m",
      "\u001b[0;31mNameError\u001b[0m                                 Traceback (most recent call last)",
      "\u001b[0;32m<ipython-input-9-3f58801d53c2>\u001b[0m in \u001b[0;36m<module>\u001b[0;34m()\u001b[0m\n\u001b[1;32m      4\u001b[0m \u001b[0;31m#\u001b[0m\u001b[0;34m\u001b[0m\u001b[0;34m\u001b[0m\u001b[0m\n\u001b[1;32m      5\u001b[0m \u001b[0;31m# Start with the code below, or write your own from scratch.\u001b[0m\u001b[0;34m\u001b[0m\u001b[0;34m\u001b[0m\u001b[0m\n\u001b[0;32m----> 6\u001b[0;31m \u001b[0mto_visit\u001b[0m \u001b[0;34m=\u001b[0m \u001b[0;34m[\u001b[0m\u001b[0;34m[\u001b[0m\u001b[0mn\u001b[0m\u001b[0;34m]\u001b[0m \u001b[0;32mfor\u001b[0m \u001b[0mn\u001b[0m \u001b[0;32min\u001b[0m \u001b[0mbryggen\u001b[0m\u001b[0;34m.\u001b[0m\u001b[0msuccessors\u001b[0m\u001b[0;34m(\u001b[0m\u001b[0mstart_node\u001b[0m\u001b[0;34m)\u001b[0m\u001b[0;34m]\u001b[0m\u001b[0;34m\u001b[0m\u001b[0m\n\u001b[0m\u001b[1;32m      7\u001b[0m \u001b[0mvisited\u001b[0m \u001b[0;34m=\u001b[0m \u001b[0mset\u001b[0m\u001b[0;34m(\u001b[0m\u001b[0;34m)\u001b[0m\u001b[0;34m\u001b[0m\u001b[0m\n\u001b[1;32m      8\u001b[0m \u001b[0;34m\u001b[0m\u001b[0m\n",
      "\u001b[0;31mNameError\u001b[0m: name 'start_node' is not defined"
     ]
    }
   ],
   "source": [
    "# Depth-first search\n",
    "# Since you need to keep track of the path from the `start_node` to the node you are currently exploring, \n",
    "# it may be convenient to put the whole path on the queue, as shown below. \n",
    "# \n",
    "# Start with the code below, or write your own from scratch.\n",
    "to_visit = [[n] for n in bryggen.successors(start_node)]\n",
    "visited = set()\n",
    "\n",
    "while to_visit:\n",
    "    current_path = to_visit.pop()\n",
    "    \n",
    "    # Your code here\n",
    "    \n",
    "    visited.add(current_path[-1])"
   ]
  },
  {
   "cell_type": "code",
   "execution_count": 8,
   "metadata": {
    "collapsed": true
   },
   "outputs": [],
   "source": [
    "# Draw map here"
   ]
  },
  {
   "cell_type": "markdown",
   "metadata": {},
   "source": [
    "### Exercise 1.4 (15 pts)\n",
    "\n",
    "Copenhagen is known as a bike-friendly city, with many roads and paths designated for exclusive use by cyclists and pedestrians. Now we ask you to quantify the advantage of leaving your motorized vehicle in the garage. How much shorter is the distance you need to travel to get from A to B?\n",
    "\n",
    "First, make a subgraph with only the edges accessible by car. Edges (corresponding to way segments) have an attribute `car` that tells you whether the road can be legally accessed by a car. Exclude all edges with the value `car=car_forbidden` from the subgraph. \n",
    "\n",
    "Use the full `bryggen` graph and the car subgraph to find shortest paths in meters between `start_loc` and `goal_loc` for car drivers and regular folks. Output the length of each path."
   ]
  },
  {
   "cell_type": "code",
   "execution_count": null,
   "metadata": {
    "collapsed": false
   },
   "outputs": [],
   "source": [
    "# Your code here"
   ]
  },
  {
   "cell_type": "markdown",
   "metadata": {},
   "source": [
    "Next, draw 100 random pairs of source and destination nodes from the set of nodes in the car subgraph. You may use the Python standard library function `random.sample` for this purpose. \n",
    "\n",
    "Calculate the shortest distance between each pair in both the full graph and the car subgraph.\n",
    "\n",
    "How much, on average, is the distance shorter when not taking the car? How many percent do you save?\n",
    "\n",
    "Note that occassionally no path exists between the two sampled nodes. The code skeleton below skips such pairs. "
   ]
  },
  {
   "cell_type": "code",
   "execution_count": null,
   "metadata": {
    "collapsed": false
   },
   "outputs": [],
   "source": [
    "for i in range(100):\n",
    "    try: \n",
    "        # Your code here\n",
    "    except NetworkXNoPath as e:\n",
    "        print(\"Failed to find route\", e)\n",
    "    \n",
    "    "
   ]
  }
 ],
 "metadata": {
  "kernelspec": {
   "display_name": "Python 3",
   "language": "python",
   "name": "python3"
  },
  "language_info": {
   "codemirror_mode": {
    "name": "ipython",
    "version": 3
   },
   "file_extension": ".py",
   "mimetype": "text/x-python",
   "name": "python",
   "nbconvert_exporter": "python",
   "pygments_lexer": "ipython3",
   "version": "3.4.3"
  }
 },
 "nbformat": 4,
 "nbformat_minor": 0
}
