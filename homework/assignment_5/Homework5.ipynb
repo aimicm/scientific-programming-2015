{
 "cells": [
  {
   "cell_type": "markdown",
   "metadata": {},
   "source": [
    "Homework 5\n",
    "====\n",
    "\n",
    "The final homework is designed to let you use everything you have learned up to this point. You should select one of the data sets below and then perform the following three tasks: \n",
    "1. statistical analysis, \n",
    "2. building a predictive model, and \n",
    "3. visualization. \n",
    "\n",
    "Grading\n",
    "----\n",
    "There is no fixed form this time, but note that you need to fulfill ***all*** of the parts. Please also add a few lines at the beginning of your notebook to describe what you did and why. The homework is worth 150pts, you need at least 50 to have it counted.\n",
    "\n",
    "\n",
    "Coöperation\n",
    "----\n",
    "You may opt to work together with up to ***2*** other students. In that case, please enter the names of all authors in the code. The group only needs to submit one homework.\n",
    "However, group homeworks need to be more substantial in size and depth than individual homeworks.\n",
    "\n",
    "Data Sets\n",
    "----\n",
    "Select one of the following data sets. You are allowed to use as many additional data sets as you would like, but please make sure to document them.\n",
    "\n",
    "#### Tate Gallery Art Collection\n",
    "\n",
    "Meta-data on more than 70,000 artworks owned by the London gallery. Biographical information on some artists are provided as well. Files are in CSV and JSON format, and may be downloaded from the data set's [github repository](https://github.com/tategallery/collection).\n",
    "\n",
    "#### Fivethirtyeight Data Set\n",
    "\n",
    "Fivethirtyeight is a blog/journalism website that covers everything stats related, from sports to politics to science. For most of the stories, they publish the related data set in their [github repository](https://github.com/fivethirtyeight/data).\n",
    "You have seen one of the data sets (police shootings) in the introdcution week. Now, you are free to choose one (or even several) on your own.\n",
    "\n",
    "\n",
    "#### Trustpilot Danish Reviews\n",
    "\n",
    "A complete record of the reviews posted on the Danish part of the Trustpilot user review homepage. The Danish site has more than 600,000 users, and includes demographic information (age, gender, place of living) about a large proportion of the them. \n",
    "\n",
    "* [Review and users](https://dl.dropboxusercontent.com/u/1423772/trustpilot_denmark_auto_gender.jsonl)\n",
    "* [Company data](https://dl.dropboxusercontent.com/u/1423772/trustpilot_company.jsonl)\n",
    "\n",
    "The dataset has the following fields for users, reviews and companies:\n",
    "\n",
    "**User** Name, ID, profile text, location (city and country), gender, year of birth.\n",
    "\n",
    "**Review** Title, text, rating (1--5), User ID, Company ID, Date and time of review\n",
    "\n",
    "**Company** Name, categories (e.g., electronics), number of ratings, description, address, location (city and country)\n",
    "\n",
    "You do NOT need to include these data sets in your submission, but indicate which one you used.\n"
   ]
  },
  {
   "cell_type": "markdown",
   "metadata": {},
   "source": [
    "Part1: Statistical Analysis (40pts)\n",
    "----\n",
    "\n",
    "Perform a statistical analysis of the data. Suggested Python module to use here: `pandas`.\n",
    "\n",
    "Some questions you should consider: \n",
    "* How can you best analyze the data?\n",
    "* How many instances are there, how are the values distributed? \n",
    "* Are there any outliers?\n",
    "\n",
    "Grading will consider how thorough the description is, and whether it makes sense for the data set."
   ]
  },
  {
   "cell_type": "markdown",
   "metadata": {},
   "source": [
    "Part2: Predictive Model (60pts)\n",
    "----\n",
    "\n",
    "Use your knowledge of the data to build a predictive model. Suggested Python module to use here: `sklearn`.\n",
    "\n",
    "You can either predict missing values in the data, use the data to predict another data set, or use another data set to predict this data set, or, or, or...\n",
    "\n",
    "Grading will consider the complexity of the model, its performance, and the difficulty of the prediction task."
   ]
  },
  {
   "cell_type": "markdown",
   "metadata": {},
   "source": [
    "Part3: Visualization (50pts)\n",
    "----\n",
    "\n",
    "Finally, visualize either the original data, the predictive model, or both. Grading will take into account how informative and creative the visualization is. When in doubt, an informative visualization is worth more than a creative one!"
   ]
  },
  {
   "cell_type": "code",
   "execution_count": null,
   "metadata": {
    "collapsed": false
   },
   "outputs": [],
   "source": []
  }
 ],
 "metadata": {
  "kernelspec": {
   "display_name": "Python 3",
   "language": "python",
   "name": "python3"
  },
  "language_info": {
   "codemirror_mode": {
    "name": "ipython",
    "version": 3
   },
   "file_extension": ".py",
   "mimetype": "text/x-python",
   "name": "python",
   "nbconvert_exporter": "python",
   "pygments_lexer": "ipython3",
   "version": "3.4.3"
  }
 },
 "nbformat": 4,
 "nbformat_minor": 0
}
